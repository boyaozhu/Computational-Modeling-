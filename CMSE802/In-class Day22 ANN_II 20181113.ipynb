{
 "cells": [
  {
   "cell_type": "markdown",
   "metadata": {},
   "source": [
    "# CMSE 802 In-class assignment: Artificial Neutral Networks Part 2\n",
    "## Date: 11/13/2018\n",
    "## Due: 11/13/2018; 10:30 PM\n",
    "\n",
    "### The goal of this assignment is to learn more about ANN and use existing modules and libraries.\n",
    "\n",
    "<img src= \"https://ml4a.github.io/images/temp_fig_mnist.png\" width=\"80%\">\n",
    "<p style=\"text-align: right;\">From: Machine Learning for Artists - https://ml4a.github.io/</p>"
   ]
  },
  {
   "cell_type": "markdown",
   "metadata": {},
   "source": [
    "---\n",
    "### Your name: Boyao Zhu"
   ]
  },
  {
   "cell_type": "markdown",
   "metadata": {},
   "source": [
    "---\n",
    "\n",
    "### 1. Forward feeding and backward propagation in ANN:\n",
    "\n",
    "We will use the code, partSix.py, provided in the \"Neural Networks Demystified\" module which can be downloaded from github:\n",
    "\n",
    "    git clone https://github.com/stephencwelch/Neural-Networks-Demystified"
   ]
  },
  {
   "cell_type": "code",
   "execution_count": 1,
   "metadata": {},
   "outputs": [],
   "source": [
    "# Neural Networks Demystified\n",
    "# Part 6: Training\n",
    "#\n",
    "# Supporting code for short YouTube series on artificial neural networks.\n",
    "#\n",
    "# Stephen Welch\n",
    "# @stephencwelch\n",
    "\n",
    "## ----------------------- Part 1 ---------------------------- ##\n",
    "import numpy as np\n",
    "\n",
    "\n",
    "## ----------------------- Part 5 ---------------------------- ##\n",
    "\n",
    "class Neural_Network(object):\n",
    "    def __init__(self, ILS = 2, OLS = 1, HLS = 3):        \n",
    "        #Define Hyperparameters\n",
    "        self.inputLayerSize = ILS\n",
    "        self.outputLayerSize = OLS\n",
    "        self.hiddenLayerSize = HLS\n",
    "        \n",
    "        #Weights (parameters)\n",
    "        self.W1 = np.random.randn(self.inputLayerSize,self.hiddenLayerSize)\n",
    "        self.W2 = np.random.randn(self.hiddenLayerSize,self.outputLayerSize)\n",
    "        \n",
    "    def forward(self, X):\n",
    "        #Propogate inputs though network\n",
    "        self.z2 = np.dot(X, self.W1)\n",
    "        self.a2 = self.sigmoid(self.z2)\n",
    "        self.z3 = np.dot(self.a2, self.W2)\n",
    "        yHat = self.sigmoid(self.z3) \n",
    "        return yHat\n",
    "        \n",
    "    def sigmoid(self, z):\n",
    "        #Apply sigmoid activation function to scalar, vector, or matrix\n",
    "        return 1/(1+np.exp(-z))\n",
    "    \n",
    "    def sigmoidPrime(self,z):\n",
    "        #Gradient of sigmoid\n",
    "        return np.exp(-z)/((1+np.exp(-z))**2)\n",
    "    \n",
    "    def costFunction(self, X, y):\n",
    "        #Compute cost for given X,y, use weights already stored in class.\n",
    "        self.yHat = self.forward(X)\n",
    "        J = 0.5*sum((y-self.yHat)**2)\n",
    "        return J\n",
    "        \n",
    "    def costFunctionPrime(self, X, y):\n",
    "        #Compute derivative with respect to W and W2 for a given X and y:\n",
    "        self.yHat = self.forward(X)\n",
    "        \n",
    "        delta3 = np.multiply(-(y-self.yHat), self.sigmoidPrime(self.z3))\n",
    "        dJdW2 = np.dot(self.a2.T, delta3)\n",
    "        \n",
    "        delta2 = np.dot(delta3, self.W2.T)*self.sigmoidPrime(self.z2)\n",
    "        dJdW1 = np.dot(X.T, delta2)  \n",
    "        \n",
    "        return dJdW1, dJdW2\n",
    "    \n",
    "    #Helper Functions for interacting with other classes:\n",
    "    def getParams(self):\n",
    "        #Get W1 and W2 unrolled into vector:\n",
    "        params = np.concatenate((self.W1.ravel(), self.W2.ravel()))\n",
    "        return params\n",
    "    \n",
    "    def setParams(self, params):\n",
    "        #Set W1 and W2 using single paramater vector.\n",
    "        W1_start = 0\n",
    "        W1_end = self.hiddenLayerSize * self.inputLayerSize\n",
    "        self.W1 = np.reshape(params[W1_start:W1_end], (self.inputLayerSize , self.hiddenLayerSize))\n",
    "        W2_end = W1_end + self.hiddenLayerSize*self.outputLayerSize\n",
    "        self.W2 = np.reshape(params[W1_end:W2_end], (self.hiddenLayerSize, self.outputLayerSize))\n",
    "        \n",
    "    def computeGradients(self, X, y):\n",
    "        dJdW1, dJdW2 = self.costFunctionPrime(X, y)\n",
    "        return np.concatenate((dJdW1.ravel(), dJdW2.ravel()))\n",
    "\n",
    "    def computeNumericalGradient(N, X, y):\n",
    "        paramsInitial = N.getParams()\n",
    "        numgrad = np.zeros(paramsInitial.shape)\n",
    "        perturb = np.zeros(paramsInitial.shape)\n",
    "        e = 1e-4\n",
    "\n",
    "        for p in range(len(paramsInitial)):\n",
    "            #Set perturbation vector\n",
    "            perturb[p] = e\n",
    "            N.setParams(paramsInitial + perturb)\n",
    "            loss2 = N.costFunction(X, y)\n",
    "            \n",
    "            N.setParams(paramsInitial - perturb)\n",
    "            loss1 = N.costFunction(X, y)\n",
    "\n",
    "            #Compute Numerical Gradient\n",
    "            numgrad[p] = (loss2 - loss1) / (2*e)\n",
    "\n",
    "            #Return the value we changed to zero:\n",
    "            perturb[p] = 0\n",
    "            \n",
    "        #Return Params to original value:\n",
    "        N.setParams(paramsInitial)\n",
    "\n",
    "        return numgrad \n",
    "        \n",
    "## ----------------------- Part 6 ---------------------------- ##\n",
    "from scipy import optimize\n",
    "\n",
    "\n",
    "class trainer(object):\n",
    "    def __init__(self, N):\n",
    "        #Make Local reference to network:\n",
    "        self.N = N\n",
    "        \n",
    "    def callbackF(self, params):\n",
    "        self.N.setParams(params)\n",
    "        self.J.append(self.N.costFunction(self.X, self.y))   \n",
    "        \n",
    "    def costFunctionWrapper(self, params, X, y):\n",
    "        self.N.setParams(params)\n",
    "        cost = self.N.costFunction(X, y)\n",
    "        grad = self.N.computeGradients(X,y)\n",
    "        return cost, grad\n",
    "        \n",
    "    def train(self, X, y, maxiter=2000):\n",
    "        #Make an internal variable for the callback function:\n",
    "        self.X = X\n",
    "        self.y = y\n",
    "\n",
    "        #Make empty list to store costs:\n",
    "        self.J = []\n",
    "        \n",
    "        params0 = self.N.getParams()\n",
    "\n",
    "        options = {'maxiter': maxiter, 'disp' : True}\n",
    "        _res = optimize.minimize(self.costFunctionWrapper, params0, jac=True, method='BFGS', \\\n",
    "                                 args=(X, y), options=options, callback=self.callbackF)\n",
    "\n",
    "        self.N.setParams(_res.x)\n",
    "        self.optimizationResults = _res"
   ]
  },
  {
   "cell_type": "markdown",
   "metadata": {},
   "source": [
    "**Input data. **"
   ]
  },
  {
   "cell_type": "code",
   "execution_count": 2,
   "metadata": {},
   "outputs": [
    {
     "name": "stdout",
     "output_type": "stream",
     "text": [
      "(3, 1)\n"
     ]
    }
   ],
   "source": [
    "# X = (hours sleeping, hours studying), y = Score on test\n",
    "X = np.array(([3,5], [5,1], [10,2]), dtype=float)\n",
    "y = np.array(([75], [82], [93]), dtype=float)\n",
    "\n",
    "print(y.shape)\n",
    "\n",
    "# Normalize\n",
    "X = X/np.amax(X, axis=0)\n",
    "y = y/100 #Max test score is 100"
   ]
  },
  {
   "cell_type": "code",
   "execution_count": 3,
   "metadata": {},
   "outputs": [
    {
     "name": "stdout",
     "output_type": "stream",
     "text": [
      "Untrained Output \n",
      " [[0.60216276]\n",
      " [0.59199143]\n",
      " [0.57881643]]\n"
     ]
    }
   ],
   "source": [
    "#Untrained Random Network\n",
    "\n",
    "NN = Neural_Network()\n",
    "y1 = NN.forward(X)\n",
    "print(\"Untrained Output \\n\", y1)"
   ]
  },
  {
   "cell_type": "markdown",
   "metadata": {},
   "source": [
    "** Train the network. **"
   ]
  },
  {
   "cell_type": "code",
   "execution_count": 4,
   "metadata": {},
   "outputs": [
    {
     "name": "stdout",
     "output_type": "stream",
     "text": [
      "Optimization terminated successfully.\n",
      "         Current function value: 0.000000\n",
      "         Iterations: 50\n",
      "         Function evaluations: 52\n",
      "         Gradient evaluations: 52\n"
     ]
    }
   ],
   "source": [
    "#Training step\n",
    "\n",
    "T = trainer(NN)\n",
    "T.train(X,y)"
   ]
  },
  {
   "cell_type": "code",
   "execution_count": 5,
   "metadata": {},
   "outputs": [
    {
     "name": "stdout",
     "output_type": "stream",
     "text": [
      "Trained Output \n",
      " [[0.75003818]\n",
      " [0.81994715]\n",
      " [0.9300063 ]]\n"
     ]
    }
   ],
   "source": [
    "#Trained Network\n",
    "\n",
    "y2 = NN.forward(X)\n",
    "print(\"Trained Output \\n\",y2)"
   ]
  },
  {
   "cell_type": "markdown",
   "metadata": {},
   "source": [
    "**Calculate the MSE for the untrained and trained neutral networks. **"
   ]
  },
  {
   "cell_type": "code",
   "execution_count": 10,
   "metadata": {},
   "outputs": [
    {
     "name": "stdout",
     "output_type": "stream",
     "text": [
      "Untrained error \n",
      " 0.44404240664031497\n",
      "Trained error \n",
      " 6.550218596592588e-05\n"
     ]
    }
   ],
   "source": [
    "# Your code:\n",
    "\n",
    "ut_err = np.linalg.norm(y-y1,ord='fro') # <== fill the blank\n",
    "t_err = np.linalg.norm(y-y2,ord='fro')   # <== fill the blank\n",
    "\n",
    "print(\"Untrained error \\n\", ut_err)\n",
    "print(\"Trained error \\n\", t_err)"
   ]
  },
  {
   "cell_type": "markdown",
   "metadata": {},
   "source": [
    "---\n",
    "### 2. Use ANN on the \"Digits\" dataset.\n",
    "\n",
    "Here is the code copied from the Machine Learning Module which downloads the \"digits\" dataset and separates it into training and testing sets. "
   ]
  },
  {
   "cell_type": "code",
   "execution_count": 83,
   "metadata": {},
   "outputs": [],
   "source": [
    "import matplotlib.pylab as plt\n",
    "import numpy as np\n",
    "from sklearn.datasets import load_digits\n",
    "from sklearn.cross_validation import train_test_split\n",
    "\n",
    "sk_data = load_digits();\n",
    "\n",
    "feature_vectors = sk_data.data\n",
    "class_labels = sk_data.target\n",
    "categories = sk_data.target_names\n",
    "\n",
    "N, h, w = sk_data.images.shape\n",
    "train_vectors, test_vectors, train_labels, test_labels = \\\n",
    "train_test_split(feature_vectors, class_labels, test_size=0.25, random_state=1)"
   ]
  },
  {
   "cell_type": "code",
   "execution_count": 12,
   "metadata": {},
   "outputs": [
    {
     "data": {
      "application/vnd.jupyter.widget-view+json": {
       "model_id": "d4d16fb0a32d4f4389209a1a7c2e2913",
       "version_major": 2,
       "version_minor": 0
      },
      "text/plain": [
       "interactive(children=(IntSlider(value=898, description='i', max=1796), Output()), _dom_classes=('widget-intera…"
      ]
     },
     "metadata": {},
     "output_type": "display_data"
    }
   ],
   "source": [
    "# Cool slider to browse all of the images.\n",
    "from ipywidgets import interact\n",
    "\n",
    "def browse_images(images, labels, categories):\n",
    "    n = len(images)\n",
    "    def view_image(i):\n",
    "        plt.imshow(images[i], cmap=plt.cm.gray_r, interpolation='nearest')\n",
    "        plt.title('%s' % categories[labels[i]])\n",
    "        plt.axis('off')\n",
    "        plt.show()\n",
    "    interact(view_image, i=(0,n-1))\n",
    "    \n",
    "browse_images(sk_data.images, sk_data.target, sk_data.target_names)"
   ]
  },
  {
   "cell_type": "markdown",
   "metadata": {},
   "source": [
    "* For this new input to work, you need to transform the training and testing data into a format that can work with the class that was developed. \n",
    "* Use functions such as ```type``` and ```shape``` to figure out how to transform the data into inputs suitable for training the Neural Network.\n",
    "* Make sure your inputs and outputs are normalized between zero (0) and one (1).\n",
    "* Modify the number of Input, Output and Hidden layers to match the new problem. \n",
    "  "
   ]
  },
  {
   "cell_type": "code",
   "execution_count": 84,
   "metadata": {},
   "outputs": [
    {
     "name": "stdout",
     "output_type": "stream",
     "text": [
      "(1797, 64)\n",
      "(1797,)\n",
      "[0 1 2 3 4 5 6 7 8 9]\n",
      "float64\n",
      "int64\n",
      "int64\n",
      "[[ 0.  0.  7. ...  3.  0.  0.]\n",
      " [ 0.  0.  0. ... 11.  6.  0.]\n",
      " [ 0.  0.  0. ...  9.  0.  0.]\n",
      " ...\n",
      " [ 0.  0.  7. ... 13.  2.  0.]\n",
      " [ 0.  0.  0. ... 16.  1.  0.]\n",
      " [ 0.  0.  8. ...  0.  0.  0.]]\n",
      "[[0.     0.     0.4375 ... 0.1875 0.     0.    ]\n",
      " [0.     0.     0.     ... 0.6875 0.375  0.    ]\n",
      " [0.     0.     0.     ... 0.5625 0.     0.    ]\n",
      " ...\n",
      " [0.     0.     0.4375 ... 0.8125 0.125  0.    ]\n",
      " [0.     0.     0.     ... 1.     0.0625 0.    ]\n",
      " [0.     0.     0.5    ... 0.     0.     0.    ]]\n",
      "(1347, 64)\n",
      "(1347, 1)\n"
     ]
    }
   ],
   "source": [
    "# Your code:\n",
    "print (feature_vectors.shape)\n",
    "print (class_labels.shape)\n",
    "print (categories)\n",
    "\n",
    "print (feature_vectors.dtype)\n",
    "print (class_labels.dtype)\n",
    "print (categories.dtype)\n",
    "\n",
    "train_vectors_norm = train_vectors/16\n",
    "test_vectors_norm = test_vectors/16\n",
    "train_labels_norm = train_labels/10\n",
    "train_labels_norm = train_labels_norm.reshape((1347,1))\n",
    "test_labels_norm = test_labels/10 \n",
    "test_labels_norm = test_labels_norm.reshape((450,1))\n",
    "#print (test_labels_norm.shape)\n",
    "print (train_vectors_norm)\n",
    "print (train_vectors_norm.shape)\n",
    "print (train_labels_norm.shape)"
   ]
  },
  {
   "cell_type": "code",
   "execution_count": 85,
   "metadata": {},
   "outputs": [
    {
     "name": "stderr",
     "output_type": "stream",
     "text": [
      "/anaconda3/lib/python3.6/site-packages/ipykernel_launcher.py:40: RuntimeWarning: overflow encountered in square\n"
     ]
    },
    {
     "name": "stdout",
     "output_type": "stream",
     "text": [
      "Warning: Desired error not necessarily achieved due to precision loss.\n",
      "         Current function value: 1.158959\n",
      "         Iterations: 1280\n",
      "         Function evaluations: 1316\n",
      "         Gradient evaluations: 1305\n"
     ]
    },
    {
     "name": "stderr",
     "output_type": "stream",
     "text": [
      "/anaconda3/lib/python3.6/site-packages/ipykernel_launcher.py:40: RuntimeWarning: invalid value encountered in true_divide\n",
      "/anaconda3/lib/python3.6/site-packages/ipykernel_launcher.py:40: RuntimeWarning: overflow encountered in square\n",
      "/anaconda3/lib/python3.6/site-packages/ipykernel_launcher.py:40: RuntimeWarning: invalid value encountered in true_divide\n"
     ]
    }
   ],
   "source": [
    "#Run the training. \n",
    "\n",
    "NN = Neural_Network(ILS=64 , OLS= 1 , HLS= 10) # <== fill the blank\n",
    "T = trainer(NN)\n",
    "T.train(train_vectors_norm, train_labels_norm)"
   ]
  },
  {
   "cell_type": "markdown",
   "metadata": {},
   "source": [
    "** Evaluate training and testing data errors. **"
   ]
  },
  {
   "cell_type": "code",
   "execution_count": 87,
   "metadata": {},
   "outputs": [
    {
     "name": "stdout",
     "output_type": "stream",
     "text": [
      "Training Data error 1.522471000765278\n",
      "Testing Data error 2.9477783178054966\n"
     ]
    }
   ],
   "source": [
    "pred_labels = NN.forward(train_vectors_norm)\n",
    "\n",
    "# Training data error\n",
    "train_err = np.linalg.norm(train_labels_norm-pred_labels,ord='fro')  # <== fill the blank\n",
    "\n",
    "print(\"Training Data error\", train_err)\n",
    "\n",
    "\n",
    "\n",
    "pred_labels = NN.forward(test_vectors_norm)\n",
    "\n",
    "# Testing data error\n",
    "test_err = np.linalg.norm(test_labels_norm-pred_labels,ord='fro')   # <== fill the blank\n",
    "\n",
    "print(\"Testing Data error\", test_err)\n"
   ]
  },
  {
   "cell_type": "code",
   "execution_count": 88,
   "metadata": {},
   "outputs": [
    {
     "data": {
      "image/png": "[encoded data removed]",
      "text/plain": [
       "<Figure size 648x864 with 25 Axes>"
      ]
     },
     "metadata": {},
     "output_type": "display_data"
    }
   ],
   "source": [
    "def plot_gallery(images, true_titles, pred_titles, h, w, n_row=5, n_col=5):\n",
    "    \"\"\"Helper function to plot a gallery of portraits\"\"\"\n",
    "    plt.figure(figsize=(1.8 * n_col, 2.4 * n_row))\n",
    "    plt.subplots_adjust(bottom=0, left=.01, right=.99, top=.90, hspace=.35)\n",
    "    for i in range(n_row * n_col):\n",
    "        plt.subplot(n_row, n_col, i + 1)\n",
    "        plt.imshow(images[i].reshape((h, w)), cmap=plt.cm.gray_r)\n",
    "        plt.title('Pred='+str(pred_titles[i]*10), size=9)\n",
    "        plt.xlabel('Actual='+str(true_titles[i]*10), size=9)\n",
    "        plt.xticks(())\n",
    "        plt.yticks(())\n",
    "\n",
    "    plt.show()\n",
    "    \n",
    "plot_gallery(test_vectors, test_labels_norm, pred_labels, h,w)"
   ]
  },
  {
   "cell_type": "markdown",
   "metadata": {},
   "source": [
    "---\n",
    "### 3. sklearn library for neutral network.\n",
    "\n",
    "In this section we will repeat the example of Digits using a neural network function in python machine learning library: sklearn. ** Investigate sklearn.neural_network( ) and MLPRegressor. Use MLPRegressor to repeat the tasks for recognizing Digits above. ** In this task, you do not need to normalize the data."
   ]
  },
  {
   "cell_type": "code",
   "execution_count": 96,
   "metadata": {},
   "outputs": [
    {
     "name": "stdout",
     "output_type": "stream",
     "text": [
      "(1347, 64)\n",
      "(450, 64)\n"
     ]
    }
   ],
   "source": [
    "# Your code:\n",
    "from sklearn.neural_network import MLPRegressor\n",
    "\n",
    "X_train, X_test, y_train, y_test = train_test_split(feature_vectors, class_labels, test_size= 0.25, random_state=42)\n",
    "mlp = MLPRegressor(random_state=0).fit(X_train, y_train)\n",
    "\n",
    "print (X_train.shape)\n",
    "print (X_test.shape)"
   ]
  },
  {
   "cell_type": "markdown",
   "metadata": {},
   "source": [
    "** Evaluate training and testing data errors.**"
   ]
  },
  {
   "cell_type": "code",
   "execution_count": 100,
   "metadata": {},
   "outputs": [
    {
     "name": "stdout",
     "output_type": "stream",
     "text": [
      "Training Data error 32.11090640150321\n",
      "Testing Data error 24.675848904606283\n"
     ]
    }
   ],
   "source": [
    "pred_labels = mlp.predict(X_train)\n",
    "\n",
    "# Training data error\n",
    "train_err = np.linalg.norm(y_train-pred_labels)  # <== fill the blank\n",
    "\n",
    "print(\"Training Data error\", train_err)\n",
    "\n",
    "\n",
    "pred_labels = mlp.predict(X_test)\n",
    "\n",
    "# Testing data error\n",
    "test_err = np.linalg.norm(y_test-pred_labels)    # <== fill the blank\n",
    "\n",
    "print(\"Testing Data error\", test_err)"
   ]
  },
  {
   "cell_type": "code",
   "execution_count": 101,
   "metadata": {},
   "outputs": [
    {
     "data": {
      "image/png": "[encoded data removed]",
      "text/plain": [
       "<Figure size 648x864 with 25 Axes>"
      ]
     },
     "metadata": {},
     "output_type": "display_data"
    }
   ],
   "source": [
    "def plot_gallery_2(images, true_titles, pred_titles, h, w, n_row=5, n_col=5):\n",
    "    \"\"\"Helper function to plot a gallery of portraits\"\"\"\n",
    "    plt.figure(figsize=(1.8 * n_col, 2.4 * n_row))\n",
    "    plt.subplots_adjust(bottom=0, left=.01, right=.99, top=.90, hspace=.35)\n",
    "    for i in range(n_row * n_col):\n",
    "        plt.subplot(n_row, n_col, i + 1)\n",
    "        plt.imshow(images[i].reshape((h, w)), cmap=plt.cm.gray_r)\n",
    "        plt.title('Pred='+str(pred_titles[i]), size=9)\n",
    "        plt.xlabel('Actual='+str(true_titles[i]), size=9)\n",
    "        plt.xticks(())\n",
    "        plt.yticks(())\n",
    "\n",
    "    plt.show()\n",
    "    \n",
    "plot_gallery_2(test_vectors, test_labels, pred_labels, h,w)"
   ]
  },
  {
   "cell_type": "markdown",
   "metadata": {},
   "source": [
    "---\n",
    "### Congratulations, we're done!\n",
    "\n",
    "** Don't forget to add your names to the top!!**\n",
    "\n",
    "Log into the course D2L website (d2l.msu.edu) and go to \"Assessments > Assignments > In-class Assignment 20181113\"."
   ]
  },
  {
   "cell_type": "code",
   "execution_count": null,
   "metadata": {
    "collapsed": true
   },
   "outputs": [],
   "source": []
  }
 ],
 "metadata": {
  "kernelspec": {
   "display_name": "Python 3",
   "language": "python",
   "name": "python3"
  },
  "language_info": {
   "codemirror_mode": {
    "name": "ipython",
    "version": 3
   },
   "file_extension": ".py",
   "mimetype": "text/x-python",
   "name": "python",
   "nbconvert_exporter": "python",
   "pygments_lexer": "ipython3",
   "version": "3.6.5"
  }
 },
 "nbformat": 4,
 "nbformat_minor": 2
}
