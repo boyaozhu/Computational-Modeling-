{
 "cells": [
  {
   "cell_type": "markdown",
   "metadata": {},
   "source": [
    "# CMSE 802 In-class assignment: Artificial Neutral Networks Part 3\n",
    "## Date: 11/15/2018\n",
    "## Due: 11/15/2018; 10:30 PM\n",
    "### Your name:\n",
    "### The goal of this assignment is to learn more about ANN and existing  libraries."
   ]
  },
  {
   "cell_type": "markdown",
   "metadata": {},
   "source": [
    "---\n",
    "### Your name: Boyao Zhu"
   ]
  },
  {
   "cell_type": "markdown",
   "metadata": {},
   "source": [
    "---\n",
    "The goal for this module is to build a learning system for handwritten digit regonition. We will approach this as any company in silicon valley would: with informed experimentation to try and get the most accurate system. You will have control over everything: the architecture of the network, hyperparameters, etc. The main libraries involved are **Keras ** and compatible backend engines ."
   ]
  },
  {
   "cell_type": "markdown",
   "metadata": {},
   "source": [
    "<img src=\"https://keras.io/img/keras-logo-small.jpg \" style=\"float:left;margin: 0px 30px 0px 0px;width: 100px;\">\n",
    "*Keras is a high-level neural networks library, written in Python and capable of running on top of either (Google's) TensorFlow, Theano (Université de Montréal) or CNTK (Microsoft). It was developed with a focus on enabling fast experimentation. Being able to go from idea to result with the least possible delay is key to doing good research.*\n",
    "\n",
    "*Keras was initially developed as part of the research effort of project ONEIROS (Open-ended Neuro-Electronic Intelligent Robot Operating System).*\n",
    "\n",
    "Source: https://keras.io/\n",
    "\n",
    "---"
   ]
  },
  {
   "cell_type": "markdown",
   "metadata": {},
   "source": [
    "### ANN application: digit recognition\n",
    "\n",
    "<img src= https://www.tensorflow.org/versions/r0.8/images/mnist_digits.png>\n",
    "\n",
    "</p>\n",
    "We again will work on modeling a feedforward artificial neural network to classify the handwritten digits from the MNIST data set. We will do this using Keras. For now, let us get the data.\n",
    "\n",
    "<img src= \"https://ml4a.github.io/images/temp_fig_mnist.png\" width=\"80%\">\n",
    "<p style=\"text-align: right;\">From: Machine Learning for Artists - https://ml4a.github.io/</p>"
   ]
  },
  {
   "cell_type": "markdown",
   "metadata": {},
   "source": [
    "---\n",
    "**Load data. **"
   ]
  },
  {
   "cell_type": "code",
   "execution_count": 6,
   "metadata": {},
   "outputs": [],
   "source": [
    "from __future__ import division, print_function\n",
    "\n",
    "from keras.callbacks import Callback\n",
    "from keras.layers import Dense, Activation, Dropout\n",
    "from keras.models import Sequential\n",
    "from keras.optimizers import SGD, RMSprop\n",
    "from keras.regularizers import l2\n",
    "from keras.utils import np_utils\n",
    "\n",
    "from sklearn import datasets\n",
    "from sklearn.cross_validation import train_test_split\n",
    "\n",
    "import numpy as np\n",
    "import matplotlib.pyplot as plt"
   ]
  },
  {
   "cell_type": "markdown",
   "metadata": {},
   "source": [
    "---\n",
    "** Getting the normalized MNIST data: **\n",
    "\n",
    "Here we will use the scikit-learn fetch_mldata method. This might take a few seconds."
   ]
  },
  {
   "cell_type": "code",
   "execution_count": 11,
   "metadata": {},
   "outputs": [],
   "source": [
    "dataset = datasets.fetch_mldata(\"Mnist Original\")\n",
    "X = dataset.data\n",
    "X = X / 255.0\n",
    "Y = np_utils.to_categorical(dataset.target.astype(\"int\"), 10)"
   ]
  },
  {
   "cell_type": "markdown",
   "metadata": {},
   "source": [
    "To make sure that everything went well, randomly pick ten images from the data set and plot them."
   ]
  },
  {
   "cell_type": "code",
   "execution_count": 31,
   "metadata": {},
   "outputs": [
    {
     "name": "stdout",
     "output_type": "stream",
     "text": [
      "(70000, 784)\n"
     ]
    },
    {
     "data": {
      "text/plain": [
       "'\\ndef plot_gallery(images, n_row=5, n_col=5):\\n    \"\"\"Helper function to plot a gallery of portraits\"\"\"\\n    plt.figure(figsize=(1.8 * n_col, 2.4 * n_row))\\n    plt.subplots_adjust(bottom=0, left=.01, right=.99, top=.90, hspace=.35)\\n    for i in range(n_row * n_col):\\n        plt.subplot(n_row, n_col, i + 1)\\n        plt.imshow(images[i].reshape((h, w)), cmap=plt.cm.gray_r)\\n        plt.title(\\'Pred=\\'+str(pred_titles[i]*10), size=9)\\n        plt.xlabel(\\'Actual=\\'+str(true_titles[i]*10), size=9)\\n        plt.xticks(())\\n        plt.yticks(())\\n\\n    plt.show()\\n    \\nplot_gallery(X[0:10,:], )\\n'"
      ]
     },
     "execution_count": 31,
     "metadata": {},
     "output_type": "execute_result"
    },
    {
     "data": {
      "image/png": "[encoded data removed]",
      "text/plain": [
       "<Figure size 720x288 with 10 Axes>"
      ]
     },
     "metadata": {},
     "output_type": "display_data"
    }
   ],
   "source": [
    "# Your code:\n",
    "print (X.shape)\n",
    "a = np.random.randint(0,70000,10)\n",
    "\n",
    "plt.figure(figsize=(10,4))\n",
    "\n",
    "plt.subplots_adjust(bottom=0, left=.01, right=.99, top=.90, hspace=.35)\n",
    "\n",
    "for i in range(10):\n",
    "    plt.subplot(2, 5, i+1)\n",
    "    plt.imshow(X[a[i]].reshape((28,28)), cmap=plt.cm.gray_r)\n",
    "\n",
    "\n",
    "'''\n",
    "def plot_gallery(images, n_row=5, n_col=5):\n",
    "    \"\"\"Helper function to plot a gallery of portraits\"\"\"\n",
    "    plt.figure(figsize=(1.8 * n_col, 2.4 * n_row))\n",
    "    plt.subplots_adjust(bottom=0, left=.01, right=.99, top=.90, hspace=.35)\n",
    "    for i in range(n_row * n_col):\n",
    "        plt.subplot(n_row, n_col, i + 1)\n",
    "        plt.imshow(images[i].reshape((h, w)), cmap=plt.cm.gray_r)\n",
    "        plt.title('Pred='+str(pred_titles[i]*10), size=9)\n",
    "        plt.xlabel('Actual='+str(true_titles[i]*10), size=9)\n",
    "        plt.xticks(())\n",
    "        plt.yticks(())\n",
    "\n",
    "    plt.show()\n",
    "    \n",
    "plot_gallery(X[0:10,:], )\n",
    "'''"
   ]
  },
  {
   "cell_type": "markdown",
   "metadata": {},
   "source": [
    "---\n",
    "**Split data**\n",
    "\n",
    "We split the data randomly into training, testing and validation sets. The random_state = 0 is so that we all get the same random partition."
   ]
  },
  {
   "cell_type": "code",
   "execution_count": 32,
   "metadata": {},
   "outputs": [
    {
     "name": "stdout",
     "output_type": "stream",
     "text": [
      "(50000, 784) (10000, 784) (10000, 784) (50000, 10) (10000, 10) (10000, 10)\n"
     ]
    }
   ],
   "source": [
    "Xtrain, Xtest, Ytrain, Ytest = train_test_split(X, Y, test_size=10000, random_state=0)\n",
    "\n",
    "Xtrain, Xval, Ytrain, Yval = train_test_split(Xtrain, Ytrain, test_size=10000, random_state=0)\n",
    "\n",
    "print(Xtrain.shape, Xval.shape, Xtest.shape, Ytrain.shape, Yval.shape, Ytest.shape)"
   ]
  },
  {
   "cell_type": "markdown",
   "metadata": {},
   "source": [
    "---\n",
    "\n",
    "### Neural networks in Keras: \n",
    "\n",
    "The type of network we've been using so far, a fully connected network (FCN), in which information only flows in one direction (Feedforward FCN), is implemented in Keras using the Sequential class. Most of what you need can be found here:\n",
    "\n",
    "https://keras.io/getting-started/sequential-model-guide/\n",
    "\n",
    "A list of methods and their inputs can be found here:\n",
    "\n",
    "https://keras.io/models/sequential/\n",
    "\n",
    "**Build a simple feedforward FCN using Keras.**  Please investigate the functions Sequential( ), model.add( ), model.complie( ), and use them in the cell below. "
   ]
  },
  {
   "cell_type": "code",
   "execution_count": 112,
   "metadata": {},
   "outputs": [
    {
     "name": "stderr",
     "output_type": "stream",
     "text": [
      "/anaconda3/lib/python3.6/site-packages/ipykernel_launcher.py:9: UserWarning: Update your `Dense` call to the Keras 2 API: `Dense(784, input_dim=784, activation=\"sigmoid\", use_bias=True)`\n",
      "  if __name__ == '__main__':\n"
     ]
    }
   ],
   "source": [
    "# First we instantiate the model\n",
    "model = Sequential() # <== fill the blank\n",
    "\n",
    "\n",
    "# Next we add the first two layers. Dense means that is fully connected, \n",
    "# the input layer has size 784= 28x28 , \n",
    "# and the second layer has 5 units. A bias term can be added by including bias=True\n",
    "# the activation function is a sigmoid, but this can be changed.\n",
    "model.add(Dense(784, input_dim=784 , activation=('sigmoid'),bias=True)) # <== fill the blank\n",
    "#model.add(Dense(5, activation=('sigmoid'), bias=True))\n",
    "\n",
    "# More hidden layers can be added here using model.add(Dense(n_nodes= , activation = ' ', bias=  ))\n",
    "\n",
    "\n",
    "# The output layer has ten units, one for each digit class, \n",
    "# and the activation functions are sigmoids. \n",
    "# Notice that different layers can have different activation functions.\n",
    "model.add(Dense(10, activation=('sigmoid')  )) # <== fill the blank\n",
    "\n",
    "\n",
    "# The type of minimization algorithm we will use is stochastic gradient descent (SGD) \n",
    "# with learning rate = 0.1.\n",
    "sgd = SGD(lr=0.1)\n",
    "\n",
    "\n",
    "# Finally, we form the model to be trained. Let's use mean squared error to evaluate the \n",
    "# loss function.\n",
    "model.compile(loss='mse'  , optimizer=sgd, metrics=['accuracy']) # <== fill the blank\n"
   ]
  },
  {
   "cell_type": "code",
   "execution_count": 113,
   "metadata": {},
   "outputs": [
    {
     "name": "stdout",
     "output_type": "stream",
     "text": [
      "_________________________________________________________________\n",
      "Layer (type)                 Output Shape              Param #   \n",
      "=================================================================\n",
      "dense_24 (Dense)             (None, 784)               615440    \n",
      "_________________________________________________________________\n",
      "dense_25 (Dense)             (None, 10)                7850      \n",
      "=================================================================\n",
      "Total params: 623,290\n",
      "Trainable params: 623,290\n",
      "Non-trainable params: 0\n",
      "_________________________________________________________________\n"
     ]
    }
   ],
   "source": [
    "# Here is a simple summary of the neutral network\n",
    "\n",
    "model.summary()"
   ]
  },
  {
   "cell_type": "code",
   "execution_count": 114,
   "metadata": {},
   "outputs": [],
   "source": [
    "# custom callback, to see what's going on while training happens\n",
    "\n",
    "class LossHistory(Callback):\n",
    "    def on_train_begin(self, logs={}):\n",
    "        self.losses = []\n",
    "        self.accuracies = []\n",
    "    def on_batch_end(self, batch, logs={}):\n",
    "        self.losses.append(logs.get(\"loss\"))\n",
    "        self.accuracies.append(logs.get(\"acc\"))"
   ]
  },
  {
   "cell_type": "code",
   "execution_count": 115,
   "metadata": {},
   "outputs": [],
   "source": [
    "       \n",
    "history = LossHistory()"
   ]
  },
  {
   "cell_type": "markdown",
   "metadata": {},
   "source": [
    "Investigate the function model.fit( ) to train the neutral network."
   ]
  },
  {
   "cell_type": "code",
   "execution_count": 116,
   "metadata": {},
   "outputs": [
    {
     "name": "stderr",
     "output_type": "stream",
     "text": [
      "/anaconda3/lib/python3.6/site-packages/ipykernel_launcher.py:4: UserWarning: The `nb_epoch` argument in `fit` has been renamed `epochs`.\n",
      "  after removing the cwd from sys.path.\n"
     ]
    },
    {
     "name": "stdout",
     "output_type": "stream",
     "text": [
      "Train on 50000 samples, validate on 10000 samples\n",
      "Epoch 1/10\n",
      "50000/50000 [==============================] - 4s 85us/step - loss: 0.0888 - acc: 0.3067 - val_loss: 0.0852 - val_acc: 0.4446\n",
      "Epoch 2/10\n",
      "50000/50000 [==============================] - 4s 79us/step - loss: 0.0821 - acc: 0.4921 - val_loss: 0.0787 - val_acc: 0.5689\n",
      "Epoch 3/10\n",
      "50000/50000 [==============================] - 4s 79us/step - loss: 0.0749 - acc: 0.6043 - val_loss: 0.0712 - val_acc: 0.6323\n",
      "Epoch 4/10\n",
      "50000/50000 [==============================] - 4s 80us/step - loss: 0.0675 - acc: 0.6705 - val_loss: 0.0641 - val_acc: 0.7196\n",
      "Epoch 5/10\n",
      "50000/50000 [==============================] - 4s 80us/step - loss: 0.0611 - acc: 0.7134 - val_loss: 0.0581 - val_acc: 0.7399\n",
      "Epoch 6/10\n",
      "50000/50000 [==============================] - 4s 82us/step - loss: 0.0558 - acc: 0.7437 - val_loss: 0.0534 - val_acc: 0.7590\n",
      "Epoch 7/10\n",
      "50000/50000 [==============================] - 4s 81us/step - loss: 0.0515 - acc: 0.7677 - val_loss: 0.0494 - val_acc: 0.7766\n",
      "Epoch 8/10\n",
      "50000/50000 [==============================] - 4s 83us/step - loss: 0.0480 - acc: 0.7864 - val_loss: 0.0463 - val_acc: 0.7979\n",
      "Epoch 9/10\n",
      "50000/50000 [==============================] - 5s 94us/step - loss: 0.0452 - acc: 0.8011 - val_loss: 0.0437 - val_acc: 0.8129\n",
      "Epoch 10/10\n",
      "50000/50000 [==============================] - 4s 81us/step - loss: 0.0429 - acc: 0.8123 - val_loss: 0.0415 - val_acc: 0.8280\n"
     ]
    },
    {
     "data": {
      "text/plain": [
       "<keras.callbacks.History at 0x1a24122ba8>"
      ]
     },
     "execution_count": 116,
     "metadata": {},
     "output_type": "execute_result"
    }
   ],
   "source": [
    "# now we train the model\n",
    "\n",
    "# Fill the blank in the function below.\n",
    "model.fit(Xtrain ,Ytrain   , batch_size=100, nb_epoch=10, shuffle=True, validation_data=(Xtest,Ytest), callbacks=[history])\n",
    "\n"
   ]
  },
  {
   "cell_type": "code",
   "execution_count": 117,
   "metadata": {},
   "outputs": [
    {
     "data": {
      "image/png": "[encoded data removed]",
      "text/plain": [
       "<Figure size 1080x360 with 2 Axes>"
      ]
     },
     "metadata": {},
     "output_type": "display_data"
    }
   ],
   "source": [
    "# one can plot how the loss ( in this case, the mean squared error) and \n",
    "# accuracy changed as training went on\n",
    "\n",
    "plt.figure(1,figsize=(15, 5))\n",
    "plt.subplot(121)\n",
    "plt.plot(range(len(history.losses)), history.losses)\n",
    "plt.xlabel(\"batch\")\n",
    "plt.ylabel(\"loss\")\n",
    "plt.grid()\n",
    "\n",
    "plt.subplot(122)\n",
    "plt.plot(range(len(history.accuracies)), history.accuracies)\n",
    "plt.xlabel(\"batch\")\n",
    "plt.ylabel(\"acc\")\n",
    "plt.grid()\n",
    "\n",
    "\n",
    "plt.show()"
   ]
  },
  {
   "cell_type": "markdown",
   "metadata": {},
   "source": [
    "---\n",
    "### Visualization:\n",
    "\n",
    "One can check how the model does in 10 randomly chosen images. The percentage of correct classifications, averaged over several trials, should approach the test accuracy acomputed above."
   ]
  },
  {
   "cell_type": "code",
   "execution_count": 118,
   "metadata": {},
   "outputs": [
    {
     "name": "stderr",
     "output_type": "stream",
     "text": [
      "/anaconda3/lib/python3.6/site-packages/matplotlib/cbook/deprecation.py:107: MatplotlibDeprecationWarning: Passing one of 'on', 'true', 'off', 'false' as a boolean is deprecated; use an actual boolean (True/False) instead.\n",
      "  warnings.warn(message, mplDeprecation, stacklevel=1)\n"
     ]
    },
    {
     "data": {
      "image/png": "[encoded data removed]",
      "text/plain": [
       "<Figure size 1440x360 with 10 Axes>"
      ]
     },
     "metadata": {},
     "output_type": "display_data"
    }
   ],
   "source": [
    "Xvals = np.zeros((10, Xval.shape[1]))\n",
    "\n",
    "for idx, i in enumerate(np.random.randint(0, Xval.shape[0], 10)):\n",
    "    Xvals[idx, :] = Xval[i]\n",
    "\n",
    "Y_ = model.predict(Xvals)\n",
    "\n",
    "\n",
    "fig = plt.figure(2,figsize=(20, 5))\n",
    "\n",
    "for i in range(10):\n",
    "    img = Xvals[i].reshape((28, 28))\n",
    "    a=fig.add_subplot(1,10,i+1)\n",
    "    \n",
    "    g = np.argmax(Y_[i,:])\n",
    "    \n",
    "    a.set_title('Predicted: '+str(g), size=15)\n",
    "    plt.tick_params(labelbottom='off', labelleft='off')\n",
    "    plt.imshow(img,cmap=plt.cm.gray_r)\n",
    "    \n",
    "plt.show()"
   ]
  },
  {
   "cell_type": "markdown",
   "metadata": {},
   "source": [
    "---\n",
    "### Activity:\n",
    "\n",
    "** Build the most accurate digit recognition system you can. What is your strategy to increase the accuracy. **"
   ]
  },
  {
   "cell_type": "markdown",
   "metadata": {},
   "source": [
    "**Your answer: **  Add more layers, and use different activation function like relu"
   ]
  },
  {
   "cell_type": "markdown",
   "metadata": {},
   "source": [
    "---\n",
    "### Congratulations, we're done!\n",
    "\n",
    "** Don't forget to add your names to the top!!**\n",
    "\n",
    "Log into the course D2L website (d2l.msu.edu) and go to \"Assessments > Dropbox > In-class Assignment 20181115\"."
   ]
  },
  {
   "cell_type": "code",
   "execution_count": null,
   "metadata": {},
   "outputs": [],
   "source": []
  }
 ],
 "metadata": {
  "kernelspec": {
   "display_name": "Python 3",
   "language": "python",
   "name": "python3"
  },
  "language_info": {
   "codemirror_mode": {
    "name": "ipython",
    "version": 3
   },
   "file_extension": ".py",
   "mimetype": "text/x-python",
   "name": "python",
   "nbconvert_exporter": "python",
   "pygments_lexer": "ipython3",
   "version": "3.6.5"
  }
 },
 "nbformat": 4,
 "nbformat_minor": 2
}
