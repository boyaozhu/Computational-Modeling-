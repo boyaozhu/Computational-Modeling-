{
 "cells": [
  {
   "cell_type": "markdown",
   "metadata": {},
   "source": [
    "# Homework 02: Euler Method and 1D PDE\n",
    "# Date: 10/03/2018\n",
    "# Due: 10/13/2018; 10:30 PM\n",
    "## Objectives: We will have more practices on numerical methods relevant to our previous assignments."
   ]
  },
  {
   "cell_type": "markdown",
   "metadata": {},
   "source": [
    "---\n",
    "### Your name: Boyao Zhu"
   ]
  },
  {
   "cell_type": "markdown",
   "metadata": {},
   "source": [
    "---\n",
    "### Problem 1\n",
    "\n",
    "### In our pre-class assignment (Day04), we used an existing direct matrix solver, \"np.linalg.solve(Am, f)\". Here, we want to write our own tridiagonal matrix solver for 1D Heat equation, and compare its performance against np.linalg.solve.\n",
    "\n",
    "**The tridiagonal matrix solver is a variation from Gaussian elimination, for the special case where only the entries on the lower, main, and upper diagonals contain non-zero values.**\n",
    "\n",
    "**In the code below, the operator matrix and force vector are provided. Do the following. **\n",
    "1. **Get the computer time required for Python function, np.linalg.solve. **\n",
    "1. **Finish the code for tridiagonal matrix solver using the algorithm on wikipedia (link given below), and compare your computer time to that from Python function.   **\n",
    "\n",
    "https://en.wikipedia.org/wiki/Tridiagonal_matrix_algorithm"
   ]
  },
  {
   "cell_type": "code",
   "execution_count": 20,
   "metadata": {},
   "outputs": [
    {
     "name": "stdout",
     "output_type": "stream",
     "text": [
      "time for linalg solver = 9.406058073043823\n",
      "time for tridiagonal matrix solver = 0.036527156829833984\n"
     ]
    },
    {
     "data": {
      "image/png": "[encoded data removed]",
      "text/plain": [
       "<Figure size 432x288 with 1 Axes>"
      ]
     },
     "metadata": {},
     "output_type": "display_data"
    }
   ],
   "source": [
    "# load libraries\n",
    "import numpy as np\n",
    "import matplotlib.pyplot as plt\n",
    "import time as tm\n",
    "\n",
    "%matplotlib inline\n",
    "\n",
    "# set up matrix for 1D heat equation\n",
    "\n",
    "# number of grids in 1D\n",
    "nx = 10001\n",
    "\n",
    "# create a matrix\n",
    "Am = np.zeros((nx,nx))\n",
    "\n",
    "# create the vector for the unknowns\n",
    "x = np.zeros(nx)\n",
    "\n",
    "# create the force vector\n",
    "d = np.zeros(nx)\n",
    "\n",
    "# Boundary conditions\n",
    "d[0] = -400\n",
    "d[nx-1] = -10\n",
    "\n",
    "# fill the entries in the operator matrix\n",
    "for n in range(nx):\n",
    "    \n",
    "    Am[n,n] = -2.\n",
    "    if n > 0:\n",
    "        Am[n-1,n] = 1.\n",
    "        Am[n,n-1] = 1.\n",
    "\n",
    "# walltime before matrix solving\n",
    "cpu_tm_bg = tm.time()\n",
    "                      \n",
    "# #######################################################\n",
    "# solve vector x using Python function\n",
    "# #######################################################\n",
    "sol = np.linalg.solve(Am, d)   \n",
    "\n",
    "# walltime after matrix solving\n",
    "cpu_tm_ed = tm.time()\n",
    "print('time for linalg solver =',cpu_tm_ed-cpu_tm_bg)\n",
    "\n",
    "# plotting\n",
    "plt.plot(sol,'r')\n",
    "\n",
    "\n",
    "# #######################################################\n",
    "# tirdiagonal matrix solver\n",
    "# #######################################################\n",
    "\n",
    "#lists for stoting entries in the lower, main, and upper diagonals \n",
    "a = np.zeros(nx)\n",
    "b = np.zeros(nx)\n",
    "c = np.zeros(nx)\n",
    "\n",
    "# walltime before matrix solving\n",
    "cpu_tm_bg = tm.time()\n",
    "\n",
    "# fill the lists of the lower, main, and upper diagonals \n",
    "for n in range(nx):\n",
    "    \n",
    "    # lower diagonal\n",
    "    if n > 0:\n",
    "        a[n] = Am[n,n-1]      # <== fill the blank\n",
    "    \n",
    "    # main diagonal\n",
    "    b[n] = Am[n,n]\n",
    "    \n",
    "    # upper diagonal\n",
    "    if n < nx-1:\n",
    "        c[n] = Am[n,n+1]     # <== fill the blank\n",
    "\n",
    "# tridiagonal matrix solver \n",
    "# forward sweep\n",
    "#print (a, b, c)\n",
    "\n",
    "\n",
    "cprime = np.zeros(nx-1)\n",
    "cprime[0] = c[0]/b[0]\n",
    "for n in range(1,nx-1):     # <== fill the blank\n",
    "    cprime[n] = c[n]/(b[n]-a[n]*cprime[n-1])    # <== fill the blank\n",
    "#print (cprime)\n",
    "\n",
    "dprime = np.zeros(nx)\n",
    "dprime[0] = d[0]/b[0]\n",
    "for n in range(1,nx):      # <== fill the blank\n",
    "    dprime[n] = (d[n]-a[n]*dprime[n-1])/(b[n]-a[n]*cprime[n-1])      # <== fill the blank\n",
    "#print (dprime)   \n",
    "# solving using backward substitute    \n",
    "sol = np.zeros(nx)\n",
    "sol[nx-1] = dprime[nx-1]\n",
    "for n in range(nx-2,-1,-1):     # <== fill the blank\n",
    "    sol[n] = dprime[n]-cprime[n]*sol[n+1]     # <== fill the blank\n",
    "#print (sol)\n",
    "\n",
    "# walltime after matrix solving\n",
    "cpu_tm_ed = tm.time()\n",
    "\n",
    "# plotting\n",
    "plt.plot(sol,'b:')\n",
    "\n",
    "# time for matrix solving\n",
    "print('time for tridiagonal matrix solver =',cpu_tm_ed - cpu_tm_bg)\n"
   ]
  },
  {
   "cell_type": "markdown",
   "metadata": {},
   "source": [
    "**What are the cpu times for the numpy matrix solver and your tridiagonal matrix solver?**"
   ]
  },
  {
   "cell_type": "markdown",
   "metadata": {},
   "source": [
    "**Your answer:** Matrix solver: 9.406058073043823\n",
    "Tridiagonal matrix solver: 0.036527156829833984"
   ]
  },
  {
   "cell_type": "markdown",
   "metadata": {},
   "source": [
    "---\n",
    "### Problem 2\n",
    "\n",
    "### In our previous in-class assignment (Day04), we have done the point-wise Jacobi relaxation method for solving a tridiagonal matrix. In this homework problem, we will do another point-wise relaxation method, the Gauss-Siedel relaxation method.\n",
    "\n",
    "The Gauss-Siedel method is very similar to the Jacobi method. The only difference is the follwoing. **The value at each grid point is immediately updated after it is calculated**. Thus, it is easy to modify a code of the Jacobi method to the Gauss-Siedel method.  **Modify the code of the Jacobi method (Day04 in-class) to use the Gauss-Siedel method. Compare the convergence rate between the Jacobi method and Gauss-Siedel method. **"
   ]
  },
  {
   "cell_type": "code",
   "execution_count": 24,
   "metadata": {},
   "outputs": [
    {
     "name": "stdout",
     "output_type": "stream",
     "text": [
      "44828 16.451772928237915 9.99955844036049e-06\n"
     ]
    },
    {
     "data": {
      "text/plain": [
       "[<matplotlib.lines.Line2D at 0x110a0ef60>]"
      ]
     },
     "execution_count": 24,
     "metadata": {},
     "output_type": "execute_result"
    },
    {
     "data": {
      "image/png": "[encoded data removed]",
      "text/plain": [
       "<Figure size 432x288 with 1 Axes>"
      ]
     },
     "metadata": {},
     "output_type": "display_data"
    }
   ],
   "source": [
    "# point-wise Jacobi\n",
    "\n",
    "import numpy as np\n",
    "import math\n",
    "\n",
    "import matplotlib.pyplot as plt\n",
    "%matplotlib inline\n",
    "\n",
    "import time as tm\n",
    "\n",
    "gpt = 201\n",
    "\n",
    "T = np.zeros(gpt)*0\n",
    "T_old = np.zeros(gpt)\n",
    "\n",
    "\n",
    "# boundary condition\n",
    "T[0] = 400\n",
    "T[gpt-1] = 10\n",
    "\n",
    "resd = np.zeros(gpt-1)\n",
    "\n",
    "nrm = []\n",
    "\n",
    "tbg = tm.time()\n",
    "\n",
    "iter = 1\n",
    "cnt = 1\n",
    "# while iter < 2:\n",
    "#T_old[0:gpt] = T[0:gpt]\n",
    "for iter in range(100000):\n",
    "    T_old[0:gpt] = T[0:gpt]\n",
    " \n",
    "    for i in range(1,gpt-1):\n",
    "        T[i] = (0 - (T_old[i-1]+T_old[i+1]))/(-2)\n",
    "        T_old[i] = T[i]\n",
    "    for i in range(1,gpt-1):\n",
    "        resd[i] = T[i-1]-2*T[i]+T[i+1]\n",
    "    \n",
    "    \n",
    "    nrm.append(np.linalg.norm(resd[1:gpt-1],2))\n",
    "    \n",
    "\n",
    "    if nrm[-1] < 1.0e-5:\n",
    "        break\n",
    "\n",
    "ted = tm.time()\n",
    "\n",
    "# print(ted-tbg,err,iter)\n",
    "print(iter,ted-tbg,nrm[-1])\n",
    "\n",
    "plt.plot(T,'.-')   "
   ]
  },
  {
   "cell_type": "markdown",
   "metadata": {},
   "source": [
    "**How many iterations does your code take to solve the matrix equation in poit-wise Gauss-Siedel relaxation? How long does your computer solve the equation? How much faster does the Gauss-Siedel method compared to the Jacobi method, in number of iterations and computer time? **"
   ]
  },
  {
   "cell_type": "markdown",
   "metadata": {},
   "source": [
    "**Your answer:** 44828 iterations are needed to take to solve the matrix equation in point-wise Gauss-Siedel relaxation. 16 seconds are taken to solve this equation.  While, 92558 iterations are needed to solve it in Point-wise Jacobi relaxation. and 30 seconds are needed to solve this equation.  Thus, Gauss-Siedel method seems to run twice as fast as Jacobi method."
   ]
  },
  {
   "cell_type": "markdown",
   "metadata": {},
   "source": [
    "**Convert your code to vectorized calculation for relaxation method. Run your code and see the time and number of iterations. Do your vectorized code run as Jacobi method or Gauss-Siedel method? What is your cpu time per iteration, comapred to the linear loop relaxation?**"
   ]
  },
  {
   "cell_type": "code",
   "execution_count": 26,
   "metadata": {},
   "outputs": [
    {
     "name": "stdout",
     "output_type": "stream",
     "text": [
      "92558 1.5780420303344727 9.999639812168847e-06\n"
     ]
    },
    {
     "data": {
      "text/plain": [
       "[<matplotlib.lines.Line2D at 0x110eee7b8>]"
      ]
     },
     "execution_count": 26,
     "metadata": {},
     "output_type": "execute_result"
    },
    {
     "data": {
      "image/png": "[encoded data removed]",
      "text/plain": [
       "<Figure size 432x288 with 1 Axes>"
      ]
     },
     "metadata": {},
     "output_type": "display_data"
    }
   ],
   "source": [
    "# ###############################\n",
    "# vectorized relaxation code\n",
    "# ###############################\n",
    "\n",
    "import numpy as np\n",
    "import math\n",
    "\n",
    "import matplotlib.pyplot as plt\n",
    "%matplotlib inline\n",
    "\n",
    "import time as tm\n",
    "\n",
    "gpt = 201\n",
    "\n",
    "T = np.zeros(gpt)*0\n",
    "T_old = np.zeros(gpt)\n",
    "\n",
    "\n",
    "# boundary condition\n",
    "T[0] = 400\n",
    "T[gpt-1] = 10\n",
    "\n",
    "resd = np.zeros(gpt-1)\n",
    "\n",
    "nrm = []\n",
    "\n",
    "tbg = tm.time()\n",
    "\n",
    "iter = 1\n",
    "cnt = 1\n",
    "# while iter < 2:\n",
    "#T_old[0:gpt] = T[0:gpt]\n",
    "for iter in range(100000):\n",
    "    T_old[0:gpt] = T[0:gpt]\n",
    " \n",
    "    T[1:gpt-1] = (0 - (T_old[0:gpt-2]+T_old[2:gpt]))/(-2)\n",
    "        \n",
    "    resd[1:gpt-1] = T[0:gpt-2]-2*T[1:gpt-1]+T[2:gpt]\n",
    "    \n",
    "    \n",
    "    nrm.append(np.linalg.norm(resd[1:gpt-1],2))\n",
    "    \n",
    "\n",
    "    if nrm[-1] < 1.0e-5:\n",
    "        break\n",
    "\n",
    "ted = tm.time()\n",
    "\n",
    "# print(ted-tbg,err,iter)\n",
    "print(iter,ted-tbg,nrm[-1])\n",
    "\n",
    "plt.plot(T,'.-')   \n"
   ]
  },
  {
   "cell_type": "markdown",
   "metadata": {},
   "source": [
    "**Your answer: ** I vectorized my code in Jacobi method, the iteration is still 92558, as expected and the same, but running time is 1.5780420303344727, which is approximately 1/20 as fast as orginal one. "
   ]
  },
  {
   "cell_type": "markdown",
   "metadata": {},
   "source": [
    "---\n",
    "### Problem 3:\n",
    "**In ionic solutions, cations and anions are driven by both diffusion and eletromigration, if convection is ignored. Their concentration evolution are governed by the Nernst-Planck equation:**\n",
    "\n",
    "$$\\frac{\\partial C_+}{\\partial t} = D_+ \\nabla^2 C_+ + m_+ \\nabla \\cdot C_+ \\nabla \\phi $$\n",
    "\n",
    "$$\\frac{\\partial C_-}{\\partial t} = D_- \\nabla^2 C_- - m_- \\nabla \\cdot C_- \\nabla \\phi, $$\n",
    "\n",
    "**where the electrical potential is governed by Poisson's equation:**\n",
    "\n",
    "$$ \\nabla^2 \\phi = - \\frac{\\rho}{\\varepsilon} = - \\frac{F}{\\varepsilon} (C_+ - C_- ). $$\n",
    "\n",
    "**The first and second terms on the right-hand side of the Nernst-Planck equation are the diffusion and migration terms.   **"
   ]
  },
  {
   "cell_type": "markdown",
   "metadata": {},
   "source": [
    "**<font color=red>Question</font>: Type the finite difference stencils for the three equations above. Central difference for spatial and Euler scheme for temporal discretizations.** \n",
    "\n",
    "Hint: The migration term is similar to the case of non-constant diffusivity problem in Part 3 of Day05 InClass Assignment. "
   ]
  },
  {
   "cell_type": "markdown",
   "metadata": {},
   "source": [
    "**Your answer:** $$\\frac{C_{i,j}^{n+1}-C_{i,j}^{n}}{\\Delta t} = D \\bigg( \\frac{C_{i-1,j}^n - 2 C_{i,j}^n + C_{i+1,j}^n}{\\Delta x^2} + \\frac{C_{i,j-1}^n - 2 C_{i,j}^n + C_{i,j+1}^n}{\\Delta y^2} \\bigg) + \\frac{m}{\\Delta x}\\bigg( \\frac{C_{i+1,j}+C_{i,j}}{2} \\cdot \\frac{\\phi_{i+1,j}^n - \\phi_{i,j}^n}{\\Delta x} - \\frac{C_{i,j}+C_{i-1,j}}{2} \\cdot \\frac{\\phi_{i,j}^n + \\phi_{i-1,j}^n}{\\Delta x}\\bigg) + \\\\  \\frac{m}{\\Delta y}\\bigg( \\frac{C_{i,j+1}+C_{i,j}}{2} \\cdot \\frac{\\phi_{i,j+1}^n - \\phi_{i,j}^n}{\\Delta y} - \\frac{C_{i,j}+C_{i,j-1}}{2} \\cdot \\frac{\\phi_{i,j}^n + \\phi_{i,j-1}^n}{\\Delta y}\\bigg)$$\n",
    "\n",
    "$$\\frac{\\phi_{i-1,j}-2\\phi_{i,j}+\\phi_{i+1,j}}{\\Delta x^2} + \\frac{\\phi_{i,j-1}-2\\phi_{i,j}+\\phi_{i,j+1}}{\\Delta y^2} = -\\frac{F}{\\epsilon}\\big(C_+-C_-\\big)$$\n",
    "\n",
    "As the first two equations are almost the same, I just wrote one."
   ]
  },
  {
   "cell_type": "markdown",
   "metadata": {},
   "source": [
    "**<font color=red>Question</font>: Now, let us simulate the cation and anion concentration evolution and electropoential in a 2D domain given below. Assume that $F/\\varepsilon = 20.$ We can use some Python functions previously developed for Day08 InClass assignment. Please load necessaray libraries, include functions (such as PoissonEqn_2d and Laplace_2d), and complete the missing code to make the main code work. **\n",
    "\n",
    "**The boundary conditions are as below.**\n",
    "\n",
    "$$\\phi = 10 ~~\\in~~ x = 0 ~~~~\\text{and}~~~~ \\phi = 0 ~~\\in~~ x = 4. $$\n",
    "\n",
    "$$\\frac{\\partial \\phi}{\\partial y} = 0 ~~\\in~~ y = 0 ~~~~\\text{and}~~~~\\frac{\\partial \\phi}{\\partial y} = 0 ~~\\in~~ y = 3. $$\n",
    "\n",
    "<img src=\"BC_phi.png\" alt = \"drawing\" width=400 align=\"center\"/>\n",
    "\n",
    "**No flux boundary conditions for $C_+$ and $C_-$ on the computational domain.**"
   ]
  },
  {
   "cell_type": "code",
   "execution_count": 21,
   "metadata": {},
   "outputs": [],
   "source": [
    "# load library\n",
    "import matplotlib.pyplot as plt\n",
    "from matplotlib import cm\n",
    "from mpl_toolkits.mplot3d import Axes3D\n",
    "from IPython.display import display, clear_output\n",
    "import numpy as np\n",
    "import time\n"
   ]
  },
  {
   "cell_type": "code",
   "execution_count": null,
   "metadata": {},
   "outputs": [
    {
     "data": {
      "image/png": "[encoded data removed]",
      "text/plain": [
       "<Figure size 540x972 with 6 Axes>"
      ]
     },
     "metadata": {},
     "output_type": "display_data"
    },
    {
     "name": "stdout",
     "output_type": "stream",
     "text": [
      "time =  0.22000000000000006\n"
     ]
    }
   ],
   "source": [
    "# #######################\n",
    "# main code\n",
    "# #######################\n",
    "\n",
    "# spatial discretization\n",
    "nx = 81+0\n",
    "Xg = np.linspace(0, 4, nx)\n",
    "\n",
    "ny = 61+0\n",
    "Yg = np.linspace(0, 3, ny)\n",
    "\n",
    "# meshgrid generate the x and y coordinates of the 2D grid system\n",
    "xmsh, ymsh = np.meshgrid(Xg, Yg)\n",
    "\n",
    "dx = Xg[2] - Xg[1]\n",
    "dy = Yg[2] - Yg[1]\n",
    "\n",
    "print('dx = ', dx, '; dy = ', dy)\n",
    "\n",
    "# potential field and charge density\n",
    "phi = np.zeros((ny,nx))\n",
    "\n",
    "dp_dx = np.zeros((ny,nx))\n",
    "dp_dy = np.zeros((ny,nx))\n",
    "\n",
    "# arrays for cation and anion concentrations\n",
    "Con_c = np.zeros((ny,nx))\n",
    "Con_a = np.zeros((ny,nx))\n",
    "\n",
    "# arrays for cation and anion migration terms\n",
    "dCdP_c = np.zeros((ny,nx))\n",
    "dCdP_a = np.zeros((ny,nx))\n",
    "\n",
    "# arrays for cation and anion diffusion terms\n",
    "Lp_c = np.zeros((ny,nx))\n",
    "Lp_a = np.zeros((ny,nx))\n",
    "\n",
    "b = np.zeros((ny,nx))\n",
    "\n",
    "# initial concentration \n",
    "Con_c[0:ny,0:nx] = np.exp( -((xmsh[0:ny,0:nx]-1.0)**2 + (ymsh[0:ny,0:nx]-1.2)**2)*40 )\n",
    "Con_a[0:ny,0:nx] = np.exp( -((xmsh[0:ny,0:nx]-3.0)**2 + (ymsh[0:ny,0:nx]-1.8)**2)*40 )\n",
    "\n",
    "\n",
    "# material parameters\n",
    "D_c = 0.1\n",
    "D_a = 0.075\n",
    "m_c = 1.0\n",
    "m_a = 0.75\n",
    "F_ep = 20.0\n",
    "\n",
    "tm = 0.0\n",
    "dt = 1.0e-2\n",
    "\n",
    "for iter in range(402):\n",
    "    \n",
    "\n",
    "    # Lap of cation concentration\n",
    "    Lp_c = Laplace_2d(nx,ny,dx,dy,Con_c)\n",
    "    Lp_a = Laplace_2d(nx,ny,dx,dy,Con_a)\n",
    "\n",
    "    # solving potential field\n",
    "    b[0:ny,0:nx] = -F_ep*(Con_c[0:ny,0:nx] - Con_a[0:ny,0:nx])\n",
    "    phi[0:ny,0:nx], cnt = PoissonEqn_2d(nx,ny,dx,dy,b[0:ny,0:nx],phi[0:ny,0:nx],1.0e-2)    \n",
    "    \n",
    "    # electro-migration term\n",
    "    dCdP_c = ScdDeriv_2d(nx,ny,dx,dy,Con_c,phi)\n",
    "    dCdP_a = ScdDeriv_2d(nx,ny,dx,dy,Con_a,phi)\n",
    "        \n",
    "\n",
    "    # update concentration\n",
    "    Con_c[1:ny-1,1:nx-1] = Con_c[1:ny-1,1:nx-1] + dt*(D_c*Lp_c[1:ny-1,1:nx-1] + m_c*dCdP_c[1:ny-1,1:nx-1])\n",
    "    Con_a[1:ny-1,1:nx-1] = Con_a[1:ny-1,1:nx-1] + dt*(D_a*Lp_a[1:ny-1,1:nx-1] - m_a*dCdP_a[1:ny-1,1:nx-1])\n",
    "    \n",
    "    # no-flux boundary conditions for Con_c and Con_a\n",
    "    # add your BCs below\n",
    "    for i in range(1,ny-1):\n",
    "        phi[i,0] = 10\n",
    "        phi[i,nx-1] = 0\n",
    "    for j in range(1,nx-1):\n",
    "        phi[0,j] = phi[1,j]\n",
    "        phi[ny-1,j] = phi[ny-2,j]\n",
    "    \n",
    "    \n",
    "    # update time\n",
    "    tm = tm + dt\n",
    "    # plotting results\n",
    "    \n",
    "    if iter%5 == 1:\n",
    "        plot_contr_2d(tm, xmsh, ymsh, Con_c, Con_a, phi) \n",
    "    "
   ]
  },
  {
   "cell_type": "code",
   "execution_count": 39,
   "metadata": {},
   "outputs": [],
   "source": [
    "# #######################################\n",
    "# function for plotting results\n",
    "# #######################################\n",
    "\n",
    "def plot_contr_2d(tm, xmsh, ymsh, Cc, Ca, p):\n",
    "    \n",
    "    clear_output(wait=True) # Clear output for dynamic display\n",
    "    \n",
    "    plt.figure(figsize=(7.5, 13.5))\n",
    "    # concetration of cation\n",
    "    plt.subplot(311)\n",
    "    plt.contourf(xmsh,ymsh,Con_c, 40,cmap=cm.jet, vmin=-0.02, vmax =1.02)\n",
    "    plt.colorbar()\n",
    "    plt.title('Con_c')\n",
    "\n",
    "    # concetration of anion\n",
    "    plt.subplot(312)\n",
    "    plt.contourf(xmsh,ymsh,Con_a, 40,cmap=cm.jet, vmin=-0.02, vmax =1.02)\n",
    "    plt.colorbar()\n",
    "    plt.title('Con_a')\n",
    "\n",
    "    # electropotential\n",
    "    plt.subplot(313)\n",
    "    plt.contourf(xmsh,ymsh,phi, 40,cmap=cm.jet)\n",
    "    plt.colorbar()\n",
    "    plt.title('phi')\n",
    "    \n",
    "    plt.show()\n",
    "    print('time = ', tm)\n",
    "    time.sleep(0.01)\n",
    "\n"
   ]
  },
  {
   "cell_type": "code",
   "execution_count": 23,
   "metadata": {},
   "outputs": [],
   "source": [
    "# #######################################\n",
    "# function for calculating the migration term\n",
    "# #######################################\n",
    "\n",
    "# input C is the concentration\n",
    "# input P is the electropotential\n",
    "\n",
    "def ScdDeriv_2d(nx,ny,dx,dy,C,P):\n",
    "\n",
    "    dCdP = np.zeros((ny,nx))\n",
    "    \n",
    "    dCdP[1:ny-1,1:nx-1] = ((C[2:ny,1:nx-1]+C[1:ny-1,1:nx-1])*(P[2:ny,1:nx-1]-P[1:ny-1,1:nx-1]) - \\\n",
    "                           (C[1:ny-1,1:nx-1]+C[0:ny-2,1:nx-1])*(P[1:ny-1,1:nx-1]-P[0:ny-2,1:nx-1]))/(2*dx**2) + \\\n",
    "                          ((C[1:ny-1,2:nx]+C[1:ny-1,1:nx-1])*(P[1:ny-1,2:nx]-P[1:ny-1,1:nx-1]) - \\\n",
    "                           (C[1:ny-1,1:nx-1]+C[1:ny-1,0:nx-2])*(P[1:ny-1,1:nx-1]-P[1:ny-1,0:nx-2]))/(2*dy**2)# <== fill the blank\n",
    "    \n",
    "    return dCdP"
   ]
  },
  {
   "cell_type": "code",
   "execution_count": 24,
   "metadata": {},
   "outputs": [],
   "source": [
    "# #######################################\n",
    "# function for calculating Laplace\n",
    "# #######################################\n",
    "def Laplace_2d(nx,ny,dx,dy,f):\n",
    "    \n",
    "    # complete the code\n",
    "    Lap = np.zeros((ny,nx))\n",
    "    \n",
    "    Lap[1:ny-1,1:nx-1] = (f[1:ny-1,0:nx-2] - 2*f[1:ny-1,1:nx-1] + f[1:ny-1,2:nx])/dy**2 + \\\n",
    "                         (f[0:ny-2,1:nx-1] - 2*f[1:ny-1,1:nx-1] + f[2:ny,1:nx-1])/dx**2\n",
    "\n",
    "    return Lap\n"
   ]
  },
  {
   "cell_type": "code",
   "execution_count": 25,
   "metadata": {},
   "outputs": [],
   "source": [
    "# #######################################\n",
    "# function for solving Poisson's equation\n",
    "# #######################################\n",
    "def PoissonEqn_2d(nx,ny,dx,dy,b,p,norm_target):\n",
    "    \n",
    "    resd = np.zeros((ny,nx))\n",
    "    tmp = np.zeros((ny,nx))\n",
    "    sol = np.zeros((ny,nx))\n",
    "    \n",
    "    cnt = 0\n",
    "    nrm = 1.0\n",
    "    while nrm > norm_target:\n",
    "        \n",
    "        # point-wise relaxation\n",
    "        p[1:ny-1,1:nx-1] = (-(dx**2)*(dy**2)*b[1:ny-1,1:nx-1]+dx**2*(p[1:ny-1,0:nx-2] + \\\n",
    "                           p[1:ny-1,2:nx])+dy**2*(p[0:ny-2,1:nx-1]+p[2:ny,1:nx-1])) \\\n",
    "                           /(2*(dx**2+dy**2))# <== fill the blank\n",
    "            \n",
    "        # boundary condition for pressure\n",
    "        p[1:ny-1,0]    = p[1:ny-1,1]         # at x = 0\n",
    "        p[1:ny-1,nx-1] = p[1:ny-1,nx-2]         # at x = 2\n",
    "        p[0,1:nx-1]    = p[1,1:nx-1]         # at y = 0\n",
    "        p[ny-1,1:nx-1]    = 0        # at y = 2\n",
    "        \n",
    "        \n",
    "        # residual\n",
    "        tmp = Laplace_2d(nx,ny,dx,dy,p)\n",
    "        resd[1:ny-1,1:nx-1] = tmp[1:ny-1,1:nx-1] - b[1:ny-1,1:nx-1]\n",
    "        nrm = np.linalg.norm(resd[1:ny-1,1:nx-1])\n",
    "        \n",
    "        cnt = cnt + 1\n",
    "    \n",
    "    sol = p\n",
    "\n",
    "    return sol, cnt\n",
    "\n"
   ]
  },
  {
   "cell_type": "markdown",
   "metadata": {},
   "source": [
    "### Congratulations, we're done!\n",
    "\n",
    "** Don't forget to add your names to the top!!**\n",
    "\n",
    "Log into the course D2L website (d2l.msu.edu) and go to \"Assessments > Assignments > Homework 02\"."
   ]
  },
  {
   "cell_type": "code",
   "execution_count": null,
   "metadata": {},
   "outputs": [],
   "source": []
  }
 ],
 "metadata": {
  "kernelspec": {
   "display_name": "Python 3",
   "language": "python",
   "name": "python3"
  },
  "language_info": {
   "codemirror_mode": {
    "name": "ipython",
    "version": 3
   },
   "file_extension": ".py",
   "mimetype": "text/x-python",
   "name": "python",
   "nbconvert_exporter": "python",
   "pygments_lexer": "ipython3",
   "version": "3.6.5"
  }
 },
 "nbformat": 4,
 "nbformat_minor": 2
}
