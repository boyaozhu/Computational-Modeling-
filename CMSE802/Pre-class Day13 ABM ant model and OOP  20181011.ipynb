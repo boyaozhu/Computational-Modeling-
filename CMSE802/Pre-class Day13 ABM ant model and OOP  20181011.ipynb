{
 "cells": [
  {
   "cell_type": "markdown",
   "metadata": {},
   "source": [
    "# CMSE 802 Pre-class assignment: Agent-Based Modeling and Object Oriented Programming \n",
    "## Date: 10/9/2018\n",
    "## Due: 10/10/2018; 10:30 PM\n",
    "\n",
    "### The goal of this assignment is to learn and get familiar with agent-based modeling of ant foraging."
   ]
  },
  {
   "cell_type": "markdown",
   "metadata": {},
   "source": [
    "---\n",
    "### Your name: Boyao Zhu"
   ]
  },
  {
   "cell_type": "markdown",
   "metadata": {},
   "source": [
    "---\n",
    "### Part 1: Study the code for ant-foraging model given below. Understand what each part of the code is doing. This practice will help you in developing your own ant-foraging model.  Write markdown comments after \"<i># ==></i>\" in the code. The markdown comments should be concise but with enough information for readers.  "
   ]
  },
  {
   "cell_type": "code",
   "execution_count": 2,
   "metadata": {},
   "outputs": [
    {
     "data": {
      "image/png": "[encoded data removed]",
      "text/plain": [
       "<Figure size 720x360 with 1 Axes>"
      ]
     },
     "metadata": {},
     "output_type": "display_data"
    },
    {
     "name": "stdout",
     "output_type": "stream",
     "text": [
      "499\n"
     ]
    },
    {
     "data": {
      "text/plain": [
       "<Figure size 720x360 with 0 Axes>"
      ]
     },
     "metadata": {},
     "output_type": "display_data"
    }
   ],
   "source": [
    "import matplotlib.pyplot as plt\n",
    "import random \n",
    "import numpy as np\n",
    "\n",
    "from IPython.display import display, clear_output\n",
    "import time\n",
    "\n",
    "\n",
    "# ==> initialize the amount of ants and dimension of space\n",
    "num_ants = 100\n",
    "x_dim = 70\n",
    "y_dim = 30\n",
    "\n",
    "# ==> create pheromones and food space (initialization)\n",
    "smell = np.zeros((x_dim,y_dim))\n",
    "food = np.zeros((x_dim,y_dim))\n",
    "\n",
    "# ==> create where the food is in the space\n",
    "food[45:50, 25:30] = 10\n",
    "food[60:65, 5:10] = 10\n",
    "\n",
    "# ==> initialized the position of ants\n",
    "ant_loc = np.zeros((num_ants,2))\n",
    "for a in range(num_ants):\n",
    "    ant_loc[a,0] = np.random.randint(0,x_dim)\n",
    "    ant_loc[a,1] = np.random.randint(0,y_dim)\n",
    "    \n",
    "# ==> inialized whether ants have food with it (0 initially)\n",
    "has_food = np.zeros(num_ants)\n",
    "\n",
    "directions = ['up', 'left', 'down', 'right']\n",
    "\n",
    "\n",
    "fig, ax = plt.subplots(figsize=(10,5))\n",
    "\n",
    "# Main simulation loop\n",
    "for i in range(500):\n",
    "    \n",
    "    # Loop over ants\n",
    "    for a in range(0,num_ants):\n",
    "        \n",
    "        # ==> get the position of an ant\n",
    "        x = int(ant_loc[a,0])\n",
    "        y = int(ant_loc[a,1]) \n",
    "    \n",
    "        # If ant is at home, put food down. The ant has no food carried on it. \n",
    "        if (x == 0 and y == 0):\n",
    "            has_food[a] = 0  \n",
    "            \n",
    "        # ==> for an ant with food\n",
    "        if (has_food[a] == 1):\n",
    "            \n",
    "            # ==> the way going back to home\n",
    "            pick = np.zeros(x + y)\n",
    "            pick[0:x] = 1          \n",
    "            if ( np.random.choice(pick) == 1 ):\n",
    "                x = x - 1\n",
    "            else:\n",
    "                y = y - 1\n",
    "\n",
    "            # Prevent ants from going out of bound.\n",
    "            if(x < 0):\n",
    "                x = 0\n",
    "            if(y < 0):\n",
    "                y = 0\n",
    "                \n",
    "            # ==> when an ant has food, it sends out the pheromones\n",
    "            smell[x, y] = smell[x, y] + 100    \n",
    "            \n",
    "        else:\n",
    "\n",
    "            # Check to see if there is pheromone around.\n",
    "            g = [] \n",
    "            m  = [] \n",
    "            \n",
    "            # ==> check if right direction has smell\n",
    "            if ( x + 1 < x_dim ):\n",
    "                if ( smell[x+1, y] > 0 ):\n",
    "                    m.append(smell[x+1, y])\n",
    "                    g.append('right')\n",
    "                    \n",
    "            # ==> check if up direction has smell \n",
    "            if ( y + 1 < y_dim ):\n",
    "                if ( smell[x, y+1] > 0 ):\n",
    "                    m.append(smell[x, y+1])\n",
    "                    g.append('up')\n",
    "                    \n",
    "                             \n",
    "            # ==> search direction       \n",
    "            if ( g != [] ):\n",
    "                grad = g[m.index(max(m))]\n",
    "            else:\n",
    "                grad = random.choice(directions)\n",
    "                \n",
    "            # Move the ant in one of the four directions.\n",
    "            if ( grad == 'up' ):\n",
    "                y = y + 1\n",
    "            elif ( grad == 'right' ):\n",
    "                x = x + 1\n",
    "            elif ( grad == 'down' ):\n",
    "                y = y - 1\n",
    "            elif ( grad == 'left' ):\n",
    "                x = x - 1\n",
    "            else:\n",
    "                print(grad)\n",
    "                print(\"ERROR!!!!!!!!!!!!\")\n",
    "\n",
    "                \n",
    "            # ==> set boundary\n",
    "            if ( x < 0 ):\n",
    "                x = 0\n",
    "            if ( y < 0 ):\n",
    "                y = 0\n",
    "            if ( x > x_dim - 1 ):\n",
    "                x = x_dim - 1\n",
    "            if ( y > y_dim - 1 ):\n",
    "                y = y_dim - 1\n",
    "    \n",
    "            # If an ant is on the grid with food, the ant picks food and food level is \n",
    "            # subtracted by 1.\n",
    "            if food[x, y] > 0:\n",
    "                has_food[a] = 1\n",
    "                food[x,y] = food[x,y] - 1\n",
    "                                \n",
    "        \n",
    "        # update ant location\n",
    "        ant_loc[a,0] = x\n",
    "        ant_loc[a,1] = y\n",
    "    \n",
    "    # ==> smell keeps deceasing\n",
    "    smell = smell - 1\n",
    "    smell[smell < 0] = 0\n",
    "    \n",
    "\n",
    "    # plot the universe\n",
    "    plt.imshow(50*food.T+smell.T, origin='lower', aspect='equal')\n",
    "    \n",
    "    for a in range(0,num_ants):\n",
    "        color = 'r'\n",
    "        if (has_food[a] == 1):\n",
    "            color = 'g'\n",
    "        plt.scatter(ant_loc[a,0], ant_loc[a,1], color=color)\n",
    "\n",
    "    # Animaiton part (dosn't change)\n",
    "    clear_output(wait=True) # Clear output for dynamic display\n",
    "    display(fig)            # Reset display\n",
    "    fig.clear()             # Prevent overlapping and layered plots\n",
    "    time.sleep(0.0001)      # Sleep for a fraction of a second to allow animation to catch up\n",
    "    \n",
    "    print(i)\n",
    "   "
   ]
  },
  {
   "cell_type": "markdown",
   "metadata": {
    "collapsed": true
   },
   "source": [
    "### Answer the following questions:\n",
    "1. Where is the ant home?\n",
    "1. What is the pheromones level on the ground right after ants crawl over?\n",
    "1. What is the evaporation rate of pheromone?"
   ]
  },
  {
   "cell_type": "markdown",
   "metadata": {},
   "source": [
    "**Your answer: **    1. origin\n",
    "2. 100\n",
    "3. -1"
   ]
  },
  {
   "cell_type": "markdown",
   "metadata": {},
   "source": [
    "---\n",
    "### Part 2: In your in-class assignment on 10/09 (Object-Oriented Programming), you have sketched your version of ant-foraging model. Compare to the one provide here, other than linear versus object-oriented progamming, (1) what are the differences in your model from mine?  List the differences and describe the improvement between yours and mine in the cell below. (2) What will you want to improve from your previous version of ant-foraging model?"
   ]
  },
  {
   "cell_type": "markdown",
   "metadata": {},
   "source": [
    "**Your answer: ** 1. I use class to create object, but you didn't\n",
    "2. No idea right now"
   ]
  },
  {
   "cell_type": "markdown",
   "metadata": {},
   "source": [
    "### I encourage you to think about how you will implement your ant model. Let's meet in the class and make it work."
   ]
  },
  {
   "cell_type": "markdown",
   "metadata": {},
   "source": [
    "---\n",
    "### Congratulations, you're done with your first pre-class assignment!\n",
    "\n",
    "Now, you just need to submit this assignment by uploading it to the course Desire2Learn web page.  Go to Assessments > Assignments, find the link for Pre-class assignment 20181010, and upload it there.\n",
    "\n",
    "\n",
    "See you in class!"
   ]
  },
  {
   "cell_type": "code",
   "execution_count": null,
   "metadata": {},
   "outputs": [],
   "source": []
  }
 ],
 "metadata": {
  "kernelspec": {
   "display_name": "Python 3",
   "language": "python",
   "name": "python3"
  },
  "language_info": {
   "codemirror_mode": {
    "name": "ipython",
    "version": 3
   },
   "file_extension": ".py",
   "mimetype": "text/x-python",
   "name": "python",
   "nbconvert_exporter": "python",
   "pygments_lexer": "ipython3",
   "version": "3.6.5"
  }
 },
 "nbformat": 4,
 "nbformat_minor": 2
}
