{
 "cells": [
  {
   "cell_type": "markdown",
   "metadata": {
    "collapsed": true
   },
   "source": [
    "# Homework 01: Euler Method and 1D PDE\n",
    "# Date: 09/20/2018\n",
    "# Due: 10/03/2018; 10:30 PM\n",
    "## Objectives: We will practice more on Euler's method for numerically solving ordinary differential equations."
   ]
  },
  {
   "cell_type": "markdown",
   "metadata": {},
   "source": [
    "---\n",
    "### Your name:"
   ]
  },
  {
   "cell_type": "markdown",
   "metadata": {},
   "source": [
    "---\n",
    "### Problem 1\n",
    "### Numerical stability of Euler's method. \n",
    "\n",
    "In order for the Euler's method to be numerically stable for simulating the 1st order reaction, $[A] = [A]_0 e^{-kt}$, the product of $\\Delta t $ and $k$ needs to be smaller than 1. Let test this stability criterion for the code that we have in Part 1 in Day02 In-Class assginment ($[A]_0 = 0.1$ mol/dm$^3$ and $k = 1.0^{-3}$ s$^{-1}$). Set $\\Delta t = 800$, 1800, and 2200 s$^{-1}$. Run your code for 20 iteration steps, and plot your results."
   ]
  },
  {
   "cell_type": "code",
   "execution_count": null,
   "metadata": {},
   "outputs": [],
   "source": [
    "# write your code here\n",
    "\n"
   ]
  },
  {
   "cell_type": "markdown",
   "metadata": {},
   "source": [
    "### In which case the result is unstable? Why? Give your answer in the cell below."
   ]
  },
  {
   "cell_type": "markdown",
   "metadata": {},
   "source": [
    "**Your answer:**"
   ]
  },
  {
   "cell_type": "markdown",
   "metadata": {},
   "source": [
    "---\n",
    "### Problem 2\n",
    "Consider a simple example of consecutive reactions:\n",
    "$A \\rightarrow B \\rightarrow P$, where the reaction from A to B and the reaction from B to P are first order. However, the concentration of B depends on both the formation and consumption of B. Here, the rate equations for reactant A, reactant B, and product P are given as\n",
    "\n",
    "$\\frac{d[A]}{dt} = - k_1 [A],~~~~~\\frac{d[B]}{dt} = k_1 [A] - k_2 [B] ,~~~~~\\frac{d[P]}{dt}  = k_2 [B]$.\n",
    "\n",
    "Set [A]$_0$ = 1 mol/dm$^3$, [B]$_0$ = [C]$_0$ = 0, $k_1 = 1^{-2}$ s$^{-1}$ and $k_2 = 1^{-3}$ s$^{-1}$. Using Euler's method, calculate the concentrations of the reactants and product over a period of 5000 seconds."
   ]
  },
  {
   "cell_type": "code",
   "execution_count": null,
   "metadata": {
    "collapsed": true
   },
   "outputs": [],
   "source": [
    "# write you code here\n",
    "\n",
    "\n"
   ]
  },
  {
   "cell_type": "markdown",
   "metadata": {},
   "source": [
    "### Give a brief description of your result of the concentration evolution in the markdown cell below."
   ]
  },
  {
   "cell_type": "markdown",
   "metadata": {},
   "source": [
    "**Your answer:**"
   ]
  },
  {
   "cell_type": "markdown",
   "metadata": {},
   "source": [
    "---\n",
    "### Problem 3\n",
    "\n",
    "Consider a consecutive reaction as the following.\n",
    "\n",
    "$A \\rightarrow B,~~~~~ r_1 = k_1 [A]$\n",
    "\n",
    "$B \\rightarrow C,~~~~~ r_2 = k_2 [B]$\n",
    "\n",
    "$B + 2C \\rightarrow 3C, ~~~~~ r_3 = k_3 [B] [C]^2$\n",
    "\n",
    "$C \\rightarrow P, ~~~~~ r_4 = k_4 [C]$\n",
    "\n",
    "The unique point of this set of reactions is that, in reaction 3, the product from the previous reaction acts as a reactant, which accelerates the consumption of reactant B in reaction 2. This is called a feedback in reaction. Initially, the batch reactor contains only A with concentration of 0.1 mol/dm$^3$. The reaction constants are assumed to be $k_1 = 10^{-3}$ s$^{-1}$, $k_2 = 10^{-2}$ s$^{-1}$, $k_3 = 2.5 \\times 10^9$ s$^{-1}\\cdot$dm$^6$, and $k_4 = 1.0$ s$^{-1}$."
   ]
  },
  {
   "cell_type": "markdown",
   "metadata": {},
   "source": [
    "### The rate equations for the three reactants and product: \n",
    "\n",
    "The rate equations for A and B are given below. For reactant B, its increase of concentration is governed by the first chemical formula above, and the decrease of concentration is governed by the second and third chemical formulas above. \n",
    "\n",
    "$\\frac{d[A]}{dt} = -k_1 [A]$\n",
    "\n",
    "$\\frac{d[B]}{dt} = k_1 [A] - k_2 [B] - k_3 [B] [C]^2$\n",
    "\n",
    "$\\frac{d[C]}{dt} = k_2[B] + k_3 [B] [C]^2  - k_4 [C] $\n",
    "\n",
    "$\\frac{d[P]}{dt} = k_4 [C] $"
   ]
  },
  {
   "cell_type": "markdown",
   "metadata": {},
   "source": [
    "### Write a Python program to track the concentration evolution of the three reactants and product over a period of 5000 s. You may want to use a time step smaller than 0.01. Plot your results."
   ]
  },
  {
   "cell_type": "code",
   "execution_count": null,
   "metadata": {
    "collapsed": true
   },
   "outputs": [],
   "source": [
    "# write your code here\n",
    "\n"
   ]
  },
  {
   "cell_type": "markdown",
   "metadata": {},
   "source": [
    "### Do you notice the oscillations in the concentrations of B and C between 2000 and 4000 seconds? Are they numerical instabilities or physical? Explain your answer in the cell below."
   ]
  },
  {
   "cell_type": "markdown",
   "metadata": {},
   "source": [
    "**Your answer:**"
   ]
  },
  {
   "cell_type": "markdown",
   "metadata": {},
   "source": [
    "---\n",
    "### Problem 4\n",
    "\n",
    "Diffusion phenomena are typically governed by Fick's law (Adolf Fick 1855). In 1D, it is\n",
    "\n",
    "$$\\frac{\\partial C}{\\partial t} = D \\frac{\\partial^2 C}{\\partial x^2},$$\n",
    "\n",
    "where $C$ and $D$ are the concentration and diffusivity, respectively. \n",
    "\n",
    "For the diffusion equation in an infinite domain and with a point source as the initial concentration, the analytical solution exists as\n",
    "\n",
    "$$C = \\sqrt{\\frac{t_0}{t}}exp \\bigg( \\frac{-(x-x_0)^2}{4Dt} \\bigg),$$\n",
    "\n",
    "where $x_0$ is the position of the point source. \n",
    "\n",
    "Let us simulate a diffusion process in a 1D domain. Similar to the code in Part 1 of Day05 in-class assignment, the domain size is 5 cm and the diffusivity is $10^{-5}$ cm$^2$/s. Set $t_0 = 500$ s to generate the initial concentration profile.\n",
    "\n",
    "**Write a Python code to simulating the concentration evolution. Over plot the analytical solution on your result. Plot the concentration profiles at 4800, 9600, 19200, 38400, 76800, and 153600 seconds; namely, $4800\\times(2^i)$ for $i$ = 0 to 5.**"
   ]
  },
  {
   "cell_type": "code",
   "execution_count": null,
   "metadata": {
    "collapsed": true
   },
   "outputs": [],
   "source": [
    "# Write your code here\n",
    "\n",
    "\n"
   ]
  },
  {
   "cell_type": "markdown",
   "metadata": {},
   "source": [
    "** Do your first three results agree well with the analytical ones? How about the last three?  What is the major difference between the last three sets of numerical and the analytical results? **"
   ]
  },
  {
   "cell_type": "markdown",
   "metadata": {},
   "source": [
    "**Your answer:**"
   ]
  },
  {
   "cell_type": "markdown",
   "metadata": {},
   "source": [
    "---\n",
    "### Congratulations, we're done!\n",
    "\n",
    "** Don't forget to add your names to the top!!**\n",
    "\n",
    "Log into the course D2L website (d2l.msu.edu) and go to \"Assessments > Assignments > Homework01 20181005\"."
   ]
  },
  {
   "cell_type": "code",
   "execution_count": null,
   "metadata": {
    "collapsed": true
   },
   "outputs": [],
   "source": []
  }
 ],
 "metadata": {
  "kernelspec": {
   "display_name": "Python 3",
   "language": "python",
   "name": "python3"
  },
  "language_info": {
   "codemirror_mode": {
    "name": "ipython",
    "version": 3
   },
   "file_extension": ".py",
   "mimetype": "text/x-python",
   "name": "python",
   "nbconvert_exporter": "python",
   "pygments_lexer": "ipython3",
   "version": "3.6.5"
  }
 },
 "nbformat": 4,
 "nbformat_minor": 2
}
