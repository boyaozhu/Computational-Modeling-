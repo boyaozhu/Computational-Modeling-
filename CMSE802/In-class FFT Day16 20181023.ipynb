{
 "cells": [
  {
   "cell_type": "markdown",
   "metadata": {},
   "source": [
    "# CMSE 802 In-class assignment: Fast Fourier Transform (FFT)\n",
    "## Date: 10/23/2018\n",
    "## Due: 10/23/2018; 10:30 PM\n",
    "\n",
    "## The goal of this assignment is to do some practice on the application of FFT.\n",
    "\n",
    "<img src=\"http://groups.csail.mit.edu/netmit/wordpress/wp-content/themes/netmit/images/sFFT.png\"><a href=\"http://groups.csail.mit.edu/netmit/wordpress/projects/sparse-fourier-transform/\"><p style=\"text-align: right;\">\n",
    "Image from http://groups.csail.mit.edu/netmit\n",
    "</p></a>\n"
   ]
  },
  {
   "cell_type": "markdown",
   "metadata": {},
   "source": [
    "---\n",
    "### Your name: Boyao Zhu\n",
    "    "
   ]
  },
  {
   "cell_type": "markdown",
   "metadata": {},
   "source": [
    "-----\n",
    "### 1. NOAA Temperature Example\n",
    "We will use some of the extensive datasets available at the National Oceanic and Atmospheric Administration (NOAA). \n",
    "<a href=\"http://www.noaa.gov/\"><img width=100 align='right' src=\"http://www.nssl.noaa.gov/projects/debrisflow09/NOAA%20Circle.gif\"></a>\n",
    "\n",
    "### Download the data\n",
    "We are going to use a web scrapper (modified from the scraper we used in WebCrawler).  Download the **noaa_scraper.py** file from the class D2L site. "
   ]
  },
  {
   "cell_type": "code",
   "execution_count": 1,
   "metadata": {},
   "outputs": [],
   "source": [
    "%matplotlib inline \n",
    "import matplotlib.pyplot as plt\n",
    "\n",
    "from noaa_scraper import get_noaa_temperatures"
   ]
  },
  {
   "cell_type": "markdown",
   "metadata": {},
   "source": [
    "** Question 1:** With your group, do a code review of the contents of the **noaa_scraper.py** file and figure out what it does. What are the main part of this module and what do they do?"
   ]
  },
  {
   "cell_type": "markdown",
   "metadata": {},
   "source": [
    "** your answer: ** The main purpose of this code is to get the NOAA air temperature from a given website"
   ]
  },
  {
   "cell_type": "markdown",
   "metadata": {},
   "source": [
    "** Question 2:** Please run the cell below and describe the steps that the function **get_noaa_temperatures** follows."
   ]
  },
  {
   "cell_type": "markdown",
   "metadata": {},
   "source": [
    "** your answer: ** The function 'get_noaa_temperatures'  calls the web crawler, and the crawler visits the NOAA website and gets all of the data files.  The function \"get_airtemperature_from_files\" opens all files and reads the data with the function 'read_data_column'.  And it returns an array of air temperatures."
   ]
  },
  {
   "cell_type": "code",
   "execution_count": 2,
   "metadata": {},
   "outputs": [
    {
     "data": {
      "application/vnd.jupyter.widget-view+json": {
       "model_id": "3d1b6f0851504c86ac71d700a13bc1a9",
       "version_major": 2,
       "version_minor": 0
      },
      "text/plain": [
       "FloatProgress(value=0.0)"
      ]
     },
     "metadata": {},
     "output_type": "display_data"
    },
    {
     "name": "stdout",
     "output_type": "stream",
     "text": [
      "FOUND  http://www1.ncdc.noaa.gov/pub/data/uscrn/products/subhourly01/2007/CRNS0101-05-2007-MI_Gaylord_9_SSW.txt\n",
      "file exists... ./data/CRNS0101-05-2007-MI_Gaylord_9_SSW.txt\n",
      "FOUND  http://www1.ncdc.noaa.gov/pub/data/uscrn/products/subhourly01/2008/CRNS0101-05-2008-MI_Gaylord_9_SSW.txt\n",
      "file exists... ./data/CRNS0101-05-2008-MI_Gaylord_9_SSW.txt\n",
      "FOUND  http://www1.ncdc.noaa.gov/pub/data/uscrn/products/subhourly01/2009/CRNS0101-05-2009-MI_Gaylord_9_SSW.txt\n",
      "file exists... ./data/CRNS0101-05-2009-MI_Gaylord_9_SSW.txt\n",
      "FOUND  http://www1.ncdc.noaa.gov/pub/data/uscrn/products/subhourly01/2010/CRNS0101-05-2010-MI_Gaylord_9_SSW.txt\n",
      "file exists... ./data/CRNS0101-05-2010-MI_Gaylord_9_SSW.txt\n",
      "FOUND  http://www1.ncdc.noaa.gov/pub/data/uscrn/products/subhourly01/2011/CRNS0101-05-2011-MI_Gaylord_9_SSW.txt\n",
      "file exists... ./data/CRNS0101-05-2011-MI_Gaylord_9_SSW.txt\n",
      "FOUND  http://www1.ncdc.noaa.gov/pub/data/uscrn/products/subhourly01/2012/CRNS0101-05-2012-MI_Gaylord_9_SSW.txt\n",
      "file exists... ./data/CRNS0101-05-2012-MI_Gaylord_9_SSW.txt\n",
      "FOUND  http://www1.ncdc.noaa.gov/pub/data/uscrn/products/subhourly01/2013/CRNS0101-05-2013-MI_Gaylord_9_SSW.txt\n",
      "file exists... ./data/CRNS0101-05-2013-MI_Gaylord_9_SSW.txt\n",
      "FOUND  http://www1.ncdc.noaa.gov/pub/data/uscrn/products/subhourly01/2014/CRNS0101-05-2014-MI_Gaylord_9_SSW.txt\n",
      "file exists... ./data/CRNS0101-05-2014-MI_Gaylord_9_SSW.txt\n",
      "FOUND  http://www1.ncdc.noaa.gov/pub/data/uscrn/products/subhourly01/2015/CRNS0101-05-2015-MI_Gaylord_9_SSW.txt\n",
      "file exists... ./data/CRNS0101-05-2015-MI_Gaylord_9_SSW.txt\n",
      "FOUND  http://www1.ncdc.noaa.gov/pub/data/uscrn/products/subhourly01/2016/CRNS0101-05-2016-MI_Gaylord_9_SSW.txt\n",
      "file exists... ./data/CRNS0101-05-2016-MI_Gaylord_9_SSW.txt\n",
      "FOUND  http://www1.ncdc.noaa.gov/pub/data/uscrn/products/subhourly01/2017/CRNS0101-05-2017-MI_Gaylord_9_SSW.txt\n",
      "file exists... ./data/CRNS0101-05-2017-MI_Gaylord_9_SSW.txt\n",
      "FOUND  http://www1.ncdc.noaa.gov/pub/data/uscrn/products/subhourly01/2018/CRNS0101-05-2018-MI_Gaylord_9_SSW.txt\n",
      "file exists... ./data/CRNS0101-05-2018-MI_Gaylord_9_SSW.txt\n"
     ]
    },
    {
     "data": {
      "application/vnd.jupyter.widget-view+json": {
       "model_id": "e371cf0151f247b8910b4894c47fdaa7",
       "version_major": 2,
       "version_minor": 0
      },
      "text/plain": [
       "FloatProgress(value=0.0, max=12.0)"
      ]
     },
     "metadata": {},
     "output_type": "display_data"
    },
    {
     "name": "stdout",
     "output_type": "stream",
     "text": [
      "reading... ./data/CRNS0101-05-2007-MI_Gaylord_9_SSW.txt\n",
      "reading... ./data/CRNS0101-05-2008-MI_Gaylord_9_SSW.txt\n",
      "reading... ./data/CRNS0101-05-2009-MI_Gaylord_9_SSW.txt\n",
      "reading... ./data/CRNS0101-05-2010-MI_Gaylord_9_SSW.txt\n",
      "reading... ./data/CRNS0101-05-2011-MI_Gaylord_9_SSW.txt\n",
      "reading... ./data/CRNS0101-05-2012-MI_Gaylord_9_SSW.txt\n",
      "reading... ./data/CRNS0101-05-2013-MI_Gaylord_9_SSW.txt\n",
      "reading... ./data/CRNS0101-05-2014-MI_Gaylord_9_SSW.txt\n",
      "reading... ./data/CRNS0101-05-2015-MI_Gaylord_9_SSW.txt\n",
      "reading... ./data/CRNS0101-05-2016-MI_Gaylord_9_SSW.txt\n",
      "reading... ./data/CRNS0101-05-2017-MI_Gaylord_9_SSW.txt\n",
      "reading... ./data/CRNS0101-05-2018-MI_Gaylord_9_SSW.txt\n"
     ]
    },
    {
     "data": {
      "text/plain": [
       "[<matplotlib.lines.Line2D at 0x11206fc88>]"
      ]
     },
     "execution_count": 2,
     "metadata": {},
     "output_type": "execute_result"
    },
    {
     "data": {
      "image/png": "[encoded data removed]",
      "text/plain": [
       "<Figure size 432x288 with 1 Axes>"
      ]
     },
     "metadata": {},
     "output_type": "display_data"
    }
   ],
   "source": [
    "air_temperatures = get_noaa_temperatures('http://www1.ncdc.noaa.gov/pub/data/uscrn/products/subhourly01/', 'Gaylord', 100)\n",
    "plt.plot(air_temperatures)\n"
   ]
  },
  {
   "cell_type": "markdown",
   "metadata": {},
   "source": [
    "**Question 3:** What is the time period over which the data was sampled?"
   ]
  },
  {
   "cell_type": "markdown",
   "metadata": {},
   "source": [
    "** your answer: ** 2007 to 2018"
   ]
  },
  {
   "cell_type": "markdown",
   "metadata": {},
   "source": [
    "**Question 4:** What is the sampling rate (how often) the data taken? "
   ]
  },
  {
   "cell_type": "markdown",
   "metadata": {},
   "source": [
    "** your answer: ** 5 minutes"
   ]
  },
  {
   "cell_type": "markdown",
   "metadata": {},
   "source": [
    "**Question 5:**  Describe the the periodic nature of the signal. Can you think of natural factors that would cause this periodicity?"
   ]
  },
  {
   "cell_type": "markdown",
   "metadata": {},
   "source": [
    "** your answer: ** the peaks reflect the seasonal temperature cycles."
   ]
  },
  {
   "cell_type": "markdown",
   "metadata": {},
   "source": [
    "---\n",
    "### 2. FFT of the NOAA data\n",
    "\n",
    "**Task 1:** Using what we learned in the pre-class assignment, calculate the Fast Fourier Transform of the (NOAA) surface temperature data and display it in the frequency domain. Remember that the frequency domain is symmetric so go ahead and just display the first half. "
   ]
  },
  {
   "cell_type": "code",
   "execution_count": 39,
   "metadata": {},
   "outputs": [
    {
     "data": {
      "text/plain": [
       "[<matplotlib.lines.Line2D at 0x12a64a400>]"
      ]
     },
     "execution_count": 39,
     "metadata": {},
     "output_type": "execute_result"
    },
    {
     "data": {
      "image/png": "[encoded data removed]",
      "text/plain": [
       "<Figure size 432x288 with 1 Axes>"
      ]
     },
     "metadata": {},
     "output_type": "display_data"
    },
    {
     "data": {
      "image/png": "[encoded data removed]",
      "text/plain": [
       "<Figure size 432x288 with 1 Axes>"
      ]
     },
     "metadata": {},
     "output_type": "display_data"
    }
   ],
   "source": [
    "# your code here:\n",
    "import numpy as np\n",
    "PyFs = np.fft.fft(air_temperatures)\n",
    "plt.figure()\n",
    "plt.plot(abs(PyFs[:int(len(air_temperatures)/12000)]))\n",
    "plt.figure()\n",
    "plt.plot(abs(PyFs[:int(len(air_temperatures)/120)]))"
   ]
  },
  {
   "cell_type": "markdown",
   "metadata": {},
   "source": [
    "**Question 6:**  As a group, discuss the above graph. Is it what you expected?  Can you tell where the largest frequencies contributing to the signal are? "
   ]
  },
  {
   "cell_type": "markdown",
   "metadata": {},
   "source": [
    "** your answer: ** I did expect peaks for the annual and daily temperature cycles, but i didn't realized they would be so hard to find."
   ]
  },
  {
   "cell_type": "markdown",
   "metadata": {},
   "source": [
    "**Task 2:**\n",
    "As a group, write some code to calculate the five largest frequencies in the frequency space (make sure you ignore symmetry). \n",
    "\n",
    "HINT:  Try using the numpy argsort function.  Google it if you need to. "
   ]
  },
  {
   "cell_type": "code",
   "execution_count": 40,
   "metadata": {},
   "outputs": [
    {
     "name": "stdout",
     "output_type": "stream",
     "text": [
      "0\n",
      "11\n",
      "4052\n",
      "8\n",
      "5\n",
      "(50637886.08+0j)\n",
      "(4122160.570624949+13654937.045526547j)\n",
      "(1623252.74067713-1715060.3899250054j)\n",
      "(756413.1054759554+608683.9715534896j)\n",
      "(690170.4475172095-127173.87486300405j)\n"
     ]
    }
   ],
   "source": [
    "# your code here:\n",
    "a = np.argsort(PyFs[:int(len(air_temperatures)/2)])\n",
    "\n",
    "print (a[-1])\n",
    "print (a[-2])\n",
    "print (a[-3])\n",
    "print (a[-4])\n",
    "print (a[-5])\n",
    "\n",
    "\n",
    "print (PyFs[a[-1]])\n",
    "print (PyFs[a[-2]])\n",
    "print (PyFs[a[-3]])\n",
    "print (PyFs[a[-4]])\n",
    "print (PyFs[a[-5]])\n"
   ]
  },
  {
   "cell_type": "markdown",
   "metadata": {},
   "source": [
    "**Question 7:** Why is there a spike around 10 in this data? What happened 10 times?"
   ]
  },
  {
   "cell_type": "markdown",
   "metadata": {},
   "source": [
    "** your answer: ** because the frequency '10' contribute dominantly in air temperature"
   ]
  },
  {
   "cell_type": "markdown",
   "metadata": {},
   "source": [
    "**Question 8:** Why is there a spike of over 3000 in this data? What happened ~ 3000 times?"
   ]
  },
  {
   "cell_type": "markdown",
   "metadata": {},
   "source": [
    "** your answer: ** same answer as in question 7."
   ]
  },
  {
   "cell_type": "markdown",
   "metadata": {},
   "source": [
    "---\n",
    "### Denoising in the Frequency domain\n",
    "\n",
    "**Task 3:** As a group, modify the frequency space to remove the smallest frequencies impact the signal.  Try zeroing out those other than the 10 biggest contributions. \n",
    "\n",
    "HINT: You don't need to write loops (although you can). Remember you can assign a group if indexes in a numpy array: See the following example:"
   ]
  },
  {
   "cell_type": "code",
   "execution_count": 18,
   "metadata": {},
   "outputs": [
    {
     "data": {
      "text/plain": [
       "[<matplotlib.lines.Line2D at 0x12a8b6da0>]"
      ]
     },
     "execution_count": 18,
     "metadata": {},
     "output_type": "execute_result"
    },
    {
     "data": {
      "image/png": "[encoded data removed]",
      "text/plain": [
       "<Figure size 432x288 with 1 Axes>"
      ]
     },
     "metadata": {},
     "output_type": "display_data"
    }
   ],
   "source": [
    "#Example numpy range assignment\n",
    "example = np.zeros(100)\n",
    "example[1:50] = 10\n",
    "plt.plot(example)"
   ]
  },
  {
   "cell_type": "code",
   "execution_count": 36,
   "metadata": {},
   "outputs": [
    {
     "name": "stdout",
     "output_type": "stream",
     "text": [
      "[50637886.08           +0.j                0.             +0.j\n",
      "        0.             +0.j                0.             +0.j\n",
      "   622278.67356539+411728.23279394j   690170.44751721-127173.874863j\n",
      "        0.             +0.j                0.             +0.j\n",
      "   756413.10547596+608683.97155349j        0.             +0.j        ]\n"
     ]
    }
   ],
   "source": [
    "# your code here:\n",
    "a_smallest = a[:-10]\n",
    "PyFs[a_smallest] = 0\n",
    "print (PyFs[:10])"
   ]
  },
  {
   "cell_type": "markdown",
   "metadata": {},
   "source": [
    "**Task 4:** Do an \"inverse Fourier Transform\" to the cleaned up data.  Plot the resulting data in the time domain."
   ]
  },
  {
   "cell_type": "code",
   "execution_count": 41,
   "metadata": {},
   "outputs": [
    {
     "name": "stderr",
     "output_type": "stream",
     "text": [
      "/anaconda3/lib/python3.6/site-packages/numpy/core/numeric.py:492: ComplexWarning: Casting complex values to real discards the imaginary part\n",
      "  return array(a, dtype, copy=False, order=order)\n"
     ]
    },
    {
     "data": {
      "text/plain": [
       "[<matplotlib.lines.Line2D at 0x12a9e2dd8>]"
      ]
     },
     "execution_count": 41,
     "metadata": {},
     "output_type": "execute_result"
    },
    {
     "data": {
      "image/png": "[encoded data removed]",
      "text/plain": [
       "<Figure size 432x288 with 1 Axes>"
      ]
     },
     "metadata": {},
     "output_type": "display_data"
    }
   ],
   "source": [
    "# your code here:\n",
    "\n",
    "yy = np.fft.ifft(PyFs)\n",
    "plt.plot(yy)"
   ]
  },
  {
   "cell_type": "markdown",
   "metadata": {},
   "source": [
    "### Congratulations, we're done!\n",
    "\n",
    "** Don't forget to add your names to the top!!**\n",
    "\n",
    "Log into the course D2L website (d2l.msu.edu) and go to \"Assessments > Assignments > In-class Assignment 20181023\"."
   ]
  },
  {
   "cell_type": "code",
   "execution_count": null,
   "metadata": {
    "collapsed": true
   },
   "outputs": [],
   "source": []
  }
 ],
 "metadata": {
  "kernelspec": {
   "display_name": "Python 3",
   "language": "python",
   "name": "python3"
  },
  "language_info": {
   "codemirror_mode": {
    "name": "ipython",
    "version": 3
   },
   "file_extension": ".py",
   "mimetype": "text/x-python",
   "name": "python",
   "nbconvert_exporter": "python",
   "pygments_lexer": "ipython3",
   "version": "3.6.5"
  }
 },
 "nbformat": 4,
 "nbformat_minor": 2
}
