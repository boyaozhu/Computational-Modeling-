{
 "cells": [
  {
   "cell_type": "markdown",
   "metadata": {},
   "source": [
    "# Homework 06: PCA, FFT and ML\n",
    "\n",
    "# Date: 11/28/2018\n",
    "# Due: 12/14/2018; 10:30 PM\n",
    "\n",
    "## Objectives: We will practice on PCA and machine learning.\n",
    "\n",
    "You are encouraged to discuss problems with your classmates, but it is required that you write your answer individually."
   ]
  },
  {
   "cell_type": "markdown",
   "metadata": {},
   "source": [
    "---\n",
    "### Your name: Boyao Zhu"
   ]
  },
  {
   "cell_type": "markdown",
   "metadata": {},
   "source": [
    "---\n",
    "## Problem 1\n",
    "\n",
    "In this assignment we will demistify PCA by implementing each step separately.\n",
    "\n",
    "At the end of the assignment we will see an example of how PCA (+ SVM: supported vector machines) can be used to model the problem of face recognition with success rates of around 80%.\n",
    "\n",
    "There are exactly 5 cells in which to complete code. This practice is quite similar to the pre-class assignment of PCA, but with a bigger data space.\n",
    "\n"
   ]
  },
  {
   "cell_type": "code",
   "execution_count": 1,
   "metadata": {},
   "outputs": [
    {
     "data": {
      "image/png": "[encoded data removed]",
      "text/plain": [
       "<Figure size 432x216 with 1 Axes>"
      ]
     },
     "metadata": {},
     "output_type": "display_data"
    }
   ],
   "source": [
    "# load in modules \n",
    "\n",
    "import numpy as np\n",
    "\n",
    "import scipy.linalg\n",
    "\n",
    "import sklearn\n",
    "import sklearn.decomposition as dec\n",
    "import sklearn.datasets as ds\n",
    "\n",
    "import matplotlib.pyplot as plt\n",
    "%matplotlib inline\n",
    "\n",
    "# load the data iris data set (for more details about this data set, see the Day 2 in-class activity)\n",
    "\n",
    "iris = ds.load_iris()\n",
    "X = iris.data\n",
    "y = iris.target\n",
    "\n",
    "# Now a scatter plot with the first 2 variables (sepal length, sepal width) from the data \n",
    "\n",
    "plt.figure(figsize=(6,3));\n",
    "\n",
    "plt.scatter( X[:,0], X[:,1], c=y, s=30, cmap=plt.cm.rainbow );\n"
   ]
  },
  {
   "cell_type": "markdown",
   "metadata": {},
   "source": [
    "### Step 1:\n",
    "Center (also referred to as standarize) the data"
   ]
  },
  {
   "cell_type": "code",
   "execution_count": 2,
   "metadata": {},
   "outputs": [
    {
     "name": "stdout",
     "output_type": "stream",
     "text": [
      "(150, 4)\n"
     ]
    }
   ],
   "source": [
    "# code cell 1 of 5\n",
    "\n",
    "# Please provide code below to center the data. The result should be in an array X_cent with the same size as X\n",
    "from sklearn import preprocessing\n",
    "X_cent = preprocessing.scale(X)\n",
    "print (X_cent.shape)"
   ]
  },
  {
   "cell_type": "markdown",
   "metadata": {},
   "source": [
    "### Step 2:\n",
    "Compute the covariance matrix of the standariezed data"
   ]
  },
  {
   "cell_type": "code",
   "execution_count": 3,
   "metadata": {},
   "outputs": [
    {
     "name": "stdout",
     "output_type": "stream",
     "text": [
      "[[150.         -16.40538749 130.7631236  122.69304501]\n",
      " [-16.40538749 150.         -63.07741446 -53.48161344]\n",
      " [130.7631236  -63.07741446 150.         144.41356456]\n",
      " [122.69304501 -53.48161344 144.41356456 150.        ]]\n"
     ]
    }
   ],
   "source": [
    "# code cell 2 of 5\n",
    "\n",
    "# Please provide code below to compute the covariance matrix Cov \n",
    "\n",
    "Cov = np.matmul(X_cent.T,X_cent)\n",
    "print (Cov)\n"
   ]
  },
  {
   "cell_type": "markdown",
   "metadata": {},
   "source": [
    "### Step 3:\n",
    "Compute the eigenvectors and eingevalues of the covariance matrix. In addition, sort them from largest to smallest eigenvalue."
   ]
  },
  {
   "cell_type": "code",
   "execution_count": 4,
   "metadata": {},
   "outputs": [
    {
     "name": "stdout",
     "output_type": "stream",
     "text": [
      "[[ 0.52237162 -0.37231836 -0.72101681  0.26199559]\n",
      " [-0.26335492 -0.92555649  0.24203288 -0.12413481]\n",
      " [ 0.58125401 -0.02109478  0.14089226 -0.80115427]\n",
      " [ 0.56561105 -0.06541577  0.6338014   0.52354627]]\n"
     ]
    }
   ],
   "source": [
    "# code cell 3 of 5\n",
    "\n",
    "# Please provide code below to compute the eigenvectors and eigenvalues of the covariance matrix. \n",
    "# make sure that the eigenvectors, and eigenvalues, are sorted from largest to smallest eigenvalue.\n",
    "w , v = np.linalg.eig(Cov)\n",
    "idx = w.argsort()[::-1]\n",
    "eig_vectors = v[:,idx]\n",
    "\n",
    "eig_values  = w[idx]\n",
    "\n",
    "# The ordered eigenvectors are the principal components of the data. \n",
    "print (eig_vectors)"
   ]
  },
  {
   "cell_type": "markdown",
   "metadata": {},
   "source": [
    "### Step 4:\n",
    "\n",
    "Represent the centered data with respect to the computed components.\n",
    "\n",
    "Here is a bit of linear algebra magic: Recall that two vectors $u,v \\in \\mathbb{R}^d$ are said to be **orthonormal** if each one has length 1: $\\|u\\| = \\|v\\| = 1$, and they are perpendicular: *dot_product*$(u,v) = 0$. If $v_1,\\ldots, v_d$ is a basis for \n",
    "$\\mathbb{R}^d$ then every vector $v\\in \\mathbb{R}^d$ can be written as $$v = a_1 v_1 + \\cdots + a_d v_d $$ for unique \n",
    "scalars $a_1,\\ldots, a_d \\in \\mathbb{R}$. These scalars are called the **coefficients of $v$ with respect to the basis  $v_1,\\ldots, v_d$**.\n",
    "To find these coefficients one would have to solve a d-by-d system of linear equations, but if the \n",
    "$v_i$'s are orthonormal then the computation is a lot easier: $$a_i = \\mbox{dot_product}(v,v_i) \\;\\;\\;\\;\\;  i =1,\\ldots, d$$"
   ]
  },
  {
   "cell_type": "code",
   "execution_count": 5,
   "metadata": {},
   "outputs": [
    {
     "name": "stdout",
     "output_type": "stream",
     "text": [
      "[[ 1.00000000e+00  1.11022302e-16  4.44089210e-16  0.00000000e+00]\n",
      " [ 1.11022302e-16  1.00000000e+00  1.11022302e-16  1.52655666e-16]\n",
      " [ 4.44089210e-16  1.11022302e-16  1.00000000e+00 -8.88178420e-16]\n",
      " [ 0.00000000e+00  1.52655666e-16 -8.88178420e-16  1.00000000e+00]]\n"
     ]
    }
   ],
   "source": [
    "# code cell 4 of 5\n",
    "# Please check that the eigenvectors computed above are orthonormal. Hint: This can be achieved using matrix multiplication.\n",
    "\n",
    "eig_h = eig_vectors.T\n",
    "\n",
    "M = np.matmul(eig_h,eig_vectors)\n",
    "\n",
    "diag = np.diag(np.diag(M))\n",
    "of_diag = M - diag\n",
    "print (M)\n",
    "\n",
    "# elements on diagonal is 1, while the ones on off diagonal is e-16, which are numerical error."
   ]
  },
  {
   "cell_type": "code",
   "execution_count": 6,
   "metadata": {},
   "outputs": [],
   "source": [
    "# code cell 5 of 5\n",
    "\n",
    "# Please provide code below to compute the coefficients of (the rows of) X_cent \n",
    "# with respect to the basis of eigenvectors eig_vectors computed above.\n",
    "\n",
    "\n",
    "\n",
    "# The result should be in an array X_pca. Hint: use matrix multiplication \n",
    "\n",
    "X_pca = np.matmul(X_cent,eig_vectors)\n"
   ]
  },
  {
   "cell_type": "markdown",
   "metadata": {},
   "source": [
    "### Step 5:\n",
    "\n",
    "Visualize the data with respect to its principal components. If everything went well, when you run the code below it should show the data represented in terms of its first two principal components."
   ]
  },
  {
   "cell_type": "code",
   "execution_count": 7,
   "metadata": {},
   "outputs": [
    {
     "data": {
      "text/plain": [
       "<matplotlib.collections.PathCollection at 0x10ce3e518>"
      ]
     },
     "execution_count": 7,
     "metadata": {},
     "output_type": "execute_result"
    },
    {
     "data": {
      "image/png": "[encoded data removed]",
      "text/plain": [
       "<Figure size 432x216 with 1 Axes>"
      ]
     },
     "metadata": {},
     "output_type": "display_data"
    }
   ],
   "source": [
    "plt.figure(figsize=(6,3));\n",
    "plt.scatter(X_pca[:,0], X_pca[:,1], c=y, s=30, cmap=plt.cm.rainbow)"
   ]
  },
  {
   "cell_type": "markdown",
   "metadata": {},
   "source": [
    "---\n",
    "## Problem 2\n",
    "\n",
    "In this assignment we will learn about model selection. In data rich environments one often uses a portion of the data for training purposes, but if the model itself includes parameters then it is important to have a systematic procedure for making these choices. Moreover, once the parameters have been chosen and the model trained, it is important to report an unbiased expected prediction accuracy of what we've built. This assignment explores these issues.\n",
    "\n",
    "We will be training several models with a large data set, which might take some time. Please plan your schedule accordingly.\n"
   ]
  },
  {
   "cell_type": "markdown",
   "metadata": {},
   "source": [
    "### Step 1\n",
    "Load the libraries needed for this work."
   ]
  },
  {
   "cell_type": "code",
   "execution_count": 8,
   "metadata": {},
   "outputs": [],
   "source": [
    "# Your code:\n",
    "\n",
    "from sklearn.model_selection import train_test_split\n",
    "from noaa_scraper import get_noaa_temperatures"
   ]
  },
  {
   "cell_type": "markdown",
   "metadata": {},
   "source": [
    "Load NOAA temperature data. Since the the data for 2007 and 2018 are incomplete for a full year, we shall use data from 2008 to 2017. "
   ]
  },
  {
   "cell_type": "code",
   "execution_count": 9,
   "metadata": {},
   "outputs": [
    {
     "data": {
      "application/vnd.jupyter.widget-view+json": {
       "model_id": "183bd665ef644cdb9a13dfbb95c18c1b",
       "version_major": 2,
       "version_minor": 0
      },
      "text/plain": [
       "FloatProgress(value=0.0)"
      ]
     },
     "metadata": {},
     "output_type": "display_data"
    },
    {
     "name": "stdout",
     "output_type": "stream",
     "text": [
      "FOUND  http://www1.ncdc.noaa.gov/pub/data/uscrn/products/subhourly01/2007/CRNS0101-05-2007-MI_Gaylord_9_SSW.txt\n",
      "file exists... ./data/CRNS0101-05-2007-MI_Gaylord_9_SSW.txt\n",
      "FOUND  http://www1.ncdc.noaa.gov/pub/data/uscrn/products/subhourly01/2008/CRNS0101-05-2008-MI_Gaylord_9_SSW.txt\n",
      "file exists... ./data/CRNS0101-05-2008-MI_Gaylord_9_SSW.txt\n",
      "FOUND  http://www1.ncdc.noaa.gov/pub/data/uscrn/products/subhourly01/2009/CRNS0101-05-2009-MI_Gaylord_9_SSW.txt\n",
      "file exists... ./data/CRNS0101-05-2009-MI_Gaylord_9_SSW.txt\n",
      "FOUND  http://www1.ncdc.noaa.gov/pub/data/uscrn/products/subhourly01/2010/CRNS0101-05-2010-MI_Gaylord_9_SSW.txt\n",
      "file exists... ./data/CRNS0101-05-2010-MI_Gaylord_9_SSW.txt\n",
      "FOUND  http://www1.ncdc.noaa.gov/pub/data/uscrn/products/subhourly01/2011/CRNS0101-05-2011-MI_Gaylord_9_SSW.txt\n",
      "file exists... ./data/CRNS0101-05-2011-MI_Gaylord_9_SSW.txt\n",
      "FOUND  http://www1.ncdc.noaa.gov/pub/data/uscrn/products/subhourly01/2012/CRNS0101-05-2012-MI_Gaylord_9_SSW.txt\n",
      "file exists... ./data/CRNS0101-05-2012-MI_Gaylord_9_SSW.txt\n",
      "FOUND  http://www1.ncdc.noaa.gov/pub/data/uscrn/products/subhourly01/2013/CRNS0101-05-2013-MI_Gaylord_9_SSW.txt\n",
      "file exists... ./data/CRNS0101-05-2013-MI_Gaylord_9_SSW.txt\n",
      "FOUND  http://www1.ncdc.noaa.gov/pub/data/uscrn/products/subhourly01/2014/CRNS0101-05-2014-MI_Gaylord_9_SSW.txt\n",
      "file exists... ./data/CRNS0101-05-2014-MI_Gaylord_9_SSW.txt\n",
      "FOUND  http://www1.ncdc.noaa.gov/pub/data/uscrn/products/subhourly01/2015/CRNS0101-05-2015-MI_Gaylord_9_SSW.txt\n",
      "file exists... ./data/CRNS0101-05-2015-MI_Gaylord_9_SSW.txt\n",
      "FOUND  http://www1.ncdc.noaa.gov/pub/data/uscrn/products/subhourly01/2016/CRNS0101-05-2016-MI_Gaylord_9_SSW.txt\n",
      "file exists... ./data/CRNS0101-05-2016-MI_Gaylord_9_SSW.txt\n",
      "FOUND  http://www1.ncdc.noaa.gov/pub/data/uscrn/products/subhourly01/2017/CRNS0101-05-2017-MI_Gaylord_9_SSW.txt\n",
      "file exists... ./data/CRNS0101-05-2017-MI_Gaylord_9_SSW.txt\n",
      "FOUND  http://www1.ncdc.noaa.gov/pub/data/uscrn/products/subhourly01/2018/CRNS0101-05-2018-MI_Gaylord_9_SSW.txt\n",
      "file exists... ./data/CRNS0101-05-2018-MI_Gaylord_9_SSW.txt\n"
     ]
    },
    {
     "data": {
      "application/vnd.jupyter.widget-view+json": {
       "model_id": "2a5a508c559f4adcaf5985835494d079",
       "version_major": 2,
       "version_minor": 0
      },
      "text/plain": [
       "FloatProgress(value=0.0, max=12.0)"
      ]
     },
     "metadata": {},
     "output_type": "display_data"
    },
    {
     "name": "stdout",
     "output_type": "stream",
     "text": [
      "reading... ./data/CRNS0101-05-2007-MI_Gaylord_9_SSW.txt\n",
      "reading... ./data/CRNS0101-05-2008-MI_Gaylord_9_SSW.txt\n",
      "reading... ./data/CRNS0101-05-2009-MI_Gaylord_9_SSW.txt\n",
      "reading... ./data/CRNS0101-05-2010-MI_Gaylord_9_SSW.txt\n",
      "reading... ./data/CRNS0101-05-2011-MI_Gaylord_9_SSW.txt\n",
      "reading... ./data/CRNS0101-05-2012-MI_Gaylord_9_SSW.txt\n",
      "reading... ./data/CRNS0101-05-2013-MI_Gaylord_9_SSW.txt\n",
      "reading... ./data/CRNS0101-05-2014-MI_Gaylord_9_SSW.txt\n",
      "reading... ./data/CRNS0101-05-2015-MI_Gaylord_9_SSW.txt\n",
      "reading... ./data/CRNS0101-05-2016-MI_Gaylord_9_SSW.txt\n",
      "reading... ./data/CRNS0101-05-2017-MI_Gaylord_9_SSW.txt\n",
      "reading... ./data/CRNS0101-05-2018-MI_Gaylord_9_SSW.txt\n"
     ]
    },
    {
     "data": {
      "text/plain": [
       "[<matplotlib.lines.Line2D at 0x1a194fb6d8>]"
      ]
     },
     "execution_count": 9,
     "metadata": {},
     "output_type": "execute_result"
    },
    {
     "data": {
      "image/png": "[encoded data removed]",
      "text/plain": [
       "<Figure size 432x288 with 1 Axes>"
      ]
     },
     "metadata": {},
     "output_type": "display_data"
    }
   ],
   "source": [
    "# Your code:\n",
    "\n",
    "air_temperatures = get_noaa_temperatures('http://www1.ncdc.noaa.gov/pub/data/uscrn/products/subhourly01/', 'Gaylord', 100)\n",
    "plt.plot(air_temperatures)\n"
   ]
  },
  {
   "cell_type": "code",
   "execution_count": 17,
   "metadata": {},
   "outputs": [
    {
     "data": {
      "text/plain": [
       "[<matplotlib.lines.Line2D at 0x1a345ef828>]"
      ]
     },
     "execution_count": 17,
     "metadata": {},
     "output_type": "execute_result"
    },
    {
     "data": {
      "image/png": "[encoded data removed]",
      "text/plain": [
       "<Figure size 432x288 with 1 Axes>"
      ]
     },
     "metadata": {},
     "output_type": "display_data"
    }
   ],
   "source": [
    "air_temperature = air_temperatures[50000:1090000]\n",
    "plt.plot(air_temperature)"
   ]
  },
  {
   "cell_type": "markdown",
   "metadata": {},
   "source": [
    "### Step 2\n",
    "\n",
    "Divide the data into 3 portions: the first (years 2008~2015) will be the **training set**, the next (year 2016) will be the **validation set** and the last (year 2017) will be the **testing set**. "
   ]
  },
  {
   "cell_type": "code",
   "execution_count": 18,
   "metadata": {},
   "outputs": [],
   "source": [
    "T2008_2015 = air_temperature[0:850000]\n",
    "T2016 = air_temperature[850000:940000]\n",
    "T2017 = air_temperature[940000:]\n"
   ]
  },
  {
   "cell_type": "code",
   "execution_count": 28,
   "metadata": {},
   "outputs": [],
   "source": [
    "# Your code:\n",
    "training_set = T2008_2015\n",
    "validation_set = T2016\n",
    "testing_set = T2017\n"
   ]
  },
  {
   "cell_type": "markdown",
   "metadata": {},
   "source": [
    "\n",
    "\n",
    "### Step 3:\n",
    "\n",
    "Recall that if the training set has *n_training* observations, then the parameter *n_harmonics* in the function \n",
    "**fourierExtrapolation** can take values between 1 and * int(n_training/2) *.\n",
    "\n",
    "**a)** Training a first model: Choose a number of harmonics, and set  *n_predictions* appropriately so that using the  *training set* you can predict the values for the *validation set*. Train the model resulting from these choices using the **fourierExtrapolation** function from previous class.\n",
    "\n",
    "**Here,** we should modify the fourierExtrapolation code such that the most influential frequencies are used in the Fourier transform, which is similar to what we did in the previous in-class work."
   ]
  },
  {
   "cell_type": "code",
   "execution_count": 22,
   "metadata": {},
   "outputs": [],
   "source": [
    "# Your code:\n",
    "import numpy as np\n",
    "from numpy import fft\n",
    "\n",
    "import matplotlib.pyplot as plt\n",
    "%matplotlib notebook\n",
    "\n",
    "#following are needed for the progress bar\n",
    "from ipywidgets import FloatProgress\n",
    "#from IPython.display import display\n",
    "    \n",
    "def fourierExtrapolation(data, n_predictions, n_harmonics, de_trend):\n",
    "    \n",
    "    n = data.size\n",
    "    t = np.arange(0, n)\n",
    "    \n",
    "    if de_trend:\n",
    "        p = np.polyfit(t, data, 1)            # find linear trend in data\n",
    "        data_notrend = data - p[0] * t        # detrended data\n",
    "    else:\n",
    "        p = np.array([0])\n",
    "        data_notrend = data\n",
    "        \n",
    "    \n",
    "    data_freqdom = fft.fft(data_notrend)  # data in frequency domain\n",
    "    f = fft.fftfreq(n)                    # frequencies\n",
    "\n",
    "    indexes = list(range(n))\n",
    " \n",
    "    t = np.arange(0, n + n_predictions)  # extended sampling interval\n",
    "    \n",
    "    fitted_signal = np.zeros(t.size)      \n",
    "    \n",
    "    progressBar = FloatProgress(min=0, max=1 + n_harmonics * 2)\n",
    "    display(progressBar)\n",
    "    progressBar.value = 0\n",
    "       \n",
    "    for i in indexes[:1 + n_harmonics * 2]:\n",
    "        \n",
    "        progressBar.value += 1\n",
    "        \n",
    "        ampli = np.absolute(data_freqdom[i]) / n   # amplitude\n",
    "        \n",
    "        phase = np.angle(data_freqdom[i])          # phase\n",
    "        \n",
    "        fitted_signal += ampli * np.cos(2 * np.pi * f[i] * t + phase)\n",
    "    \n",
    "    return fitted_signal + p[0] * t\n"
   ]
  },
  {
   "cell_type": "markdown",
   "metadata": {},
   "source": [
    "**b)** Suppose one has observations $x_0,\\ldots, x_n$ and that these values haven been predicted as \n",
    "$\\tilde{x}_0 ,\\ldots, \\tilde{x}_n$ using some model (e.g., Fourier Extrapolation). The **Mean Squared Error** associated\n",
    "to these predictions is defined as \n",
    "$$\\mathbf{MSE} = \\frac{1}{n} \\sum_{j=0}^n (x_j - \\tilde{x}_j)^2 $$\n",
    "\n",
    "Using the model from part a) and the function **mean_squared_error**\n",
    "from the **scikit-learn** library, calculate/report the associated mean squared error for:\n",
    "1. Fitting the training set: ** training error ** \n",
    "1. Predicting the validation set: ** validation error **"
   ]
  },
  {
   "cell_type": "code",
   "execution_count": 23,
   "metadata": {},
   "outputs": [
    {
     "data": {
      "application/vnd.jupyter.widget-view+json": {
       "model_id": "a306bc5407914ef8ae7c15be086bde2d",
       "version_major": 2,
       "version_minor": 0
      },
      "text/plain": [
       "FloatProgress(value=0.0, max=21.0)"
      ]
     },
     "metadata": {},
     "output_type": "display_data"
    },
    {
     "data": {
      "application/javascript": [
       "/* Put everything inside the global mpl namespace */\n",
       "window.mpl = {};\n",
       "\n",
       "\n",
       "mpl.get_websocket_type = function() {\n",
       "    if (typeof(WebSocket) !== 'undefined') {\n",
       "        return WebSocket;\n",
       "    } else if (typeof(MozWebSocket) !== 'undefined') {\n",
       "        return MozWebSocket;\n",
       "    } else {\n",
       "        alert('Your browser does not have WebSocket support.' +\n",
       "              'Please try Chrome, Safari or Firefox ≥ 6. ' +\n",
       "              'Firefox 4 and 5 are also supported but you ' +\n",
       "              'have to enable WebSockets in about:config.');\n",
       "    };\n",
       "}\n",
       "\n",
       "mpl.figure = function(figure_id, websocket, ondownload, parent_element) {\n",
       "    this.id = figure_id;\n",
       "\n",
       "    this.ws = websocket;\n",
       "\n",
       "    this.supports_binary = (this.ws.binaryType != undefined);\n",
       "\n",
       "    if (!this.supports_binary) {\n",
       "        var warnings = document.getElementById(\"mpl-warnings\");\n",
       "        if (warnings) {\n",
       "            warnings.style.display = 'block';\n",
       "            warnings.textContent = (\n",
       "                \"This browser does not support binary websocket messages. \" +\n",
       "                    \"Performance may be slow.\");\n",
       "        }\n",
       "    }\n",
       "\n",
       "    this.imageObj = new Image();\n",
       "\n",
       "    this.context = undefined;\n",
       "    this.message = undefined;\n",
       "    this.canvas = undefined;\n",
       "    this.rubberband_canvas = undefined;\n",
       "    this.rubberband_context = undefined;\n",
       "    this.format_dropdown = undefined;\n",
       "\n",
       "    this.image_mode = 'full';\n",
       "\n",
       "    this.root = $('<div/>');\n",
       "    this._root_extra_style(this.root)\n",
       "    this.root.attr('style', 'display: inline-block');\n",
       "\n",
       "    $(parent_element).append(this.root);\n",
       "\n",
       "    this._init_header(this);\n",
       "    this._init_canvas(this);\n",
       "    this._init_toolbar(this);\n",
       "\n",
       "    var fig = this;\n",
       "\n",
       "    this.waiting = false;\n",
       "\n",
       "    this.ws.onopen =  function () {\n",
       "            fig.send_message(\"supports_binary\", {value: fig.supports_binary});\n",
       "            fig.send_message(\"send_image_mode\", {});\n",
       "            if (mpl.ratio != 1) {\n",
       "                fig.send_message(\"set_dpi_ratio\", {'dpi_ratio': mpl.ratio});\n",
       "            }\n",
       "            fig.send_message(\"refresh\", {});\n",
       "        }\n",
       "\n",
       "    this.imageObj.onload = function() {\n",
       "            if (fig.image_mode == 'full') {\n",
       "                // Full images could contain transparency (where diff images\n",
       "                // almost always do), so we need to clear the canvas so that\n",
       "                // there is no ghosting.\n",
       "                fig.context.clearRect(0, 0, fig.canvas.width, fig.canvas.height);\n",
       "            }\n",
       "            fig.context.drawImage(fig.imageObj, 0, 0);\n",
       "        };\n",
       "\n",
       "    this.imageObj.onunload = function() {\n",
       "        fig.ws.close();\n",
       "    }\n",
       "\n",
       "    this.ws.onmessage = this._make_on_message_function(this);\n",
       "\n",
       "    this.ondownload = ondownload;\n",
       "}\n",
       "\n",
       "mpl.figure.prototype._init_header = function() {\n",
       "    var titlebar = $(\n",
       "        '<div class=\"ui-dialog-titlebar ui-widget-header ui-corner-all ' +\n",
       "        'ui-helper-clearfix\"/>');\n",
       "    var titletext = $(\n",
       "        '<div class=\"ui-dialog-title\" style=\"width: 100%; ' +\n",
       "        'text-align: center; padding: 3px;\"/>');\n",
       "    titlebar.append(titletext)\n",
       "    this.root.append(titlebar);\n",
       "    this.header = titletext[0];\n",
       "}\n",
       "\n",
       "\n",
       "\n",
       "mpl.figure.prototype._canvas_extra_style = function(canvas_div) {\n",
       "\n",
       "}\n",
       "\n",
       "\n",
       "mpl.figure.prototype._root_extra_style = function(canvas_div) {\n",
       "\n",
       "}\n",
       "\n",
       "mpl.figure.prototype._init_canvas = function() {\n",
       "    var fig = this;\n",
       "\n",
       "    var canvas_div = $('<div/>');\n",
       "\n",
       "    canvas_div.attr('style', 'position: relative; clear: both; outline: 0');\n",
       "\n",
       "    function canvas_keyboard_event(event) {\n",
       "        return fig.key_event(event, event['data']);\n",
       "    }\n",
       "\n",
       "    canvas_div.keydown('key_press', canvas_keyboard_event);\n",
       "    canvas_div.keyup('key_release', canvas_keyboard_event);\n",
       "    this.canvas_div = canvas_div\n",
       "    this._canvas_extra_style(canvas_div)\n",
       "    this.root.append(canvas_div);\n",
       "\n",
       "    var canvas = $('<canvas/>');\n",
       "    canvas.addClass('mpl-canvas');\n",
       "    canvas.attr('style', \"left: 0; top: 0; z-index: 0; outline: 0\")\n",
       "\n",
       "    this.canvas = canvas[0];\n",
       "    this.context = canvas[0].getContext(\"2d\");\n",
       "\n",
       "    var backingStore = this.context.backingStorePixelRatio ||\n",
       "\tthis.context.webkitBackingStorePixelRatio ||\n",
       "\tthis.context.mozBackingStorePixelRatio ||\n",
       "\tthis.context.msBackingStorePixelRatio ||\n",
       "\tthis.context.oBackingStorePixelRatio ||\n",
       "\tthis.context.backingStorePixelRatio || 1;\n",
       "\n",
       "    mpl.ratio = (window.devicePixelRatio || 1) / backingStore;\n",
       "\n",
       "    var rubberband = $('<canvas/>');\n",
       "    rubberband.attr('style', \"position: absolute; left: 0; top: 0; z-index: 1;\")\n",
       "\n",
       "    var pass_mouse_events = true;\n",
       "\n",
       "    canvas_div.resizable({\n",
       "        start: function(event, ui) {\n",
       "            pass_mouse_events = false;\n",
       "        },\n",
       "        resize: function(event, ui) {\n",
       "            fig.request_resize(ui.size.width, ui.size.height);\n",
       "        },\n",
       "        stop: function(event, ui) {\n",
       "            pass_mouse_events = true;\n",
       "            fig.request_resize(ui.size.width, ui.size.height);\n",
       "        },\n",
       "    });\n",
       "\n",
       "    function mouse_event_fn(event) {\n",
       "        if (pass_mouse_events)\n",
       "            return fig.mouse_event(event, event['data']);\n",
       "    }\n",
       "\n",
       "    rubberband.mousedown('button_press', mouse_event_fn);\n",
       "    rubberband.mouseup('button_release', mouse_event_fn);\n",
       "    // Throttle sequential mouse events to 1 every 20ms.\n",
       "    rubberband.mousemove('motion_notify', mouse_event_fn);\n",
       "\n",
       "    rubberband.mouseenter('figure_enter', mouse_event_fn);\n",
       "    rubberband.mouseleave('figure_leave', mouse_event_fn);\n",
       "\n",
       "    canvas_div.on(\"wheel\", function (event) {\n",
       "        event = event.originalEvent;\n",
       "        event['data'] = 'scroll'\n",
       "        if (event.deltaY < 0) {\n",
       "            event.step = 1;\n",
       "        } else {\n",
       "            event.step = -1;\n",
       "        }\n",
       "        mouse_event_fn(event);\n",
       "    });\n",
       "\n",
       "    canvas_div.append(canvas);\n",
       "    canvas_div.append(rubberband);\n",
       "\n",
       "    this.rubberband = rubberband;\n",
       "    this.rubberband_canvas = rubberband[0];\n",
       "    this.rubberband_context = rubberband[0].getContext(\"2d\");\n",
       "    this.rubberband_context.strokeStyle = \"#000000\";\n",
       "\n",
       "    this._resize_canvas = function(width, height) {\n",
       "        // Keep the size of the canvas, canvas container, and rubber band\n",
       "        // canvas in synch.\n",
       "        canvas_div.css('width', width)\n",
       "        canvas_div.css('height', height)\n",
       "\n",
       "        canvas.attr('width', width * mpl.ratio);\n",
       "        canvas.attr('height', height * mpl.ratio);\n",
       "        canvas.attr('style', 'width: ' + width + 'px; height: ' + height + 'px;');\n",
       "\n",
       "        rubberband.attr('width', width);\n",
       "        rubberband.attr('height', height);\n",
       "    }\n",
       "\n",
       "    // Set the figure to an initial 600x600px, this will subsequently be updated\n",
       "    // upon first draw.\n",
       "    this._resize_canvas(600, 600);\n",
       "\n",
       "    // Disable right mouse context menu.\n",
       "    $(this.rubberband_canvas).bind(\"contextmenu\",function(e){\n",
       "        return false;\n",
       "    });\n",
       "\n",
       "    function set_focus () {\n",
       "        canvas.focus();\n",
       "        canvas_div.focus();\n",
       "    }\n",
       "\n",
       "    window.setTimeout(set_focus, 100);\n",
       "}\n",
       "\n",
       "mpl.figure.prototype._init_toolbar = function() {\n",
       "    var fig = this;\n",
       "\n",
       "    var nav_element = $('<div/>')\n",
       "    nav_element.attr('style', 'width: 100%');\n",
       "    this.root.append(nav_element);\n",
       "\n",
       "    // Define a callback function for later on.\n",
       "    function toolbar_event(event) {\n",
       "        return fig.toolbar_button_onclick(event['data']);\n",
       "    }\n",
       "    function toolbar_mouse_event(event) {\n",
       "        return fig.toolbar_button_onmouseover(event['data']);\n",
       "    }\n",
       "\n",
       "    for(var toolbar_ind in mpl.toolbar_items) {\n",
       "        var name = mpl.toolbar_items[toolbar_ind][0];\n",
       "        var tooltip = mpl.toolbar_items[toolbar_ind][1];\n",
       "        var image = mpl.toolbar_items[toolbar_ind][2];\n",
       "        var method_name = mpl.toolbar_items[toolbar_ind][3];\n",
       "\n",
       "        if (!name) {\n",
       "            // put a spacer in here.\n",
       "            continue;\n",
       "        }\n",
       "        var button = $('<button/>');\n",
       "        button.addClass('ui-button ui-widget ui-state-default ui-corner-all ' +\n",
       "                        'ui-button-icon-only');\n",
       "        button.attr('role', 'button');\n",
       "        button.attr('aria-disabled', 'false');\n",
       "        button.click(method_name, toolbar_event);\n",
       "        button.mouseover(tooltip, toolbar_mouse_event);\n",
       "\n",
       "        var icon_img = $('<span/>');\n",
       "        icon_img.addClass('ui-button-icon-primary ui-icon');\n",
       "        icon_img.addClass(image);\n",
       "        icon_img.addClass('ui-corner-all');\n",
       "\n",
       "        var tooltip_span = $('<span/>');\n",
       "        tooltip_span.addClass('ui-button-text');\n",
       "        tooltip_span.html(tooltip);\n",
       "\n",
       "        button.append(icon_img);\n",
       "        button.append(tooltip_span);\n",
       "\n",
       "        nav_element.append(button);\n",
       "    }\n",
       "\n",
       "    var fmt_picker_span = $('<span/>');\n",
       "\n",
       "    var fmt_picker = $('<select/>');\n",
       "    fmt_picker.addClass('mpl-toolbar-option ui-widget ui-widget-content');\n",
       "    fmt_picker_span.append(fmt_picker);\n",
       "    nav_element.append(fmt_picker_span);\n",
       "    this.format_dropdown = fmt_picker[0];\n",
       "\n",
       "    for (var ind in mpl.extensions) {\n",
       "        var fmt = mpl.extensions[ind];\n",
       "        var option = $(\n",
       "            '<option/>', {selected: fmt === mpl.default_extension}).html(fmt);\n",
       "        fmt_picker.append(option)\n",
       "    }\n",
       "\n",
       "    // Add hover states to the ui-buttons\n",
       "    $( \".ui-button\" ).hover(\n",
       "        function() { $(this).addClass(\"ui-state-hover\");},\n",
       "        function() { $(this).removeClass(\"ui-state-hover\");}\n",
       "    );\n",
       "\n",
       "    var status_bar = $('<span class=\"mpl-message\"/>');\n",
       "    nav_element.append(status_bar);\n",
       "    this.message = status_bar[0];\n",
       "}\n",
       "\n",
       "mpl.figure.prototype.request_resize = function(x_pixels, y_pixels) {\n",
       "    // Request matplotlib to resize the figure. Matplotlib will then trigger a resize in the client,\n",
       "    // which will in turn request a refresh of the image.\n",
       "    this.send_message('resize', {'width': x_pixels, 'height': y_pixels});\n",
       "}\n",
       "\n",
       "mpl.figure.prototype.send_message = function(type, properties) {\n",
       "    properties['type'] = type;\n",
       "    properties['figure_id'] = this.id;\n",
       "    this.ws.send(JSON.stringify(properties));\n",
       "}\n",
       "\n",
       "mpl.figure.prototype.send_draw_message = function() {\n",
       "    if (!this.waiting) {\n",
       "        this.waiting = true;\n",
       "        this.ws.send(JSON.stringify({type: \"draw\", figure_id: this.id}));\n",
       "    }\n",
       "}\n",
       "\n",
       "\n",
       "mpl.figure.prototype.handle_save = function(fig, msg) {\n",
       "    var format_dropdown = fig.format_dropdown;\n",
       "    var format = format_dropdown.options[format_dropdown.selectedIndex].value;\n",
       "    fig.ondownload(fig, format);\n",
       "}\n",
       "\n",
       "\n",
       "mpl.figure.prototype.handle_resize = function(fig, msg) {\n",
       "    var size = msg['size'];\n",
       "    if (size[0] != fig.canvas.width || size[1] != fig.canvas.height) {\n",
       "        fig._resize_canvas(size[0], size[1]);\n",
       "        fig.send_message(\"refresh\", {});\n",
       "    };\n",
       "}\n",
       "\n",
       "mpl.figure.prototype.handle_rubberband = function(fig, msg) {\n",
       "    var x0 = msg['x0'] / mpl.ratio;\n",
       "    var y0 = (fig.canvas.height - msg['y0']) / mpl.ratio;\n",
       "    var x1 = msg['x1'] / mpl.ratio;\n",
       "    var y1 = (fig.canvas.height - msg['y1']) / mpl.ratio;\n",
       "    x0 = Math.floor(x0) + 0.5;\n",
       "    y0 = Math.floor(y0) + 0.5;\n",
       "    x1 = Math.floor(x1) + 0.5;\n",
       "    y1 = Math.floor(y1) + 0.5;\n",
       "    var min_x = Math.min(x0, x1);\n",
       "    var min_y = Math.min(y0, y1);\n",
       "    var width = Math.abs(x1 - x0);\n",
       "    var height = Math.abs(y1 - y0);\n",
       "\n",
       "    fig.rubberband_context.clearRect(\n",
       "        0, 0, fig.canvas.width, fig.canvas.height);\n",
       "\n",
       "    fig.rubberband_context.strokeRect(min_x, min_y, width, height);\n",
       "}\n",
       "\n",
       "mpl.figure.prototype.handle_figure_label = function(fig, msg) {\n",
       "    // Updates the figure title.\n",
       "    fig.header.textContent = msg['label'];\n",
       "}\n",
       "\n",
       "mpl.figure.prototype.handle_cursor = function(fig, msg) {\n",
       "    var cursor = msg['cursor'];\n",
       "    switch(cursor)\n",
       "    {\n",
       "    case 0:\n",
       "        cursor = 'pointer';\n",
       "        break;\n",
       "    case 1:\n",
       "        cursor = 'default';\n",
       "        break;\n",
       "    case 2:\n",
       "        cursor = 'crosshair';\n",
       "        break;\n",
       "    case 3:\n",
       "        cursor = 'move';\n",
       "        break;\n",
       "    }\n",
       "    fig.rubberband_canvas.style.cursor = cursor;\n",
       "}\n",
       "\n",
       "mpl.figure.prototype.handle_message = function(fig, msg) {\n",
       "    fig.message.textContent = msg['message'];\n",
       "}\n",
       "\n",
       "mpl.figure.prototype.handle_draw = function(fig, msg) {\n",
       "    // Request the server to send over a new figure.\n",
       "    fig.send_draw_message();\n",
       "}\n",
       "\n",
       "mpl.figure.prototype.handle_image_mode = function(fig, msg) {\n",
       "    fig.image_mode = msg['mode'];\n",
       "}\n",
       "\n",
       "mpl.figure.prototype.updated_canvas_event = function() {\n",
       "    // Called whenever the canvas gets updated.\n",
       "    this.send_message(\"ack\", {});\n",
       "}\n",
       "\n",
       "// A function to construct a web socket function for onmessage handling.\n",
       "// Called in the figure constructor.\n",
       "mpl.figure.prototype._make_on_message_function = function(fig) {\n",
       "    return function socket_on_message(evt) {\n",
       "        if (evt.data instanceof Blob) {\n",
       "            /* FIXME: We get \"Resource interpreted as Image but\n",
       "             * transferred with MIME type text/plain:\" errors on\n",
       "             * Chrome.  But how to set the MIME type?  It doesn't seem\n",
       "             * to be part of the websocket stream */\n",
       "            evt.data.type = \"image/png\";\n",
       "\n",
       "            /* Free the memory for the previous frames */\n",
       "            if (fig.imageObj.src) {\n",
       "                (window.URL || window.webkitURL).revokeObjectURL(\n",
       "                    fig.imageObj.src);\n",
       "            }\n",
       "\n",
       "            fig.imageObj.src = (window.URL || window.webkitURL).createObjectURL(\n",
       "                evt.data);\n",
       "            fig.updated_canvas_event();\n",
       "            fig.waiting = false;\n",
       "            return;\n",
       "        }\n",
       "        else if (typeof evt.data === 'string' && evt.data.slice(0, 21) == \"data:image/png;base64\") {\n",
       "            fig.imageObj.src = evt.data;\n",
       "            fig.updated_canvas_event();\n",
       "            fig.waiting = false;\n",
       "            return;\n",
       "        }\n",
       "\n",
       "        var msg = JSON.parse(evt.data);\n",
       "        var msg_type = msg['type'];\n",
       "\n",
       "        // Call the  \"handle_{type}\" callback, which takes\n",
       "        // the figure and JSON message as its only arguments.\n",
       "        try {\n",
       "            var callback = fig[\"handle_\" + msg_type];\n",
       "        } catch (e) {\n",
       "            console.log(\"No handler for the '\" + msg_type + \"' message type: \", msg);\n",
       "            return;\n",
       "        }\n",
       "\n",
       "        if (callback) {\n",
       "            try {\n",
       "                // console.log(\"Handling '\" + msg_type + \"' message: \", msg);\n",
       "                callback(fig, msg);\n",
       "            } catch (e) {\n",
       "                console.log(\"Exception inside the 'handler_\" + msg_type + \"' callback:\", e, e.stack, msg);\n",
       "            }\n",
       "        }\n",
       "    };\n",
       "}\n",
       "\n",
       "// from http://stackoverflow.com/questions/1114465/getting-mouse-location-in-canvas\n",
       "mpl.findpos = function(e) {\n",
       "    //this section is from http://www.quirksmode.org/js/events_properties.html\n",
       "    var targ;\n",
       "    if (!e)\n",
       "        e = window.event;\n",
       "    if (e.target)\n",
       "        targ = e.target;\n",
       "    else if (e.srcElement)\n",
       "        targ = e.srcElement;\n",
       "    if (targ.nodeType == 3) // defeat Safari bug\n",
       "        targ = targ.parentNode;\n",
       "\n",
       "    // jQuery normalizes the pageX and pageY\n",
       "    // pageX,Y are the mouse positions relative to the document\n",
       "    // offset() returns the position of the element relative to the document\n",
       "    var x = e.pageX - $(targ).offset().left;\n",
       "    var y = e.pageY - $(targ).offset().top;\n",
       "\n",
       "    return {\"x\": x, \"y\": y};\n",
       "};\n",
       "\n",
       "/*\n",
       " * return a copy of an object with only non-object keys\n",
       " * we need this to avoid circular references\n",
       " * http://stackoverflow.com/a/24161582/3208463\n",
       " */\n",
       "function simpleKeys (original) {\n",
       "  return Object.keys(original).reduce(function (obj, key) {\n",
       "    if (typeof original[key] !== 'object')\n",
       "        obj[key] = original[key]\n",
       "    return obj;\n",
       "  }, {});\n",
       "}\n",
       "\n",
       "mpl.figure.prototype.mouse_event = function(event, name) {\n",
       "    var canvas_pos = mpl.findpos(event)\n",
       "\n",
       "    if (name === 'button_press')\n",
       "    {\n",
       "        this.canvas.focus();\n",
       "        this.canvas_div.focus();\n",
       "    }\n",
       "\n",
       "    var x = canvas_pos.x * mpl.ratio;\n",
       "    var y = canvas_pos.y * mpl.ratio;\n",
       "\n",
       "    this.send_message(name, {x: x, y: y, button: event.button,\n",
       "                             step: event.step,\n",
       "                             guiEvent: simpleKeys(event)});\n",
       "\n",
       "    /* This prevents the web browser from automatically changing to\n",
       "     * the text insertion cursor when the button is pressed.  We want\n",
       "     * to control all of the cursor setting manually through the\n",
       "     * 'cursor' event from matplotlib */\n",
       "    event.preventDefault();\n",
       "    return false;\n",
       "}\n",
       "\n",
       "mpl.figure.prototype._key_event_extra = function(event, name) {\n",
       "    // Handle any extra behaviour associated with a key event\n",
       "}\n",
       "\n",
       "mpl.figure.prototype.key_event = function(event, name) {\n",
       "\n",
       "    // Prevent repeat events\n",
       "    if (name == 'key_press')\n",
       "    {\n",
       "        if (event.which === this._key)\n",
       "            return;\n",
       "        else\n",
       "            this._key = event.which;\n",
       "    }\n",
       "    if (name == 'key_release')\n",
       "        this._key = null;\n",
       "\n",
       "    var value = '';\n",
       "    if (event.ctrlKey && event.which != 17)\n",
       "        value += \"ctrl+\";\n",
       "    if (event.altKey && event.which != 18)\n",
       "        value += \"alt+\";\n",
       "    if (event.shiftKey && event.which != 16)\n",
       "        value += \"shift+\";\n",
       "\n",
       "    value += 'k';\n",
       "    value += event.which.toString();\n",
       "\n",
       "    this._key_event_extra(event, name);\n",
       "\n",
       "    this.send_message(name, {key: value,\n",
       "                             guiEvent: simpleKeys(event)});\n",
       "    return false;\n",
       "}\n",
       "\n",
       "mpl.figure.prototype.toolbar_button_onclick = function(name) {\n",
       "    if (name == 'download') {\n",
       "        this.handle_save(this, null);\n",
       "    } else {\n",
       "        this.send_message(\"toolbar_button\", {name: name});\n",
       "    }\n",
       "};\n",
       "\n",
       "mpl.figure.prototype.toolbar_button_onmouseover = function(tooltip) {\n",
       "    this.message.textContent = tooltip;\n",
       "};\n",
       "mpl.toolbar_items = [[\"Home\", \"Reset original view\", \"fa fa-home icon-home\", \"home\"], [\"Back\", \"Back to  previous view\", \"fa fa-arrow-left icon-arrow-left\", \"back\"], [\"Forward\", \"Forward to next view\", \"fa fa-arrow-right icon-arrow-right\", \"forward\"], [\"\", \"\", \"\", \"\"], [\"Pan\", \"Pan axes with left mouse, zoom with right\", \"fa fa-arrows icon-move\", \"pan\"], [\"Zoom\", \"Zoom to rectangle\", \"fa fa-square-o icon-check-empty\", \"zoom\"], [\"\", \"\", \"\", \"\"], [\"Download\", \"Download plot\", \"fa fa-floppy-o icon-save\", \"download\"]];\n",
       "\n",
       "mpl.extensions = [\"eps\", \"jpeg\", \"pdf\", \"png\", \"ps\", \"raw\", \"svg\", \"tif\"];\n",
       "\n",
       "mpl.default_extension = \"png\";var comm_websocket_adapter = function(comm) {\n",
       "    // Create a \"websocket\"-like object which calls the given IPython comm\n",
       "    // object with the appropriate methods. Currently this is a non binary\n",
       "    // socket, so there is still some room for performance tuning.\n",
       "    var ws = {};\n",
       "\n",
       "    ws.close = function() {\n",
       "        comm.close()\n",
       "    };\n",
       "    ws.send = function(m) {\n",
       "        //console.log('sending', m);\n",
       "        comm.send(m);\n",
       "    };\n",
       "    // Register the callback with on_msg.\n",
       "    comm.on_msg(function(msg) {\n",
       "        //console.log('receiving', msg['content']['data'], msg);\n",
       "        // Pass the mpl event to the overridden (by mpl) onmessage function.\n",
       "        ws.onmessage(msg['content']['data'])\n",
       "    });\n",
       "    return ws;\n",
       "}\n",
       "\n",
       "mpl.mpl_figure_comm = function(comm, msg) {\n",
       "    // This is the function which gets called when the mpl process\n",
       "    // starts-up an IPython Comm through the \"matplotlib\" channel.\n",
       "\n",
       "    var id = msg.content.data.id;\n",
       "    // Get hold of the div created by the display call when the Comm\n",
       "    // socket was opened in Python.\n",
       "    var element = $(\"#\" + id);\n",
       "    var ws_proxy = comm_websocket_adapter(comm)\n",
       "\n",
       "    function ondownload(figure, format) {\n",
       "        window.open(figure.imageObj.src);\n",
       "    }\n",
       "\n",
       "    var fig = new mpl.figure(id, ws_proxy,\n",
       "                           ondownload,\n",
       "                           element.get(0));\n",
       "\n",
       "    // Call onopen now - mpl needs it, as it is assuming we've passed it a real\n",
       "    // web socket which is closed, not our websocket->open comm proxy.\n",
       "    ws_proxy.onopen();\n",
       "\n",
       "    fig.parent_element = element.get(0);\n",
       "    fig.cell_info = mpl.find_output_cell(\"<div id='\" + id + \"'></div>\");\n",
       "    if (!fig.cell_info) {\n",
       "        console.error(\"Failed to find cell for figure\", id, fig);\n",
       "        return;\n",
       "    }\n",
       "\n",
       "    var output_index = fig.cell_info[2]\n",
       "    var cell = fig.cell_info[0];\n",
       "\n",
       "};\n",
       "\n",
       "mpl.figure.prototype.handle_close = function(fig, msg) {\n",
       "    var width = fig.canvas.width/mpl.ratio\n",
       "    fig.root.unbind('remove')\n",
       "\n",
       "    // Update the output cell to use the data from the current canvas.\n",
       "    fig.push_to_output();\n",
       "    var dataURL = fig.canvas.toDataURL();\n",
       "    // Re-enable the keyboard manager in IPython - without this line, in FF,\n",
       "    // the notebook keyboard shortcuts fail.\n",
       "    IPython.keyboard_manager.enable()\n",
       "    $(fig.parent_element).html('<img src=\"' + dataURL + '\" width=\"' + width + '\">');\n",
       "    fig.close_ws(fig, msg);\n",
       "}\n",
       "\n",
       "mpl.figure.prototype.close_ws = function(fig, msg){\n",
       "    fig.send_message('closing', msg);\n",
       "    // fig.ws.close()\n",
       "}\n",
       "\n",
       "mpl.figure.prototype.push_to_output = function(remove_interactive) {\n",
       "    // Turn the data on the canvas into data in the output cell.\n",
       "    var width = this.canvas.width/mpl.ratio\n",
       "    var dataURL = this.canvas.toDataURL();\n",
       "    this.cell_info[1]['text/html'] = '<img src=\"' + dataURL + '\" width=\"' + width + '\">';\n",
       "}\n",
       "\n",
       "mpl.figure.prototype.updated_canvas_event = function() {\n",
       "    // Tell IPython that the notebook contents must change.\n",
       "    IPython.notebook.set_dirty(true);\n",
       "    this.send_message(\"ack\", {});\n",
       "    var fig = this;\n",
       "    // Wait a second, then push the new image to the DOM so\n",
       "    // that it is saved nicely (might be nice to debounce this).\n",
       "    setTimeout(function () { fig.push_to_output() }, 1000);\n",
       "}\n",
       "\n",
       "mpl.figure.prototype._init_toolbar = function() {\n",
       "    var fig = this;\n",
       "\n",
       "    var nav_element = $('<div/>')\n",
       "    nav_element.attr('style', 'width: 100%');\n",
       "    this.root.append(nav_element);\n",
       "\n",
       "    // Define a callback function for later on.\n",
       "    function toolbar_event(event) {\n",
       "        return fig.toolbar_button_onclick(event['data']);\n",
       "    }\n",
       "    function toolbar_mouse_event(event) {\n",
       "        return fig.toolbar_button_onmouseover(event['data']);\n",
       "    }\n",
       "\n",
       "    for(var toolbar_ind in mpl.toolbar_items){\n",
       "        var name = mpl.toolbar_items[toolbar_ind][0];\n",
       "        var tooltip = mpl.toolbar_items[toolbar_ind][1];\n",
       "        var image = mpl.toolbar_items[toolbar_ind][2];\n",
       "        var method_name = mpl.toolbar_items[toolbar_ind][3];\n",
       "\n",
       "        if (!name) { continue; };\n",
       "\n",
       "        var button = $('<button class=\"btn btn-default\" href=\"#\" title=\"' + name + '\"><i class=\"fa ' + image + ' fa-lg\"></i></button>');\n",
       "        button.click(method_name, toolbar_event);\n",
       "        button.mouseover(tooltip, toolbar_mouse_event);\n",
       "        nav_element.append(button);\n",
       "    }\n",
       "\n",
       "    // Add the status bar.\n",
       "    var status_bar = $('<span class=\"mpl-message\" style=\"text-align:right; float: right;\"/>');\n",
       "    nav_element.append(status_bar);\n",
       "    this.message = status_bar[0];\n",
       "\n",
       "    // Add the close button to the window.\n",
       "    var buttongrp = $('<div class=\"btn-group inline pull-right\"></div>');\n",
       "    var button = $('<button class=\"btn btn-mini btn-primary\" href=\"#\" title=\"Stop Interaction\"><i class=\"fa fa-power-off icon-remove icon-large\"></i></button>');\n",
       "    button.click(function (evt) { fig.handle_close(fig, {}); } );\n",
       "    button.mouseover('Stop Interaction', toolbar_mouse_event);\n",
       "    buttongrp.append(button);\n",
       "    var titlebar = this.root.find($('.ui-dialog-titlebar'));\n",
       "    titlebar.prepend(buttongrp);\n",
       "}\n",
       "\n",
       "mpl.figure.prototype._root_extra_style = function(el){\n",
       "    var fig = this\n",
       "    el.on(\"remove\", function(){\n",
       "\tfig.close_ws(fig, {});\n",
       "    });\n",
       "}\n",
       "\n",
       "mpl.figure.prototype._canvas_extra_style = function(el){\n",
       "    // this is important to make the div 'focusable\n",
       "    el.attr('tabindex', 0)\n",
       "    // reach out to IPython and tell the keyboard manager to turn it's self\n",
       "    // off when our div gets focus\n",
       "\n",
       "    // location in version 3\n",
       "    if (IPython.notebook.keyboard_manager) {\n",
       "        IPython.notebook.keyboard_manager.register_events(el);\n",
       "    }\n",
       "    else {\n",
       "        // location in version 2\n",
       "        IPython.keyboard_manager.register_events(el);\n",
       "    }\n",
       "\n",
       "}\n",
       "\n",
       "mpl.figure.prototype._key_event_extra = function(event, name) {\n",
       "    var manager = IPython.notebook.keyboard_manager;\n",
       "    if (!manager)\n",
       "        manager = IPython.keyboard_manager;\n",
       "\n",
       "    // Check for shift+enter\n",
       "    if (event.shiftKey && event.which == 13) {\n",
       "        this.canvas_div.blur();\n",
       "        event.shiftKey = false;\n",
       "        // Send a \"J\" for go to next cell\n",
       "        event.which = 74;\n",
       "        event.keyCode = 74;\n",
       "        manager.command_mode();\n",
       "        manager.handle_keydown(event);\n",
       "    }\n",
       "}\n",
       "\n",
       "mpl.figure.prototype.handle_save = function(fig, msg) {\n",
       "    fig.ondownload(fig, null);\n",
       "}\n",
       "\n",
       "\n",
       "mpl.find_output_cell = function(html_output) {\n",
       "    // Return the cell and output element which can be found *uniquely* in the notebook.\n",
       "    // Note - this is a bit hacky, but it is done because the \"notebook_saving.Notebook\"\n",
       "    // IPython event is triggered only after the cells have been serialised, which for\n",
       "    // our purposes (turning an active figure into a static one), is too late.\n",
       "    var cells = IPython.notebook.get_cells();\n",
       "    var ncells = cells.length;\n",
       "    for (var i=0; i<ncells; i++) {\n",
       "        var cell = cells[i];\n",
       "        if (cell.cell_type === 'code'){\n",
       "            for (var j=0; j<cell.output_area.outputs.length; j++) {\n",
       "                var data = cell.output_area.outputs[j];\n",
       "                if (data.data) {\n",
       "                    // IPython >= 3 moved mimebundle to data attribute of output\n",
       "                    data = data.data;\n",
       "                }\n",
       "                if (data['text/html'] == html_output) {\n",
       "                    return [cell, data, j];\n",
       "                }\n",
       "            }\n",
       "        }\n",
       "    }\n",
       "}\n",
       "\n",
       "// Register the function which deals with the matplotlib target/channel.\n",
       "// The kernel may be null if the page has been refreshed.\n",
       "if (IPython.notebook.kernel != null) {\n",
       "    IPython.notebook.kernel.comm_manager.register_target('matplotlib', mpl.mpl_figure_comm);\n",
       "}\n"
      ],
      "text/plain": [
       "<IPython.core.display.Javascript object>"
      ]
     },
     "metadata": {},
     "output_type": "display_data"
    },
    {
     "data": {
      "text/html": [
       "<img src=\"data:image/png;base64,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\" width=\"432\">"
      ],
      "text/plain": [
       "<IPython.core.display.HTML object>"
      ]
     },
     "metadata": {},
     "output_type": "display_data"
    },
    {
     "name": "stdout",
     "output_type": "stream",
     "text": [
      "175.4994799565829\n",
      "260.76139310846804\n"
     ]
    }
   ],
   "source": [
    "# Your code:\n",
    "n_harmonics = 10\n",
    "n_predictions = len(validation_set)\n",
    "de_trend = True\n",
    "\n",
    "data = np.asarray(training_set)\n",
    "\n",
    "extrapolation = fourierExtrapolation(data, n_predictions, n_harmonics, de_trend)\n",
    "\n",
    "\n",
    "plt.plot(np.arange(0, data.size), data, 'b', label = 'original data', linewidth = 0.5)\n",
    "plt.plot(np.arange(0, extrapolation.size), extrapolation, 'r', label = 'extrapolation', linewidth = 1)\n",
    "\n",
    "plt.legend()\n",
    "plt.show()\n",
    "\n",
    "\n",
    "from sklearn.metrics import mean_squared_error\n",
    "\n",
    "training_error = mean_squared_error(data, extrapolation[0:len(data)])\n",
    "print (training_error)\n",
    "\n",
    "validation_error = mean_squared_error(validation_set, extrapolation[len(data):])\n",
    "print (validation_error)"
   ]
  },
  {
   "cell_type": "markdown",
   "metadata": {},
   "source": [
    "\n",
    "### Step 4:\n",
    "\n",
    "We will now repeat **several times** what we did in Step 3. As in the previous assignment, the range n_harmonics can be between 1 and int(n_training/2). Let's try set the range of training from 1 to 100.\n",
    "\n",
    "\n",
    "For each value k in training_range: \n",
    "\n",
    "1. Let n_harmonics = k\n",
    "1. Calculate the training_error and validation_error as in question 3.\n",
    "\n",
    "Next, make a single plot with the curves \"n_harmonics vs. training_error\" and  \"n_harmonics vs. validation_error\"\n",
    "\n",
    "\n"
   ]
  },
  {
   "cell_type": "code",
   "execution_count": 27,
   "metadata": {},
   "outputs": [
    {
     "data": {
      "application/vnd.jupyter.widget-view+json": {
       "model_id": "bec8df2ac1874d1d9c6ae0931a7030c2",
       "version_major": 2,
       "version_minor": 0
      },
      "text/plain": [
       "FloatProgress(value=0.0, max=3.0)"
      ]
     },
     "metadata": {},
     "output_type": "display_data"
    },
    {
     "data": {
      "application/vnd.jupyter.widget-view+json": {
       "model_id": "08520b8020e44913b9c8eda6afcd3570",
       "version_major": 2,
       "version_minor": 0
      },
      "text/plain": [
       "FloatProgress(value=0.0, max=5.0)"
      ]
     },
     "metadata": {},
     "output_type": "display_data"
    },
    {
     "data": {
      "application/vnd.jupyter.widget-view+json": {
       "model_id": "ef76cf08992e48d29e1272070cc0c3f1",
       "version_major": 2,
       "version_minor": 0
      },
      "text/plain": [
       "FloatProgress(value=0.0, max=7.0)"
      ]
     },
     "metadata": {},
     "output_type": "display_data"
    },
    {
     "data": {
      "application/vnd.jupyter.widget-view+json": {
       "model_id": "6535c3177d404c0489389ad43b4cde0b",
       "version_major": 2,
       "version_minor": 0
      },
      "text/plain": [
       "FloatProgress(value=0.0, max=9.0)"
      ]
     },
     "metadata": {},
     "output_type": "display_data"
    },
    {
     "data": {
      "application/vnd.jupyter.widget-view+json": {
       "model_id": "92b278f7f65c4982ba70368889512a5a",
       "version_major": 2,
       "version_minor": 0
      },
      "text/plain": [
       "FloatProgress(value=0.0, max=11.0)"
      ]
     },
     "metadata": {},
     "output_type": "display_data"
    },
    {
     "data": {
      "application/vnd.jupyter.widget-view+json": {
       "model_id": "c99e8b03af344c20b1aebf74be8487b4",
       "version_major": 2,
       "version_minor": 0
      },
      "text/plain": [
       "FloatProgress(value=0.0, max=13.0)"
      ]
     },
     "metadata": {},
     "output_type": "display_data"
    },
    {
     "data": {
      "application/vnd.jupyter.widget-view+json": {
       "model_id": "591ee63c9de74eeab3b7351cc95d35e0",
       "version_major": 2,
       "version_minor": 0
      },
      "text/plain": [
       "FloatProgress(value=0.0, max=15.0)"
      ]
     },
     "metadata": {},
     "output_type": "display_data"
    },
    {
     "data": {
      "application/vnd.jupyter.widget-view+json": {
       "model_id": "02b547df02264ebbaa16c69dc9fc0617",
       "version_major": 2,
       "version_minor": 0
      },
      "text/plain": [
       "FloatProgress(value=0.0, max=17.0)"
      ]
     },
     "metadata": {},
     "output_type": "display_data"
    },
    {
     "data": {
      "application/vnd.jupyter.widget-view+json": {
       "model_id": "e5c941926e5747c2be53cf555a10635b",
       "version_major": 2,
       "version_minor": 0
      },
      "text/plain": [
       "FloatProgress(value=0.0, max=19.0)"
      ]
     },
     "metadata": {},
     "output_type": "display_data"
    },
    {
     "data": {
      "application/vnd.jupyter.widget-view+json": {
       "model_id": "b6934a337f0942c79c518ce1c3cc175b",
       "version_major": 2,
       "version_minor": 0
      },
      "text/plain": [
       "FloatProgress(value=0.0, max=21.0)"
      ]
     },
     "metadata": {},
     "output_type": "display_data"
    },
    {
     "data": {
      "application/vnd.jupyter.widget-view+json": {
       "model_id": "5bc0f851aee146d690f65a4d27a42159",
       "version_major": 2,
       "version_minor": 0
      },
      "text/plain": [
       "FloatProgress(value=0.0, max=23.0)"
      ]
     },
     "metadata": {},
     "output_type": "display_data"
    },
    {
     "data": {
      "application/vnd.jupyter.widget-view+json": {
       "model_id": "44107ad3ef424c86bfc712b7b7dc6d35",
       "version_major": 2,
       "version_minor": 0
      },
      "text/plain": [
       "FloatProgress(value=0.0, max=25.0)"
      ]
     },
     "metadata": {},
     "output_type": "display_data"
    },
    {
     "data": {
      "application/vnd.jupyter.widget-view+json": {
       "model_id": "d615585309ad4ee5948efee225198fca",
       "version_major": 2,
       "version_minor": 0
      },
      "text/plain": [
       "FloatProgress(value=0.0, max=27.0)"
      ]
     },
     "metadata": {},
     "output_type": "display_data"
    },
    {
     "data": {
      "application/vnd.jupyter.widget-view+json": {
       "model_id": "f51ea572fda1475b9788d4497d559174",
       "version_major": 2,
       "version_minor": 0
      },
      "text/plain": [
       "FloatProgress(value=0.0, max=29.0)"
      ]
     },
     "metadata": {},
     "output_type": "display_data"
    },
    {
     "data": {
      "application/vnd.jupyter.widget-view+json": {
       "model_id": "78cf04230e194527ade347df5f0b4855",
       "version_major": 2,
       "version_minor": 0
      },
      "text/plain": [
       "FloatProgress(value=0.0, max=31.0)"
      ]
     },
     "metadata": {},
     "output_type": "display_data"
    },
    {
     "data": {
      "application/vnd.jupyter.widget-view+json": {
       "model_id": "8f23ab6366cf47c393a315e26474fe7f",
       "version_major": 2,
       "version_minor": 0
      },
      "text/plain": [
       "FloatProgress(value=0.0, max=33.0)"
      ]
     },
     "metadata": {},
     "output_type": "display_data"
    },
    {
     "data": {
      "application/vnd.jupyter.widget-view+json": {
       "model_id": "019b5a743c9b42a2a2a30a33f47d4191",
       "version_major": 2,
       "version_minor": 0
      },
      "text/plain": [
       "FloatProgress(value=0.0, max=35.0)"
      ]
     },
     "metadata": {},
     "output_type": "display_data"
    },
    {
     "data": {
      "application/vnd.jupyter.widget-view+json": {
       "model_id": "55eca75b98df42af9fdae9b253d189aa",
       "version_major": 2,
       "version_minor": 0
      },
      "text/plain": [
       "FloatProgress(value=0.0, max=37.0)"
      ]
     },
     "metadata": {},
     "output_type": "display_data"
    },
    {
     "data": {
      "application/vnd.jupyter.widget-view+json": {
       "model_id": "5f6dc54378e74450860364cc75c6322e",
       "version_major": 2,
       "version_minor": 0
      },
      "text/plain": [
       "FloatProgress(value=0.0, max=39.0)"
      ]
     },
     "metadata": {},
     "output_type": "display_data"
    },
    {
     "data": {
      "application/vnd.jupyter.widget-view+json": {
       "model_id": "c9c5aeb146664d59aba6eb3aacb8e4db",
       "version_major": 2,
       "version_minor": 0
      },
      "text/plain": [
       "FloatProgress(value=0.0, max=41.0)"
      ]
     },
     "metadata": {},
     "output_type": "display_data"
    },
    {
     "data": {
      "application/vnd.jupyter.widget-view+json": {
       "model_id": "47ae14ba15dd4b45af9fa0f9cdbd2064",
       "version_major": 2,
       "version_minor": 0
      },
      "text/plain": [
       "FloatProgress(value=0.0, max=43.0)"
      ]
     },
     "metadata": {},
     "output_type": "display_data"
    },
    {
     "data": {
      "application/vnd.jupyter.widget-view+json": {
       "model_id": "13d9bbae725d49e3bc68b43ae23faa31",
       "version_major": 2,
       "version_minor": 0
      },
      "text/plain": [
       "FloatProgress(value=0.0, max=45.0)"
      ]
     },
     "metadata": {},
     "output_type": "display_data"
    },
    {
     "data": {
      "application/vnd.jupyter.widget-view+json": {
       "model_id": "79f117aaa65c42d984858bfe6ed61162",
       "version_major": 2,
       "version_minor": 0
      },
      "text/plain": [
       "FloatProgress(value=0.0, max=47.0)"
      ]
     },
     "metadata": {},
     "output_type": "display_data"
    },
    {
     "data": {
      "application/vnd.jupyter.widget-view+json": {
       "model_id": "2a2a8c355b674fdb9ee6488be8d68cf5",
       "version_major": 2,
       "version_minor": 0
      },
      "text/plain": [
       "FloatProgress(value=0.0, max=49.0)"
      ]
     },
     "metadata": {},
     "output_type": "display_data"
    },
    {
     "data": {
      "application/vnd.jupyter.widget-view+json": {
       "model_id": "a3291386d65044a7b22d1ecee16d184a",
       "version_major": 2,
       "version_minor": 0
      },
      "text/plain": [
       "FloatProgress(value=0.0, max=51.0)"
      ]
     },
     "metadata": {},
     "output_type": "display_data"
    },
    {
     "data": {
      "application/vnd.jupyter.widget-view+json": {
       "model_id": "01cb3663f2204e66bb8da98c5a183f21",
       "version_major": 2,
       "version_minor": 0
      },
      "text/plain": [
       "FloatProgress(value=0.0, max=53.0)"
      ]
     },
     "metadata": {},
     "output_type": "display_data"
    },
    {
     "data": {
      "application/vnd.jupyter.widget-view+json": {
       "model_id": "fb4fd7dba8e4454b993d62b26a403759",
       "version_major": 2,
       "version_minor": 0
      },
      "text/plain": [
       "FloatProgress(value=0.0, max=55.0)"
      ]
     },
     "metadata": {},
     "output_type": "display_data"
    },
    {
     "data": {
      "application/vnd.jupyter.widget-view+json": {
       "model_id": "175686537d2f4f62925e3218991991aa",
       "version_major": 2,
       "version_minor": 0
      },
      "text/plain": [
       "FloatProgress(value=0.0, max=57.0)"
      ]
     },
     "metadata": {},
     "output_type": "display_data"
    },
    {
     "data": {
      "application/vnd.jupyter.widget-view+json": {
       "model_id": "e1506683939a496785642c82c0a9e7fa",
       "version_major": 2,
       "version_minor": 0
      },
      "text/plain": [
       "FloatProgress(value=0.0, max=59.0)"
      ]
     },
     "metadata": {},
     "output_type": "display_data"
    },
    {
     "data": {
      "application/vnd.jupyter.widget-view+json": {
       "model_id": "8b8b91f6d16a48f0857ac76bf0320714",
       "version_major": 2,
       "version_minor": 0
      },
      "text/plain": [
       "FloatProgress(value=0.0, max=61.0)"
      ]
     },
     "metadata": {},
     "output_type": "display_data"
    },
    {
     "data": {
      "application/vnd.jupyter.widget-view+json": {
       "model_id": "8c0117da7c0f4d368caa638fbd672c5e",
       "version_major": 2,
       "version_minor": 0
      },
      "text/plain": [
       "FloatProgress(value=0.0, max=63.0)"
      ]
     },
     "metadata": {},
     "output_type": "display_data"
    },
    {
     "data": {
      "application/vnd.jupyter.widget-view+json": {
       "model_id": "4293f0b3c0b04f98971b8c39aa97a5e8",
       "version_major": 2,
       "version_minor": 0
      },
      "text/plain": [
       "FloatProgress(value=0.0, max=65.0)"
      ]
     },
     "metadata": {},
     "output_type": "display_data"
    },
    {
     "data": {
      "application/vnd.jupyter.widget-view+json": {
       "model_id": "af3fb7b0d0294a3a9ac79e8f3f585920",
       "version_major": 2,
       "version_minor": 0
      },
      "text/plain": [
       "FloatProgress(value=0.0, max=67.0)"
      ]
     },
     "metadata": {},
     "output_type": "display_data"
    },
    {
     "data": {
      "application/vnd.jupyter.widget-view+json": {
       "model_id": "5de3493455d1438e8d2408b19e0e70ba",
       "version_major": 2,
       "version_minor": 0
      },
      "text/plain": [
       "FloatProgress(value=0.0, max=69.0)"
      ]
     },
     "metadata": {},
     "output_type": "display_data"
    },
    {
     "data": {
      "application/vnd.jupyter.widget-view+json": {
       "model_id": "5ada5b745832488bbe24eb55481f1fd9",
       "version_major": 2,
       "version_minor": 0
      },
      "text/plain": [
       "FloatProgress(value=0.0, max=71.0)"
      ]
     },
     "metadata": {},
     "output_type": "display_data"
    },
    {
     "data": {
      "application/vnd.jupyter.widget-view+json": {
       "model_id": "6e491beba1444f5ca35605951e6f99ea",
       "version_major": 2,
       "version_minor": 0
      },
      "text/plain": [
       "FloatProgress(value=0.0, max=73.0)"
      ]
     },
     "metadata": {},
     "output_type": "display_data"
    },
    {
     "data": {
      "application/vnd.jupyter.widget-view+json": {
       "model_id": "d6726315a4b74fb29e98b7fce896cc0d",
       "version_major": 2,
       "version_minor": 0
      },
      "text/plain": [
       "FloatProgress(value=0.0, max=75.0)"
      ]
     },
     "metadata": {},
     "output_type": "display_data"
    },
    {
     "data": {
      "application/vnd.jupyter.widget-view+json": {
       "model_id": "52834fbcef1a4fec9267dbbfd97d0ed8",
       "version_major": 2,
       "version_minor": 0
      },
      "text/plain": [
       "FloatProgress(value=0.0, max=77.0)"
      ]
     },
     "metadata": {},
     "output_type": "display_data"
    },
    {
     "data": {
      "application/vnd.jupyter.widget-view+json": {
       "model_id": "f3bf79c9f45a4cf0b680793181195eae",
       "version_major": 2,
       "version_minor": 0
      },
      "text/plain": [
       "FloatProgress(value=0.0, max=79.0)"
      ]
     },
     "metadata": {},
     "output_type": "display_data"
    },
    {
     "data": {
      "application/vnd.jupyter.widget-view+json": {
       "model_id": "4cc5d52816074e9e953d95bd82e2eaab",
       "version_major": 2,
       "version_minor": 0
      },
      "text/plain": [
       "FloatProgress(value=0.0, max=81.0)"
      ]
     },
     "metadata": {},
     "output_type": "display_data"
    },
    {
     "data": {
      "application/vnd.jupyter.widget-view+json": {
       "model_id": "8ff2a4fc7cfe4240aab2e7d5cd17a8a5",
       "version_major": 2,
       "version_minor": 0
      },
      "text/plain": [
       "FloatProgress(value=0.0, max=83.0)"
      ]
     },
     "metadata": {},
     "output_type": "display_data"
    },
    {
     "data": {
      "application/vnd.jupyter.widget-view+json": {
       "model_id": "c3f1a89aba9649e8abd2c0e47e68c268",
       "version_major": 2,
       "version_minor": 0
      },
      "text/plain": [
       "FloatProgress(value=0.0, max=85.0)"
      ]
     },
     "metadata": {},
     "output_type": "display_data"
    },
    {
     "data": {
      "application/vnd.jupyter.widget-view+json": {
       "model_id": "9d71e36c7c324d7daab1a863e516251a",
       "version_major": 2,
       "version_minor": 0
      },
      "text/plain": [
       "FloatProgress(value=0.0, max=87.0)"
      ]
     },
     "metadata": {},
     "output_type": "display_data"
    },
    {
     "data": {
      "application/vnd.jupyter.widget-view+json": {
       "model_id": "99683260e201457a9a45db87845e1281",
       "version_major": 2,
       "version_minor": 0
      },
      "text/plain": [
       "FloatProgress(value=0.0, max=89.0)"
      ]
     },
     "metadata": {},
     "output_type": "display_data"
    },
    {
     "data": {
      "application/vnd.jupyter.widget-view+json": {
       "model_id": "d9a3c1cd8b3f4e2e9aa150e0ee87b44f",
       "version_major": 2,
       "version_minor": 0
      },
      "text/plain": [
       "FloatProgress(value=0.0, max=91.0)"
      ]
     },
     "metadata": {},
     "output_type": "display_data"
    },
    {
     "data": {
      "application/vnd.jupyter.widget-view+json": {
       "model_id": "d62d772013ef409caa62222272c7b1bc",
       "version_major": 2,
       "version_minor": 0
      },
      "text/plain": [
       "FloatProgress(value=0.0, max=93.0)"
      ]
     },
     "metadata": {},
     "output_type": "display_data"
    },
    {
     "data": {
      "application/vnd.jupyter.widget-view+json": {
       "model_id": "8115b60cc7d54d8bb7ace1dd0a3bfd2a",
       "version_major": 2,
       "version_minor": 0
      },
      "text/plain": [
       "FloatProgress(value=0.0, max=95.0)"
      ]
     },
     "metadata": {},
     "output_type": "display_data"
    },
    {
     "data": {
      "application/vnd.jupyter.widget-view+json": {
       "model_id": "2f19d22b07b7497b871600310ff45cfd",
       "version_major": 2,
       "version_minor": 0
      },
      "text/plain": [
       "FloatProgress(value=0.0, max=97.0)"
      ]
     },
     "metadata": {},
     "output_type": "display_data"
    },
    {
     "data": {
      "application/vnd.jupyter.widget-view+json": {
       "model_id": "c1975b0314bb4faa9356bfbf6f31380a",
       "version_major": 2,
       "version_minor": 0
      },
      "text/plain": [
       "FloatProgress(value=0.0, max=99.0)"
      ]
     },
     "metadata": {},
     "output_type": "display_data"
    },
    {
     "data": {
      "application/vnd.jupyter.widget-view+json": {
       "model_id": "a193c200e1214c2886fe98c5a4b38bf2",
       "version_major": 2,
       "version_minor": 0
      },
      "text/plain": [
       "FloatProgress(value=0.0, max=101.0)"
      ]
     },
     "metadata": {},
     "output_type": "display_data"
    },
    {
     "data": {
      "application/vnd.jupyter.widget-view+json": {
       "model_id": "c576c5c2a5d64370bba4a50d2e80cb72",
       "version_major": 2,
       "version_minor": 0
      },
      "text/plain": [
       "FloatProgress(value=0.0, max=103.0)"
      ]
     },
     "metadata": {},
     "output_type": "display_data"
    },
    {
     "data": {
      "application/vnd.jupyter.widget-view+json": {
       "model_id": "9d659eb873fd4bbabfea21f54bd222eb",
       "version_major": 2,
       "version_minor": 0
      },
      "text/plain": [
       "FloatProgress(value=0.0, max=105.0)"
      ]
     },
     "metadata": {},
     "output_type": "display_data"
    },
    {
     "data": {
      "application/vnd.jupyter.widget-view+json": {
       "model_id": "4f3c90aec6054e8ea74ec4192f85315c",
       "version_major": 2,
       "version_minor": 0
      },
      "text/plain": [
       "FloatProgress(value=0.0, max=107.0)"
      ]
     },
     "metadata": {},
     "output_type": "display_data"
    },
    {
     "data": {
      "application/vnd.jupyter.widget-view+json": {
       "model_id": "55e4bea49d7c4c45aaec4e92a53de348",
       "version_major": 2,
       "version_minor": 0
      },
      "text/plain": [
       "FloatProgress(value=0.0, max=109.0)"
      ]
     },
     "metadata": {},
     "output_type": "display_data"
    },
    {
     "data": {
      "application/vnd.jupyter.widget-view+json": {
       "model_id": "30bdd758d88f4bb095cac7fdb7a324ea",
       "version_major": 2,
       "version_minor": 0
      },
      "text/plain": [
       "FloatProgress(value=0.0, max=111.0)"
      ]
     },
     "metadata": {},
     "output_type": "display_data"
    },
    {
     "data": {
      "application/vnd.jupyter.widget-view+json": {
       "model_id": "ced8c4c17861464a8899f1d4e1883005",
       "version_major": 2,
       "version_minor": 0
      },
      "text/plain": [
       "FloatProgress(value=0.0, max=113.0)"
      ]
     },
     "metadata": {},
     "output_type": "display_data"
    },
    {
     "data": {
      "application/vnd.jupyter.widget-view+json": {
       "model_id": "616c8577489c460a9c659e211e3eaea8",
       "version_major": 2,
       "version_minor": 0
      },
      "text/plain": [
       "FloatProgress(value=0.0, max=115.0)"
      ]
     },
     "metadata": {},
     "output_type": "display_data"
    },
    {
     "data": {
      "application/vnd.jupyter.widget-view+json": {
       "model_id": "7234c85f8573435d84c89c62ed36174e",
       "version_major": 2,
       "version_minor": 0
      },
      "text/plain": [
       "FloatProgress(value=0.0, max=117.0)"
      ]
     },
     "metadata": {},
     "output_type": "display_data"
    },
    {
     "data": {
      "application/vnd.jupyter.widget-view+json": {
       "model_id": "3fb66b293a734229afe14bed24ab973a",
       "version_major": 2,
       "version_minor": 0
      },
      "text/plain": [
       "FloatProgress(value=0.0, max=119.0)"
      ]
     },
     "metadata": {},
     "output_type": "display_data"
    },
    {
     "data": {
      "application/vnd.jupyter.widget-view+json": {
       "model_id": "9b84509d5e9b444cb9a6ee539e8ae86a",
       "version_major": 2,
       "version_minor": 0
      },
      "text/plain": [
       "FloatProgress(value=0.0, max=121.0)"
      ]
     },
     "metadata": {},
     "output_type": "display_data"
    },
    {
     "data": {
      "application/vnd.jupyter.widget-view+json": {
       "model_id": "0d24bb26a38e407e8004589047770009",
       "version_major": 2,
       "version_minor": 0
      },
      "text/plain": [
       "FloatProgress(value=0.0, max=123.0)"
      ]
     },
     "metadata": {},
     "output_type": "display_data"
    },
    {
     "data": {
      "application/vnd.jupyter.widget-view+json": {
       "model_id": "10e6640a73694bcb9f91fdf981edc4d6",
       "version_major": 2,
       "version_minor": 0
      },
      "text/plain": [
       "FloatProgress(value=0.0, max=125.0)"
      ]
     },
     "metadata": {},
     "output_type": "display_data"
    },
    {
     "data": {
      "application/vnd.jupyter.widget-view+json": {
       "model_id": "4a1c07513e624e2f9b1ee45e29e1774a",
       "version_major": 2,
       "version_minor": 0
      },
      "text/plain": [
       "FloatProgress(value=0.0, max=127.0)"
      ]
     },
     "metadata": {},
     "output_type": "display_data"
    },
    {
     "data": {
      "application/vnd.jupyter.widget-view+json": {
       "model_id": "5cd9da174646452eb679052e5555431b",
       "version_major": 2,
       "version_minor": 0
      },
      "text/plain": [
       "FloatProgress(value=0.0, max=129.0)"
      ]
     },
     "metadata": {},
     "output_type": "display_data"
    },
    {
     "data": {
      "application/vnd.jupyter.widget-view+json": {
       "model_id": "b40f904b7b03489eb22b3aa5ef7d83e3",
       "version_major": 2,
       "version_minor": 0
      },
      "text/plain": [
       "FloatProgress(value=0.0, max=131.0)"
      ]
     },
     "metadata": {},
     "output_type": "display_data"
    },
    {
     "data": {
      "application/vnd.jupyter.widget-view+json": {
       "model_id": "0545e0a5c2fa4808ae8b6946d43dbce6",
       "version_major": 2,
       "version_minor": 0
      },
      "text/plain": [
       "FloatProgress(value=0.0, max=133.0)"
      ]
     },
     "metadata": {},
     "output_type": "display_data"
    },
    {
     "data": {
      "application/vnd.jupyter.widget-view+json": {
       "model_id": "a7e08af7cc3b4b7ba8003b5f3e3769dc",
       "version_major": 2,
       "version_minor": 0
      },
      "text/plain": [
       "FloatProgress(value=0.0, max=135.0)"
      ]
     },
     "metadata": {},
     "output_type": "display_data"
    },
    {
     "data": {
      "application/vnd.jupyter.widget-view+json": {
       "model_id": "bf385ab7c0ad48879bf2630e59ffb23c",
       "version_major": 2,
       "version_minor": 0
      },
      "text/plain": [
       "FloatProgress(value=0.0, max=137.0)"
      ]
     },
     "metadata": {},
     "output_type": "display_data"
    },
    {
     "data": {
      "application/vnd.jupyter.widget-view+json": {
       "model_id": "9135b204c0db42d7a5fa1d0cfd4d3095",
       "version_major": 2,
       "version_minor": 0
      },
      "text/plain": [
       "FloatProgress(value=0.0, max=139.0)"
      ]
     },
     "metadata": {},
     "output_type": "display_data"
    },
    {
     "data": {
      "application/vnd.jupyter.widget-view+json": {
       "model_id": "e624380fdb8e486e97d8b00d8043b3b3",
       "version_major": 2,
       "version_minor": 0
      },
      "text/plain": [
       "FloatProgress(value=0.0, max=141.0)"
      ]
     },
     "metadata": {},
     "output_type": "display_data"
    },
    {
     "data": {
      "application/vnd.jupyter.widget-view+json": {
       "model_id": "ee7bff5fe5a54bd482b963dd8931c088",
       "version_major": 2,
       "version_minor": 0
      },
      "text/plain": [
       "FloatProgress(value=0.0, max=143.0)"
      ]
     },
     "metadata": {},
     "output_type": "display_data"
    },
    {
     "data": {
      "application/vnd.jupyter.widget-view+json": {
       "model_id": "57707089d63b4c5c9326287cca5a9f21",
       "version_major": 2,
       "version_minor": 0
      },
      "text/plain": [
       "FloatProgress(value=0.0, max=145.0)"
      ]
     },
     "metadata": {},
     "output_type": "display_data"
    },
    {
     "data": {
      "application/vnd.jupyter.widget-view+json": {
       "model_id": "38b8142ccd424976be72cc0a52558b1e",
       "version_major": 2,
       "version_minor": 0
      },
      "text/plain": [
       "FloatProgress(value=0.0, max=147.0)"
      ]
     },
     "metadata": {},
     "output_type": "display_data"
    },
    {
     "data": {
      "application/vnd.jupyter.widget-view+json": {
       "model_id": "fde73002cb1643fb85e00f74ae2f344c",
       "version_major": 2,
       "version_minor": 0
      },
      "text/plain": [
       "FloatProgress(value=0.0, max=149.0)"
      ]
     },
     "metadata": {},
     "output_type": "display_data"
    },
    {
     "data": {
      "application/vnd.jupyter.widget-view+json": {
       "model_id": "542c858c92ad45d3a30c0538a7ed1186",
       "version_major": 2,
       "version_minor": 0
      },
      "text/plain": [
       "FloatProgress(value=0.0, max=151.0)"
      ]
     },
     "metadata": {},
     "output_type": "display_data"
    },
    {
     "data": {
      "application/vnd.jupyter.widget-view+json": {
       "model_id": "39e569649016454f9740478a6c036680",
       "version_major": 2,
       "version_minor": 0
      },
      "text/plain": [
       "FloatProgress(value=0.0, max=153.0)"
      ]
     },
     "metadata": {},
     "output_type": "display_data"
    },
    {
     "data": {
      "application/vnd.jupyter.widget-view+json": {
       "model_id": "8475a1d7b87c4a04b79ee7efed1b14a6",
       "version_major": 2,
       "version_minor": 0
      },
      "text/plain": [
       "FloatProgress(value=0.0, max=155.0)"
      ]
     },
     "metadata": {},
     "output_type": "display_data"
    },
    {
     "data": {
      "application/vnd.jupyter.widget-view+json": {
       "model_id": "8ffaafe15f9d4c56a8bac6812e73214e",
       "version_major": 2,
       "version_minor": 0
      },
      "text/plain": [
       "FloatProgress(value=0.0, max=157.0)"
      ]
     },
     "metadata": {},
     "output_type": "display_data"
    },
    {
     "data": {
      "application/vnd.jupyter.widget-view+json": {
       "model_id": "689d773d3bdb4aed83959bbcc99f63a5",
       "version_major": 2,
       "version_minor": 0
      },
      "text/plain": [
       "FloatProgress(value=0.0, max=159.0)"
      ]
     },
     "metadata": {},
     "output_type": "display_data"
    },
    {
     "data": {
      "application/vnd.jupyter.widget-view+json": {
       "model_id": "5b391fdf70ad4358b8f4a22b363dc7f9",
       "version_major": 2,
       "version_minor": 0
      },
      "text/plain": [
       "FloatProgress(value=0.0, max=161.0)"
      ]
     },
     "metadata": {},
     "output_type": "display_data"
    },
    {
     "data": {
      "application/vnd.jupyter.widget-view+json": {
       "model_id": "0171d29b4d19422295308f7ee570cec1",
       "version_major": 2,
       "version_minor": 0
      },
      "text/plain": [
       "FloatProgress(value=0.0, max=163.0)"
      ]
     },
     "metadata": {},
     "output_type": "display_data"
    },
    {
     "data": {
      "application/vnd.jupyter.widget-view+json": {
       "model_id": "cd81577bf0144ba9b3fde53ac24fcc38",
       "version_major": 2,
       "version_minor": 0
      },
      "text/plain": [
       "FloatProgress(value=0.0, max=165.0)"
      ]
     },
     "metadata": {},
     "output_type": "display_data"
    },
    {
     "data": {
      "application/vnd.jupyter.widget-view+json": {
       "model_id": "9edd5d46e3d747b69309d9a0433524bd",
       "version_major": 2,
       "version_minor": 0
      },
      "text/plain": [
       "FloatProgress(value=0.0, max=167.0)"
      ]
     },
     "metadata": {},
     "output_type": "display_data"
    },
    {
     "data": {
      "application/vnd.jupyter.widget-view+json": {
       "model_id": "33e7323f698546baac56025d5a9d14e7",
       "version_major": 2,
       "version_minor": 0
      },
      "text/plain": [
       "FloatProgress(value=0.0, max=169.0)"
      ]
     },
     "metadata": {},
     "output_type": "display_data"
    },
    {
     "data": {
      "application/vnd.jupyter.widget-view+json": {
       "model_id": "7fc70501f5dd4bbc98e52a2ba0a973fe",
       "version_major": 2,
       "version_minor": 0
      },
      "text/plain": [
       "FloatProgress(value=0.0, max=171.0)"
      ]
     },
     "metadata": {},
     "output_type": "display_data"
    },
    {
     "data": {
      "application/vnd.jupyter.widget-view+json": {
       "model_id": "156dd2e321d3447a94cf610831d5fb19",
       "version_major": 2,
       "version_minor": 0
      },
      "text/plain": [
       "FloatProgress(value=0.0, max=173.0)"
      ]
     },
     "metadata": {},
     "output_type": "display_data"
    },
    {
     "data": {
      "application/vnd.jupyter.widget-view+json": {
       "model_id": "62e253aa708944de9b64c20fa7d46acd",
       "version_major": 2,
       "version_minor": 0
      },
      "text/plain": [
       "FloatProgress(value=0.0, max=175.0)"
      ]
     },
     "metadata": {},
     "output_type": "display_data"
    },
    {
     "data": {
      "application/vnd.jupyter.widget-view+json": {
       "model_id": "f2b6641035554a3aa4b545b75f82e253",
       "version_major": 2,
       "version_minor": 0
      },
      "text/plain": [
       "FloatProgress(value=0.0, max=177.0)"
      ]
     },
     "metadata": {},
     "output_type": "display_data"
    },
    {
     "data": {
      "application/vnd.jupyter.widget-view+json": {
       "model_id": "3239e7b3fb7a48b6bb074b748e8e3e69",
       "version_major": 2,
       "version_minor": 0
      },
      "text/plain": [
       "FloatProgress(value=0.0, max=179.0)"
      ]
     },
     "metadata": {},
     "output_type": "display_data"
    },
    {
     "data": {
      "application/vnd.jupyter.widget-view+json": {
       "model_id": "110ba43b216a43168f57417727cf2d12",
       "version_major": 2,
       "version_minor": 0
      },
      "text/plain": [
       "FloatProgress(value=0.0, max=181.0)"
      ]
     },
     "metadata": {},
     "output_type": "display_data"
    },
    {
     "data": {
      "application/vnd.jupyter.widget-view+json": {
       "model_id": "367879a8d6bc4499a8c92815e14daf59",
       "version_major": 2,
       "version_minor": 0
      },
      "text/plain": [
       "FloatProgress(value=0.0, max=183.0)"
      ]
     },
     "metadata": {},
     "output_type": "display_data"
    },
    {
     "data": {
      "application/vnd.jupyter.widget-view+json": {
       "model_id": "d3aa1ed8958142338061f6a2a6f7919a",
       "version_major": 2,
       "version_minor": 0
      },
      "text/plain": [
       "FloatProgress(value=0.0, max=185.0)"
      ]
     },
     "metadata": {},
     "output_type": "display_data"
    },
    {
     "data": {
      "application/vnd.jupyter.widget-view+json": {
       "model_id": "b93c339aefd44dd8b0ee0bdc3cf8b844",
       "version_major": 2,
       "version_minor": 0
      },
      "text/plain": [
       "FloatProgress(value=0.0, max=187.0)"
      ]
     },
     "metadata": {},
     "output_type": "display_data"
    },
    {
     "data": {
      "application/vnd.jupyter.widget-view+json": {
       "model_id": "12ec4d7ebe474e70b10c920534ed496d",
       "version_major": 2,
       "version_minor": 0
      },
      "text/plain": [
       "FloatProgress(value=0.0, max=189.0)"
      ]
     },
     "metadata": {},
     "output_type": "display_data"
    },
    {
     "data": {
      "application/vnd.jupyter.widget-view+json": {
       "model_id": "9dae4b8244f14b87a3b0a3c77d3c7d65",
       "version_major": 2,
       "version_minor": 0
      },
      "text/plain": [
       "FloatProgress(value=0.0, max=191.0)"
      ]
     },
     "metadata": {},
     "output_type": "display_data"
    },
    {
     "data": {
      "application/vnd.jupyter.widget-view+json": {
       "model_id": "707f18148e27431a96284a0703e1f95c",
       "version_major": 2,
       "version_minor": 0
      },
      "text/plain": [
       "FloatProgress(value=0.0, max=193.0)"
      ]
     },
     "metadata": {},
     "output_type": "display_data"
    },
    {
     "data": {
      "application/vnd.jupyter.widget-view+json": {
       "model_id": "3938f40c17b04df982ae2a7e90e321b1",
       "version_major": 2,
       "version_minor": 0
      },
      "text/plain": [
       "FloatProgress(value=0.0, max=195.0)"
      ]
     },
     "metadata": {},
     "output_type": "display_data"
    },
    {
     "data": {
      "application/vnd.jupyter.widget-view+json": {
       "model_id": "0e5408f09cd846d39b2088611c326936",
       "version_major": 2,
       "version_minor": 0
      },
      "text/plain": [
       "FloatProgress(value=0.0, max=197.0)"
      ]
     },
     "metadata": {},
     "output_type": "display_data"
    },
    {
     "data": {
      "application/vnd.jupyter.widget-view+json": {
       "model_id": "4cf90e000b4340fb8f5dea4c16b3ffe7",
       "version_major": 2,
       "version_minor": 0
      },
      "text/plain": [
       "FloatProgress(value=0.0, max=199.0)"
      ]
     },
     "metadata": {},
     "output_type": "display_data"
    },
    {
     "data": {
      "application/vnd.jupyter.widget-view+json": {
       "model_id": "2c3cded6fed14cd2af56d89680fc1fdb",
       "version_major": 2,
       "version_minor": 0
      },
      "text/plain": [
       "FloatProgress(value=0.0, max=201.0)"
      ]
     },
     "metadata": {},
     "output_type": "display_data"
    },
    {
     "data": {
      "application/javascript": [
       "/* Put everything inside the global mpl namespace */\n",
       "window.mpl = {};\n",
       "\n",
       "\n",
       "mpl.get_websocket_type = function() {\n",
       "    if (typeof(WebSocket) !== 'undefined') {\n",
       "        return WebSocket;\n",
       "    } else if (typeof(MozWebSocket) !== 'undefined') {\n",
       "        return MozWebSocket;\n",
       "    } else {\n",
       "        alert('Your browser does not have WebSocket support.' +\n",
       "              'Please try Chrome, Safari or Firefox ≥ 6. ' +\n",
       "              'Firefox 4 and 5 are also supported but you ' +\n",
       "              'have to enable WebSockets in about:config.');\n",
       "    };\n",
       "}\n",
       "\n",
       "mpl.figure = function(figure_id, websocket, ondownload, parent_element) {\n",
       "    this.id = figure_id;\n",
       "\n",
       "    this.ws = websocket;\n",
       "\n",
       "    this.supports_binary = (this.ws.binaryType != undefined);\n",
       "\n",
       "    if (!this.supports_binary) {\n",
       "        var warnings = document.getElementById(\"mpl-warnings\");\n",
       "        if (warnings) {\n",
       "            warnings.style.display = 'block';\n",
       "            warnings.textContent = (\n",
       "                \"This browser does not support binary websocket messages. \" +\n",
       "                    \"Performance may be slow.\");\n",
       "        }\n",
       "    }\n",
       "\n",
       "    this.imageObj = new Image();\n",
       "\n",
       "    this.context = undefined;\n",
       "    this.message = undefined;\n",
       "    this.canvas = undefined;\n",
       "    this.rubberband_canvas = undefined;\n",
       "    this.rubberband_context = undefined;\n",
       "    this.format_dropdown = undefined;\n",
       "\n",
       "    this.image_mode = 'full';\n",
       "\n",
       "    this.root = $('<div/>');\n",
       "    this._root_extra_style(this.root)\n",
       "    this.root.attr('style', 'display: inline-block');\n",
       "\n",
       "    $(parent_element).append(this.root);\n",
       "\n",
       "    this._init_header(this);\n",
       "    this._init_canvas(this);\n",
       "    this._init_toolbar(this);\n",
       "\n",
       "    var fig = this;\n",
       "\n",
       "    this.waiting = false;\n",
       "\n",
       "    this.ws.onopen =  function () {\n",
       "            fig.send_message(\"supports_binary\", {value: fig.supports_binary});\n",
       "            fig.send_message(\"send_image_mode\", {});\n",
       "            if (mpl.ratio != 1) {\n",
       "                fig.send_message(\"set_dpi_ratio\", {'dpi_ratio': mpl.ratio});\n",
       "            }\n",
       "            fig.send_message(\"refresh\", {});\n",
       "        }\n",
       "\n",
       "    this.imageObj.onload = function() {\n",
       "            if (fig.image_mode == 'full') {\n",
       "                // Full images could contain transparency (where diff images\n",
       "                // almost always do), so we need to clear the canvas so that\n",
       "                // there is no ghosting.\n",
       "                fig.context.clearRect(0, 0, fig.canvas.width, fig.canvas.height);\n",
       "            }\n",
       "            fig.context.drawImage(fig.imageObj, 0, 0);\n",
       "        };\n",
       "\n",
       "    this.imageObj.onunload = function() {\n",
       "        fig.ws.close();\n",
       "    }\n",
       "\n",
       "    this.ws.onmessage = this._make_on_message_function(this);\n",
       "\n",
       "    this.ondownload = ondownload;\n",
       "}\n",
       "\n",
       "mpl.figure.prototype._init_header = function() {\n",
       "    var titlebar = $(\n",
       "        '<div class=\"ui-dialog-titlebar ui-widget-header ui-corner-all ' +\n",
       "        'ui-helper-clearfix\"/>');\n",
       "    var titletext = $(\n",
       "        '<div class=\"ui-dialog-title\" style=\"width: 100%; ' +\n",
       "        'text-align: center; padding: 3px;\"/>');\n",
       "    titlebar.append(titletext)\n",
       "    this.root.append(titlebar);\n",
       "    this.header = titletext[0];\n",
       "}\n",
       "\n",
       "\n",
       "\n",
       "mpl.figure.prototype._canvas_extra_style = function(canvas_div) {\n",
       "\n",
       "}\n",
       "\n",
       "\n",
       "mpl.figure.prototype._root_extra_style = function(canvas_div) {\n",
       "\n",
       "}\n",
       "\n",
       "mpl.figure.prototype._init_canvas = function() {\n",
       "    var fig = this;\n",
       "\n",
       "    var canvas_div = $('<div/>');\n",
       "\n",
       "    canvas_div.attr('style', 'position: relative; clear: both; outline: 0');\n",
       "\n",
       "    function canvas_keyboard_event(event) {\n",
       "        return fig.key_event(event, event['data']);\n",
       "    }\n",
       "\n",
       "    canvas_div.keydown('key_press', canvas_keyboard_event);\n",
       "    canvas_div.keyup('key_release', canvas_keyboard_event);\n",
       "    this.canvas_div = canvas_div\n",
       "    this._canvas_extra_style(canvas_div)\n",
       "    this.root.append(canvas_div);\n",
       "\n",
       "    var canvas = $('<canvas/>');\n",
       "    canvas.addClass('mpl-canvas');\n",
       "    canvas.attr('style', \"left: 0; top: 0; z-index: 0; outline: 0\")\n",
       "\n",
       "    this.canvas = canvas[0];\n",
       "    this.context = canvas[0].getContext(\"2d\");\n",
       "\n",
       "    var backingStore = this.context.backingStorePixelRatio ||\n",
       "\tthis.context.webkitBackingStorePixelRatio ||\n",
       "\tthis.context.mozBackingStorePixelRatio ||\n",
       "\tthis.context.msBackingStorePixelRatio ||\n",
       "\tthis.context.oBackingStorePixelRatio ||\n",
       "\tthis.context.backingStorePixelRatio || 1;\n",
       "\n",
       "    mpl.ratio = (window.devicePixelRatio || 1) / backingStore;\n",
       "\n",
       "    var rubberband = $('<canvas/>');\n",
       "    rubberband.attr('style', \"position: absolute; left: 0; top: 0; z-index: 1;\")\n",
       "\n",
       "    var pass_mouse_events = true;\n",
       "\n",
       "    canvas_div.resizable({\n",
       "        start: function(event, ui) {\n",
       "            pass_mouse_events = false;\n",
       "        },\n",
       "        resize: function(event, ui) {\n",
       "            fig.request_resize(ui.size.width, ui.size.height);\n",
       "        },\n",
       "        stop: function(event, ui) {\n",
       "            pass_mouse_events = true;\n",
       "            fig.request_resize(ui.size.width, ui.size.height);\n",
       "        },\n",
       "    });\n",
       "\n",
       "    function mouse_event_fn(event) {\n",
       "        if (pass_mouse_events)\n",
       "            return fig.mouse_event(event, event['data']);\n",
       "    }\n",
       "\n",
       "    rubberband.mousedown('button_press', mouse_event_fn);\n",
       "    rubberband.mouseup('button_release', mouse_event_fn);\n",
       "    // Throttle sequential mouse events to 1 every 20ms.\n",
       "    rubberband.mousemove('motion_notify', mouse_event_fn);\n",
       "\n",
       "    rubberband.mouseenter('figure_enter', mouse_event_fn);\n",
       "    rubberband.mouseleave('figure_leave', mouse_event_fn);\n",
       "\n",
       "    canvas_div.on(\"wheel\", function (event) {\n",
       "        event = event.originalEvent;\n",
       "        event['data'] = 'scroll'\n",
       "        if (event.deltaY < 0) {\n",
       "            event.step = 1;\n",
       "        } else {\n",
       "            event.step = -1;\n",
       "        }\n",
       "        mouse_event_fn(event);\n",
       "    });\n",
       "\n",
       "    canvas_div.append(canvas);\n",
       "    canvas_div.append(rubberband);\n",
       "\n",
       "    this.rubberband = rubberband;\n",
       "    this.rubberband_canvas = rubberband[0];\n",
       "    this.rubberband_context = rubberband[0].getContext(\"2d\");\n",
       "    this.rubberband_context.strokeStyle = \"#000000\";\n",
       "\n",
       "    this._resize_canvas = function(width, height) {\n",
       "        // Keep the size of the canvas, canvas container, and rubber band\n",
       "        // canvas in synch.\n",
       "        canvas_div.css('width', width)\n",
       "        canvas_div.css('height', height)\n",
       "\n",
       "        canvas.attr('width', width * mpl.ratio);\n",
       "        canvas.attr('height', height * mpl.ratio);\n",
       "        canvas.attr('style', 'width: ' + width + 'px; height: ' + height + 'px;');\n",
       "\n",
       "        rubberband.attr('width', width);\n",
       "        rubberband.attr('height', height);\n",
       "    }\n",
       "\n",
       "    // Set the figure to an initial 600x600px, this will subsequently be updated\n",
       "    // upon first draw.\n",
       "    this._resize_canvas(600, 600);\n",
       "\n",
       "    // Disable right mouse context menu.\n",
       "    $(this.rubberband_canvas).bind(\"contextmenu\",function(e){\n",
       "        return false;\n",
       "    });\n",
       "\n",
       "    function set_focus () {\n",
       "        canvas.focus();\n",
       "        canvas_div.focus();\n",
       "    }\n",
       "\n",
       "    window.setTimeout(set_focus, 100);\n",
       "}\n",
       "\n",
       "mpl.figure.prototype._init_toolbar = function() {\n",
       "    var fig = this;\n",
       "\n",
       "    var nav_element = $('<div/>')\n",
       "    nav_element.attr('style', 'width: 100%');\n",
       "    this.root.append(nav_element);\n",
       "\n",
       "    // Define a callback function for later on.\n",
       "    function toolbar_event(event) {\n",
       "        return fig.toolbar_button_onclick(event['data']);\n",
       "    }\n",
       "    function toolbar_mouse_event(event) {\n",
       "        return fig.toolbar_button_onmouseover(event['data']);\n",
       "    }\n",
       "\n",
       "    for(var toolbar_ind in mpl.toolbar_items) {\n",
       "        var name = mpl.toolbar_items[toolbar_ind][0];\n",
       "        var tooltip = mpl.toolbar_items[toolbar_ind][1];\n",
       "        var image = mpl.toolbar_items[toolbar_ind][2];\n",
       "        var method_name = mpl.toolbar_items[toolbar_ind][3];\n",
       "\n",
       "        if (!name) {\n",
       "            // put a spacer in here.\n",
       "            continue;\n",
       "        }\n",
       "        var button = $('<button/>');\n",
       "        button.addClass('ui-button ui-widget ui-state-default ui-corner-all ' +\n",
       "                        'ui-button-icon-only');\n",
       "        button.attr('role', 'button');\n",
       "        button.attr('aria-disabled', 'false');\n",
       "        button.click(method_name, toolbar_event);\n",
       "        button.mouseover(tooltip, toolbar_mouse_event);\n",
       "\n",
       "        var icon_img = $('<span/>');\n",
       "        icon_img.addClass('ui-button-icon-primary ui-icon');\n",
       "        icon_img.addClass(image);\n",
       "        icon_img.addClass('ui-corner-all');\n",
       "\n",
       "        var tooltip_span = $('<span/>');\n",
       "        tooltip_span.addClass('ui-button-text');\n",
       "        tooltip_span.html(tooltip);\n",
       "\n",
       "        button.append(icon_img);\n",
       "        button.append(tooltip_span);\n",
       "\n",
       "        nav_element.append(button);\n",
       "    }\n",
       "\n",
       "    var fmt_picker_span = $('<span/>');\n",
       "\n",
       "    var fmt_picker = $('<select/>');\n",
       "    fmt_picker.addClass('mpl-toolbar-option ui-widget ui-widget-content');\n",
       "    fmt_picker_span.append(fmt_picker);\n",
       "    nav_element.append(fmt_picker_span);\n",
       "    this.format_dropdown = fmt_picker[0];\n",
       "\n",
       "    for (var ind in mpl.extensions) {\n",
       "        var fmt = mpl.extensions[ind];\n",
       "        var option = $(\n",
       "            '<option/>', {selected: fmt === mpl.default_extension}).html(fmt);\n",
       "        fmt_picker.append(option)\n",
       "    }\n",
       "\n",
       "    // Add hover states to the ui-buttons\n",
       "    $( \".ui-button\" ).hover(\n",
       "        function() { $(this).addClass(\"ui-state-hover\");},\n",
       "        function() { $(this).removeClass(\"ui-state-hover\");}\n",
       "    );\n",
       "\n",
       "    var status_bar = $('<span class=\"mpl-message\"/>');\n",
       "    nav_element.append(status_bar);\n",
       "    this.message = status_bar[0];\n",
       "}\n",
       "\n",
       "mpl.figure.prototype.request_resize = function(x_pixels, y_pixels) {\n",
       "    // Request matplotlib to resize the figure. Matplotlib will then trigger a resize in the client,\n",
       "    // which will in turn request a refresh of the image.\n",
       "    this.send_message('resize', {'width': x_pixels, 'height': y_pixels});\n",
       "}\n",
       "\n",
       "mpl.figure.prototype.send_message = function(type, properties) {\n",
       "    properties['type'] = type;\n",
       "    properties['figure_id'] = this.id;\n",
       "    this.ws.send(JSON.stringify(properties));\n",
       "}\n",
       "\n",
       "mpl.figure.prototype.send_draw_message = function() {\n",
       "    if (!this.waiting) {\n",
       "        this.waiting = true;\n",
       "        this.ws.send(JSON.stringify({type: \"draw\", figure_id: this.id}));\n",
       "    }\n",
       "}\n",
       "\n",
       "\n",
       "mpl.figure.prototype.handle_save = function(fig, msg) {\n",
       "    var format_dropdown = fig.format_dropdown;\n",
       "    var format = format_dropdown.options[format_dropdown.selectedIndex].value;\n",
       "    fig.ondownload(fig, format);\n",
       "}\n",
       "\n",
       "\n",
       "mpl.figure.prototype.handle_resize = function(fig, msg) {\n",
       "    var size = msg['size'];\n",
       "    if (size[0] != fig.canvas.width || size[1] != fig.canvas.height) {\n",
       "        fig._resize_canvas(size[0], size[1]);\n",
       "        fig.send_message(\"refresh\", {});\n",
       "    };\n",
       "}\n",
       "\n",
       "mpl.figure.prototype.handle_rubberband = function(fig, msg) {\n",
       "    var x0 = msg['x0'] / mpl.ratio;\n",
       "    var y0 = (fig.canvas.height - msg['y0']) / mpl.ratio;\n",
       "    var x1 = msg['x1'] / mpl.ratio;\n",
       "    var y1 = (fig.canvas.height - msg['y1']) / mpl.ratio;\n",
       "    x0 = Math.floor(x0) + 0.5;\n",
       "    y0 = Math.floor(y0) + 0.5;\n",
       "    x1 = Math.floor(x1) + 0.5;\n",
       "    y1 = Math.floor(y1) + 0.5;\n",
       "    var min_x = Math.min(x0, x1);\n",
       "    var min_y = Math.min(y0, y1);\n",
       "    var width = Math.abs(x1 - x0);\n",
       "    var height = Math.abs(y1 - y0);\n",
       "\n",
       "    fig.rubberband_context.clearRect(\n",
       "        0, 0, fig.canvas.width, fig.canvas.height);\n",
       "\n",
       "    fig.rubberband_context.strokeRect(min_x, min_y, width, height);\n",
       "}\n",
       "\n",
       "mpl.figure.prototype.handle_figure_label = function(fig, msg) {\n",
       "    // Updates the figure title.\n",
       "    fig.header.textContent = msg['label'];\n",
       "}\n",
       "\n",
       "mpl.figure.prototype.handle_cursor = function(fig, msg) {\n",
       "    var cursor = msg['cursor'];\n",
       "    switch(cursor)\n",
       "    {\n",
       "    case 0:\n",
       "        cursor = 'pointer';\n",
       "        break;\n",
       "    case 1:\n",
       "        cursor = 'default';\n",
       "        break;\n",
       "    case 2:\n",
       "        cursor = 'crosshair';\n",
       "        break;\n",
       "    case 3:\n",
       "        cursor = 'move';\n",
       "        break;\n",
       "    }\n",
       "    fig.rubberband_canvas.style.cursor = cursor;\n",
       "}\n",
       "\n",
       "mpl.figure.prototype.handle_message = function(fig, msg) {\n",
       "    fig.message.textContent = msg['message'];\n",
       "}\n",
       "\n",
       "mpl.figure.prototype.handle_draw = function(fig, msg) {\n",
       "    // Request the server to send over a new figure.\n",
       "    fig.send_draw_message();\n",
       "}\n",
       "\n",
       "mpl.figure.prototype.handle_image_mode = function(fig, msg) {\n",
       "    fig.image_mode = msg['mode'];\n",
       "}\n",
       "\n",
       "mpl.figure.prototype.updated_canvas_event = function() {\n",
       "    // Called whenever the canvas gets updated.\n",
       "    this.send_message(\"ack\", {});\n",
       "}\n",
       "\n",
       "// A function to construct a web socket function for onmessage handling.\n",
       "// Called in the figure constructor.\n",
       "mpl.figure.prototype._make_on_message_function = function(fig) {\n",
       "    return function socket_on_message(evt) {\n",
       "        if (evt.data instanceof Blob) {\n",
       "            /* FIXME: We get \"Resource interpreted as Image but\n",
       "             * transferred with MIME type text/plain:\" errors on\n",
       "             * Chrome.  But how to set the MIME type?  It doesn't seem\n",
       "             * to be part of the websocket stream */\n",
       "            evt.data.type = \"image/png\";\n",
       "\n",
       "            /* Free the memory for the previous frames */\n",
       "            if (fig.imageObj.src) {\n",
       "                (window.URL || window.webkitURL).revokeObjectURL(\n",
       "                    fig.imageObj.src);\n",
       "            }\n",
       "\n",
       "            fig.imageObj.src = (window.URL || window.webkitURL).createObjectURL(\n",
       "                evt.data);\n",
       "            fig.updated_canvas_event();\n",
       "            fig.waiting = false;\n",
       "            return;\n",
       "        }\n",
       "        else if (typeof evt.data === 'string' && evt.data.slice(0, 21) == \"data:image/png;base64\") {\n",
       "            fig.imageObj.src = evt.data;\n",
       "            fig.updated_canvas_event();\n",
       "            fig.waiting = false;\n",
       "            return;\n",
       "        }\n",
       "\n",
       "        var msg = JSON.parse(evt.data);\n",
       "        var msg_type = msg['type'];\n",
       "\n",
       "        // Call the  \"handle_{type}\" callback, which takes\n",
       "        // the figure and JSON message as its only arguments.\n",
       "        try {\n",
       "            var callback = fig[\"handle_\" + msg_type];\n",
       "        } catch (e) {\n",
       "            console.log(\"No handler for the '\" + msg_type + \"' message type: \", msg);\n",
       "            return;\n",
       "        }\n",
       "\n",
       "        if (callback) {\n",
       "            try {\n",
       "                // console.log(\"Handling '\" + msg_type + \"' message: \", msg);\n",
       "                callback(fig, msg);\n",
       "            } catch (e) {\n",
       "                console.log(\"Exception inside the 'handler_\" + msg_type + \"' callback:\", e, e.stack, msg);\n",
       "            }\n",
       "        }\n",
       "    };\n",
       "}\n",
       "\n",
       "// from http://stackoverflow.com/questions/1114465/getting-mouse-location-in-canvas\n",
       "mpl.findpos = function(e) {\n",
       "    //this section is from http://www.quirksmode.org/js/events_properties.html\n",
       "    var targ;\n",
       "    if (!e)\n",
       "        e = window.event;\n",
       "    if (e.target)\n",
       "        targ = e.target;\n",
       "    else if (e.srcElement)\n",
       "        targ = e.srcElement;\n",
       "    if (targ.nodeType == 3) // defeat Safari bug\n",
       "        targ = targ.parentNode;\n",
       "\n",
       "    // jQuery normalizes the pageX and pageY\n",
       "    // pageX,Y are the mouse positions relative to the document\n",
       "    // offset() returns the position of the element relative to the document\n",
       "    var x = e.pageX - $(targ).offset().left;\n",
       "    var y = e.pageY - $(targ).offset().top;\n",
       "\n",
       "    return {\"x\": x, \"y\": y};\n",
       "};\n",
       "\n",
       "/*\n",
       " * return a copy of an object with only non-object keys\n",
       " * we need this to avoid circular references\n",
       " * http://stackoverflow.com/a/24161582/3208463\n",
       " */\n",
       "function simpleKeys (original) {\n",
       "  return Object.keys(original).reduce(function (obj, key) {\n",
       "    if (typeof original[key] !== 'object')\n",
       "        obj[key] = original[key]\n",
       "    return obj;\n",
       "  }, {});\n",
       "}\n",
       "\n",
       "mpl.figure.prototype.mouse_event = function(event, name) {\n",
       "    var canvas_pos = mpl.findpos(event)\n",
       "\n",
       "    if (name === 'button_press')\n",
       "    {\n",
       "        this.canvas.focus();\n",
       "        this.canvas_div.focus();\n",
       "    }\n",
       "\n",
       "    var x = canvas_pos.x * mpl.ratio;\n",
       "    var y = canvas_pos.y * mpl.ratio;\n",
       "\n",
       "    this.send_message(name, {x: x, y: y, button: event.button,\n",
       "                             step: event.step,\n",
       "                             guiEvent: simpleKeys(event)});\n",
       "\n",
       "    /* This prevents the web browser from automatically changing to\n",
       "     * the text insertion cursor when the button is pressed.  We want\n",
       "     * to control all of the cursor setting manually through the\n",
       "     * 'cursor' event from matplotlib */\n",
       "    event.preventDefault();\n",
       "    return false;\n",
       "}\n",
       "\n",
       "mpl.figure.prototype._key_event_extra = function(event, name) {\n",
       "    // Handle any extra behaviour associated with a key event\n",
       "}\n",
       "\n",
       "mpl.figure.prototype.key_event = function(event, name) {\n",
       "\n",
       "    // Prevent repeat events\n",
       "    if (name == 'key_press')\n",
       "    {\n",
       "        if (event.which === this._key)\n",
       "            return;\n",
       "        else\n",
       "            this._key = event.which;\n",
       "    }\n",
       "    if (name == 'key_release')\n",
       "        this._key = null;\n",
       "\n",
       "    var value = '';\n",
       "    if (event.ctrlKey && event.which != 17)\n",
       "        value += \"ctrl+\";\n",
       "    if (event.altKey && event.which != 18)\n",
       "        value += \"alt+\";\n",
       "    if (event.shiftKey && event.which != 16)\n",
       "        value += \"shift+\";\n",
       "\n",
       "    value += 'k';\n",
       "    value += event.which.toString();\n",
       "\n",
       "    this._key_event_extra(event, name);\n",
       "\n",
       "    this.send_message(name, {key: value,\n",
       "                             guiEvent: simpleKeys(event)});\n",
       "    return false;\n",
       "}\n",
       "\n",
       "mpl.figure.prototype.toolbar_button_onclick = function(name) {\n",
       "    if (name == 'download') {\n",
       "        this.handle_save(this, null);\n",
       "    } else {\n",
       "        this.send_message(\"toolbar_button\", {name: name});\n",
       "    }\n",
       "};\n",
       "\n",
       "mpl.figure.prototype.toolbar_button_onmouseover = function(tooltip) {\n",
       "    this.message.textContent = tooltip;\n",
       "};\n",
       "mpl.toolbar_items = [[\"Home\", \"Reset original view\", \"fa fa-home icon-home\", \"home\"], [\"Back\", \"Back to  previous view\", \"fa fa-arrow-left icon-arrow-left\", \"back\"], [\"Forward\", \"Forward to next view\", \"fa fa-arrow-right icon-arrow-right\", \"forward\"], [\"\", \"\", \"\", \"\"], [\"Pan\", \"Pan axes with left mouse, zoom with right\", \"fa fa-arrows icon-move\", \"pan\"], [\"Zoom\", \"Zoom to rectangle\", \"fa fa-square-o icon-check-empty\", \"zoom\"], [\"\", \"\", \"\", \"\"], [\"Download\", \"Download plot\", \"fa fa-floppy-o icon-save\", \"download\"]];\n",
       "\n",
       "mpl.extensions = [\"eps\", \"jpeg\", \"pdf\", \"png\", \"ps\", \"raw\", \"svg\", \"tif\"];\n",
       "\n",
       "mpl.default_extension = \"png\";var comm_websocket_adapter = function(comm) {\n",
       "    // Create a \"websocket\"-like object which calls the given IPython comm\n",
       "    // object with the appropriate methods. Currently this is a non binary\n",
       "    // socket, so there is still some room for performance tuning.\n",
       "    var ws = {};\n",
       "\n",
       "    ws.close = function() {\n",
       "        comm.close()\n",
       "    };\n",
       "    ws.send = function(m) {\n",
       "        //console.log('sending', m);\n",
       "        comm.send(m);\n",
       "    };\n",
       "    // Register the callback with on_msg.\n",
       "    comm.on_msg(function(msg) {\n",
       "        //console.log('receiving', msg['content']['data'], msg);\n",
       "        // Pass the mpl event to the overridden (by mpl) onmessage function.\n",
       "        ws.onmessage(msg['content']['data'])\n",
       "    });\n",
       "    return ws;\n",
       "}\n",
       "\n",
       "mpl.mpl_figure_comm = function(comm, msg) {\n",
       "    // This is the function which gets called when the mpl process\n",
       "    // starts-up an IPython Comm through the \"matplotlib\" channel.\n",
       "\n",
       "    var id = msg.content.data.id;\n",
       "    // Get hold of the div created by the display call when the Comm\n",
       "    // socket was opened in Python.\n",
       "    var element = $(\"#\" + id);\n",
       "    var ws_proxy = comm_websocket_adapter(comm)\n",
       "\n",
       "    function ondownload(figure, format) {\n",
       "        window.open(figure.imageObj.src);\n",
       "    }\n",
       "\n",
       "    var fig = new mpl.figure(id, ws_proxy,\n",
       "                           ondownload,\n",
       "                           element.get(0));\n",
       "\n",
       "    // Call onopen now - mpl needs it, as it is assuming we've passed it a real\n",
       "    // web socket which is closed, not our websocket->open comm proxy.\n",
       "    ws_proxy.onopen();\n",
       "\n",
       "    fig.parent_element = element.get(0);\n",
       "    fig.cell_info = mpl.find_output_cell(\"<div id='\" + id + \"'></div>\");\n",
       "    if (!fig.cell_info) {\n",
       "        console.error(\"Failed to find cell for figure\", id, fig);\n",
       "        return;\n",
       "    }\n",
       "\n",
       "    var output_index = fig.cell_info[2]\n",
       "    var cell = fig.cell_info[0];\n",
       "\n",
       "};\n",
       "\n",
       "mpl.figure.prototype.handle_close = function(fig, msg) {\n",
       "    var width = fig.canvas.width/mpl.ratio\n",
       "    fig.root.unbind('remove')\n",
       "\n",
       "    // Update the output cell to use the data from the current canvas.\n",
       "    fig.push_to_output();\n",
       "    var dataURL = fig.canvas.toDataURL();\n",
       "    // Re-enable the keyboard manager in IPython - without this line, in FF,\n",
       "    // the notebook keyboard shortcuts fail.\n",
       "    IPython.keyboard_manager.enable()\n",
       "    $(fig.parent_element).html('<img src=\"' + dataURL + '\" width=\"' + width + '\">');\n",
       "    fig.close_ws(fig, msg);\n",
       "}\n",
       "\n",
       "mpl.figure.prototype.close_ws = function(fig, msg){\n",
       "    fig.send_message('closing', msg);\n",
       "    // fig.ws.close()\n",
       "}\n",
       "\n",
       "mpl.figure.prototype.push_to_output = function(remove_interactive) {\n",
       "    // Turn the data on the canvas into data in the output cell.\n",
       "    var width = this.canvas.width/mpl.ratio\n",
       "    var dataURL = this.canvas.toDataURL();\n",
       "    this.cell_info[1]['text/html'] = '<img src=\"' + dataURL + '\" width=\"' + width + '\">';\n",
       "}\n",
       "\n",
       "mpl.figure.prototype.updated_canvas_event = function() {\n",
       "    // Tell IPython that the notebook contents must change.\n",
       "    IPython.notebook.set_dirty(true);\n",
       "    this.send_message(\"ack\", {});\n",
       "    var fig = this;\n",
       "    // Wait a second, then push the new image to the DOM so\n",
       "    // that it is saved nicely (might be nice to debounce this).\n",
       "    setTimeout(function () { fig.push_to_output() }, 1000);\n",
       "}\n",
       "\n",
       "mpl.figure.prototype._init_toolbar = function() {\n",
       "    var fig = this;\n",
       "\n",
       "    var nav_element = $('<div/>')\n",
       "    nav_element.attr('style', 'width: 100%');\n",
       "    this.root.append(nav_element);\n",
       "\n",
       "    // Define a callback function for later on.\n",
       "    function toolbar_event(event) {\n",
       "        return fig.toolbar_button_onclick(event['data']);\n",
       "    }\n",
       "    function toolbar_mouse_event(event) {\n",
       "        return fig.toolbar_button_onmouseover(event['data']);\n",
       "    }\n",
       "\n",
       "    for(var toolbar_ind in mpl.toolbar_items){\n",
       "        var name = mpl.toolbar_items[toolbar_ind][0];\n",
       "        var tooltip = mpl.toolbar_items[toolbar_ind][1];\n",
       "        var image = mpl.toolbar_items[toolbar_ind][2];\n",
       "        var method_name = mpl.toolbar_items[toolbar_ind][3];\n",
       "\n",
       "        if (!name) { continue; };\n",
       "\n",
       "        var button = $('<button class=\"btn btn-default\" href=\"#\" title=\"' + name + '\"><i class=\"fa ' + image + ' fa-lg\"></i></button>');\n",
       "        button.click(method_name, toolbar_event);\n",
       "        button.mouseover(tooltip, toolbar_mouse_event);\n",
       "        nav_element.append(button);\n",
       "    }\n",
       "\n",
       "    // Add the status bar.\n",
       "    var status_bar = $('<span class=\"mpl-message\" style=\"text-align:right; float: right;\"/>');\n",
       "    nav_element.append(status_bar);\n",
       "    this.message = status_bar[0];\n",
       "\n",
       "    // Add the close button to the window.\n",
       "    var buttongrp = $('<div class=\"btn-group inline pull-right\"></div>');\n",
       "    var button = $('<button class=\"btn btn-mini btn-primary\" href=\"#\" title=\"Stop Interaction\"><i class=\"fa fa-power-off icon-remove icon-large\"></i></button>');\n",
       "    button.click(function (evt) { fig.handle_close(fig, {}); } );\n",
       "    button.mouseover('Stop Interaction', toolbar_mouse_event);\n",
       "    buttongrp.append(button);\n",
       "    var titlebar = this.root.find($('.ui-dialog-titlebar'));\n",
       "    titlebar.prepend(buttongrp);\n",
       "}\n",
       "\n",
       "mpl.figure.prototype._root_extra_style = function(el){\n",
       "    var fig = this\n",
       "    el.on(\"remove\", function(){\n",
       "\tfig.close_ws(fig, {});\n",
       "    });\n",
       "}\n",
       "\n",
       "mpl.figure.prototype._canvas_extra_style = function(el){\n",
       "    // this is important to make the div 'focusable\n",
       "    el.attr('tabindex', 0)\n",
       "    // reach out to IPython and tell the keyboard manager to turn it's self\n",
       "    // off when our div gets focus\n",
       "\n",
       "    // location in version 3\n",
       "    if (IPython.notebook.keyboard_manager) {\n",
       "        IPython.notebook.keyboard_manager.register_events(el);\n",
       "    }\n",
       "    else {\n",
       "        // location in version 2\n",
       "        IPython.keyboard_manager.register_events(el);\n",
       "    }\n",
       "\n",
       "}\n",
       "\n",
       "mpl.figure.prototype._key_event_extra = function(event, name) {\n",
       "    var manager = IPython.notebook.keyboard_manager;\n",
       "    if (!manager)\n",
       "        manager = IPython.keyboard_manager;\n",
       "\n",
       "    // Check for shift+enter\n",
       "    if (event.shiftKey && event.which == 13) {\n",
       "        this.canvas_div.blur();\n",
       "        event.shiftKey = false;\n",
       "        // Send a \"J\" for go to next cell\n",
       "        event.which = 74;\n",
       "        event.keyCode = 74;\n",
       "        manager.command_mode();\n",
       "        manager.handle_keydown(event);\n",
       "    }\n",
       "}\n",
       "\n",
       "mpl.figure.prototype.handle_save = function(fig, msg) {\n",
       "    fig.ondownload(fig, null);\n",
       "}\n",
       "\n",
       "\n",
       "mpl.find_output_cell = function(html_output) {\n",
       "    // Return the cell and output element which can be found *uniquely* in the notebook.\n",
       "    // Note - this is a bit hacky, but it is done because the \"notebook_saving.Notebook\"\n",
       "    // IPython event is triggered only after the cells have been serialised, which for\n",
       "    // our purposes (turning an active figure into a static one), is too late.\n",
       "    var cells = IPython.notebook.get_cells();\n",
       "    var ncells = cells.length;\n",
       "    for (var i=0; i<ncells; i++) {\n",
       "        var cell = cells[i];\n",
       "        if (cell.cell_type === 'code'){\n",
       "            for (var j=0; j<cell.output_area.outputs.length; j++) {\n",
       "                var data = cell.output_area.outputs[j];\n",
       "                if (data.data) {\n",
       "                    // IPython >= 3 moved mimebundle to data attribute of output\n",
       "                    data = data.data;\n",
       "                }\n",
       "                if (data['text/html'] == html_output) {\n",
       "                    return [cell, data, j];\n",
       "                }\n",
       "            }\n",
       "        }\n",
       "    }\n",
       "}\n",
       "\n",
       "// Register the function which deals with the matplotlib target/channel.\n",
       "// The kernel may be null if the page has been refreshed.\n",
       "if (IPython.notebook.kernel != null) {\n",
       "    IPython.notebook.kernel.comm_manager.register_target('matplotlib', mpl.mpl_figure_comm);\n",
       "}\n"
      ],
      "text/plain": [
       "<IPython.core.display.Javascript object>"
      ]
     },
     "metadata": {},
     "output_type": "display_data"
    },
    {
     "data": {
      "text/html": [
       "<img src=\"data:image/png;base64,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\" width=\"432\">"
      ],
      "text/plain": [
       "<IPython.core.display.HTML object>"
      ]
     },
     "metadata": {},
     "output_type": "display_data"
    },
    {
     "data": {
      "application/javascript": [
       "/* Put everything inside the global mpl namespace */\n",
       "window.mpl = {};\n",
       "\n",
       "\n",
       "mpl.get_websocket_type = function() {\n",
       "    if (typeof(WebSocket) !== 'undefined') {\n",
       "        return WebSocket;\n",
       "    } else if (typeof(MozWebSocket) !== 'undefined') {\n",
       "        return MozWebSocket;\n",
       "    } else {\n",
       "        alert('Your browser does not have WebSocket support.' +\n",
       "              'Please try Chrome, Safari or Firefox ≥ 6. ' +\n",
       "              'Firefox 4 and 5 are also supported but you ' +\n",
       "              'have to enable WebSockets in about:config.');\n",
       "    };\n",
       "}\n",
       "\n",
       "mpl.figure = function(figure_id, websocket, ondownload, parent_element) {\n",
       "    this.id = figure_id;\n",
       "\n",
       "    this.ws = websocket;\n",
       "\n",
       "    this.supports_binary = (this.ws.binaryType != undefined);\n",
       "\n",
       "    if (!this.supports_binary) {\n",
       "        var warnings = document.getElementById(\"mpl-warnings\");\n",
       "        if (warnings) {\n",
       "            warnings.style.display = 'block';\n",
       "            warnings.textContent = (\n",
       "                \"This browser does not support binary websocket messages. \" +\n",
       "                    \"Performance may be slow.\");\n",
       "        }\n",
       "    }\n",
       "\n",
       "    this.imageObj = new Image();\n",
       "\n",
       "    this.context = undefined;\n",
       "    this.message = undefined;\n",
       "    this.canvas = undefined;\n",
       "    this.rubberband_canvas = undefined;\n",
       "    this.rubberband_context = undefined;\n",
       "    this.format_dropdown = undefined;\n",
       "\n",
       "    this.image_mode = 'full';\n",
       "\n",
       "    this.root = $('<div/>');\n",
       "    this._root_extra_style(this.root)\n",
       "    this.root.attr('style', 'display: inline-block');\n",
       "\n",
       "    $(parent_element).append(this.root);\n",
       "\n",
       "    this._init_header(this);\n",
       "    this._init_canvas(this);\n",
       "    this._init_toolbar(this);\n",
       "\n",
       "    var fig = this;\n",
       "\n",
       "    this.waiting = false;\n",
       "\n",
       "    this.ws.onopen =  function () {\n",
       "            fig.send_message(\"supports_binary\", {value: fig.supports_binary});\n",
       "            fig.send_message(\"send_image_mode\", {});\n",
       "            if (mpl.ratio != 1) {\n",
       "                fig.send_message(\"set_dpi_ratio\", {'dpi_ratio': mpl.ratio});\n",
       "            }\n",
       "            fig.send_message(\"refresh\", {});\n",
       "        }\n",
       "\n",
       "    this.imageObj.onload = function() {\n",
       "            if (fig.image_mode == 'full') {\n",
       "                // Full images could contain transparency (where diff images\n",
       "                // almost always do), so we need to clear the canvas so that\n",
       "                // there is no ghosting.\n",
       "                fig.context.clearRect(0, 0, fig.canvas.width, fig.canvas.height);\n",
       "            }\n",
       "            fig.context.drawImage(fig.imageObj, 0, 0);\n",
       "        };\n",
       "\n",
       "    this.imageObj.onunload = function() {\n",
       "        fig.ws.close();\n",
       "    }\n",
       "\n",
       "    this.ws.onmessage = this._make_on_message_function(this);\n",
       "\n",
       "    this.ondownload = ondownload;\n",
       "}\n",
       "\n",
       "mpl.figure.prototype._init_header = function() {\n",
       "    var titlebar = $(\n",
       "        '<div class=\"ui-dialog-titlebar ui-widget-header ui-corner-all ' +\n",
       "        'ui-helper-clearfix\"/>');\n",
       "    var titletext = $(\n",
       "        '<div class=\"ui-dialog-title\" style=\"width: 100%; ' +\n",
       "        'text-align: center; padding: 3px;\"/>');\n",
       "    titlebar.append(titletext)\n",
       "    this.root.append(titlebar);\n",
       "    this.header = titletext[0];\n",
       "}\n",
       "\n",
       "\n",
       "\n",
       "mpl.figure.prototype._canvas_extra_style = function(canvas_div) {\n",
       "\n",
       "}\n",
       "\n",
       "\n",
       "mpl.figure.prototype._root_extra_style = function(canvas_div) {\n",
       "\n",
       "}\n",
       "\n",
       "mpl.figure.prototype._init_canvas = function() {\n",
       "    var fig = this;\n",
       "\n",
       "    var canvas_div = $('<div/>');\n",
       "\n",
       "    canvas_div.attr('style', 'position: relative; clear: both; outline: 0');\n",
       "\n",
       "    function canvas_keyboard_event(event) {\n",
       "        return fig.key_event(event, event['data']);\n",
       "    }\n",
       "\n",
       "    canvas_div.keydown('key_press', canvas_keyboard_event);\n",
       "    canvas_div.keyup('key_release', canvas_keyboard_event);\n",
       "    this.canvas_div = canvas_div\n",
       "    this._canvas_extra_style(canvas_div)\n",
       "    this.root.append(canvas_div);\n",
       "\n",
       "    var canvas = $('<canvas/>');\n",
       "    canvas.addClass('mpl-canvas');\n",
       "    canvas.attr('style', \"left: 0; top: 0; z-index: 0; outline: 0\")\n",
       "\n",
       "    this.canvas = canvas[0];\n",
       "    this.context = canvas[0].getContext(\"2d\");\n",
       "\n",
       "    var backingStore = this.context.backingStorePixelRatio ||\n",
       "\tthis.context.webkitBackingStorePixelRatio ||\n",
       "\tthis.context.mozBackingStorePixelRatio ||\n",
       "\tthis.context.msBackingStorePixelRatio ||\n",
       "\tthis.context.oBackingStorePixelRatio ||\n",
       "\tthis.context.backingStorePixelRatio || 1;\n",
       "\n",
       "    mpl.ratio = (window.devicePixelRatio || 1) / backingStore;\n",
       "\n",
       "    var rubberband = $('<canvas/>');\n",
       "    rubberband.attr('style', \"position: absolute; left: 0; top: 0; z-index: 1;\")\n",
       "\n",
       "    var pass_mouse_events = true;\n",
       "\n",
       "    canvas_div.resizable({\n",
       "        start: function(event, ui) {\n",
       "            pass_mouse_events = false;\n",
       "        },\n",
       "        resize: function(event, ui) {\n",
       "            fig.request_resize(ui.size.width, ui.size.height);\n",
       "        },\n",
       "        stop: function(event, ui) {\n",
       "            pass_mouse_events = true;\n",
       "            fig.request_resize(ui.size.width, ui.size.height);\n",
       "        },\n",
       "    });\n",
       "\n",
       "    function mouse_event_fn(event) {\n",
       "        if (pass_mouse_events)\n",
       "            return fig.mouse_event(event, event['data']);\n",
       "    }\n",
       "\n",
       "    rubberband.mousedown('button_press', mouse_event_fn);\n",
       "    rubberband.mouseup('button_release', mouse_event_fn);\n",
       "    // Throttle sequential mouse events to 1 every 20ms.\n",
       "    rubberband.mousemove('motion_notify', mouse_event_fn);\n",
       "\n",
       "    rubberband.mouseenter('figure_enter', mouse_event_fn);\n",
       "    rubberband.mouseleave('figure_leave', mouse_event_fn);\n",
       "\n",
       "    canvas_div.on(\"wheel\", function (event) {\n",
       "        event = event.originalEvent;\n",
       "        event['data'] = 'scroll'\n",
       "        if (event.deltaY < 0) {\n",
       "            event.step = 1;\n",
       "        } else {\n",
       "            event.step = -1;\n",
       "        }\n",
       "        mouse_event_fn(event);\n",
       "    });\n",
       "\n",
       "    canvas_div.append(canvas);\n",
       "    canvas_div.append(rubberband);\n",
       "\n",
       "    this.rubberband = rubberband;\n",
       "    this.rubberband_canvas = rubberband[0];\n",
       "    this.rubberband_context = rubberband[0].getContext(\"2d\");\n",
       "    this.rubberband_context.strokeStyle = \"#000000\";\n",
       "\n",
       "    this._resize_canvas = function(width, height) {\n",
       "        // Keep the size of the canvas, canvas container, and rubber band\n",
       "        // canvas in synch.\n",
       "        canvas_div.css('width', width)\n",
       "        canvas_div.css('height', height)\n",
       "\n",
       "        canvas.attr('width', width * mpl.ratio);\n",
       "        canvas.attr('height', height * mpl.ratio);\n",
       "        canvas.attr('style', 'width: ' + width + 'px; height: ' + height + 'px;');\n",
       "\n",
       "        rubberband.attr('width', width);\n",
       "        rubberband.attr('height', height);\n",
       "    }\n",
       "\n",
       "    // Set the figure to an initial 600x600px, this will subsequently be updated\n",
       "    // upon first draw.\n",
       "    this._resize_canvas(600, 600);\n",
       "\n",
       "    // Disable right mouse context menu.\n",
       "    $(this.rubberband_canvas).bind(\"contextmenu\",function(e){\n",
       "        return false;\n",
       "    });\n",
       "\n",
       "    function set_focus () {\n",
       "        canvas.focus();\n",
       "        canvas_div.focus();\n",
       "    }\n",
       "\n",
       "    window.setTimeout(set_focus, 100);\n",
       "}\n",
       "\n",
       "mpl.figure.prototype._init_toolbar = function() {\n",
       "    var fig = this;\n",
       "\n",
       "    var nav_element = $('<div/>')\n",
       "    nav_element.attr('style', 'width: 100%');\n",
       "    this.root.append(nav_element);\n",
       "\n",
       "    // Define a callback function for later on.\n",
       "    function toolbar_event(event) {\n",
       "        return fig.toolbar_button_onclick(event['data']);\n",
       "    }\n",
       "    function toolbar_mouse_event(event) {\n",
       "        return fig.toolbar_button_onmouseover(event['data']);\n",
       "    }\n",
       "\n",
       "    for(var toolbar_ind in mpl.toolbar_items) {\n",
       "        var name = mpl.toolbar_items[toolbar_ind][0];\n",
       "        var tooltip = mpl.toolbar_items[toolbar_ind][1];\n",
       "        var image = mpl.toolbar_items[toolbar_ind][2];\n",
       "        var method_name = mpl.toolbar_items[toolbar_ind][3];\n",
       "\n",
       "        if (!name) {\n",
       "            // put a spacer in here.\n",
       "            continue;\n",
       "        }\n",
       "        var button = $('<button/>');\n",
       "        button.addClass('ui-button ui-widget ui-state-default ui-corner-all ' +\n",
       "                        'ui-button-icon-only');\n",
       "        button.attr('role', 'button');\n",
       "        button.attr('aria-disabled', 'false');\n",
       "        button.click(method_name, toolbar_event);\n",
       "        button.mouseover(tooltip, toolbar_mouse_event);\n",
       "\n",
       "        var icon_img = $('<span/>');\n",
       "        icon_img.addClass('ui-button-icon-primary ui-icon');\n",
       "        icon_img.addClass(image);\n",
       "        icon_img.addClass('ui-corner-all');\n",
       "\n",
       "        var tooltip_span = $('<span/>');\n",
       "        tooltip_span.addClass('ui-button-text');\n",
       "        tooltip_span.html(tooltip);\n",
       "\n",
       "        button.append(icon_img);\n",
       "        button.append(tooltip_span);\n",
       "\n",
       "        nav_element.append(button);\n",
       "    }\n",
       "\n",
       "    var fmt_picker_span = $('<span/>');\n",
       "\n",
       "    var fmt_picker = $('<select/>');\n",
       "    fmt_picker.addClass('mpl-toolbar-option ui-widget ui-widget-content');\n",
       "    fmt_picker_span.append(fmt_picker);\n",
       "    nav_element.append(fmt_picker_span);\n",
       "    this.format_dropdown = fmt_picker[0];\n",
       "\n",
       "    for (var ind in mpl.extensions) {\n",
       "        var fmt = mpl.extensions[ind];\n",
       "        var option = $(\n",
       "            '<option/>', {selected: fmt === mpl.default_extension}).html(fmt);\n",
       "        fmt_picker.append(option)\n",
       "    }\n",
       "\n",
       "    // Add hover states to the ui-buttons\n",
       "    $( \".ui-button\" ).hover(\n",
       "        function() { $(this).addClass(\"ui-state-hover\");},\n",
       "        function() { $(this).removeClass(\"ui-state-hover\");}\n",
       "    );\n",
       "\n",
       "    var status_bar = $('<span class=\"mpl-message\"/>');\n",
       "    nav_element.append(status_bar);\n",
       "    this.message = status_bar[0];\n",
       "}\n",
       "\n",
       "mpl.figure.prototype.request_resize = function(x_pixels, y_pixels) {\n",
       "    // Request matplotlib to resize the figure. Matplotlib will then trigger a resize in the client,\n",
       "    // which will in turn request a refresh of the image.\n",
       "    this.send_message('resize', {'width': x_pixels, 'height': y_pixels});\n",
       "}\n",
       "\n",
       "mpl.figure.prototype.send_message = function(type, properties) {\n",
       "    properties['type'] = type;\n",
       "    properties['figure_id'] = this.id;\n",
       "    this.ws.send(JSON.stringify(properties));\n",
       "}\n",
       "\n",
       "mpl.figure.prototype.send_draw_message = function() {\n",
       "    if (!this.waiting) {\n",
       "        this.waiting = true;\n",
       "        this.ws.send(JSON.stringify({type: \"draw\", figure_id: this.id}));\n",
       "    }\n",
       "}\n",
       "\n",
       "\n",
       "mpl.figure.prototype.handle_save = function(fig, msg) {\n",
       "    var format_dropdown = fig.format_dropdown;\n",
       "    var format = format_dropdown.options[format_dropdown.selectedIndex].value;\n",
       "    fig.ondownload(fig, format);\n",
       "}\n",
       "\n",
       "\n",
       "mpl.figure.prototype.handle_resize = function(fig, msg) {\n",
       "    var size = msg['size'];\n",
       "    if (size[0] != fig.canvas.width || size[1] != fig.canvas.height) {\n",
       "        fig._resize_canvas(size[0], size[1]);\n",
       "        fig.send_message(\"refresh\", {});\n",
       "    };\n",
       "}\n",
       "\n",
       "mpl.figure.prototype.handle_rubberband = function(fig, msg) {\n",
       "    var x0 = msg['x0'] / mpl.ratio;\n",
       "    var y0 = (fig.canvas.height - msg['y0']) / mpl.ratio;\n",
       "    var x1 = msg['x1'] / mpl.ratio;\n",
       "    var y1 = (fig.canvas.height - msg['y1']) / mpl.ratio;\n",
       "    x0 = Math.floor(x0) + 0.5;\n",
       "    y0 = Math.floor(y0) + 0.5;\n",
       "    x1 = Math.floor(x1) + 0.5;\n",
       "    y1 = Math.floor(y1) + 0.5;\n",
       "    var min_x = Math.min(x0, x1);\n",
       "    var min_y = Math.min(y0, y1);\n",
       "    var width = Math.abs(x1 - x0);\n",
       "    var height = Math.abs(y1 - y0);\n",
       "\n",
       "    fig.rubberband_context.clearRect(\n",
       "        0, 0, fig.canvas.width, fig.canvas.height);\n",
       "\n",
       "    fig.rubberband_context.strokeRect(min_x, min_y, width, height);\n",
       "}\n",
       "\n",
       "mpl.figure.prototype.handle_figure_label = function(fig, msg) {\n",
       "    // Updates the figure title.\n",
       "    fig.header.textContent = msg['label'];\n",
       "}\n",
       "\n",
       "mpl.figure.prototype.handle_cursor = function(fig, msg) {\n",
       "    var cursor = msg['cursor'];\n",
       "    switch(cursor)\n",
       "    {\n",
       "    case 0:\n",
       "        cursor = 'pointer';\n",
       "        break;\n",
       "    case 1:\n",
       "        cursor = 'default';\n",
       "        break;\n",
       "    case 2:\n",
       "        cursor = 'crosshair';\n",
       "        break;\n",
       "    case 3:\n",
       "        cursor = 'move';\n",
       "        break;\n",
       "    }\n",
       "    fig.rubberband_canvas.style.cursor = cursor;\n",
       "}\n",
       "\n",
       "mpl.figure.prototype.handle_message = function(fig, msg) {\n",
       "    fig.message.textContent = msg['message'];\n",
       "}\n",
       "\n",
       "mpl.figure.prototype.handle_draw = function(fig, msg) {\n",
       "    // Request the server to send over a new figure.\n",
       "    fig.send_draw_message();\n",
       "}\n",
       "\n",
       "mpl.figure.prototype.handle_image_mode = function(fig, msg) {\n",
       "    fig.image_mode = msg['mode'];\n",
       "}\n",
       "\n",
       "mpl.figure.prototype.updated_canvas_event = function() {\n",
       "    // Called whenever the canvas gets updated.\n",
       "    this.send_message(\"ack\", {});\n",
       "}\n",
       "\n",
       "// A function to construct a web socket function for onmessage handling.\n",
       "// Called in the figure constructor.\n",
       "mpl.figure.prototype._make_on_message_function = function(fig) {\n",
       "    return function socket_on_message(evt) {\n",
       "        if (evt.data instanceof Blob) {\n",
       "            /* FIXME: We get \"Resource interpreted as Image but\n",
       "             * transferred with MIME type text/plain:\" errors on\n",
       "             * Chrome.  But how to set the MIME type?  It doesn't seem\n",
       "             * to be part of the websocket stream */\n",
       "            evt.data.type = \"image/png\";\n",
       "\n",
       "            /* Free the memory for the previous frames */\n",
       "            if (fig.imageObj.src) {\n",
       "                (window.URL || window.webkitURL).revokeObjectURL(\n",
       "                    fig.imageObj.src);\n",
       "            }\n",
       "\n",
       "            fig.imageObj.src = (window.URL || window.webkitURL).createObjectURL(\n",
       "                evt.data);\n",
       "            fig.updated_canvas_event();\n",
       "            fig.waiting = false;\n",
       "            return;\n",
       "        }\n",
       "        else if (typeof evt.data === 'string' && evt.data.slice(0, 21) == \"data:image/png;base64\") {\n",
       "            fig.imageObj.src = evt.data;\n",
       "            fig.updated_canvas_event();\n",
       "            fig.waiting = false;\n",
       "            return;\n",
       "        }\n",
       "\n",
       "        var msg = JSON.parse(evt.data);\n",
       "        var msg_type = msg['type'];\n",
       "\n",
       "        // Call the  \"handle_{type}\" callback, which takes\n",
       "        // the figure and JSON message as its only arguments.\n",
       "        try {\n",
       "            var callback = fig[\"handle_\" + msg_type];\n",
       "        } catch (e) {\n",
       "            console.log(\"No handler for the '\" + msg_type + \"' message type: \", msg);\n",
       "            return;\n",
       "        }\n",
       "\n",
       "        if (callback) {\n",
       "            try {\n",
       "                // console.log(\"Handling '\" + msg_type + \"' message: \", msg);\n",
       "                callback(fig, msg);\n",
       "            } catch (e) {\n",
       "                console.log(\"Exception inside the 'handler_\" + msg_type + \"' callback:\", e, e.stack, msg);\n",
       "            }\n",
       "        }\n",
       "    };\n",
       "}\n",
       "\n",
       "// from http://stackoverflow.com/questions/1114465/getting-mouse-location-in-canvas\n",
       "mpl.findpos = function(e) {\n",
       "    //this section is from http://www.quirksmode.org/js/events_properties.html\n",
       "    var targ;\n",
       "    if (!e)\n",
       "        e = window.event;\n",
       "    if (e.target)\n",
       "        targ = e.target;\n",
       "    else if (e.srcElement)\n",
       "        targ = e.srcElement;\n",
       "    if (targ.nodeType == 3) // defeat Safari bug\n",
       "        targ = targ.parentNode;\n",
       "\n",
       "    // jQuery normalizes the pageX and pageY\n",
       "    // pageX,Y are the mouse positions relative to the document\n",
       "    // offset() returns the position of the element relative to the document\n",
       "    var x = e.pageX - $(targ).offset().left;\n",
       "    var y = e.pageY - $(targ).offset().top;\n",
       "\n",
       "    return {\"x\": x, \"y\": y};\n",
       "};\n",
       "\n",
       "/*\n",
       " * return a copy of an object with only non-object keys\n",
       " * we need this to avoid circular references\n",
       " * http://stackoverflow.com/a/24161582/3208463\n",
       " */\n",
       "function simpleKeys (original) {\n",
       "  return Object.keys(original).reduce(function (obj, key) {\n",
       "    if (typeof original[key] !== 'object')\n",
       "        obj[key] = original[key]\n",
       "    return obj;\n",
       "  }, {});\n",
       "}\n",
       "\n",
       "mpl.figure.prototype.mouse_event = function(event, name) {\n",
       "    var canvas_pos = mpl.findpos(event)\n",
       "\n",
       "    if (name === 'button_press')\n",
       "    {\n",
       "        this.canvas.focus();\n",
       "        this.canvas_div.focus();\n",
       "    }\n",
       "\n",
       "    var x = canvas_pos.x * mpl.ratio;\n",
       "    var y = canvas_pos.y * mpl.ratio;\n",
       "\n",
       "    this.send_message(name, {x: x, y: y, button: event.button,\n",
       "                             step: event.step,\n",
       "                             guiEvent: simpleKeys(event)});\n",
       "\n",
       "    /* This prevents the web browser from automatically changing to\n",
       "     * the text insertion cursor when the button is pressed.  We want\n",
       "     * to control all of the cursor setting manually through the\n",
       "     * 'cursor' event from matplotlib */\n",
       "    event.preventDefault();\n",
       "    return false;\n",
       "}\n",
       "\n",
       "mpl.figure.prototype._key_event_extra = function(event, name) {\n",
       "    // Handle any extra behaviour associated with a key event\n",
       "}\n",
       "\n",
       "mpl.figure.prototype.key_event = function(event, name) {\n",
       "\n",
       "    // Prevent repeat events\n",
       "    if (name == 'key_press')\n",
       "    {\n",
       "        if (event.which === this._key)\n",
       "            return;\n",
       "        else\n",
       "            this._key = event.which;\n",
       "    }\n",
       "    if (name == 'key_release')\n",
       "        this._key = null;\n",
       "\n",
       "    var value = '';\n",
       "    if (event.ctrlKey && event.which != 17)\n",
       "        value += \"ctrl+\";\n",
       "    if (event.altKey && event.which != 18)\n",
       "        value += \"alt+\";\n",
       "    if (event.shiftKey && event.which != 16)\n",
       "        value += \"shift+\";\n",
       "\n",
       "    value += 'k';\n",
       "    value += event.which.toString();\n",
       "\n",
       "    this._key_event_extra(event, name);\n",
       "\n",
       "    this.send_message(name, {key: value,\n",
       "                             guiEvent: simpleKeys(event)});\n",
       "    return false;\n",
       "}\n",
       "\n",
       "mpl.figure.prototype.toolbar_button_onclick = function(name) {\n",
       "    if (name == 'download') {\n",
       "        this.handle_save(this, null);\n",
       "    } else {\n",
       "        this.send_message(\"toolbar_button\", {name: name});\n",
       "    }\n",
       "};\n",
       "\n",
       "mpl.figure.prototype.toolbar_button_onmouseover = function(tooltip) {\n",
       "    this.message.textContent = tooltip;\n",
       "};\n",
       "mpl.toolbar_items = [[\"Home\", \"Reset original view\", \"fa fa-home icon-home\", \"home\"], [\"Back\", \"Back to  previous view\", \"fa fa-arrow-left icon-arrow-left\", \"back\"], [\"Forward\", \"Forward to next view\", \"fa fa-arrow-right icon-arrow-right\", \"forward\"], [\"\", \"\", \"\", \"\"], [\"Pan\", \"Pan axes with left mouse, zoom with right\", \"fa fa-arrows icon-move\", \"pan\"], [\"Zoom\", \"Zoom to rectangle\", \"fa fa-square-o icon-check-empty\", \"zoom\"], [\"\", \"\", \"\", \"\"], [\"Download\", \"Download plot\", \"fa fa-floppy-o icon-save\", \"download\"]];\n",
       "\n",
       "mpl.extensions = [\"eps\", \"jpeg\", \"pdf\", \"png\", \"ps\", \"raw\", \"svg\", \"tif\"];\n",
       "\n",
       "mpl.default_extension = \"png\";var comm_websocket_adapter = function(comm) {\n",
       "    // Create a \"websocket\"-like object which calls the given IPython comm\n",
       "    // object with the appropriate methods. Currently this is a non binary\n",
       "    // socket, so there is still some room for performance tuning.\n",
       "    var ws = {};\n",
       "\n",
       "    ws.close = function() {\n",
       "        comm.close()\n",
       "    };\n",
       "    ws.send = function(m) {\n",
       "        //console.log('sending', m);\n",
       "        comm.send(m);\n",
       "    };\n",
       "    // Register the callback with on_msg.\n",
       "    comm.on_msg(function(msg) {\n",
       "        //console.log('receiving', msg['content']['data'], msg);\n",
       "        // Pass the mpl event to the overridden (by mpl) onmessage function.\n",
       "        ws.onmessage(msg['content']['data'])\n",
       "    });\n",
       "    return ws;\n",
       "}\n",
       "\n",
       "mpl.mpl_figure_comm = function(comm, msg) {\n",
       "    // This is the function which gets called when the mpl process\n",
       "    // starts-up an IPython Comm through the \"matplotlib\" channel.\n",
       "\n",
       "    var id = msg.content.data.id;\n",
       "    // Get hold of the div created by the display call when the Comm\n",
       "    // socket was opened in Python.\n",
       "    var element = $(\"#\" + id);\n",
       "    var ws_proxy = comm_websocket_adapter(comm)\n",
       "\n",
       "    function ondownload(figure, format) {\n",
       "        window.open(figure.imageObj.src);\n",
       "    }\n",
       "\n",
       "    var fig = new mpl.figure(id, ws_proxy,\n",
       "                           ondownload,\n",
       "                           element.get(0));\n",
       "\n",
       "    // Call onopen now - mpl needs it, as it is assuming we've passed it a real\n",
       "    // web socket which is closed, not our websocket->open comm proxy.\n",
       "    ws_proxy.onopen();\n",
       "\n",
       "    fig.parent_element = element.get(0);\n",
       "    fig.cell_info = mpl.find_output_cell(\"<div id='\" + id + \"'></div>\");\n",
       "    if (!fig.cell_info) {\n",
       "        console.error(\"Failed to find cell for figure\", id, fig);\n",
       "        return;\n",
       "    }\n",
       "\n",
       "    var output_index = fig.cell_info[2]\n",
       "    var cell = fig.cell_info[0];\n",
       "\n",
       "};\n",
       "\n",
       "mpl.figure.prototype.handle_close = function(fig, msg) {\n",
       "    var width = fig.canvas.width/mpl.ratio\n",
       "    fig.root.unbind('remove')\n",
       "\n",
       "    // Update the output cell to use the data from the current canvas.\n",
       "    fig.push_to_output();\n",
       "    var dataURL = fig.canvas.toDataURL();\n",
       "    // Re-enable the keyboard manager in IPython - without this line, in FF,\n",
       "    // the notebook keyboard shortcuts fail.\n",
       "    IPython.keyboard_manager.enable()\n",
       "    $(fig.parent_element).html('<img src=\"' + dataURL + '\" width=\"' + width + '\">');\n",
       "    fig.close_ws(fig, msg);\n",
       "}\n",
       "\n",
       "mpl.figure.prototype.close_ws = function(fig, msg){\n",
       "    fig.send_message('closing', msg);\n",
       "    // fig.ws.close()\n",
       "}\n",
       "\n",
       "mpl.figure.prototype.push_to_output = function(remove_interactive) {\n",
       "    // Turn the data on the canvas into data in the output cell.\n",
       "    var width = this.canvas.width/mpl.ratio\n",
       "    var dataURL = this.canvas.toDataURL();\n",
       "    this.cell_info[1]['text/html'] = '<img src=\"' + dataURL + '\" width=\"' + width + '\">';\n",
       "}\n",
       "\n",
       "mpl.figure.prototype.updated_canvas_event = function() {\n",
       "    // Tell IPython that the notebook contents must change.\n",
       "    IPython.notebook.set_dirty(true);\n",
       "    this.send_message(\"ack\", {});\n",
       "    var fig = this;\n",
       "    // Wait a second, then push the new image to the DOM so\n",
       "    // that it is saved nicely (might be nice to debounce this).\n",
       "    setTimeout(function () { fig.push_to_output() }, 1000);\n",
       "}\n",
       "\n",
       "mpl.figure.prototype._init_toolbar = function() {\n",
       "    var fig = this;\n",
       "\n",
       "    var nav_element = $('<div/>')\n",
       "    nav_element.attr('style', 'width: 100%');\n",
       "    this.root.append(nav_element);\n",
       "\n",
       "    // Define a callback function for later on.\n",
       "    function toolbar_event(event) {\n",
       "        return fig.toolbar_button_onclick(event['data']);\n",
       "    }\n",
       "    function toolbar_mouse_event(event) {\n",
       "        return fig.toolbar_button_onmouseover(event['data']);\n",
       "    }\n",
       "\n",
       "    for(var toolbar_ind in mpl.toolbar_items){\n",
       "        var name = mpl.toolbar_items[toolbar_ind][0];\n",
       "        var tooltip = mpl.toolbar_items[toolbar_ind][1];\n",
       "        var image = mpl.toolbar_items[toolbar_ind][2];\n",
       "        var method_name = mpl.toolbar_items[toolbar_ind][3];\n",
       "\n",
       "        if (!name) { continue; };\n",
       "\n",
       "        var button = $('<button class=\"btn btn-default\" href=\"#\" title=\"' + name + '\"><i class=\"fa ' + image + ' fa-lg\"></i></button>');\n",
       "        button.click(method_name, toolbar_event);\n",
       "        button.mouseover(tooltip, toolbar_mouse_event);\n",
       "        nav_element.append(button);\n",
       "    }\n",
       "\n",
       "    // Add the status bar.\n",
       "    var status_bar = $('<span class=\"mpl-message\" style=\"text-align:right; float: right;\"/>');\n",
       "    nav_element.append(status_bar);\n",
       "    this.message = status_bar[0];\n",
       "\n",
       "    // Add the close button to the window.\n",
       "    var buttongrp = $('<div class=\"btn-group inline pull-right\"></div>');\n",
       "    var button = $('<button class=\"btn btn-mini btn-primary\" href=\"#\" title=\"Stop Interaction\"><i class=\"fa fa-power-off icon-remove icon-large\"></i></button>');\n",
       "    button.click(function (evt) { fig.handle_close(fig, {}); } );\n",
       "    button.mouseover('Stop Interaction', toolbar_mouse_event);\n",
       "    buttongrp.append(button);\n",
       "    var titlebar = this.root.find($('.ui-dialog-titlebar'));\n",
       "    titlebar.prepend(buttongrp);\n",
       "}\n",
       "\n",
       "mpl.figure.prototype._root_extra_style = function(el){\n",
       "    var fig = this\n",
       "    el.on(\"remove\", function(){\n",
       "\tfig.close_ws(fig, {});\n",
       "    });\n",
       "}\n",
       "\n",
       "mpl.figure.prototype._canvas_extra_style = function(el){\n",
       "    // this is important to make the div 'focusable\n",
       "    el.attr('tabindex', 0)\n",
       "    // reach out to IPython and tell the keyboard manager to turn it's self\n",
       "    // off when our div gets focus\n",
       "\n",
       "    // location in version 3\n",
       "    if (IPython.notebook.keyboard_manager) {\n",
       "        IPython.notebook.keyboard_manager.register_events(el);\n",
       "    }\n",
       "    else {\n",
       "        // location in version 2\n",
       "        IPython.keyboard_manager.register_events(el);\n",
       "    }\n",
       "\n",
       "}\n",
       "\n",
       "mpl.figure.prototype._key_event_extra = function(event, name) {\n",
       "    var manager = IPython.notebook.keyboard_manager;\n",
       "    if (!manager)\n",
       "        manager = IPython.keyboard_manager;\n",
       "\n",
       "    // Check for shift+enter\n",
       "    if (event.shiftKey && event.which == 13) {\n",
       "        this.canvas_div.blur();\n",
       "        event.shiftKey = false;\n",
       "        // Send a \"J\" for go to next cell\n",
       "        event.which = 74;\n",
       "        event.keyCode = 74;\n",
       "        manager.command_mode();\n",
       "        manager.handle_keydown(event);\n",
       "    }\n",
       "}\n",
       "\n",
       "mpl.figure.prototype.handle_save = function(fig, msg) {\n",
       "    fig.ondownload(fig, null);\n",
       "}\n",
       "\n",
       "\n",
       "mpl.find_output_cell = function(html_output) {\n",
       "    // Return the cell and output element which can be found *uniquely* in the notebook.\n",
       "    // Note - this is a bit hacky, but it is done because the \"notebook_saving.Notebook\"\n",
       "    // IPython event is triggered only after the cells have been serialised, which for\n",
       "    // our purposes (turning an active figure into a static one), is too late.\n",
       "    var cells = IPython.notebook.get_cells();\n",
       "    var ncells = cells.length;\n",
       "    for (var i=0; i<ncells; i++) {\n",
       "        var cell = cells[i];\n",
       "        if (cell.cell_type === 'code'){\n",
       "            for (var j=0; j<cell.output_area.outputs.length; j++) {\n",
       "                var data = cell.output_area.outputs[j];\n",
       "                if (data.data) {\n",
       "                    // IPython >= 3 moved mimebundle to data attribute of output\n",
       "                    data = data.data;\n",
       "                }\n",
       "                if (data['text/html'] == html_output) {\n",
       "                    return [cell, data, j];\n",
       "                }\n",
       "            }\n",
       "        }\n",
       "    }\n",
       "}\n",
       "\n",
       "// Register the function which deals with the matplotlib target/channel.\n",
       "// The kernel may be null if the page has been refreshed.\n",
       "if (IPython.notebook.kernel != null) {\n",
       "    IPython.notebook.kernel.comm_manager.register_target('matplotlib', mpl.mpl_figure_comm);\n",
       "}\n"
      ],
      "text/plain": [
       "<IPython.core.display.Javascript object>"
      ]
     },
     "metadata": {},
     "output_type": "display_data"
    },
    {
     "data": {
      "text/html": [
       "<img src=\"data:image/png;base64,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\" width=\"432\">"
      ],
      "text/plain": [
       "<IPython.core.display.HTML object>"
      ]
     },
     "metadata": {},
     "output_type": "display_data"
    }
   ],
   "source": [
    "# Your code:\n",
    "n_predictions = len(validation_set)\n",
    "de_trend = True\n",
    "n_harmonics = [i for i in range(1,101)]\n",
    "\n",
    "data = np.asarray(training_set)\n",
    "\n",
    "train = []\n",
    "valid = []\n",
    "\n",
    "for i in n_harmonics:\n",
    "    extrapolation = fourierExtrapolation(data, n_predictions, i, de_trend)\n",
    "    training_error = mean_squared_error(data, extrapolation[0:len(data)])\n",
    "    validation_error = mean_squared_error(validation_set, extrapolation[len(data):])\n",
    "    train.append(training_error)\n",
    "    valid.append(validation_error)\n",
    "fig = plt.figure()\n",
    "plt.plot(n_harmonics,train)\n",
    "plt.title('n_harmonics vs. training_error')\n",
    "plt.show()\n",
    "\n",
    "fig2 = plt.figure()\n",
    "plt.plot(n_harmonics,valid)\n",
    "plt.title('n_harmonics vs. validation_error')\n",
    "plt.show()\n"
   ]
  },
  {
   "cell_type": "markdown",
   "metadata": {},
   "source": [
    "**Question: Is n_hamonics = 100 overfitted or underfitted? Why? **"
   ]
  },
  {
   "cell_type": "markdown",
   "metadata": {},
   "source": [
    "**Your Answer: **  It is kind of overfitted. Because when looking at the trend, training error keeps decreasing while the validation error starts to increase when n is larger than and equal to 4."
   ]
  },
  {
   "cell_type": "markdown",
   "metadata": {},
   "source": [
    "---\n",
    "### Step 5:\n",
    "\n",
    "As you may notice from the plot above, there is a range of values for which increasing n_harmonics improves the fit.\n",
    "\n",
    "Use the plot to find a balance, fit the model to the testing set and report the **testing error** (i.e. the mean squared error in the testing set)."
   ]
  },
  {
   "cell_type": "code",
   "execution_count": 30,
   "metadata": {},
   "outputs": [
    {
     "data": {
      "application/vnd.jupyter.widget-view+json": {
       "model_id": "6c95c199a9404242936a93799fcab137",
       "version_major": 2,
       "version_minor": 0
      },
      "text/plain": [
       "FloatProgress(value=0.0, max=9.0)"
      ]
     },
     "metadata": {},
     "output_type": "display_data"
    },
    {
     "name": "stdout",
     "output_type": "stream",
     "text": [
      "444.9430486487743\n"
     ]
    }
   ],
   "source": [
    "# Your code:\n",
    "n_predictions = len(testing_set)\n",
    "n_harmonics = 4\n",
    "de_trend = True\n",
    "\n",
    "data = np.asarray(training_set+validation_set)\n",
    "\n",
    "extrapolation = fourierExtrapolation(data, n_predictions, n_harmonics, de_trend)\n",
    "testing_error = mean_squared_error(testing_set,extrapolation[len(data):])\n",
    "print (testing_error)"
   ]
  },
  {
   "cell_type": "markdown",
   "metadata": {},
   "source": [
    "---\n",
    "### Congratulations, we're done!\n",
    "\n",
    "** Don't forget to add your names to the top!!**\n",
    "\n",
    "Log into the course D2L website (d2l.msu.edu) and go to \"Assessments > Assignments > Homework 06\"."
   ]
  },
  {
   "cell_type": "code",
   "execution_count": null,
   "metadata": {},
   "outputs": [],
   "source": []
  }
 ],
 "metadata": {
  "kernelspec": {
   "display_name": "Python 3",
   "language": "python",
   "name": "python3"
  },
  "language_info": {
   "codemirror_mode": {
    "name": "ipython",
    "version": 3
   },
   "file_extension": ".py",
   "mimetype": "text/x-python",
   "name": "python",
   "nbconvert_exporter": "python",
   "pygments_lexer": "ipython3",
   "version": "3.6.5"
  }
 },
 "nbformat": 4,
 "nbformat_minor": 2
}
