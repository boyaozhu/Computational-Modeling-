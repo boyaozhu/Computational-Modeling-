{
 "cells": [
  {
   "cell_type": "markdown",
   "metadata": {},
   "source": [
    "# CMSE 802 In-class assignment: Git\n",
    "## Date: 09/27/2018\n",
    "## Due: 09/27/2018; 10:30 PM\n",
    "\n",
    "### The goal of this assignment is to learn the feature of branch in Git through practicing Git commands."
   ]
  },
  {
   "cell_type": "markdown",
   "metadata": {},
   "source": [
    "---\n",
    "### Your name: Boyao Zhu"
   ]
  },
  {
   "cell_type": "markdown",
   "metadata": {},
   "source": [
    "--- \n",
    "### In this in-class assignment, we will learn about an important feature, branching, of Git. The practice is divided into two parts. In the pre-class assignment, you have created a GitLab account and installed Git commands on your computer. For convenience, we will not use Jupyter notebook this time. Instead, we will use command line for executing Python code and text editing apps for coding. So, let us get started. \n",
    "\n",
    "<img src=\"Img_Merge01.png\" alt = \"drawing\" width=400/>\n",
    "\n",
    "**Use whatever method for generating and editing Python files, which you feel most comfortable with at this moment -- if you don't know how to do this, you might have to do a bit of google searching. Options for working with text files in the terminal include vi/vim, emacs, nano, etc. **\n",
    "\n"
   ]
  },
  {
   "cell_type": "markdown",
   "metadata": {},
   "source": [
    "---\n",
    "### Part 1: Version control by yourself. \n",
    "### The story begins with you starting up a small garague company, and developing a software package. Oftentimes, you have different ideas for implementing a section of code. You want to keep track of difference between the codes during development. "
   ]
  },
  {
   "cell_type": "markdown",
   "metadata": {},
   "source": [
    "** You are developing an iterative matrix solver. Download the file ItrMtrxSlv01.py from D2L. **\n",
    "\n",
    "** As an individual code developer, you need to do the following. **\n",
    "\n",
    "1. Create a repository named Git_Brch_P1_USERNAME on GitLab. USERNAME is your MSU NetID.\n",
    "1. Clone the repository to your computer and initiate it.\n",
    "1. Put the ItrMtrxSlv01.py file in your local repo. Push it to GitLab. Open the file on GitLab and screen capture it to show you finished this task.\n",
    "1. Complete your matrix solver code on your computer. Recall the pre-class assignment MatrixSolvers. Run the code. \n",
    "1. Push the code to GitLab again and check whether your code has been updated. Open the file on GitLab and screen capture it to show you finished this task.\n",
    "1. Now, for some reason, you don't like to use numpy to calculate the norm of residual. You want to develop your own norm calculator. \n",
    "1. Branch your project to USERNAME_n_calc. Switch to the new branch. Modify the code to calculate L2 norm using the formula in the cell below. Run the code. Push the code to GitLab. Check whether both branches shown on GitLab.  Screen capture it to show you finished this task.\n",
    "1. On your computer, switch back and forth between the master and USERNAME_n_calc branches. You may see that the .py file changes back and forth between the two versions.\n",
    "1. At the end, you decide to use your own norm calculator. Go to master branch and merge the new version to the old one. Check whether the old code is updated with the modifications. \n",
    "1. Push all changes to GitLab. Open the file online and screen capture it to show you finished this task."
   ]
  },
  {
   "cell_type": "markdown",
   "metadata": {},
   "source": [
    "The second norm is the square root of the sum of the square of the entities: $\\left| | \\mathbf{r} |\\right|_2 = \\sqrt{\\sum_1^k r_k^2 }$."
   ]
  },
  {
   "cell_type": "markdown",
   "metadata": {},
   "source": [
    "--- \n",
    "### Part 2: Version control with your teammate.\n",
    "### Now, we are going to work in groups. Say, the first person in each group succeeds in his/her business, and the second person failed his/her.  As the business grows, the first person becomes the manager (master) and hires the second person to be a worker (developer). This team is developing a point-wise iterative matrix solver. The manager initiates the project, and the worker works on improving the code.  At the end, the manager merges the worker's section of code to the origin code."
   ]
  },
  {
   "cell_type": "markdown",
   "metadata": {},
   "source": [
    "1. The manager create a GitLab repository, named Git_Brch_P2_USERNAME. Clone and init the repo to your computer. \n",
    "1. Download PointWise_RlxSlvr.py and run it to see how the code performs. Push the Python file to the GitLab repo.\n",
    "1. Add your worker to the project using the web interface.  Look for the section labeled \"Members\" which can be found in Settings. Make your worker a \"Developer.\"\n",
    "1. Also add the instructor and TA to the project. So, the instructor and TA can see your results on GitLab.\n",
    "1. Allow the team member to merge your \"protected branch.\" Go to \"Settings\", and then  \"Repository\" and scroll down to \"Protected Branches\". Then, change the settings of \"Allow to Merge\" to both Masters and Developers. \n",
    "1. The worker clones the repo to his computer.\n",
    "1. The worker makes a branch, called USERNAME_Vct_itr. Modified the code to use vectorized operation. Run the code and see how it performs. Push the branch and code to GitLab.\n",
    "1. Inform the manager that you have improve the code.\n",
    "1. The manager fetches and pulls the repo to his computer. Run the new code in the branch. \n",
    "1. Because the new code runs faster. The manager merges the worker's code to the original code.\n",
    "\n",
    "**Screen capture or use whatever way you can (must be reasonable) to show me you have completed the tasks above. **"
   ]
  },
  {
   "cell_type": "markdown",
   "metadata": {},
   "source": [
    "**Now, you can navigate GitLab website and use \"Graph\" to see the branches. You can also trace the history of modifications in the code by double-clicking those points. **"
   ]
  },
  {
   "cell_type": "markdown",
   "metadata": {},
   "source": [
    "---\n",
    "### Git cheat sheet:\n",
    "\n",
    "* **git clone < URL > ** - Check out initial git repository.\n",
    "* **git init . ** - Create a new/empty repository. \n",
    "* **git add < filename > ** - Add new files or changed files to the current commit.\n",
    "* **git commit -m \"Message about the changes\" ** - Commit the changes to the repository. \n",
    "* **git commit -a ** - Add modified files for staging and commit them all in one command.\n",
    "* **git status ** - Check to make sure the files are included in the next commit.\n",
    "* **git push ** - Push all committed changes the changes to the server.\n",
    "* **git pull ** - Download changes from the central repository.\n",
    "* **git pull < path to remote repository > ** - Download changes from another repository.\n",
    "* **git branch < branchname > ** - Create a branch.\n",
    "* **git checkout < branchname > ** - Swithc to a branch.\n",
    "* **git fetch ** - Fetch the changes from the central repository.\n",
    "* **git merge < branchname > ** - Merge the changes in < branchname > to current branch.\n"
   ]
  },
  {
   "cell_type": "markdown",
   "metadata": {
    "collapsed": true
   },
   "source": [
    "---\n",
    "### Up to here, we have done some basic in-class practices of Git version control. There are a lot more for mastering the Git commands. If you are interested in learning and applying Git in your research work, information and tutorials are available on the internet."
   ]
  },
  {
   "cell_type": "markdown",
   "metadata": {},
   "source": [
    "### Congratulations, we're done!\n",
    "\n",
    "** Don't forget to add your names to the top!!**\n",
    "\n",
    "Log into the course D2L website (d2l.msu.edu) and go to \"Assessments > Assignments > In-class Assignment 20180927\"."
   ]
  },
  {
   "cell_type": "code",
   "execution_count": null,
   "metadata": {
    "collapsed": true
   },
   "outputs": [],
   "source": []
  }
 ],
 "metadata": {
  "kernelspec": {
   "display_name": "Python 3",
   "language": "python",
   "name": "python3"
  },
  "language_info": {
   "codemirror_mode": {
    "name": "ipython",
    "version": 3
   },
   "file_extension": ".py",
   "mimetype": "text/x-python",
   "name": "python",
   "nbconvert_exporter": "python",
   "pygments_lexer": "ipython3",
   "version": "3.6.5"
  }
 },
 "nbformat": 4,
 "nbformat_minor": 2
}
