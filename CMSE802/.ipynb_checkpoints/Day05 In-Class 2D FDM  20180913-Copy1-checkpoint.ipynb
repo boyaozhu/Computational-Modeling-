{
 "cells": [
  {
   "cell_type": "markdown",
   "metadata": {},
   "source": [
    "# CMSE 802 In-class assignment: Finite Difference Method for 2D PDEs\n",
    "\n",
    "## Date: 09/13/2018\n",
    "\n",
    "### The goal of this assignment is to practice what we have learned about finite difference method for 2D problems. "
   ]
  },
  {
   "cell_type": "markdown",
   "metadata": {},
   "source": [
    "---\n",
    "### Your name:"
   ]
  },
  {
   "cell_type": "markdown",
   "metadata": {},
   "source": [
    "---\n",
    "### Part 1\n",
    "\n",
    "**Let us recall the diffusion equation:**\n",
    "\n",
    "$$ \\frac{\\partial C}{\\partial t} = D \\nabla^2 C .$$\n",
    "\n",
    "**In 2D, this equation can be discretized by central difference scheme in space and Euler's explicit scheme in time. At a grid point $C_{i,j}$, the stencil is**\n",
    "\n",
    "$$\\frac{C_{i,j}^{n+1}-C_{i,j}^{n}}{\\Delta t} = D \\bigg( \\frac{C_{i-1,j}^n - 2 C_{i,j}^n + C_{i+1,j}^n}{\\Delta x^2} + \\frac{C_{i,j-1}^n - 2 C_{i,j}^n + C_{i,j+1}^n}{\\Delta y^2} \\bigg),$$\n",
    "\n",
    "**where the superscript $n$ denotes the $n$-th step.**\n",
    "\n",
    "### Simulate 2D diffusion  \n",
    "\n",
    "A dye dropped into water at the center of a square container (5 cm $\\times$ 5 cm). The initial concentration distribution is given as\n",
    "\n",
    "$$C = \\sqrt{\\frac{t_0}{t}}exp \\bigg( \\frac{-(\\vec{x}-\\vec{x}_0)^2}{4Dt} \\bigg),$$\n",
    "\n",
    "where $\\vec{x_0} = (x_0, y_0)$ is the position of the point source. \n",
    "\n",
    "Because the container is a close system, no-flux boundary conditions should be imposed on the four sides of the doamin. Let's set $t_0 = 500$ s to generate the initial concentration profile. The diffusivity of the dye in water is $10^{-5}$ cm$^2$/s. \n",
    "\n",
    "**Complete the code in the cell below.**"
   ]
  },
  {
   "cell_type": "code",
   "execution_count": 4,
   "metadata": {},
   "outputs": [
    {
     "data": {
      "image/png": "[encoded data removed]",
      "text/plain": [
       "<matplotlib.figure.Figure at 0x10f5768d0>"
      ]
     },
     "metadata": {},
     "output_type": "display_data"
    },
    {
     "name": "stdout",
     "output_type": "stream",
     "text": [
      "12.585583925247192\n"
     ]
    }
   ],
   "source": [
    "# load libraries\n",
    "import numpy as np\n",
    "import math\n",
    "import time \n",
    "\n",
    "import matplotlib.pyplot as plt\n",
    "from mpl_toolkits.mplot3d import Axes3D\n",
    "from matplotlib import cm\n",
    "from IPython.display import display, clear_output\n",
    "\n",
    "%matplotlib inline\n",
    "\n",
    "# parameter\n",
    "tm = 0.0\n",
    "D = 1.0e-5\n",
    "\n",
    "# spatial discretization\n",
    "nx = 101\n",
    "x = np.linspace(0, 5, nx)\n",
    "\n",
    "ny = 101\n",
    "y = np.linspace(0, 5, ny)\n",
    "\n",
    "dx = x[2] - x[1]\n",
    "dy = y[2] - y[1]\n",
    "dt = 0.2*min(dx,dy)**2/D\n",
    "\n",
    "# meshgrid generate the x and y coordinates of the 2D grid system\n",
    "xmsh, ymsh = np.meshgrid(x, y)\n",
    "\n",
    "# position of the center of the drop\n",
    "x0 = 2.5\n",
    "y0 = 2.5\n",
    "\n",
    "# initial condition\n",
    "C = np.zeros((nx,ny))\n",
    "t0 = 500.\n",
    "for i in range(nx):\n",
    "    for j in range(ny):\n",
    "        \n",
    "        dSq =  (x[i]-x0)**2 + (y[j]-y0)**2 # <== fill the blank\n",
    "        C[i,j] = math.sqrt(t0/t0)*math.exp(-(dSq)/4/D/t0)\n",
    "                \n",
    "fig = plt.figure(figsize=(5, 5), dpi=100)\n",
    "plt.contourf(xmsh[0:nx,0:ny], ymsh[0:nx,0:ny], C[0:nx,0:ny], 40, cmap=cm.jet, vmin = -0.02, vmax = 1.0)\n",
    "plt.colorbar()   \n",
    "plt.clim(-0.05,1.05)\n",
    "plt.axes().set_aspect('equal')\n",
    "plt.show()\n",
    "        \n",
    "# wall time before iteration \n",
    "WT_bgn = time.time()\n",
    "\n",
    "# time stepping\n",
    "for iter in range(300):\n",
    "    \n",
    "    # calculate the Laplace at each grid point\n",
    "    for i in range(1,nx-1):\n",
    "        for j in range(1,ny-1):\n",
    "            \n",
    "            Lap = (C[i-1,j]-2*C[i,j]+C[i+1,j])/dx**2 + (C[i,j-1]-2*C[i,j]+C[i,j+1])/dy**2   # <== fill the blank\n",
    "            \n",
    "            # update concentration at each grid point\n",
    "            C[i,j] = C[i,j] +dt*D*Lap   # <== fill the blank\n",
    "            \n",
    "    \n",
    "    # no-flux boundary condition\n",
    "    for i in range(1,nx-1):\n",
    "        C[i,0] = C[ i, 1]    # <== fill the blank\n",
    "        C[i,ny-1] = C[ i, ny-2] # <== fill the blank\n",
    "        \n",
    "    for j in range(1,ny-1):  \n",
    "        C[0,j] = C[ 1, j ]    # <== fill the blank\n",
    "        C[nx-1,j] = C[ nx-2, j ] # <== fill the blank\n",
    "\n",
    "    # update simulation time    \n",
    "    tm = tm + dt\n",
    "\n",
    "    # visualization\n",
    "    if iter%20 == 0:        \n",
    "        clear_output(wait=True) # Clear output for dynamic display\n",
    "        \n",
    "        fig = plt.figure(figsize=(5, 5), dpi=100)\n",
    "        plt.contourf(xmsh[0:nx,0:ny], ymsh[0:nx,0:ny], C[0:nx,0:ny], 40, cmap=cm.jet, vmin = -0.02, vmax = 1.0)\n",
    "        plt.colorbar()   \n",
    "        plt.clim(-0.05,1.05)\n",
    "        plt.axes().set_aspect('equal')\n",
    "        plt.show()\n",
    "        time.sleep(0.1)         # Sleep for half a second to slow down the animation\n",
    "                 \n",
    "\n",
    "        \n",
    "# wall time after iteration         \n",
    "WT_end = time.time()    \n",
    "\n",
    "# computer time for the iterations\n",
    "print(WT_end - WT_bgn)"
   ]
  },
  {
   "cell_type": "markdown",
   "metadata": {},
   "source": [
    "---\n",
    "### Part 2 \n",
    "### Vectorized calculation\n",
    "In the code above, the value at each grid point is calculated sequentially by looping over i and j indices. In most programming languages, a vectorized calculation can be done. For example, $\\mathbf{C} = \\mathbf{A} + \\mathbf{B}$, where $ \\mathbf{A}$ anf $ \\mathbf{B}$ are two vectors. Such operation is much faster than looping over the indices. In the next code, we will use vectorized operation to do the same work in the previous code.\n"
   ]
  },
  {
   "cell_type": "markdown",
   "metadata": {},
   "source": [
    "**Complete the code below.**"
   ]
  },
  {
   "cell_type": "code",
   "execution_count": null,
   "metadata": {
    "collapsed": true
   },
   "outputs": [],
   "source": [
    "import numpy as np\n",
    "\n",
    "A = np.zeros(20)\n",
    "B = np.zeros(20)\n",
    "C = np.zeros(20)\n",
    "\n",
    "for i in range(20):\n",
    "    A[i] = 2*i**2\n",
    "    B[i] = 5*i**3\n",
    "    \n",
    "# sequential code for C = A + B    \n",
    "for i in range(20):\n",
    "    C[i] = A[i] + B[i]\n",
    "\n",
    "print(C)\n",
    "\n",
    "# vectorized code for C = A + B    \n",
    "C[ ] = A[ ] + B[ ]  #<== fill the blank\n",
    "\n",
    "print(C)"
   ]
  },
  {
   "cell_type": "markdown",
   "metadata": {},
   "source": [
    "**Let us use vectorized operations to simulate 2D diffusion. Observe the code below and fill up the blank to make the code work.**"
   ]
  },
  {
   "cell_type": "code",
   "execution_count": 10,
   "metadata": {},
   "outputs": [
    {
     "name": "stderr",
     "output_type": "stream",
     "text": [
      "/Applications/anaconda3/lib/python3.6/site-packages/matplotlib/cbook/deprecation.py:106: MatplotlibDeprecationWarning: Adding an axes using the same arguments as a previous axes currently reuses the earlier instance.  In a future version, a new instance will always be created and returned.  Meanwhile, this warning can be suppressed, and the future behavior ensured, by passing a unique label to each axes instance.\n",
      "  warnings.warn(message, mplDeprecation, stacklevel=1)\n"
     ]
    },
    {
     "data": {
      "image/png": "[encoded data removed]",
      "text/plain": [
       "<matplotlib.figure.Figure at 0x10f50a828>"
      ]
     },
     "metadata": {},
     "output_type": "display_data"
    }
   ],
   "source": [
    "# load libraries\n",
    "import numpy as np\n",
    "import math\n",
    "import time \n",
    "\n",
    "import matplotlib.pyplot as plt\n",
    "from mpl_toolkits.mplot3d import Axes3D\n",
    "\n",
    "from IPython.display import display, clear_output\n",
    "\n",
    "%matplotlib inline\n",
    "\n",
    "\n",
    "# parameter\n",
    "tm = 0.0\n",
    "D = 1.0e-5\n",
    "\n",
    "# spatial discretization\n",
    "nx = 101\n",
    "x = np.linspace(0, 5, nx)\n",
    "\n",
    "ny = 101\n",
    "y = np.linspace(0, 5, ny)\n",
    "\n",
    "# meshgrid generate the x and y coordinates of the 2D grid system\n",
    "xmsh, ymsh = np.meshgrid(x, y)\n",
    "\n",
    "dx = x[2] - x[1]\n",
    "dy = y[2] - y[1]\n",
    "dt = 0.2*min(dx,dy)**2/D\n",
    "\n",
    "\n",
    "x0 = 2.5\n",
    "y0 = 2.5\n",
    "\n",
    "# initial condition\n",
    "t0 = 500.\n",
    "\n",
    "C = np.zeros((nx,ny))\n",
    "dSq = np.zeros((nx,ny))\n",
    "\n",
    "# note that intial C is calculated using vectorized calculation\n",
    "dSq[0:nx,0:ny] = (xmsh[0:nx,0:ny]-x0)**2 + (ymsh[0:nx,0:ny]-y0)**2   #<== fill the blank\n",
    "C[0:nx,0:ny] = math.sqrt(t0/t0)*np.exp(-(dSq[0:nx,0:ny])/4/D/t0)      #<== fill the blank\n",
    "\n",
    "fig = plt.figure(figsize=(5, 5), dpi=100)\n",
    "plt.contourf(xmsh[0:nx,0:ny], ymsh[0:nx,0:ny], C[0:nx,0:ny], 40, cmap=cm.jet, vmin = -0.02, vmax = 1.0)\n",
    "plt.colorbar()   \n",
    "plt.clim(-0.05,1.05)\n",
    "plt.axes().set_aspect('equal')\n",
    "plt.show()\n",
    "\n",
    "# Laplace at each grid point\n",
    "Lap = np.zeros((nx,ny))  \n",
    "\n",
    "\n",
    "# wall time before iteration \n",
    "# WT_bgn = time.time()\n",
    "\n",
    "# # time stepping\n",
    "# for iter in range(1001):\n",
    "    \n",
    "#     # \n",
    "#     Lap[1:nx-1,1:ny-1] = (C[ , ] - 2*C[ , ] + C[ , ])/dx**2 + \\\n",
    "#                          (C[ , ] - 2*C[ , ] + C[ , ])/dy**2\n",
    "    \n",
    "#     # update the concentration using vectorized calculation\n",
    "#     C[1:nx-1,1:ny-1] = C[ , ] + dt*D*Lap[ , ]\n",
    "    \n",
    "    \n",
    "#     # no-flux boundary condition\n",
    "#     C[ , ] = C[ , ]\n",
    "#     C[ , ] = C[ , ]\n",
    "    \n",
    "#     C[ , ] = C[ , ]\n",
    "#     C[ , ] = C[ , ]\n",
    "    \n",
    "    \n",
    "#     # update simulation time\n",
    "#     tm = tm + dt\n",
    "\n",
    "#     # visualization\n",
    "#     if iter%20 == 0:        \n",
    "#         clear_output(wait=True) # Clear output for dynamic display\n",
    "        \n",
    "# #         fig = plt.figure(figsize=(5, 5), dpi=100)\n",
    "# #         plt.contourf(xmsh[0:nx,0:ny], ymsh[0:nx,0:ny], C[0:nx,0:ny], 40, cmap=cm.jet, vmin = -0.02, vmax = 1.0)\n",
    "# #         plt.colorbar()   \n",
    "# #         plt.clim(-0.05,1.05)\n",
    "# #         plt.axes().set_aspect('equal')\n",
    "\n",
    "#         fig = plt.figure(figsize=(11, 7), dpi=100)\n",
    "#         ax = fig.gca(projection='3d')\n",
    "#         ax.plot_surface(xmsh[0:nx,0:ny], ymsh[0:nx,0:ny], C[0:nx,0:ny],cmap=cm.jet)\n",
    "#         ax.set_zlim3d(0,1)\n",
    "        \n",
    "#         display(fig)            # Reset display\n",
    "#         fig.clear()             # Prevent overlapping and layered plots\n",
    "#         time.sleep(0.02)         # Sleep for half a second to slow down the animation\n",
    "        \n",
    "\n",
    "# # wall time after iteration     \n",
    "# WT_end = time.time()    \n",
    "\n",
    "# print(WT_end - WT_bgn)   "
   ]
  },
  {
   "cell_type": "markdown",
   "metadata": {},
   "source": [
    "**If you have made the code work, it is good.**\n",
    "\n",
    "<font color=red>**Question:**</font> **Now, markdown the parts of visualization in the sequential code and vectorized code. Rerun the two codes to compare the computer times. How much faster is the vectorized code? Please restart the kernel before each run.**"
   ]
  },
  {
   "cell_type": "markdown",
   "metadata": {},
   "source": [
    "**Your answer:**"
   ]
  },
  {
   "cell_type": "markdown",
   "metadata": {},
   "source": [
    "---\n",
    "### Part 3\n",
    "### Diffusion with non-constant diffusivity\n",
    "\n",
    "**Diffusivity is not always a constant value throughout a diffusion domain in reality. In such cases, the diffusion equation becomes**\n",
    "\n",
    "$$ \\frac{\\partial C}{\\partial t} = \\nabla \\cdot D \\nabla C .$$\n",
    "\n",
    "** The 2D finite difference stencil is given as**\n",
    "\n",
    "$$\\frac{C_{i,j}^{n+1}-C_{i,j}^{n}}{\\Delta t} =  \\frac{1}{\\Delta x}\\bigg( \\frac{D_{i+1,j}+D_{i,j}}{2} \\cdot \\frac{C_{i+1,j}^n - C_{i,j}^n}{\\Delta x} - \\frac{D_{i,j}+D_{i-1,j}}{2} \\cdot \\frac{C_{i,j}^n - C_{i-1,j}^n}{\\Delta x}\\bigg) + \\\\  \\frac{1}{\\Delta y}\\bigg( \\frac{D_{i,j+1}+D_{i,j}}{2} \\cdot \\frac{C_{i,j+1}^n - C_{i,j}^n}{\\Delta y} - \\frac{D_{i,j}+D_{i,j-1}}{2} \\cdot \\frac{C_{i,j}^n - C_{i,j-1}^n}{\\Delta y}\\bigg).$$\n",
    "\n"
   ]
  },
  {
   "cell_type": "markdown",
   "metadata": {},
   "source": [
    "**The cell below creates a spatially variant diffusivity, with an ellisoidal inclusion that has diffusivity to be 0.01 while the matrix has diffusivity to be 1. **"
   ]
  },
  {
   "cell_type": "code",
   "execution_count": null,
   "metadata": {
    "collapsed": true
   },
   "outputs": [],
   "source": [
    "import numpy as np\n",
    "import math\n",
    "import time \n",
    "\n",
    "import matplotlib.pyplot as plt\n",
    "from matplotlib import cm\n",
    "from IPython.display import display, clear_output\n",
    "\n",
    "%matplotlib inline\n",
    "\n",
    "# spatial discretization\n",
    "nx = 101\n",
    "x = np.linspace(0, 5, nx)\n",
    "\n",
    "ny = 101\n",
    "y = np.linspace(0, 5, ny)\n",
    "\n",
    "# meshgrid generate the x and y coordinates of the 2D grid system\n",
    "xmsh, ymsh = np.meshgrid(x, y)\n",
    "\n",
    "D = np.zeros((nx,ny))\n",
    "\n",
    "for i in range(0,nx):\n",
    "    for j in range(0,ny):\n",
    "        \n",
    "        rad =  math.sqrt((xmsh[i,j]-2.2)**2/3 + (ymsh[i,j]-3.0)**2)\n",
    "        D[i,j] = 0.5*(1.0+math.tanh((rad-0.8)/0.1))+0.02\n",
    "        \n",
    "plt.contourf(xmsh[0:nx,0:ny], ymsh[0:nx,0:ny], D[0:nx,0:ny], 40, cmap=cm.jet, vmin = -0.02, vmax = 1.0)\n",
    "plt.colorbar() \n"
   ]
  },
  {
   "cell_type": "markdown",
   "metadata": {},
   "source": [
    "**Let us simulate a 2D diffusion through the square domain. Set a fix value $C = 1$ at top boundary and $C=0$ at the bottom boundary, and no-flux boundary condition on the two remaining sides. **\n",
    "\n",
    "**Complete the code below.**"
   ]
  },
  {
   "cell_type": "code",
   "execution_count": null,
   "metadata": {
    "collapsed": true
   },
   "outputs": [],
   "source": [
    "\n",
    "\n",
    "dx = x[2]-x[1]\n",
    "dy = y[2]-y[1]\n",
    "\n",
    "dt = 0.2*min(dx,dy)**2/np.amax(D)\n",
    "\n",
    "C = np.zeros((nx,ny))  \n",
    "\n",
    "# time stepping\n",
    "for iter in range(3001):\n",
    "    \n",
    "    # calculate the Laplace at each grid point\n",
    "    for i in range(1,nx-1):\n",
    "        for j in range(1,ny-1):\n",
    "            \n",
    "            Lap =  # <== fill the blank\n",
    "            \n",
    "            # update concentration at each grid point\n",
    "            C[i,j] = # <== fill the blank    \n",
    "            \n",
    "    # boundary condition\n",
    "    for i in range(1,nx-1):\n",
    "        C[i,0] = C[i,1]\n",
    "        C[i,ny-1] = C[i,ny-2]\n",
    "        \n",
    "    for j in range(1,ny-1):  \n",
    "        C[0,j] =     # <== fill the blank\n",
    "        C[nx-1,j] =  # <== fill the blank   \n",
    "        \n",
    "    # update simulation time    \n",
    "    tm = tm + dt\n",
    "\n",
    "    # visualization\n",
    "    if iter%20 == 0:        \n",
    "        clear_output(wait=True) # Clear output for dynamic display\n",
    "        \n",
    "        fig = plt.figure(figsize=(5, 5), dpi=100)\n",
    "        plt.contourf(xmsh[0:nx,0:ny], ymsh[0:nx,0:ny], C[0:nx,0:ny], 40, cmap=cm.jet, vmin = -0.02, vmax = 1.0)\n",
    "        plt.colorbar()   \n",
    "        plt.clim(-0.05,1.05)\n",
    "        plt.axes().set_aspect('equal')\n",
    "        plt.show()\n",
    "        time.sleep(0.1)         # Sleep for half a second to slow down the animation        "
   ]
  },
  {
   "cell_type": "markdown",
   "metadata": {},
   "source": [
    "### Congratulations, we're done!\n",
    "\n",
    "** Don't forget to add your names to the top!!**\n",
    "\n",
    "Log into the course D2L website (d2l.msu.edu) and go to \"Assessments > Assignment > In-class Assignment 20180913\"."
   ]
  },
  {
   "cell_type": "code",
   "execution_count": null,
   "metadata": {
    "collapsed": true
   },
   "outputs": [],
   "source": []
  }
 ],
 "metadata": {
  "kernelspec": {
   "display_name": "Python 3",
   "language": "python",
   "name": "python3"
  },
  "language_info": {
   "codemirror_mode": {
    "name": "ipython",
    "version": 3
   },
   "file_extension": ".py",
   "mimetype": "text/x-python",
   "name": "python",
   "nbconvert_exporter": "python",
   "pygments_lexer": "ipython3",
   "version": "3.6.3"
  }
 },
 "nbformat": 4,
 "nbformat_minor": 2
}
