{
 "cells": [
  {
   "cell_type": "markdown",
   "metadata": {},
   "source": [
    "# CMSE 802 In-class assignment: Matrix Solvers\n",
    "## Date: 09/12/2018\n",
    "## Due: 09/12/2018; 10:30 PM\n",
    "### The goal of this assignment is to introduce basics of matrix operation and matrix solving techniques. We will also learn that a discretized differential equation can be converted to a matrix equation."
   ]
  },
  {
   "cell_type": "markdown",
   "metadata": {},
   "source": [
    "---\n",
    "### Your name:"
   ]
  },
  {
   "cell_type": "markdown",
   "metadata": {},
   "source": [
    "---\n",
    "### Background\n",
    "### 1D Heat equation\n",
    "\n",
    "$$\\frac{\\partial T}{\\partial t} = \\frac{\\kappa}{\\rho C_p} \\frac{\\partial^2 T}{\\partial x^2}.$$\n",
    "\n",
    "At the steady state, $\\partial T / \\partial t = 0$, thus the differential equation need to be solved is $\\partial^2 T / \\partial x^2 = 0$, which is called the Laplace equation. \n",
    "\n",
    "Through discretization, the continous partial equation is converted (or approximated) to a matrix equation.\n",
    "\n",
    "$$\\frac{\\partial^2 T}{ \\partial x^2} = 0 ~~~~ \\Longrightarrow ~~~~ \\frac{T_{i-1} - 2T_{i} + T_{i+1}}{(\\Delta x)^2} = 0 ~~~~ \\Longrightarrow ~~~~\\mathbf{A} \\mathbf{u} = \\mathbf{f} ,$$\n",
    "\n",
    "where $\\mathbf{A}$ is the operator matrix (in this case, it is the Laplacian operator), $\\mathbf{u}$ is the unkown to be solve (it is in a form of vecotr), and $\\mathbf{f}$ is the force vector.\n",
    "\n",
    "The matrix equation is \n",
    "\n",
    "$$\\frac{1}{(\\Delta x)^2} \\left[ \\begin{array}{cccccccccccc} \n",
    "-2 &  1 &  0 &  0 & 0 & . & . & . & . & . & . & . \\\\\n",
    " 1 & -2 &  1 &  0 & 0 & . & . & . & . & . & . & . \\\\\n",
    " 0 &  1 & -2 &  1 & 0 & . & . & . & . & . & . & . \\\\\n",
    " 0 &  0 &  1 & -2 & 1 & . & . & . & . & . & . & . \\\\\n",
    ". & . & . & . & . & . & . & . & . & . & . & . \\\\\n",
    ". & . & . & . & . & . & . & . & . & . & . & . \\\\\n",
    ". & . & . & . & . & . & . & . & . & . & . & . \\\\\n",
    ". & . & . & . & . & . & . & 1 & -2 &  1 &  0 &  0 \\\\\n",
    ". & . & . & . & . & . & . & 0 &  1 & -2 &  1 &  0 \\\\\n",
    ". & . & . & . & . & . & . & 0 &  0 &  1 & -2 &  1 \\\\\n",
    ". & . & . & . & . & . & . & 0 &  0 &  0 &  1 & -2 \\\\\n",
    "\\end{array} \\right] \n",
    "\\left[ \\begin{array}{c} T_1 \\\\ T_2 \\\\ T_3 \\\\ T_4 \\\\ . \\\\ . \\\\ . \\\\ . \\\\ T_{n-4} \\\\ T_{n-3} \\\\ T_{n-2} \\\\ T_{n-1}  \\end{array} \\right] =\n",
    "\\frac{1}{(\\Delta x)^2} \\left[ \\begin{array}{c} - T_0 \\\\ 0 \\\\ 0 \\\\ 0 \\\\ 0 \\\\ 0 \\\\ 0 \\\\ 0 \\\\ 0 \\\\ 0 \\\\ 0 \\\\ - T_n \\end{array} \\right].$$\n",
    "\n",
    "Note that $T_0$ and $T_n$ on the right hand side of the equation are the boundary values, and the temperature needs to be determined is $T_1$ through $T_{n-1}$. \n",
    "\n",
    "Solving the matrix equation will give us the numerical solution of the differential equation. "
   ]
  },
  {
   "cell_type": "markdown",
   "metadata": {},
   "source": [
    "---\n",
    "### Part 1: Build a finite difference code to solve 1D Laplace equation (the steady state of Heat equation)\n",
    "We want to estimate the **steady-state** temperature profile in the wall of a broiler made of steel. The thickness of the wall is 1 cm. Assuming that the wall is planar, meaning we can treat the heat transfer problem as a 1-dimensional problem along the thickness of the wall. We assume that when the broiler is fired up, the temperature of the combustion chamber rises rapidly to 400$^\\circ$C, the temperature of the inner surface of the wall. The outer surface of the wall remains at constant 10$^\\circ$C, in equilibrium with the environment temperature. \n",
    "\n",
    "<img src=\"Broiler_1.jpg\",width=400, height=400 />\n",
    "\n",
    "**(1) Discretization:** Use a set of discrete points to represent a continuum domain. For exmample, as in the figure below, $n+1$ grid points (labeled by 0 to $n$) are seeded in a 1D domain. For simplicity, we set grid spacing to be uniform, which is denoted as $\\Delta x$. The temperature in this 1D domain is now represented by a set of discrete values, labeled by $T_0$ to $T_n$.\n",
    " \n",
    "<img src=\"discr_1.jpg\",width=600, height=400 />\n",
    "\n",
    "**(2) Set boundary condition:** Here, the temperature at the boundaries are fixed. This type of boundary is called the **Dirichlet boundary condition**. In the discretization in the figure above, grid points 0 and $n$ are the grid points that boundary values will be imposed. $T_0 = 400$ and $T_n = 10$. We will only need to solve the temperature at grid points 1 through $n-1$.\n",
    "\n",
    "**(3) Construct the operator matrix:** As demonstrated above, the Laplace equation can be converted to a matrix equation. Let's build the operator matrix for this problem. \n",
    "\n",
    "**(4) Solve the matrix equation:** We try test a couple of matrix solvers in this assignment."
   ]
  },
  {
   "cell_type": "markdown",
   "metadata": {
    "collapsed": true
   },
   "source": [
    "### Direct matrix solver\n",
    "\n",
    "**Task 1:** Let's build the operator matrix of the 1D Laplace equation for the problem stated above. As in the pre-class assignemnt, we can use linear algebra library to solve the matrix equation. **Solve the Laplace equation and plot the result**.  In addition to solving the equation, we want to **mark the computer time** needed for solving the equation.  "
   ]
  },
  {
   "cell_type": "code",
   "execution_count": null,
   "metadata": {
    "collapsed": true
   },
   "outputs": [],
   "source": [
    "# load libraries\n",
    "import numpy as np\n",
    "import matplotlib.pyplot as plt\n",
    "import time as tm\n",
    "\n",
    "%matplotlib inline\n",
    "\n",
    "\n",
    "# create a matrix\n",
    "Am = np.zeros((199,199))\n",
    "\n",
    "# create the vector for the unknowns\n",
    "T = np.zeros(199)\n",
    "\n",
    "# create the force vector\n",
    "f = np.zeros(199)\n",
    "\n",
    "# Boundary conditions\n",
    "f[0] = \n",
    "f[198] = \n",
    "\n",
    "# fill the entries in the matrx\n",
    "for n in range(199):\n",
    "    \n",
    "    # main diagonal\n",
    "    Am[n,n] = \n",
    "    \n",
    "    # upper and lower diagonals\n",
    "    if n > 0:\n",
    "        Am[n-1,n] = \n",
    "        Am[n,n-1] = \n",
    "\n",
    "\n",
    "# walltime before matrix solving\n",
    "cpu_tm_bg = tm.time()\n",
    "\n",
    "# solve vector T\n",
    "T =      \n",
    "\n",
    "# walltime after matrix solving\n",
    "cpu_tm_ed = tm.time()\n",
    "    \n",
    "    \n",
    "# plotting\n",
    "Xp = np.linspace(0,1,201)\n",
    "plt.plot(Xp[1:200],T)\n",
    "\n",
    "# time for matrix solving\n",
    "print(cpu_tm_ed - cpu_tm_bg)"
   ]
  },
  {
   "cell_type": "markdown",
   "metadata": {},
   "source": [
    "**How long does the computer take to solve this equation?**"
   ]
  },
  {
   "cell_type": "markdown",
   "metadata": {},
   "source": [
    "**Your answer:**"
   ]
  },
  {
   "cell_type": "markdown",
   "metadata": {},
   "source": [
    "---\n",
    "### Part 2: Iterative solver\n",
    "### Jacobi method\n",
    "Recall the pre-class assignment, the Jacobi method uses iterations to calculate the solution of a matrix equation: \n",
    "\n",
    "$\\mathbf{x}^{(n+1)} = \\mathbf{D}^{-1} (\\mathbf{f} -  \\mathbf{R} \\mathbf{x}^{(n)})$,\n",
    "\n",
    "where the superscript $(n)$ denotes the $n$-th iteration. The residual at each iteration step is \n",
    "\n",
    "$\\mathbf{r}^{(n)} = \\mathbf{f} - \\mathbf{A} \\mathbf{x}^{(n)}.$\n",
    "\n",
    "** Task 2**\n",
    "Now let's try solving the matrix equation for the 1D Laplace equation using the Jacobi method. Let's assume that the solution is accepted when the residual is less than 1.e-5. **Plot your result of the temperature profile. Plot the residual evolution during iteration**.   "
   ]
  },
  {
   "cell_type": "code",
   "execution_count": null,
   "metadata": {
    "collapsed": true
   },
   "outputs": [],
   "source": [
    "import numpy as np\n",
    "import matplotlib.pyplot as plt\n",
    "import time as tm\n",
    "\n",
    "%matplotlib inline\n",
    "\n",
    "\n",
    "# copy the code for building matrix A from the previous cell to here\n",
    "\n",
    "        \n",
    "    \n",
    "    \n",
    "# create matrices D and R\n",
    "D = np.zeros((199,199))        \n",
    "R = np.zeros((199,199)) \n",
    "# fill the entries in D and R\n",
    "\n",
    "\n",
    "\n",
    "# inverse of D matrix\n",
    "Dinv = np.zeros((199,199))\n",
    "# fill the entries in Dinv\n",
    "    \n",
    "    \n",
    "    \n",
    "# Jacobi method\n",
    "nrm = []\n",
    "\n",
    "# walltime before matrix solving\n",
    "cpu_tm_bg = tm.time()\n",
    "\n",
    "\n",
    "# iteration\n",
    "for iter in range(100000):\n",
    "    \n",
    "    # calculate T^(n+1) using matrix-vector operations\n",
    "    T = np.matmul(Dinv,   )\n",
    "    \n",
    "    # calculate residual\n",
    "    resd = \n",
    "    nrm.append(np.linalg.norm(resd,2))\n",
    "    \n",
    "    # set termination criterion\n",
    "    if nrm[-1] < 1e-5:\n",
    "        break\n",
    "        \n",
    "# walltime after matrix solving\n",
    "cpu_tm_ed = tm.time()\n",
    "\n",
    "\n",
    "print(iter, cpu_tm_ed - cpu_tm_bg, nrm[-1])\n",
    "plt.subplot(1,2,1)\n",
    "\n",
    "Xp = np.linspace(0,1,201)\n",
    "plt.plot(Xp[1:200],T)\n",
    "\n",
    "plt.subplot(1,2,2)\n",
    "plt.plot(nrm)\n",
    "\n"
   ]
  },
  {
   "cell_type": "markdown",
   "metadata": {},
   "source": [
    "**How many iterations does your code take to solve the matrix equation? What long does your computer solve the equation?**"
   ]
  },
  {
   "cell_type": "markdown",
   "metadata": {},
   "source": [
    "**Your answer:**"
   ]
  },
  {
   "cell_type": "markdown",
   "metadata": {},
   "source": [
    "### Point-wise Jacobi relaxation (matrix-free)\n",
    "\n",
    "For the finite difference method, it is unnecessary to alway form the operator matrix in solving the PDEs. The iteration can be done at each grid point. Here, let's work on the point-wise Jacobi relaxation that allow us to solve our 1D Laplace equation without creating the operator matrix.\n",
    "\n",
    "Recall the matrix equation for the Jacobi method. \n",
    "\n",
    "$$\\mathbf{T}^{(n+1)} = \\mathbf{D}^{-1} ( \\mathbf{f} - \\mathbf{R} \\mathbf{T}^{(n)} ) $$\n",
    "\n",
    "It is expended as \n",
    "\n",
    "$$\\left[ \\begin{array}{c} T_1 \\\\ T_2 \\\\ T_3 \\\\ T_4 \\\\ . \\\\ T_{n-4} \\\\ T_{n-3} \\\\ T_{n-2} \\\\ T_{n-1}  \\end{array} \\right]^{(n+1)} = \n",
    "\\left[ \\begin{array}{ccccccccc} \n",
    "-1/2 & 0 &  0 &  0 & . & . & . & . & . &  \\\\\n",
    " 0 & -1/2 & 0 &  0 & . & . & . & . & . &  \\\\\n",
    " 0 &  0 & -1/2 & 0 & . & . & . & . & . &  \\\\\n",
    " 0 &  0 &  0 & -1/2 & . & . & . & . & .  \\\\\n",
    ". & . & . & . & . & . & . & . & .  \\\\\n",
    ". & . & . & . & . & -1/2 & 0 &  0 &  0 \\\\\n",
    ". & . & . & . & . &  0 & -1/2 & 0 &  0 \\\\\n",
    ". & . & . & . & . &  0 &  0 & -1/2 & 0 \\\\\n",
    ". & . & . & . & . &  0 &  0 &  0 & -1/2 \\\\\n",
    "\\end{array} \\right] \n",
    "\\left( \\left[ \\begin{array}{c} - T_0 \\\\ 0 \\\\ 0 \\\\ 0  \\\\ . \\\\ 0 \\\\ 0 \\\\ 0 \\\\ - T_n \\end{array} \\right] - \n",
    "\\left[ \\begin{array}{ccccccccc} \n",
    " 0 &  1 & 0 &  0 & . & . & . & . & . &  \\\\\n",
    " 1 &  0 & 1 &  0 & . & . & . & . & . &  \\\\\n",
    " 0 &  1 & 0 &  1 & . & . & . & . & . &  \\\\\n",
    " 0 &  0 & 1 &  0 & . & . & . & . & .  \\\\\n",
    ". & . & . & . & . & . & . & . & .  \\\\\n",
    ". & . & . & . & . &  0 &  1 &  0 &  0 \\\\\n",
    ". & . & . & . & . &  1 &  0 &  1 &  0 \\\\\n",
    ". & . & . & . & . &  0 &  1 &  0 &  1 \\\\\n",
    ". & . & . & . & . &  0 &  0 &  1 &  0 \\\\\n",
    "\\end{array} \\right] \n",
    "\\left[ \\begin{array}{c} T_1 \\\\ T_2 \\\\ T_3 \\\\ T_4 \\\\ . \\\\ T_{n-4} \\\\ T_{n-3} \\\\ T_{n-2} \\\\ T_{n-1}  \\end{array} \\right]^{(n)} \\right).$$\n",
    "\n",
    "Let's pick the local equation at each grid, we can notice that\n",
    "\n",
    "$$T_1^{(n+1)} = \\frac{0 - (T_0^{(n)} + T_2^{(n)})}{-2} $$\n",
    "\n",
    "$$T_2^{(n+1)} = \\frac{0 - (T_1^{(n)} + T_3^{(n)})}{-2} $$\n",
    "\n",
    "$$T_3^{(n+1)} = \\frac{0 - (T_2^{(n)} + T_4^{(n)})}{-2} $$\n",
    "\n",
    "$$.....$$\n",
    "$$.....$$\n",
    "\n",
    "$$T_{n-2}^{(n+1)} = \\frac{0 - (T_{n-3}^{(n)} + T_{n-1}^{(n)})}{-2} $$\n",
    "\n",
    "$$T_{n-1}^{(n+1)} = \\frac{0 - (T_{n-2}^{(n)} + T_{n}^{(n)})}{-2} $$\n",
    "\n",
    "As a result, the Jacobi method is simply breaking down the stencil for the 2nd derivative by moving the values of the two neighboring points to the right hand side, and use them to calculate the new value of the center point:\n",
    "\n",
    "$$\\frac{T_{i-1} - 2T_{i} + T_{i+1}}{(\\Delta x)^2} = 0 ~~~~\\Longrightarrow~~~~ T_{i}^{(n+1)} = 0 - \\frac{T_{i-1}^{(n)} + T_{i+1}^{(n)}}{-2}$$\n",
    "\n",
    "**Task 3:** Let's use point-wise Jacobi relaxation method to solve the same 1D Laplace equation. Compare the results from point-wise relaxation to that from matrix iteration. "
   ]
  },
  {
   "cell_type": "code",
   "execution_count": null,
   "metadata": {
    "collapsed": true
   },
   "outputs": [],
   "source": [
    "# Matrix-free Jacobi\n",
    "\n",
    "import numpy as np\n",
    "import math\n",
    "\n",
    "import matplotlib.pyplot as plt\n",
    "%matplotlib inline\n",
    "\n",
    "import time as tm\n",
    "\n",
    "# spatial discretization\n",
    "gpt = 201\n",
    "Xp = np.linspace(0,1,201)\n",
    "\n",
    "T = np.zeros(gpt)*0\n",
    "T_old = np.zeros(gpt)\n",
    "\n",
    "\n",
    "# boundary condition\n",
    "T[0] = \n",
    "T[gpt-1] = \n",
    "\n",
    "# residual\n",
    "resd = np.zeros(gpt-1)\n",
    "\n",
    "nrm = []\n",
    "\n",
    "# walltime before iteration\n",
    "tbg = tm.time()\n",
    "\n",
    "# iteration\n",
    "cnt = 1\n",
    "for iter in range(100000):\n",
    "\n",
    "    T_old[0:gpt] = T[0:gpt]\n",
    " \n",
    "    # calculate the value of T based on its two neighbors\n",
    "    for i in range(1,gpt-1):\n",
    "        T[i] = \n",
    "\n",
    "        \n",
    "    # calculate the residual        \n",
    "    for i in range(1,gpt-1):\n",
    "        resd[i] = \n",
    "    \n",
    "    # norm of residual\n",
    "    nrm.append(np.linalg.norm(resd[1:gpt-1],2))\n",
    "    \n",
    "\n",
    "    if nrm[-1] < 1.0e-5:\n",
    "        break\n",
    "\n",
    "# walltime after iteration        \n",
    "ted = tm.time()\n",
    "\n",
    "# print results\n",
    "print(iter,ted-tbg,nrm[-1])\n",
    "\n",
    "plt.subplot(1,2,1)\n",
    "plt.plot(Xp[1:200],T)\n",
    "\n",
    "plt.subplot(1,2,2)\n",
    "plt.plot(nrm)"
   ]
  },
  {
   "cell_type": "markdown",
   "metadata": {},
   "source": [
    "**How many iterations does your code take to solve the matrix equation in poit-wise relaxation? What long does your computer solve the equation? Do you get identical result as in the matrix-iteration Jacobi method?**"
   ]
  },
  {
   "cell_type": "markdown",
   "metadata": {},
   "source": [
    "**Your answer:**"
   ]
  },
  {
   "cell_type": "markdown",
   "metadata": {
    "collapsed": true
   },
   "source": [
    "---\n",
    "### Part 3: implicit time scheme\n",
    "Our last activity for today's in-class assignment is to solve the 1D Heat equation with a fully implicit scheme.\n",
    "\n",
    "To avoid wasting heat, an insulation layer has been placed to cover the broiler. We assume that no heat flux will leak from the outer surface. In the modeling aspect, this will change the boundary condition at the outer surface. Let's change it to a no-flux boundary condition, meaning **the gradient between the outer most grid and ghost grid becomes zero**. \n",
    "\n",
    "No-flux boundary condition is a type of Neumann boundary condition. A **Neumann boundary condition** describes the gradient of field variables at the boundary.\n",
    "\n",
    "<img src=\"Broiler_2.jpg\",width=400, height=400 />\n",
    "\n",
    "**Task 4:** (1) Build an operator matrix for the 1D heat equation with a no-flux boundary condition at the outer wall surface. (2) Build an operator matrix for the fully implicit time scheme. (3) Simulation the temperature evolution up to 10 second. We will the time step 30 times that of the maximum stable time step size in the Euler's explicit time scheme.\n",
    "\n",
    "Material properties of steel: thermal conductivity is 50.2 W/m; heat capacity is 510.8 J/(kg$\\cdot$K); density is 7.85 g/cm$^3$. <strong>IMPORTANT!! Please make sure to convert all the units to be consistent.</strong> "
   ]
  },
  {
   "cell_type": "code",
   "execution_count": null,
   "metadata": {
    "collapsed": true
   },
   "outputs": [],
   "source": [
    "# load library\n",
    "import numpy as np\n",
    "\n",
    "# material parameters\n",
    "kap = 50.2/1.0e2\n",
    "Cp = 510.8/1.0e3\n",
    "rho = 7.85\n",
    "\n",
    "# spatial discretization\n",
    "Xp = np.linspace(0,1,201)\n",
    "dx = Xp[2]-Xp[1]\n",
    "\n",
    "# maximum time step size in explicit scheme\n",
    "dt0 = 0.5*(dx**2)/kap*(rho*Cp)\n",
    "\n",
    "# 30 times larger time step size\n",
    "dt = dt0*30\n",
    "\n",
    "# parameter\n",
    "alp = kap/(rho*Cp) / dx**2 *dt\n",
    "\n",
    "# (1)\n",
    "# create matrix A\n",
    "# copy the code for building matrix A from the previous cell to here\n",
    "\n",
    "\n",
    "\n",
    "# no-flux BC at the outer wall surface\n",
    "Am[198,198] = \n",
    "\n",
    "\n",
    "# (2)\n",
    "# operator matrix for implicit time scheme        \n",
    "Mtrx = np.identity(199) -   \n",
    "\n",
    "\n",
    "# create the vector for the unknowns\n",
    "T = np.ones(199)*10\n",
    "\n",
    "# create the force vector\n",
    "f = np.zeros(199)\n",
    "\n",
    "\n",
    "# time stepping\n",
    "mytime = 0.\n",
    "cnt = 0\n",
    "for iter in range(15000):\n",
    "    \n",
    "        # set the force vector\n",
    "        f[0:199] =\n",
    "        \n",
    "        # booundary condition for grid 1\n",
    "        f[0] = f[0] + \n",
    "\n",
    "        # think about the boundary condition for grid 199; do we need to do anaything?\n",
    "        \n",
    "        \n",
    "        # solve vector for T\n",
    "        T =  \n",
    "        \n",
    "        # update time\n",
    "        mytime = mytime + dt\n",
    "        \n",
    "        # plotting\n",
    "        if mytime > cnt*0.2:\n",
    "            cnt = cnt + 1\n",
    "            plt.plot(T)\n",
    "            \n",
    "        # terminate simulation at simulation time = 10. s    \n",
    "        if mytime > 10.0:\n",
    "            break\n",
    "            \n",
    "            \n"
   ]
  },
  {
   "cell_type": "markdown",
   "metadata": {},
   "source": [
    "**Task 5: In Day03 in-class assginemnt, we have simulated the same temperature evolution using Euler explicit time scheme.  Our last task today is to compare the computer times between the two methods. Use the time function in the assignment earlier to record computer running time for the implicit and explicit time schemes.**"
   ]
  },
  {
   "cell_type": "code",
   "execution_count": null,
   "metadata": {},
   "outputs": [],
   "source": [
    "# Copy your Euler time scheme code in Day03 in-class assignment Part 3 to here and modify the code \n",
    "# to simulate temperature evolution for 10 s\n",
    "\n"
   ]
  },
  {
   "cell_type": "markdown",
   "metadata": {},
   "source": [
    "**What are the CPU times for the implicit and explicit schemes? **"
   ]
  },
  {
   "cell_type": "markdown",
   "metadata": {},
   "source": [
    "**Your answer:**"
   ]
  },
  {
   "cell_type": "markdown",
   "metadata": {},
   "source": [
    "---\n",
    "## Here in the implicit time scheme, we use a direct matrix solver. For 1D cases, tri-diagonal matrix solver is very fast. However, in multi-dimensional cases, often point-wise relaxation schemes are faster. Which type of matrix solvers should be used truely depends on the nature of the problem."
   ]
  },
  {
   "cell_type": "markdown",
   "metadata": {
    "collapsed": true
   },
   "source": [
    "### Congratulations, we're done!\n",
    "\n",
    "** Don't forget to add your names to the top!!**\n",
    "\n",
    "Log into the course D2L website (d2l.msu.edu) and go to \"Assessments > Assignments > In-class Assignment 20180911\"."
   ]
  },
  {
   "cell_type": "code",
   "execution_count": null,
   "metadata": {
    "collapsed": true
   },
   "outputs": [],
   "source": []
  }
 ],
 "metadata": {
  "kernelspec": {
   "display_name": "Python 3",
   "language": "python",
   "name": "python3"
  },
  "language_info": {
   "codemirror_mode": {
    "name": "ipython",
    "version": 3
   },
   "file_extension": ".py",
   "mimetype": "text/x-python",
   "name": "python",
   "nbconvert_exporter": "python",
   "pygments_lexer": "ipython3",
   "version": "3.6.3"
  }
 },
 "nbformat": 4,
 "nbformat_minor": 2
}
