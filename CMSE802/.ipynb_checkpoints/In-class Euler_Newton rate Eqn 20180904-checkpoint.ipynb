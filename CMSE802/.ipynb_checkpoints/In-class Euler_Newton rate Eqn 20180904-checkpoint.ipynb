{
 "cells": [
  {
   "cell_type": "markdown",
   "metadata": {
    "collapsed": true
   },
   "source": [
    "# In-Class assignment: Euler's method and Newton's method -- rate equation of chemical reactions\n",
    "## Date: 09/04/2018\n",
    "## Objectives: We will learn and practice Euler's method for numerically solving ordinary differential equations and Newton's method for root finding. \n",
    "### We will use the Arrhenius equation to learn the numerical methods. Although the Arrhenius eqaution is mainly used to model concentration evolution during chemical reaction, it has many applications in other fields; for example, food spoiling, radioactive decay, bacterial growth etc."
   ]
  },
  {
   "cell_type": "markdown",
   "metadata": {},
   "source": [
    "### Your name: Boyao Zhu"
   ]
  },
  {
   "cell_type": "markdown",
   "metadata": {},
   "source": [
    "---\n",
    "### Euler's method is a first order numerical method for solving ordinary differential equations. It is typically used for approximating the solution of initial value problems. \n",
    "\n",
    "Euler's method is named after Leonhard Euler, which first appeared in his book, Institutionum calculi integralis (published 1768–70). \n",
    "\n",
    "For a first-order derivative,\n",
    "\n",
    "$$y' = f(t,y),$$\n",
    "\n",
    "we can approximate the derivative by\n",
    "\n",
    "$$\\frac{y(t + h) - y(t)}{h} \\approx f(t,y(t)) ,$$ \n",
    "\n",
    "where $h$ is a numerical parameter, the step size. Thus, with a given initial value, $y_0$, the value of $y(t)$ at each time step can be calculated."
   ]
  },
  {
   "cell_type": "markdown",
   "metadata": {},
   "source": [
    "---\n",
    "### Background\n",
    "Like polynomials in mathematics, the order of chemical reaction rate refers to the largest exponent of reactant concentration for the rate equation. Thus, the rate of a zero-order reaction is independent of the reactant concentration, and the rate of a first-order reaction is proportional to the concentration of one reactant. The rate of a second-order reaction can be proportional to either the square of one reactant concentration or multiplication of two reactant concentrations.\n",
    "\n",
    "Zero-order reaction: $A\\rightarrow P$, the rate is $r = -\\frac{d[A]}{dt} = k$, where $[A]$ is the concentration of reactant A, $t$ is time, and $k$ is the rate constant.\n",
    "\n",
    "First-order reaction: $A\\rightarrow P$, the rate is $ r = -\\frac{d[A]}{dt} = k [A]$.\n",
    "\n",
    "Second-order reaction: It can be $A + A \\rightarrow P$, for which the rate is $r = -\\frac{d[A]}{dt} = k [A]^2$. Or, $A + B \\rightarrow P$, for which the rate is $r = -\\frac{d[A]}{dt} = -\\frac{d[B]}{dt} = k [A] [B]$.\n",
    "\n",
    "We will focus on first- and second-order reactions in this section."
   ]
  },
  {
   "cell_type": "markdown",
   "metadata": {},
   "source": [
    "---\n",
    "### Part 1\n",
    "The reactants are poured into a batch reactor and well stirred to form a homogeneous mixing. Example pictures of batch reactors cab be found below, which are obtained from Wikipedia (https://en.wikipedia.org/wiki/Chemical_reactor).\n",
    "\n",
    "<img src=\"Batch_reactor.2.jpg\",width=400, height=300, align=\"left\" hspace=\"30\"/>\n",
    "<img src=\"Chemical_reactor_CSTR_AISI_316.JPG\",width=400, height=300, align=\"left\"/>"
   ]
  },
  {
   "cell_type": "markdown",
   "metadata": {},
   "source": [
    "We can assume that reactant concentration is always uniform inside a batch reactor. For a first-order reaction, the rate equation can be analytically solved by (1) rearranging the variables, and (2) integrating both sides of equation as\n",
    "\n",
    "$d[A]/[A] = -k dt ~~~~~\\Longrightarrow~~~~~ \\ln{[A]} = -k t + \\ln{[A]_0} ~~~~~\\Longrightarrow~~~~~ [A] = [A]_0 e^{-kt}$, where $[A]_0$ is the initial ($t=0$) concentration of A.  \n",
    "\n",
    "Set $[A]_0 = 0.1$ mol/dm$^3$ and $k = 1.0^{-3}$ s$^{-1}$. Let's calculate the concentration of A both analytically and numerically over a period of 5000 seconds. Plot the concentration calculated from the analytical solution and the results calculated using Euler's method. For the Euler's method, we can set $\\Delta t = 1$ s."
   ]
  },
  {
   "cell_type": "code",
   "execution_count": 26,
   "metadata": {},
   "outputs": [
    {
     "data": {
      "text/plain": [
       "Text(0,0.5,u'concentration')"
      ]
     },
     "execution_count": 26,
     "metadata": {},
     "output_type": "execute_result"
    },
    {
     "data": {
      "image/png": "[encoded data removed]",
      "text/plain": [
       "<matplotlib.figure.Figure at 0x1171ca8d0>"
      ]
     },
     "metadata": {},
     "output_type": "display_data"
    }
   ],
   "source": [
    "# load module\n",
    "import math\n",
    "import matplotlib.pyplot as plt\n",
    "%matplotlib inline\n",
    "\n",
    "# simulation parameters\n",
    "A_0 = 0.1   # mol per dm cute\n",
    "k = 0.001   # per second\n",
    "dt = 1    # unit in second\n",
    "\n",
    "# create list for the calculation\n",
    "tm = []\n",
    "A_an = []\n",
    "A_nm = []\n",
    "\n",
    "# initial values\n",
    "tm.append(0)\n",
    "A_an.append(A_0)\n",
    "A_nm.append(A_0)\n",
    "\n",
    "# time march for the concentration using loop\n",
    "for t in range(dt,5001):\n",
    "    A = A_0 * math.exp(-k * t)\n",
    "    A_an.append(A)\n",
    "    tm.append(t+dt)\n",
    "    \n",
    "    B = A_nm[t-dt] - k * A_nm[t-dt] * dt\n",
    "    A_nm.append(B)\n",
    "\n",
    "    \n",
    "# plot the concentration over time\n",
    "plt.plot(tm,A_an,'r-',label='analytical')\n",
    "plt.plot(tm,A_nm,'b:',label='numerical')   \n",
    "plt.legend()\n",
    "\n",
    "plt.xlabel('time')\n",
    "plt.ylabel('concentration')\n"
   ]
  },
  {
   "cell_type": "markdown",
   "metadata": {},
   "source": [
    "Now, let us check the error between the numerical result and analytical solution. The error is the difference between the analytical and numerical results. Find the maximum error for the three cases: $\\Delta t = $ 1, 10, and 100 s. Hint: for simplicity, you can plot the error and extract the values from the figure."
   ]
  },
  {
   "cell_type": "code",
   "execution_count": 27,
   "metadata": {},
   "outputs": [
    {
     "name": "stdout",
     "output_type": "stream",
     "text": [
      "for time step 1, the maximum error is 1.84016400478e-05\n",
      "for time step 10, the maximum error is 0.000184709989821\n",
      "for time step 100, the maximum error is 0.00192010010714\n"
     ]
    },
    {
     "data": {
      "text/plain": [
       "Text(0,0.5,u'error')"
      ]
     },
     "execution_count": 27,
     "metadata": {},
     "output_type": "execute_result"
    },
    {
     "data": {
      "image/png": "[encoded data removed]",
      "text/plain": [
       "<matplotlib.figure.Figure at 0x111b5ff50>"
      ]
     },
     "metadata": {},
     "output_type": "display_data"
    },
    {
     "data": {
      "image/png": "[encoded data removed]",
      "text/plain": [
       "<matplotlib.figure.Figure at 0x1122bfdd0>"
      ]
     },
     "metadata": {},
     "output_type": "display_data"
    }
   ],
   "source": [
    "# write your code here\n",
    "dt = 10\n",
    "A_nm10 = []\n",
    "A_nm10.append(A_0)\n",
    "t10 = []\n",
    "t10.append(0)\n",
    "\n",
    "for t in range(dt,5001,dt):\n",
    "    C = A_nm10[(t-dt)/dt] - k * A_nm10[(t-dt)/dt] * dt\n",
    "    A_nm10.append(C)\n",
    "    t10.append(t+dt)\n",
    "    \n",
    "dt = 100\n",
    "A_nm100 = []\n",
    "A_nm100.append(A_0)\n",
    "t100 = []\n",
    "t100.append(0)\n",
    "for t in range(dt,5001,dt):\n",
    "    D = A_nm100[(t-dt)/dt] - k * A_nm100[(t-dt)/dt] * dt\n",
    "    A_nm100.append(D)\n",
    "    t100.append(t+dt)\n",
    "\n",
    "f1 =  plt.figure()\n",
    "plt.plot(tm,A_an,\"b\",label=\"analytical\")\n",
    "plt.plot(tm,A_nm,\"r:\",label=\"numerical with timestep 1\")\n",
    "plt.plot(t10,A_nm10,\"r-\",label=\"numerical with timestep 10\")\n",
    "plt.plot(t100,A_nm100,\"r\",label=\"numerical with timestep 100\")\n",
    "plt.legend()\n",
    "\n",
    "plt.xlabel(\"time\")\n",
    "plt.ylabel(\"concentration\")\n",
    "\n",
    "error1 = []\n",
    "for i in range(5001):\n",
    "    err = A_an[i] - A_nm[i]\n",
    "    error1.append(err)\n",
    "\n",
    "print \"for time step 1, the maximum error is\",max(error1)\n",
    "\n",
    "error10 = []\n",
    "temp = []\n",
    "for i in range(501):\n",
    "    temp.append(A_an[10*i])\n",
    "    err = temp[i] - A_nm10[i]\n",
    "    error10.append(err)\n",
    "\n",
    "print \"for time step 10, the maximum error is\",max(error10)\n",
    "\n",
    "error100 = []\n",
    "temp = []\n",
    "for i in range(51):\n",
    "    temp.append(A_an[100*i])\n",
    "    err = temp[i] - A_nm100[i]\n",
    "    error100.append(err)\n",
    "    \n",
    "print \"for time step 100, the maximum error is\",max(error100)\n",
    "f2 = plt.figure()\n",
    "plt.plot(tm,error1,\"b\",label=\"error with step 1\")\n",
    "plt.plot(t10,error10,\"r\",label=\"error with step 10\")\n",
    "plt.plot(t100,error100,\"g\",label=\"error with step 100\")\n",
    "plt.legend()\n",
    "\n",
    "plt.xlabel(\"time\")\n",
    "plt.ylabel(\"error\")\n",
    "\n",
    "\n"
   ]
  },
  {
   "cell_type": "markdown",
   "metadata": {},
   "source": [
    "### Give your answers in the markdown cell below."
   ]
  },
  {
   "cell_type": "markdown",
   "metadata": {},
   "source": [
    "**Your answer:** for time step 1, the maximum error is 1.84016400478e-05\n",
    "for time step 10, the maximum error is 0.000184709989821\n",
    "for time step 100, the maximum error is 0.00192010010714"
   ]
  },
  {
   "cell_type": "markdown",
   "metadata": {},
   "source": [
    "---\n",
    "### Part 2\n",
    "Let's think about a second-order reaction with two reactants: $A+B \\rightarrow P$, for which the rate equation is given at the beginning of this notebook. The relationship between the concentrations of the two reactants can be analytically extracted as: \n",
    "\n",
    "$\\frac{[A]}{[B]} = \\frac{[A]_0}{[B]_0} e^{([A]_0 - [B]_0)kt}$ . \n",
    "\n",
    "However, the concentration as a function of time for each reactant is  difficult to obtain analytically. Thus, we will use numerical method to evaluate the concentration over time. Set the initial concentration of the two reactants to be $[A]_0 = 0.4$ and $[B]_0 = 0.1$ mol/dm$^3$, and the initial concentration of P is zero. The rate constant to be 1$^{-3}$ dm$^3$/mol$\\cdot$s$^{-1}$.\n",
    "\n",
    "**(1) Use Euler's method to calculate the concentrations of A, B, and P over a period of 6000 second. You can set time step size to be 1 s.**\n",
    "\n",
    "**(2) Compare the ratio of A/B with the analytical one. **"
   ]
  },
  {
   "cell_type": "code",
   "execution_count": 24,
   "metadata": {},
   "outputs": [
    {
     "data": {
      "text/plain": [
       "Text(0,0.5,u'ratio')"
      ]
     },
     "execution_count": 24,
     "metadata": {},
     "output_type": "execute_result"
    },
    {
     "data": {
      "image/png": "[encoded data removed]",
      "text/plain": [
       "<matplotlib.figure.Figure at 0x11ba41a90>"
      ]
     },
     "metadata": {},
     "output_type": "display_data"
    }
   ],
   "source": [
    "# write your code here\n",
    "A_0 = 0.4\n",
    "B_0 = 0.1\n",
    "P_0 = 0\n",
    "k   = 0.001\n",
    "dt  = 1\n",
    "T   = 6000\n",
    "\n",
    "tm   = []\n",
    "A_nm = []\n",
    "B_nm = []\n",
    "P_nm = []\n",
    "tm.append(0)\n",
    "A_nm.append(A_0)\n",
    "B_nm.append(B_0)\n",
    "P_nm.append(P_0)\n",
    "\n",
    "ratioAB_an = []\n",
    "delta = A_nm[0] - B_nm[0]\n",
    "ratio = A_nm[0]/B_nm[0]\n",
    "ratioAB_an.append(ratio)\n",
    "\n",
    "ratioAB_nm = []\n",
    "ratioAB_nm.append(ratio)\n",
    "\n",
    "for t in range(T+1):\n",
    "    A = A_nm[t] - k * A_nm[t] * B_nm[t] * dt\n",
    "    B = B_nm[t] - k * A_nm[t] * B_nm[t] * dt\n",
    "    P = P_nm[t] + k * A_nm[t] * B_nm[t] * dt\n",
    "    A_nm.append(A)\n",
    "    B_nm.append(B)\n",
    "    P_nm.append(P)\n",
    "    tm.append(t+dt)\n",
    "    \n",
    "    AB_an = ratio * math.exp(delta * k * t)\n",
    "    ratioAB_an.append(AB_an)\n",
    "    \n",
    "    AB_nm = A/B\n",
    "    ratioAB_nm.append(AB_nm)\n",
    "\n",
    "\n",
    "\n",
    "\n",
    "    \n",
    "\n",
    "\n",
    "# plot the results\n",
    "# you can use plt.subplot(211) for task(1)\n",
    "plt.subplot(211)\n",
    "plt.plot(tm,A_nm,\"r\",label=\"A reactant\")\n",
    "plt.plot(tm,B_nm,\"b\",label=\"B reactant\")\n",
    "plt.plot(tm,P_nm,\"g\",label=\"P resultant\")\n",
    "plt.legend()\n",
    "\n",
    "plt.xlabel(\"time\")\n",
    "plt.ylabel(\"amount\")\n",
    "\n",
    "# you can use plt.subplot(212) for task(2)\n",
    "plt.subplot(212)\n",
    "plt.plot(tm,ratioAB_an,\"r\",label=\"analytical\")\n",
    "plt.plot(tm,ratioAB_nm,\"b:\",label=\"numerical\")\n",
    "plt.legend()\n",
    "\n",
    "plt.xlabel(\"time\")\n",
    "plt.ylabel(\"ratio\")"
   ]
  },
  {
   "cell_type": "markdown",
   "metadata": {},
   "source": [
    "### Give a brief description of your result of the concentration evolution in the markdown cell below."
   ]
  },
  {
   "cell_type": "markdown",
   "metadata": {},
   "source": [
    "**Your answer:**The concentration of A is decreasing from 0.4 to approximately 0.3 and the concentration of B is decreasing from 0.1 to 0.  and the resultant P is increasing from none to approximately 0.1"
   ]
  },
  {
   "cell_type": "markdown",
   "metadata": {},
   "source": [
    "---\n",
    "### Part 3\n",
    "Radiocarbon dating uses the period of half life of carbon-14 ($^{14}$C) to determine the age of carbon-containing organic objects. The decay of $^{14}$C can be viewed as a first-order reaction: $^{14}$C $\\rightarrow$ $^{14}$N $+ ...   $. The half life of $^{14}$C is 5,730 years; meaning the concentration of $^{14}$C reduces to half of it per 5,730 years. The $^{14}$C is nearly constant 1.9% over the total carbon in the atomosphere. Inside living objects, the $^{14}$C fraction over total carbon is in equilibrium with the carbon cycle; i.e., 1.9% of the total carbon. After the objects die, the carbon cycle stops and $^{14}$C monotonically decreases.  \n",
    "\n",
    "**(1) Find the reaction constant of $^{14}$C $\\rightarrow$ $^{14}$N. Hint: use the rate equation of first-order reaction. **\n",
    "\n",
    "**(2) Plot the concentration of $^{14}$C over a period of 100,000 years.**\n",
    "\n",
    "**(3) For a fossil, in which the $^{14}$C fraction is 0.02%, find how many years the object has dead. For simplicity, you can determine the year from the figure. **"
   ]
  },
  {
   "cell_type": "code",
   "execution_count": 9,
   "metadata": {},
   "outputs": [
    {
     "name": "stdout",
     "output_type": "stream",
     "text": [
      "the value of k = 0.000120968094339\n",
      "37643\n"
     ]
    },
    {
     "data": {
      "image/png": "[encoded data removed]",
      "text/plain": [
       "<matplotlib.figure.Figure at 0x10523be90>"
      ]
     },
     "metadata": {},
     "output_type": "display_data"
    }
   ],
   "source": [
    "# load module\n",
    "import math\n",
    "import numpy as np\n",
    "import matplotlib.pyplot as plt\n",
    "%matplotlib inline\n",
    "\n",
    "\n",
    "# (1) find the value of k\n",
    "\n",
    "#--------------------------------------------------------------------#\n",
    "# solving the first order differential equation -dN/dt = -kN\n",
    "# we get N(t) = N(0)exp(-kt)\n",
    "# plug t = 5730 and N(t) = 1/2*N(0) into the equation\n",
    "half_t = 5730\n",
    "k = np.log(0.5)*(-1)/half_t\n",
    "print \"the value of k =\",(k)\n",
    "\n",
    "\n",
    "\n",
    "\n",
    "# (2) calculate the C_14 concentration over 100,000 years using \n",
    "# the Euler's method for the first-order rate equation\n",
    "N_0 = 1.9\n",
    "dt  = 1 \n",
    "T   = 100001\n",
    "\n",
    "tm   = []\n",
    "N_nm = []\n",
    "tm.append(0)\n",
    "N_nm.append(N_0)\n",
    "\n",
    "for t in range(T):\n",
    "    N = N_nm[t] - N_nm[t] * k * dt\n",
    "    N_nm.append(N)\n",
    "    tm.append(t+dt)\n",
    "    \n",
    "\n",
    "\n",
    "# (3)\n",
    "# plot the results\n",
    "plt.plot(tm,N_nm,\"r\",label=\"C_14\")\n",
    "plt.legend()\n",
    "\n",
    "plt.xlabel(\"years\")\n",
    "plt.ylabel(\"amount\")\n",
    "\n",
    "for i in tm:\n",
    "    if N_nm[i] > 0.02:\n",
    "        continue\n",
    "    else:\n",
    "        print (i)\n",
    "        break\n"
   ]
  },
  {
   "cell_type": "markdown",
   "metadata": {},
   "source": [
    "### Given you estimate of years in the markdown cell below"
   ]
  },
  {
   "cell_type": "markdown",
   "metadata": {},
   "source": [
    "**Your answer:** 37643"
   ]
  },
  {
   "cell_type": "markdown",
   "metadata": {},
   "source": [
    "---\n",
    "### Newton's Method\n",
    "Newton's method is a classical algorithm for finding root of functions. It was first used by Newton in 1669. This method utilizes the concenpt of derivative such that the derivative of $f(x)$ at $x_0$ is approximated by\n",
    "\n",
    "$$\\frac{y-y_0}{x-x_0} = f'(x_0),$$\n",
    "\n",
    "where $y_0 = f(x_0)$. This equation can be rearranged to \n",
    "\n",
    "$$x = x_0 + \\frac{y - f(x_0)}{f'(x_0)}.$$ \n",
    "\n",
    "Calculate the value of $x$ using the equation above. The updated value is now $x_1$, continue this process to obtain the next point ($x_2$) closer to the root:\n",
    "\n",
    "$$x_2 = x_1 + \\frac{y -f(x_1)}{f'(x_1)}. $$\n",
    "\n",
    "Repeat this process until the root is found. \n",
    "\n",
    "\n",
    "The figure shows an illustration for solving $y=0$ using Newton's method. At $x_0$, the tangent line (blue) insects $y=0$ at $x_1$. Next, at $x_1$, the tangent line (green) intersects $y=0$ at $x_2$. Note that $x_2$ is approching the root (the red dot). Repeating this process, $x_n$ will be the intersecting point between $f(x)$ and $y=0$.\n",
    "\n",
    "<img src=\"NewtonMethod.png\",width=400, height=400 />\n",
    "\n",
    "The image is obtained from http://tutorial.math.lamar.edu/Classes/CalcI/NewtonsMethod.aspx\n",
    "\n",
    "**Note that if $y=0$, we will find the root, the solution of $f(x)=0$. If $y=2$, we will find the solution for $f(x)=2$.** "
   ]
  },
  {
   "cell_type": "markdown",
   "metadata": {},
   "source": [
    "Now, let's come back to the carbon-dating problem. You need to numerically solve the years of the fossil mentioned previously. You have the rate equation of $^{14}$C decay, the rate constant, and initial concentration.\n",
    "\n",
    "The rate equation is \n",
    "\n",
    "$$C = C_0 e^{-k t} $$\n",
    "\n",
    "where time $t$ is the variable of the function $C_0 e^{-kt}$. Write a code of Newton's method to solve the year for $^{14}$C fraction to be 0.02%. Try an initial guess of 10,000 years, and set a convergence criterion that $| t_{n+1} - t_{n} | < 1.0^{-7}$."
   ]
  },
  {
   "cell_type": "code",
   "execution_count": 18,
   "metadata": {},
   "outputs": [
    {
     "name": "stdout",
     "output_type": "stream",
     "text": [
      "37645.2726357\n",
      "0.0\n"
     ]
    }
   ],
   "source": [
    "# your code here\n",
    "\n",
    "import math\n",
    "\n",
    "# simulation parameters\n",
    "k = 0.00012096809433855938    # <== rate constant\n",
    "t_old = 10000                 # <== initial guess\n",
    "C_0 = 1.9                     # <== initial C concentration\n",
    "C_t = 0.02                    # <== target C concentration\n",
    "\n",
    "def f_prime(t):\n",
    "    a = -k * C_0 * math.exp(-k * t)\n",
    "    return a\n",
    "def f(t):\n",
    "    b = C_0 * math.exp(-k * t) - C_t\n",
    "    return b\n",
    "\n",
    "# loop\n",
    "while 1:\n",
    "    t = t_old - f(t_old)/f_prime(t_old)\n",
    "    if abs(t-t_old)<1e-7: \n",
    "        break\n",
    "    t_old = t\n",
    "print t\n",
    "\n",
    "        "
   ]
  },
  {
   "cell_type": "markdown",
   "metadata": {
    "collapsed": true
   },
   "source": [
    "### What is the year you obtained from Newton's method? How many steps does the code take to reach the solution? Give your answer in the markdown cell below."
   ]
  },
  {
   "cell_type": "markdown",
   "metadata": {},
   "source": [
    "**Your answer:**37645.2726357"
   ]
  },
  {
   "cell_type": "markdown",
   "metadata": {},
   "source": [
    "### Congratulations, we're done!\n",
    "\n",
    "** Don't forget to add your names to the top!!**\n",
    "\n",
    "Log into the course D2L website (d2l.msu.edu) and go to \"Assessments > Assignments > In-class Assignment 20180904\"."
   ]
  },
  {
   "cell_type": "code",
   "execution_count": null,
   "metadata": {
    "collapsed": true
   },
   "outputs": [],
   "source": [
    "Bye!"
   ]
  }
 ],
 "metadata": {
  "kernelspec": {
   "display_name": "Python 2",
   "language": "python",
   "name": "python2"
  },
  "language_info": {
   "codemirror_mode": {
    "name": "ipython",
    "version": 2
   },
   "file_extension": ".py",
   "mimetype": "text/x-python",
   "name": "python",
   "nbconvert_exporter": "python",
   "pygments_lexer": "ipython2",
   "version": "2.7.14"
  }
 },
 "nbformat": 4,
 "nbformat_minor": 2
}
