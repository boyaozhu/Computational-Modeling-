{
 "cells": [
  {
   "cell_type": "markdown",
   "metadata": {},
   "source": [
    "# CMSE 802 In-class assignment: Agent-Based Modeling -- the Schelling model\n",
    "## Date: 10/02/2018\n",
    "## Due: 10/02/2018; 10:30 PM\n",
    "\n",
    "### The goal of this assignment is to learn and write a code for the Schelling model."
   ]
  },
  {
   "cell_type": "markdown",
   "metadata": {},
   "source": [
    "---\n",
    "### Your name:"
   ]
  },
  {
   "cell_type": "code",
   "execution_count": null,
   "metadata": {
    "collapsed": true
   },
   "outputs": [],
   "source": [
    "# ##########################################################################\n",
    "# load libraries\n",
    "# ##########################################################################\n",
    "\n",
    "import numpy as np\n",
    "import math\n",
    "import time \n",
    "\n",
    "import matplotlib.pyplot as plt\n",
    "from matplotlib import cm\n",
    "from IPython.display import display, clear_output"
   ]
  },
  {
   "cell_type": "markdown",
   "metadata": {},
   "source": [
    "**Put the functions you developed in the pre-class assginment to the cells below.**"
   ]
  },
  {
   "cell_type": "code",
   "execution_count": null,
   "metadata": {
    "collapsed": true
   },
   "outputs": [],
   "source": [
    "# ##########################################################################\n",
    "# function for converting linear label of grid to indices for row and column\n",
    "# ##########################################################################\n",
    "\n",
    "def LabelToIndices(n_row, n_col, lab):\n",
    "\n",
    "    \n",
    "    return row, col"
   ]
  },
  {
   "cell_type": "code",
   "execution_count": null,
   "metadata": {
    "collapsed": true
   },
   "outputs": [],
   "source": [
    "# ##########################################################################\n",
    "# function for converting row and column indices of a grid to linear label \n",
    "# ##########################################################################\n",
    "\n",
    "def IndicesToLabel(n_row, n_col, row, col):\n",
    "\n",
    "    \n",
    "    return lab"
   ]
  },
  {
   "cell_type": "markdown",
   "metadata": {},
   "source": [
    "---\n",
    "<img src=\"2D-discr-4.png\" alt = \"drawing\" width=400 />"
   ]
  },
  {
   "cell_type": "markdown",
   "metadata": {},
   "source": [
    "**We devide the main to three parts: (1) initialize the system, (2) defect agent's comfortable level, and (3) move agents according to their comfortable level. ** "
   ]
  },
  {
   "cell_type": "code",
   "execution_count": null,
   "metadata": {
    "collapsed": true
   },
   "outputs": [],
   "source": [
    "# ##########################################################################\n",
    "# main code\n",
    "# ##########################################################################\n",
    "\n",
    "# #################################################\n",
    "# part 1: initialize the grid system\n",
    "# #################################################\n",
    "\n",
    "\n",
    "# percentage of population\n",
    "pct_1 = 50.                       # houses occupied by species 1\n",
    "pct_2 = 40.                       # houses occupied by species 2\n",
    "pct_e = 100. - pct_1 - pct_2      # empty houses\n",
    "\n",
    "# moving criterion\n",
    "mvcr = 0.5\n",
    "\n",
    "# grid system\n",
    "nx = 49    # number of column\n",
    "ny = 99    # number of row\n",
    "grid_com = np.zeros((nx,ny))\n",
    "\n",
    "n_sp1 = int(nx*ny*pct_1/100)       # number of houses occupied by sp1\n",
    "n_sp2 = int(nx*ny*pct_2/100)       # number of houses occupied by sp2\n",
    "n_emp = nx*ny - n_sp1 - n_sp2      # number of empty houses\n",
    "\n",
    "\n",
    "# linear list of grids, using permutation to randomize the list\n",
    "grid_list = np.random.permutation(nx*ny)\n",
    "\n",
    "\n",
    "# initial distribution: each grid point is occupied by either sp1, sp2, or empty (idnt = 3)\n",
    "# (1) You can assign the first group (number of sp1) in the permuted list to sp1\n",
    "# (2) Find the row and column of the grids in that group\n",
    "# (3) Assign the value of grid_com[row, col] equal = 1 on the corresponding grids occupied by sp1\n",
    "# (4) Do the same for grids for sp2 and empty\n",
    "# loop over all grids\n",
    "for i in range(nx*ny):\n",
    "    # put you code here\n",
    "    \n",
    "    \n",
    "    \n",
    "\n",
    "# create another grid system that includes boundary layers. The value at ghost grids is zero.\n",
    "grid_gh = np.zeros(( , ))     # <== fill the blank; The dimension of the new grid system.\n",
    "grid_gh[ , ] = grid_com[ , ]  # <== fill the blank; For non-boundary grids, the values are the same\n",
    "                              # to the orignal grids. \n",
    "\n",
    "\n",
    "# list of the 8 neighbors surrounding a grid\n",
    "nb_List = np.zeros(8)\n",
    "\n",
    " \n",
    "# time iteration    \n",
    "for iter in range(1):\n",
    "    \n",
    "    # create lists of unhappy people\n",
    "    uh_sp1 = []\n",
    "    uh_sp2 = []\n",
    "    \n",
    "    # #################################################\n",
    "    # part 2: defecting comfortable level of people\n",
    "    # #################################################\n",
    "    \n",
    "\n",
    "    # loop over grids\n",
    "    for i in range( , ):         # <== fill the blank\n",
    "        for j in range( , ):     # <== fill the blank\n",
    "            \n",
    "            # identity of species\n",
    "            idnt = grid_gh[i,j]  \n",
    "            \n",
    "            # check only the grid points occupied by sp1 or sp2\n",
    "            if idnt == 1 or idnt == 2 :\n",
    "\n",
    "                # list of neighbors: mapping the surrounding grid points to the neighbor list\n",
    "                # complete this part\n",
    "                \n",
    "                # number of neighbors\n",
    "                n_nb = 0\n",
    "\n",
    "                # number of same kind\n",
    "                n_sk = 0\n",
    "            \n",
    "                # loop over the neighbors to defect comfortable level\n",
    "                for p in range(8):\n",
    "                    \n",
    "                    # count numbmer of neighbors\n",
    "                    if nb_List[p]  :      # <== fill the blank\n",
    "                        n_nb = n_nb + 1\n",
    "                    \n",
    "                    # count number of neighbors in the same kind\n",
    "                    if nb_List[p] ==    :   # <== fill the blank\n",
    "                        n_sk =              # <== fill the blank\n",
    "                \n",
    "                # calculate comfortable level\n",
    "                cmft_lvl = n_sk / n_nb\n",
    "                \n",
    "                # find unhappy agents \n",
    "                if cmft_lvl < mvcr :\n",
    "                    \n",
    "                    # the label of grids occupied by unhappy people\n",
    "                    labs = IndicesToLabel( ,  ,  ,  )    # <== fill the blank; Note that this function is built for \n",
    "                                                  # grid_com. Be careful about the row and col indices that are \n",
    "                                                  # looped over grid_gh.\n",
    "                \n",
    "                    # create lists for unhappy people\n",
    "                    if idnt == 1 :\n",
    "                        uh_sp1.append(labs)\n",
    "                        \n",
    "                    if idnt == 2 :\n",
    "                        uh_sp2.append(labs)\n",
    "                \n",
    "    \n",
    "    # #####################################\n",
    "    # part 3: unhappy people start to move\n",
    "    # #####################################\n",
    " \n",
    "    \n",
    "    "
   ]
  },
  {
   "cell_type": "markdown",
   "metadata": {},
   "source": [
    "### (1) Copy and paste the visualization part in the pre-class assignment to the end of the main code, and plot the distribution of the species 1 and 2."
   ]
  },
  {
   "cell_type": "markdown",
   "metadata": {},
   "source": [
    "### (2) How many unhappy species 1 and species 2 do you get in the initial configuration? What are the percentages of unhappy agents?\n",
    "\n",
    "**Write additional lines to print the numbers of entries in uh_sp1 and uh_sp2. **"
   ]
  },
  {
   "cell_type": "markdown",
   "metadata": {},
   "source": [
    "**Your answer:** "
   ]
  },
  {
   "cell_type": "markdown",
   "metadata": {},
   "source": [
    "### (3) What is the average comfortable level of all agents (sp1 and sp2) in your initial configuration? What is the average number of same-kind neighbors around the agents? \n",
    "\n",
    "** You need to add a couple of lines for the calculation requested here. **"
   ]
  },
  {
   "cell_type": "markdown",
   "metadata": {
    "collapsed": true
   },
   "source": [
    "**Your answer:** "
   ]
  },
  {
   "cell_type": "markdown",
   "metadata": {},
   "source": [
    "### Congratulations, we're done!\n",
    "\n",
    "** Don't forget to add your names to the top!!**\n",
    "\n",
    "Log into the course D2L website (d2l.msu.edu) and go to \"Assessments > Assignments > In-class Assignment 20181002\"."
   ]
  },
  {
   "cell_type": "code",
   "execution_count": null,
   "metadata": {
    "collapsed": true
   },
   "outputs": [],
   "source": []
  }
 ],
 "metadata": {
  "kernelspec": {
   "display_name": "Python 3",
   "language": "python",
   "name": "python3"
  },
  "language_info": {
   "codemirror_mode": {
    "name": "ipython",
    "version": 3
   },
   "file_extension": ".py",
   "mimetype": "text/x-python",
   "name": "python",
   "nbconvert_exporter": "python",
   "pygments_lexer": "ipython3",
   "version": "3.6.5"
  }
 },
 "nbformat": 4,
 "nbformat_minor": 2
}
