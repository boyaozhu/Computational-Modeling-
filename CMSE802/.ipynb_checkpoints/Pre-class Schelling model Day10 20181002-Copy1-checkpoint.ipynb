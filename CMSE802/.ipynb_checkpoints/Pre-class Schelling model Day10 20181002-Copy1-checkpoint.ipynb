{
 "cells": [
  {
   "cell_type": "markdown",
   "metadata": {},
   "source": [
    "# CMSE 802 Pre-class assignment: Agent-Based Model -- the Schelling Model\n",
    "## Date: 09/27/2018\n",
    "## Due: 10/01/2018; 10:30 PM\n",
    "\n",
    "### The goal of this assignment is to use the Schelling model as an example to learn agent-based modeling. We will make some Python functions that will be used in the class. At the end of this learning module, we will reproduce the Nobel prize winning work by T. C. Schelling."
   ]
  },
  {
   "cell_type": "markdown",
   "metadata": {},
   "source": [
    "---\n",
    "### Your name:"
   ]
  },
  {
   "cell_type": "markdown",
   "metadata": {},
   "source": [
    "----\n",
    "\n",
    "** The Schelling model of segregation is probably the most prominent example of agent-based modeling in social science modeling. It was introduced in 1971 (Thomas C. Schelling, Dynamic Model of Segregation, Journal of Mathematical Sociology, vol 1, 1971, pp 143--186). Because of his work on socio-economic dynamics, Schelling received the 2005 Nobel prize in Economic Sciences. **\n",
    "\n",
    "** In the coming class, we will work on developing simulation code of the Schelling model. In this pre-class assignment, we will write some Python functions that will be used in the class. **\n",
    "\n",
    "----\n",
    "### Task 1: Let's start with watching a Youtube video introducing the Schelling model. "
   ]
  },
  {
   "cell_type": "code",
   "execution_count": 4,
   "metadata": {
    "scrolled": true
   },
   "outputs": [
    {
     "data": {
      "image/jpeg": "[encoded data removed]",
      "text/html": [
       "\n",
       "        <iframe\n",
       "            width=\"720\"\n",
       "            height=\"540\"\n",
       "            src=\"https://www.youtube.com/embed/OA8KBccVe1s\"\n",
       "            frameborder=\"0\"\n",
       "            allowfullscreen\n",
       "        ></iframe>\n",
       "        "
      ],
      "text/plain": [
       "<IPython.lib.display.YouTubeVideo at 0x10d60d6d8>"
      ]
     },
     "execution_count": 4,
     "metadata": {},
     "output_type": "execute_result"
    }
   ],
   "source": [
    "from IPython.display import YouTubeVideo\n",
    "YouTubeVideo('OA8KBccVe1s',width=720,height=540)\n",
    "\n",
    "# If you are interested in watch another video, uncomment the one below and watch it.\n",
    "# YouTubeVideo('AZlWOykGzYg',width=720,height=540)"
   ]
  },
  {
   "cell_type": "markdown",
   "metadata": {},
   "source": [
    "** Recall the grid label sequencing in our previous in-class assignment 2D FDM and PDE. Each grid point has a label, and indices of row and column. We will set up the checker board in a way similar to the grid system, such that each grid has a linear label, an index of row, and an index of column. **\n",
    "\n",
    "---\n",
    "\n",
    "<img src=\"2D-discr-3.png\" alt = \"drawing\" width=600 />\n",
    "\n",
    "\n",
    "### Task 2:\n",
    "** We need to make a function that can convert the label of a grid point to the indices of row and column. For example, the 99-th grid is at row = 2 and col = 1. **"
   ]
  },
  {
   "cell_type": "code",
   "execution_count": null,
   "metadata": {
    "collapsed": true
   },
   "outputs": [],
   "source": [
    "# ##########################################################################\n",
    "# function for converting linear label of grid to indices of row and column\n",
    "# ##########################################################################\n",
    "\n",
    "def LabelToIndices(n_row, n_col, lab):\n",
    "    \n",
    "    # complete the code\n",
    "    row = \n",
    "    \n",
    "    col = \n",
    "    \n",
    "    return row, col"
   ]
  },
  {
   "cell_type": "markdown",
   "metadata": {},
   "source": [
    "** Test you function for 3675-th grid. Print the indices of row and column. **"
   ]
  },
  {
   "cell_type": "code",
   "execution_count": null,
   "metadata": {
    "collapsed": true
   },
   "outputs": [],
   "source": [
    "# Test function Lab2Ind\n",
    "import math\n",
    "\n",
    "n_row = 99    # <== number of row\n",
    "n_col = 49    # <== number of column\n",
    "\n",
    "lab = 3675\n",
    "\n",
    "r1, c1 = LabelToIndices(n_row, n_col, lab)\n",
    "\n",
    "print(r1, c1)"
   ]
  },
  {
   "cell_type": "markdown",
   "metadata": {},
   "source": [
    "---\n",
    "### Task 3:\n",
    "** We need to make another function that can convert the indices of row and column of a grid to the linear label. For example, the grid at row = 2 and col = 1 is labeled as the 99-th point. **"
   ]
  },
  {
   "cell_type": "code",
   "execution_count": null,
   "metadata": {
    "collapsed": true
   },
   "outputs": [],
   "source": [
    "# ##########################################################################\n",
    "# function for converting row and column indices of a grid to linear label \n",
    "# ##########################################################################\n",
    "\n",
    "def IndicesToLabel(n_row, n_col, row, col):\n",
    "    \n",
    "    # complete the code\n",
    "    lab = \n",
    "\n",
    "    return lab"
   ]
  },
  {
   "cell_type": "markdown",
   "metadata": {},
   "source": [
    "** Test you function for the grid at row = 63 and col = 23. Print the label of the grid. **"
   ]
  },
  {
   "cell_type": "code",
   "execution_count": null,
   "metadata": {
    "collapsed": true
   },
   "outputs": [],
   "source": [
    "# Test function Lab2Ind\n",
    "\n",
    "n_row = 99    # <== number of row\n",
    "n_col = 49    # <== number of column\n",
    "\n",
    "row = 63\n",
    "col = 23\n",
    "\n",
    "lab = IndicesToLabel(n_row, n_col, row, col)\n",
    "\n",
    "print(lab)"
   ]
  },
  {
   "cell_type": "markdown",
   "metadata": {},
   "source": [
    "---\n",
    "### Task 4:\n",
    "**As mentioned by Prof Page in the Youtube video, Prof Schelling did his simulations by tossing coins. For us, we will need to randomly pick numbers using computer programs. **\n",
    "\n",
    "**We need to learn how to use Python function of np.random.permutation( ).** "
   ]
  },
  {
   "cell_type": "code",
   "execution_count": null,
   "metadata": {
    "collapsed": true
   },
   "outputs": [],
   "source": [
    "import numpy as np\n",
    "\n",
    "# create a list containing 100 entries\n",
    "ls = np.zeros(100)\n",
    "\n",
    "for i in range(100):\n",
    "    ls[i] = i\n",
    "    \n",
    "permL = np.random.permutation(ls)  # <== write a description of what this function is doing in the cell below. \n",
    "\n"
   ]
  },
  {
   "cell_type": "markdown",
   "metadata": {},
   "source": [
    "**Your answer: **"
   ]
  },
  {
   "cell_type": "markdown",
   "metadata": {},
   "source": [
    "### Now, we need to create lists of A, B, and C. List A contains the first 50 entries of permL, and List B contains the next 30 entries, and List C contains the rest of entries. Go back the code cell above, and make those three lists.  Print permL, ListA, ListB, and ListC. "
   ]
  },
  {
   "cell_type": "markdown",
   "metadata": {},
   "source": [
    "----\n",
    "### Task 5:\n",
    "\n",
    "**Now, let us create a grid system of 30 x 10. Fifty percent of the grids are occupied by species 1, and thirty percent are occupied species 2. We will use this part of code to initialize the population for the Schelling model in class. **\n",
    "\n",
    "1. Create a list of the linear labels of the grids.\n",
    "1. Permute the list randomly.\n",
    "1. Assign the first 50% of the entries in the randomly permuted list to species 1.\n",
    "1. Assign the next 30% of the entries to species 2.\n",
    "1. Plot the agents on the grids"
   ]
  },
  {
   "cell_type": "code",
   "execution_count": null,
   "metadata": {
    "collapsed": true
   },
   "outputs": [],
   "source": [
    "import matplotlib.pyplot as plt\n",
    "import random \n",
    "import numpy as np\n",
    "import math\n",
    "\n",
    "\n",
    "# grid system\n",
    "ny = 30    # number of row\n",
    "nx = 10    # number of col\n",
    "\n",
    "grid = np.zeros((ny,nx))\n",
    "\n",
    "# percentage of population\n",
    "pct_1 = 50.                       \n",
    "pct_2 = 30.   \n",
    "\n",
    "# numbers of species 1 and 2\n",
    "n_sp1 =      # <== fill the blank\n",
    "n_sp2 =      # <== fill the blank\n",
    "\n",
    "# linear list of grids, using permutation to randomize the list\n",
    "grid_list =    # <== fill the blank\n",
    "\n",
    "# linear label of the grids occupied by species 1 (assign the first 50% of the schuffled grid list to species 1)\n",
    "g_List_sp1 =     # <== fill the blank\n",
    "\n",
    "# linear label of the grids occupied by species 2 \n",
    "g_List_sp2 =     # <== fill the blank\n",
    "\n",
    "\n",
    "# visualization\n",
    "plt.figure(figsize=(2, 6))\n",
    "\n",
    "# get the indices of row and col for the grid \n",
    "for n in range(len(g_List_sp1)):\n",
    "    \n",
    "    # find the indices of row and col of the agents sp1\n",
    "    r1, c1 =   # <== fill the blank\n",
    "    \n",
    "    plt.scatter(c1, r1, color='r')\n",
    "\n",
    "\n",
    "for m in range(len(g_List_sp2)):\n",
    "    \n",
    "    # find the indices of row and col of the agents sp2\n",
    "    r2, c2 =   # <== fill the blank\n",
    "    \n",
    "    plt.scatter(c2, r2, color='b')    \n",
    "    \n",
    "plt.show()"
   ]
  },
  {
   "cell_type": "markdown",
   "metadata": {},
   "source": [
    "### Assignment wrap-up\n",
    "\n",
    "**What questions do you have, if any, about any of the topics discussed in this assignment.**"
   ]
  },
  {
   "cell_type": "markdown",
   "metadata": {},
   "source": [
    "**Put your answer here!**"
   ]
  },
  {
   "cell_type": "markdown",
   "metadata": {},
   "source": [
    "**Do you have any further questions or comments about this material?**"
   ]
  },
  {
   "cell_type": "markdown",
   "metadata": {},
   "source": [
    "**Put your answer here!**"
   ]
  },
  {
   "cell_type": "markdown",
   "metadata": {},
   "source": [
    "### Congratulations, you're done with your first pre-class assignment!\n",
    "\n",
    "Now, you just need to submit this assignment by uploading it to the course Desire2Learn web page.  Go to Assessments > Assignments, find the link for Pre-class assignment 20181002, and upload it there.\n",
    "\n",
    "**Please keep a copy the code. We will reuse the code in the class.**\n",
    "\n",
    "See you in class!"
   ]
  },
  {
   "cell_type": "code",
   "execution_count": null,
   "metadata": {
    "collapsed": true
   },
   "outputs": [],
   "source": []
  }
 ],
 "metadata": {
  "kernelspec": {
   "display_name": "Python 3",
   "language": "python",
   "name": "python3"
  },
  "language_info": {
   "codemirror_mode": {
    "name": "ipython",
    "version": 3
   },
   "file_extension": ".py",
   "mimetype": "text/x-python",
   "name": "python",
   "nbconvert_exporter": "python",
   "pygments_lexer": "ipython3",
   "version": "3.6.5"
  }
 },
 "nbformat": 4,
 "nbformat_minor": 2
}
