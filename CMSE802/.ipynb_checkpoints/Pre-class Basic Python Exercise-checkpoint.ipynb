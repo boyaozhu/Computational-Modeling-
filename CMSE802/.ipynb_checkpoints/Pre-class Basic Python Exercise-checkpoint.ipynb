{
 "cells": [
  {
   "cell_type": "markdown",
   "metadata": {},
   "source": [
    "# CMSE 802 Pre-class assignment: IPython Exercise \n",
    "## Date: 08/30/2018\n",
    "## Due: 09/03/2018; 10:30 PM\n",
    "## The goal of this assignment is to get you familarize with Jupyter Notebook interface via some basic programming exercise. Upon finishing this assignment, you should have some basic skills for our incoming in-class assignment on Tuesday (09/04/2018)."
   ]
  },
  {
   "cell_type": "markdown",
   "metadata": {},
   "source": [
    "### Your name: "
   ]
  },
  {
   "cell_type": "markdown",
   "metadata": {},
   "source": [
    "---\n",
    "### Task 1: Quick overview of Jupyter Notebook interface\n",
    "\n",
    "IPython is a convenient interface that allows you to watch Youtube vidoes directly on the notebook.\n",
    "\n",
    "Go to the cell below and click play icon in the menu bar above to watch the video of some basic tutorial of Jupyter Notebook."
   ]
  },
  {
   "cell_type": "code",
   "execution_count": 4,
   "metadata": {
    "scrolled": true
   },
   "outputs": [
    {
     "data": {
      "image/jpeg": "[encoded data removed]",
      "text/html": [
       "\n",
       "        <iframe\n",
       "            width=\"560\"\n",
       "            height=\"340\"\n",
       "            src=\"https://www.youtube.com/embed/HW29067qVWk\"\n",
       "            frameborder=\"0\"\n",
       "            allowfullscreen\n",
       "        ></iframe>\n",
       "        "
      ],
      "text/plain": [
       "<IPython.lib.display.YouTubeVideo at 0x10c800150>"
      ]
     },
     "execution_count": 4,
     "metadata": {},
     "output_type": "execute_result"
    }
   ],
   "source": [
    "from IPython.display import YouTubeVideo\n",
    "YouTubeVideo(\"HW29067qVWk\",width=560,height=340)"
   ]
  },
  {
   "cell_type": "markdown",
   "metadata": {
    "collapsed": true
   },
   "source": [
    "---\n",
    "### Task 2: File management\n",
    "Now you have some ideas of Jupyter Notebook. Next, first thing first. Let's change the file name. Think about what information should be included in the file name so that we can more efficiently adminstrate your notebook files. List at leave three pieces of information in the markdown cell below. Explain your answers and how you will order them. "
   ]
  },
  {
   "cell_type": "markdown",
   "metadata": {},
   "source": [
    "**Your answers:** 1. Include dates in the format like YYYYMMDD.  They will be very easy to find and appear chronologically.\n",
    "    2. Numbers - Specify the amount of digits that will be used in numbering so that files are listed numerically like 01, 002.\n",
    "        3. Punctuation - decide on conventions for if and when to use punctuation symbols, capitals, hyphens and spaces.\n",
    "        I would suggest to use the description of file followed by the date of creation.\n"
   ]
  },
  {
   "cell_type": "markdown",
   "metadata": {
    "collapsed": true
   },
   "source": [
    "---\n",
    "### Task 3: Basic calculation\n",
    "Let's us do some basic Python programming on Jupyter Notebook. First, we use Python as a calcultor. Say, we have $x = 71$ and $y = 3$. Use Python to calculate $x+y$, $x/y$, and $x^y$ in the cell below. Don't forget tp use the command \"print\" to print your results. "
   ]
  },
  {
   "cell_type": "code",
   "execution_count": 1,
   "metadata": {},
   "outputs": [
    {
     "name": "stdout",
     "output_type": "stream",
     "text": [
      "x + y =  74\n",
      "x / y =  23.6666666667\n",
      "x_^y =  357911\n"
     ]
    }
   ],
   "source": [
    "x = 71\n",
    "y = 3\n",
    "\n",
    "# Write your code here.\n",
    "z = x + y\n",
    "print \"x + y = \",(z)\n",
    "\n",
    "t = x / float(y)\n",
    "print \"x / y = \",(t)\n",
    " \n",
    "u = x**y\n",
    "print \"x_^y = \",(u)\n"
   ]
  },
  {
   "cell_type": "markdown",
   "metadata": {},
   "source": [
    "---\n",
    "### Task 4: Using math module\n",
    "Let's now try to use Python's numerical functions. **Use the math module to calculate the value of sine of 30 degrees. Be careful about the difference between degree and radian.** You need to load the math module first by typing in \"import math\" in the cell below.  Then, you can use the build-in Python math function to calculate the value. Some tutorials for build-in functions can be found at the link: https://docs.python.org/2/library/math.html \n",
    "\n",
    "Next, use Python's math function to caluclate the value of $$exp^{-\\frac{\\Delta E}{ R T}}$$ with $\\Delta E = 50$, $R = 8.314$, and $T =300$."
   ]
  },
  {
   "cell_type": "code",
   "execution_count": 4,
   "metadata": {},
   "outputs": [
    {
     "name": "stdout",
     "output_type": "stream",
     "text": [
      "angle in radians =  0.523598775598\n",
      "sin(30) =  0.5\n",
      "exp_^(-E/(R*T)) =  0.980153087387\n"
     ]
    }
   ],
   "source": [
    "# Load math module\n",
    "from math import *\n",
    "\n",
    "# Calculate sine of 30 degrees. Don't forget to print the result.\n",
    "theta = radians(30)\n",
    "print \"angle in radians = \" ,(theta) # in radians\n",
    "\n",
    "y = sin(theta)\n",
    "print \"sin(30) = \",(y)\n",
    "\n",
    "# Calculate the Arrhenius term. Don't forget to print the result.\n",
    "Delta_E = 50\n",
    "R = 8.314\n",
    "T = 300\n",
    "y = exp(-Delta_E/(R*T))\n",
    "print \"exp_^(-E/(R*T)) = \",(y)\n"
   ]
  },
  {
   "cell_type": "markdown",
   "metadata": {},
   "source": [
    "---\n",
    "### Task 5: Loop \n",
    "Next, we will make a loop of iteration. Loop is the most common and important feature in programming algorithms. It does repetitive things until certain condition is met.  In Python, it is the \"for\" statement, and lines for the repeating operations must be indented in the code. The cell below contains a simple for-loop. Execute it, and observe where the index begins, and when it ends.   "
   ]
  },
  {
   "cell_type": "code",
   "execution_count": 5,
   "metadata": {},
   "outputs": [
    {
     "name": "stdout",
     "output_type": "stream",
     "text": [
      "0\n",
      "1\n",
      "2\n",
      "3\n",
      "4\n",
      "5\n",
      "6\n",
      "7\n",
      "8\n",
      "9\n"
     ]
    }
   ],
   "source": [
    "for n in range(10):\n",
    "    \n",
    "    print(n)"
   ]
  },
  {
   "cell_type": "markdown",
   "metadata": {},
   "source": [
    "**Your answer:** 0,1,2,3,4,5,6,7,8,9.  start from 0 and end at 9"
   ]
  },
  {
   "cell_type": "markdown",
   "metadata": {},
   "source": [
    "Make a simple for-statement to loop from 3 to 178 in the cell below. "
   ]
  },
  {
   "cell_type": "code",
   "execution_count": 2,
   "metadata": {},
   "outputs": [
    {
     "name": "stdout",
     "output_type": "stream",
     "text": [
      "3\n",
      "4\n",
      "5\n",
      "6\n",
      "7\n",
      "8\n",
      "9\n",
      "10\n",
      "11\n",
      "12\n",
      "13\n",
      "14\n",
      "15\n",
      "16\n",
      "17\n",
      "18\n",
      "19\n",
      "20\n",
      "21\n",
      "22\n",
      "23\n",
      "24\n",
      "25\n",
      "26\n",
      "27\n",
      "28\n",
      "29\n",
      "30\n",
      "31\n",
      "32\n",
      "33\n",
      "34\n",
      "35\n",
      "36\n",
      "37\n",
      "38\n",
      "39\n",
      "40\n",
      "41\n",
      "42\n",
      "43\n",
      "44\n",
      "45\n",
      "46\n",
      "47\n",
      "48\n",
      "49\n",
      "50\n",
      "51\n",
      "52\n",
      "53\n",
      "54\n",
      "55\n",
      "56\n",
      "57\n",
      "58\n",
      "59\n",
      "60\n",
      "61\n",
      "62\n",
      "63\n",
      "64\n",
      "65\n",
      "66\n",
      "67\n",
      "68\n",
      "69\n",
      "70\n",
      "71\n",
      "72\n",
      "73\n",
      "74\n",
      "75\n",
      "76\n",
      "77\n",
      "78\n",
      "79\n",
      "80\n",
      "81\n",
      "82\n",
      "83\n",
      "84\n",
      "85\n",
      "86\n",
      "87\n",
      "88\n",
      "89\n",
      "90\n",
      "91\n",
      "92\n",
      "93\n",
      "94\n",
      "95\n",
      "96\n",
      "97\n",
      "98\n",
      "99\n",
      "100\n",
      "101\n",
      "102\n",
      "103\n",
      "104\n",
      "105\n",
      "106\n",
      "107\n",
      "108\n",
      "109\n",
      "110\n",
      "111\n",
      "112\n",
      "113\n",
      "114\n",
      "115\n",
      "116\n",
      "117\n",
      "118\n",
      "119\n",
      "120\n",
      "121\n",
      "122\n",
      "123\n",
      "124\n",
      "125\n",
      "126\n",
      "127\n",
      "128\n",
      "129\n",
      "130\n",
      "131\n",
      "132\n",
      "133\n",
      "134\n",
      "135\n",
      "136\n",
      "137\n",
      "138\n",
      "139\n",
      "140\n",
      "141\n",
      "142\n",
      "143\n",
      "144\n",
      "145\n",
      "146\n",
      "147\n",
      "148\n",
      "149\n",
      "150\n",
      "151\n",
      "152\n",
      "153\n",
      "154\n",
      "155\n",
      "156\n",
      "157\n",
      "158\n",
      "159\n",
      "160\n",
      "161\n",
      "162\n",
      "163\n",
      "164\n",
      "165\n",
      "166\n",
      "167\n",
      "168\n",
      "169\n",
      "170\n",
      "171\n",
      "172\n",
      "173\n",
      "174\n",
      "175\n",
      "176\n",
      "177\n",
      "178\n"
     ]
    }
   ],
   "source": [
    "# Write your code here.\n",
    "for n in range(3,179):\n",
    "    print (n)\n"
   ]
  },
  {
   "cell_type": "markdown",
   "metadata": {},
   "source": [
    "Now, Let's use for-loop to calculate the values of\n",
    "\n",
    "$$x_i^2$$\n",
    "\n",
    "$$\\sqrt{x_i}$$\n",
    "\n",
    "$$\\frac{x_i^2}{ \\sqrt{x_i} },$$ \n",
    "\n",
    "for $i = 1, 2, 3, ...., 8.$ Write your code in the cell below, and exucute it."
   ]
  },
  {
   "cell_type": "code",
   "execution_count": 6,
   "metadata": {
    "scrolled": true
   },
   "outputs": [
    {
     "name": "stdout",
     "output_type": "stream",
     "text": [
      "for x =  1\n",
      "x_^2 =  1\n",
      "sqrt(x) =  1.0\n",
      "x_^2/sqrt(x) =  1.0\n",
      "\n",
      "for x =  2\n",
      "x_^2 =  4\n",
      "sqrt(x) =  1.41421356237\n",
      "x_^2/sqrt(x) =  2.82842712475\n",
      "\n",
      "for x =  3\n",
      "x_^2 =  9\n",
      "sqrt(x) =  1.73205080757\n",
      "x_^2/sqrt(x) =  5.19615242271\n",
      "\n",
      "for x =  4\n",
      "x_^2 =  16\n",
      "sqrt(x) =  2.0\n",
      "x_^2/sqrt(x) =  8.0\n",
      "\n",
      "for x =  5\n",
      "x_^2 =  25\n",
      "sqrt(x) =  2.2360679775\n",
      "x_^2/sqrt(x) =  11.1803398875\n",
      "\n",
      "for x =  6\n",
      "x_^2 =  36\n",
      "sqrt(x) =  2.44948974278\n",
      "x_^2/sqrt(x) =  14.6969384567\n",
      "\n",
      "for x =  7\n",
      "x_^2 =  49\n",
      "sqrt(x) =  2.64575131106\n",
      "x_^2/sqrt(x) =  18.5202591775\n",
      "\n"
     ]
    }
   ],
   "source": [
    "# Write your code here.\n",
    "for x in range(1,8):\n",
    "    y = x**2\n",
    "    z = sqrt(x)\n",
    "    t = y / z\n",
    "    print \"for x = \",(x)\n",
    "    print \"x_^2 = \",(y)\n",
    "    print \"sqrt(x) = \",(z)\n",
    "    print \"x_^2/sqrt(x) = \",(t)\n",
    "    print"
   ]
  },
  {
   "cell_type": "markdown",
   "metadata": {},
   "source": [
    "---\n",
    "### Task 6: Plotting\n",
    "\n",
    "IPython can be used to plot data. Let's try the most basic plotting command. We need to load the matplotlib module by typing \"import matplotlib.pyplot\". In cell below, we will plot the sine and cosine functions over the period of 6$\\pi$. Execute the code and observe the results."
   ]
  },
  {
   "cell_type": "code",
   "execution_count": 24,
   "metadata": {},
   "outputs": [
    {
     "data": {
      "text/plain": [
       "<matplotlib.legend.Legend at 0x112ecb650>"
      ]
     },
     "execution_count": 24,
     "metadata": {},
     "output_type": "execute_result"
    },
    {
     "data": {
      "image/png": "[encoded data removed]",
      "text/plain": [
       "<matplotlib.figure.Figure at 0x10fb6b6d0>"
      ]
     },
     "metadata": {},
     "output_type": "display_data"
    }
   ],
   "source": [
    "# Load modules\n",
    "import math\n",
    "import numpy as np\n",
    "import matplotlib.pyplot as plt\n",
    "%matplotlib inline\n",
    "\n",
    "pi = 3.141592653589793\n",
    "\n",
    "angle = np.zeros(601)\n",
    "sinfn = np.zeros(601)\n",
    "cosfn = np.zeros(601)\n",
    "\n",
    "for i in range(601):\n",
    "    \n",
    "    angle[i] = i/(100)*pi\n",
    "    sinfn[i] = math.sin(angle[i])\n",
    "    cosfn[i] = math.cos(angle[i])\n",
    "    \n",
    "\n",
    "plt.plot(angle,sinfn,'-', label = \"sin\")\n",
    "plt.plot(angle,cosfn,'-', label = \"cos\")\n",
    "\n",
    "plt.legend()"
   ]
  },
  {
   "cell_type": "markdown",
   "metadata": {},
   "source": [
    "**Follow the example above, plot $x^2$ and $\\sqrt{x}$ for $x = 1, 2, 3, ...., 15$ in the cell below. **"
   ]
  },
  {
   "cell_type": "code",
   "execution_count": 9,
   "metadata": {},
   "outputs": [
    {
     "data": {
      "text/plain": [
       "<matplotlib.legend.Legend at 0x10a2e0290>"
      ]
     },
     "execution_count": 9,
     "metadata": {},
     "output_type": "execute_result"
    },
    {
     "data": {
      "image/png": "[encoded data removed]",
      "text/plain": [
       "<matplotlib.figure.Figure at 0x10c468490>"
      ]
     },
     "metadata": {},
     "output_type": "display_data"
    }
   ],
   "source": [
    "# Write your code here\n",
    "from math import *\n",
    "import numpy as np\n",
    "import matplotlib.pyplot as plt\n",
    "% matplotlib inline\n",
    "\n",
    "x = np.zeros(15)\n",
    "y = np.zeros(15)\n",
    "z = np.zeros(15)\n",
    "\n",
    "for i in range(15):\n",
    "    x[i] = i + 1\n",
    "    y[i] = x[i]**2\n",
    "    z[i] = sqrt(x[i])\n",
    "    \n",
    "plt.plot(x, y, \"-*\", label = \"x_^2\")\n",
    "plt.plot(x, z, \"-.\", label = \"sqrt(x)\")\n",
    "\n",
    "plt.legend()"
   ]
  },
  {
   "cell_type": "markdown",
   "metadata": {},
   "source": [
    "---\n",
    "### Task 7: Conditional statement  \n",
    "Conditional statement is also a very common feature in programming languages. It is used to evaluate true or false in the boolean condition. \n",
    "\n",
    "Next, let's extend our exercise to \"if\" statement. Below is an example code to judge whether the integer from 1 to 30 is an even or odd number.  Excute the code and observe the operation."
   ]
  },
  {
   "cell_type": "code",
   "execution_count": 27,
   "metadata": {},
   "outputs": [
    {
     "name": "stdout",
     "output_type": "stream",
     "text": [
      "(0, 'is an even number.')\n",
      "(2, 'is an even number.')\n",
      "(4, 'is an even number.')\n",
      "(6, 'is an even number.')\n",
      "(8, 'is an even number.')\n",
      "(10, 'is an even number.')\n",
      "(12, 'is an even number.')\n",
      "(14, 'is an even number.')\n",
      "(16, 'is an even number.')\n",
      "(18, 'is an even number.')\n",
      "(20, 'is an even number.')\n",
      "(22, 'is an even number.')\n",
      "(24, 'is an even number.')\n",
      "(26, 'is an even number.')\n",
      "(28, 'is an even number.')\n",
      "(30, 'is an even number.')\n",
      "[0, 2, 4, 6, 8, 10, 12, 14, 16, 18, 20, 22, 24, 26, 28, 30]\n"
     ]
    }
   ],
   "source": [
    "# Create lists of odd numbers and even numbers\n",
    "OddN = []\n",
    "EvnN = []\n",
    "\n",
    "# loop the number from 0 to 30\n",
    "for n in range(31):\n",
    "    \n",
    "    # If the remainder of n/2 equals 0, the number is an even number.\n",
    "    # If the remainder of n/2 is not zero, the number is an odd number. \n",
    "    \n",
    "    if n%2 == 0:\n",
    "        E_O = True\n",
    "    else:\n",
    "        E_O = False\n",
    "    \n",
    "    # If the number is even, print it, and collect it to the list of EvnN\n",
    "    if E_O:\n",
    "        print(n, \"is an even number.\")\n",
    "        # append the found even unmber to the corresponding list\n",
    "        EvnN.append(n)\n",
    "    else:\n",
    "        # append the found odd unmber to the corresponding list\n",
    "        OddN.append(n)\n",
    "\n",
    "print(EvnN)        "
   ]
  },
  {
   "cell_type": "markdown",
   "metadata": {},
   "source": [
    "---\n",
    "### Task 7\n",
    "\n",
    "**Our final task for today.** \n",
    "\n",
    "Let's combine all what we have learned so far in this Python exercise.  Let's write a Python script to find all prime numbers bewteen 1 and 10001. A prime number is a whole number greater than 1, whose only two whole-number factors are 1 and itself. \n",
    "\n",
    "So, we shell loop over the numbers from 2 to 10001, and for each of these numbers, we need to check whether it can be evenly divided by any postive number smaller than it. If yes, it is not a prime number. \n",
    "\n",
    "Write you Python code to do this job in the cell below. Like the sample code above, you can collect all the prime numbers found into a list, and use the function \"len\" to calculate the number of prime found. "
   ]
  },
  {
   "cell_type": "code",
   "execution_count": 10,
   "metadata": {},
   "outputs": [
    {
     "name": "stdout",
     "output_type": "stream",
     "text": [
      "1229\n"
     ]
    }
   ],
   "source": [
    "\n",
    "# create an empty list for the prime number to be found\n",
    "prime = []\n",
    "\n",
    "# write your code \n",
    "prime.append(2)\n",
    "\n",
    "for num in range(3,10001):\n",
    "    x = True\n",
    "  \n",
    "    for i in range(2,num):\n",
    "        if (num%i == 0):\n",
    "            x = False\n",
    "            break\n",
    "        else:\n",
    "            x = True\n",
    "    if x:\n",
    "        prime.append(num)\n",
    "print (len(prime))"
   ]
  },
  {
   "cell_type": "markdown",
   "metadata": {
    "collapsed": true
   },
   "source": [
    "**How many prime numbers do you find?**"
   ]
  },
  {
   "cell_type": "markdown",
   "metadata": {},
   "source": [
    "**Your answer:**1229"
   ]
  },
  {
   "cell_type": "markdown",
   "metadata": {},
   "source": [
    "---\n",
    "### Assignment wrap-up"
   ]
  },
  {
   "cell_type": "markdown",
   "metadata": {},
   "source": [
    "What questions do you have, if any, about any of the topics discussed in this assignment after watching the video and reading the links? Do you have any further questions or comments about this material?"
   ]
  },
  {
   "cell_type": "markdown",
   "metadata": {},
   "source": [
    "Put your answer here!   Everything is Okay"
   ]
  },
  {
   "cell_type": "markdown",
   "metadata": {
    "collapsed": true
   },
   "source": [
    "### Congratulations, you're done with your first pre-class assignment!\n",
    "\n",
    "Now, you just need to submit this assignment by uploading it to the course Desire2Learn web page.  Go to Assessments > Dropbox, find the link for Pre-class assignment 20180903, and upload it there.\n",
    "\n",
    "See you in the class!"
   ]
  },
  {
   "cell_type": "code",
   "execution_count": null,
   "metadata": {
    "collapsed": true
   },
   "outputs": [],
   "source": [
    "See you!"
   ]
  }
 ],
 "metadata": {
  "kernelspec": {
   "display_name": "Python 2",
   "language": "python",
   "name": "python2"
  },
  "language_info": {
   "codemirror_mode": {
    "name": "ipython",
    "version": 2
   },
   "file_extension": ".py",
   "mimetype": "text/x-python",
   "name": "python",
   "nbconvert_exporter": "python",
   "pygments_lexer": "ipython2",
   "version": "2.7.14"
  }
 },
 "nbformat": 4,
 "nbformat_minor": 2
}
