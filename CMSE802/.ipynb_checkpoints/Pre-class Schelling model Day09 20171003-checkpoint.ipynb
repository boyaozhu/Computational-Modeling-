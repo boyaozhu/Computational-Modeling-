{
 "cells": [
  {
   "cell_type": "markdown",
   "metadata": {},
   "source": [
    "## CMSE 802 Pre-class assignment: Agent-Based Model -- the Schelling Model\n",
    "### Date: 09/28/2017\n",
    "### Due: 10/02/2017; 11:00 PM\n",
    "### Your name:\n",
    "### The goal of this assignment is to use the Schelling model as an example to learn agent-based modeling. We will make some Python functions that will be used in the class. At the end of this learning module, we will reproduce the Nobel prize winning work by T. C. Schelling."
   ]
  },
  {
   "cell_type": "markdown",
   "metadata": {},
   "source": [
    "----\n",
    "** Here, we take a short detour from object-oriented progamming for agent-based modeling of ant foraging.**\n",
    "\n",
    "** The Schelling model of segregation is probably the most prominent example of agent-based modeling in social science modeling. It was introduced in 1971 (Thomas C. Schelling, Dynamic Model of Segregation, Journal of Mathematical Sociology, vol 1, 1971, pp 143--186). Because of his work on socio-economic dynamics, Schelling received the 2005 Nobel prize in Economic Sciences. **\n",
    "\n",
    "** In the coming class, we will work on developing simulation code of the Schelling model. In this pre-class assignment, we will write some Python functions that will be used in the class. **\n",
    "\n",
    "----\n",
    "### Task 1: Let's start with watching a Youtube video introducing the Schelling model. "
   ]
  },
  {
   "cell_type": "code",
   "execution_count": 5,
   "metadata": {
    "scrolled": true
   },
   "outputs": [
    {
     "data": {
      "text/html": [
       "\n",
       "        <iframe\n",
       "            width=\"720\"\n",
       "            height=\"540\"\n",
       "            src=\"https://www.youtube.com/embed/dFl3Cfw12bo\"\n",
       "            frameborder=\"0\"\n",
       "            allowfullscreen\n",
       "        ></iframe>\n",
       "        "
      ],
      "text/plain": [
       "<IPython.lib.display.YouTubeVideo at 0x1124c4d30>"
      ]
     },
     "execution_count": 5,
     "metadata": {},
     "output_type": "execute_result"
    }
   ],
   "source": [
    "from IPython.display import YouTubeVideo\n",
    "YouTubeVideo('dFl3Cfw12bo',width=720,height=540)\n",
    "\n",
    "# If you are interested in watch another video, uncomment the one below and watch it.\n",
    "# YouTubeVideo('AZlWOykGzYg&t',width=720,height=540)"
   ]
  },
  {
   "cell_type": "markdown",
   "metadata": {},
   "source": [
    "** Recall the grid label sequencing in our previous in-class assignment 2D FDM and PDE. Each grid point has a label, and indices of row and column. We will set up the checker board in a way similar to the grid system, such that each grid has a linear label, an index of row, and an index of column. **\n",
    "\n",
    "<img src=\"2D-discr-3.png\",width=600, height=600 />\n",
    "\n",
    "### Task 2:\n",
    "** We need to make a function that convert the label of a grid point to the indices of row and column. For example, the 99-th grid is at row = 2 and col = 1. **"
   ]
  },
  {
   "cell_type": "code",
   "execution_count": 3,
   "metadata": {},
   "outputs": [],
   "source": [
    "# ##########################################################################\n",
    "# function for converting linear label of grid to indices of row and column\n",
    "# ##########################################################################\n",
    "\n",
    "def Lab2Ind(n_row, n_col, lab):\n",
    "    \n",
    "    # complete the code\n",
    "    row = lab//n_col\n",
    "    col = lab - (row)*n_col \n",
    "    \n",
    "    \n",
    "    return row, col"
   ]
  },
  {
   "cell_type": "markdown",
   "metadata": {},
   "source": [
    "** Test you function for 3675-th grid. Print the indices of row and column. **"
   ]
  },
  {
   "cell_type": "code",
   "execution_count": 4,
   "metadata": {},
   "outputs": [
    {
     "name": "stdout",
     "output_type": "stream",
     "text": [
      "75 0\n"
     ]
    }
   ],
   "source": [
    "# Test function Lab2Ind\n",
    "import math\n",
    "\n",
    "n_row = 99    # <== number of row\n",
    "n_col = 49    # <== number of column\n",
    "lab = 3675\n",
    "\n",
    "r1, c1 = Lab2Ind(n_row, n_col, lab)\n",
    "\n",
    "print(r1, c1)"
   ]
  },
  {
   "cell_type": "markdown",
   "metadata": {},
   "source": [
    "### Task 3:\n",
    "** We need to make a function that convert the indices of row and column of a grid to the linear label. For example, the grid at row = 2 and col = 1 is labeled as the 99-th point. **"
   ]
  },
  {
   "cell_type": "code",
   "execution_count": 5,
   "metadata": {},
   "outputs": [],
   "source": [
    "# ##########################################################################\n",
    "# function for converting row and column indices of a grid to linear label \n",
    "# ##########################################################################\n",
    "\n",
    "def Ind2Lab(n_row, n_col, row, col):\n",
    "    \n",
    "    # complete the code \n",
    "    lab = n_col*(row) + col\n",
    "    \n",
    "    return lab"
   ]
  },
  {
   "cell_type": "markdown",
   "metadata": {},
   "source": [
    "** Test you function for the grid at row = 63 and col = 23. Print the label of the grid. **"
   ]
  },
  {
   "cell_type": "code",
   "execution_count": 6,
   "metadata": {},
   "outputs": [
    {
     "name": "stdout",
     "output_type": "stream",
     "text": [
      "3110\n"
     ]
    }
   ],
   "source": [
    "# Test function Lab2Ind\n",
    "\n",
    "n_row = 99    # <== number of row\n",
    "n_col = 49    # <== number of column\n",
    "\n",
    "row = 63\n",
    "col = 23\n",
    "\n",
    "lab = Ind2Lab(n_row, n_col, row, col)\n",
    "\n",
    "print(lab)"
   ]
  },
  {
   "cell_type": "markdown",
   "metadata": {},
   "source": [
    "### Task 4:\n",
    "**As mentioned by Prof Page in the Youtube video, Prof Schelling did his simulations by tossing coins. For us, we will need to randomly pick numbers using computer programs. **\n",
    "\n",
    "**We need to learn how to use Python function of np.random.permutation( ).** "
   ]
  },
  {
   "cell_type": "code",
   "execution_count": 7,
   "metadata": {},
   "outputs": [
    {
     "name": "stdout",
     "output_type": "stream",
     "text": [
      "permL = \n",
      "[33. 22. 29.  2. 49. 75. 91. 54. 51. 86. 72. 37. 32. 87.  1. 66. 52.  5.\n",
      " 79. 21. 28. 94. 36. 24.  0.  4. 73. 89. 83. 55. 43. 41. 34. 57. 97. 56.\n",
      " 96. 44. 61. 13. 88. 65. 47. 92. 81. 53. 85. 42.  8.  6. 16. 71. 60. 35.\n",
      " 25. 45. 80. 40. 27. 82. 76. 62. 10. 15. 46. 26. 39. 12. 69. 38. 11. 67.\n",
      " 50. 19. 31. 63. 64.  3. 14. 74. 98. 17.  7. 18. 23. 59. 93. 48. 30. 78.\n",
      " 99. 90. 77. 20. 84.  9. 58. 68. 70. 95.]\n",
      "ListA = \n",
      "[ 0.  1.  2.  3.  4.  5.  6.  7.  8.  9. 10. 11. 12. 13. 14. 15. 16. 17.\n",
      " 18. 19. 20. 21. 22. 23. 24. 25. 26. 27. 28. 29. 30. 31. 32. 33. 34. 35.\n",
      " 36. 37. 38. 39. 40. 41. 42. 43. 44. 45. 46. 47. 48. 49.]\n",
      "ListB = \n",
      "[50. 51. 52. 53. 54. 55. 56. 57. 58. 59. 60. 61. 62. 63. 64. 65. 66. 67.\n",
      " 68. 69. 70. 71. 72. 73. 74. 75. 76. 77. 78. 79.]\n",
      "ListC = \n",
      "[80. 81. 82. 83. 84. 85. 86. 87. 88. 89. 90. 91. 92. 93. 94. 95. 96. 97.\n",
      " 98. 99.]\n"
     ]
    }
   ],
   "source": [
    "import numpy as np\n",
    "\n",
    "# create a list containing 100 entries\n",
    "ls = np.zeros(100)\n",
    "\n",
    "for i in range(100):\n",
    "    ls[i] = i\n",
    "    \n",
    "permL = np.random.permutation(ls)  # <== write a description of what this function is doing in the cell below. \n",
    "\n",
    "ListA = ls[0:50]\n",
    "#print (len(ListA))\n",
    "ListB = ls[50:80]\n",
    "#print (len(ListB))\n",
    "ListC = ls[80:]\n",
    "#print (len(ListC))\n",
    "print (\"permL = \")\n",
    "print (permL)\n",
    "print (\"ListA = \")\n",
    "print (ListA)\n",
    "print (\"ListB = \")\n",
    "print (ListB)\n",
    "print (\"ListC = \")\n",
    "print (ListC)\n"
   ]
  },
  {
   "cell_type": "markdown",
   "metadata": {},
   "source": [
    "**Your answer: ** Randomly permute a sequence, or return a permuted range."
   ]
  },
  {
   "cell_type": "markdown",
   "metadata": {},
   "source": [
    "### Now, we need to create lists of A, B, and C. List A contains the first 50 entries of permL, and List B contains the next 30 entries, and List C contains the rest of entries. Go back the code cell above, and make those three lists.  Print permL, ListA, ListB, and ListC. "
   ]
  },
  {
   "cell_type": "markdown",
   "metadata": {},
   "source": [
    "----\n",
    "### Task 5:\n",
    "\n",
    "**Now, let us create a grid system of 30 x 10. Fifty percent of the grids are occupied by species 1, and thirty percent are occupied species 2. We will use this part code to initialize the population for the Schelling model in class. **\n",
    "\n",
    "1. Create a list of the linear labels of the grids.\n",
    "1. Permute the list randomly.\n",
    "1. Assign the first 50% of the entries in the randomly permuted list to species 1.\n",
    "1. Assign the next 30% of the entries to species 2.\n",
    "1. Plot the agents on the grids"
   ]
  },
  {
   "cell_type": "code",
   "execution_count": 11,
   "metadata": {},
   "outputs": [
    {
     "data": {
      "image/png": "[encoded data removed]",
      "text/plain": [
       "<Figure size 432x288 with 1 Axes>"
      ]
     },
     "metadata": {},
     "output_type": "display_data"
    }
   ],
   "source": [
    "import matplotlib.pyplot as plt\n",
    "import random \n",
    "import numpy as np\n",
    "import math\n",
    "\n",
    "\n",
    "# grid system\n",
    "nx = 30    # number of row\n",
    "ny = 10    # number of col\n",
    "\n",
    "grid = np.zeros((nx,ny))\n",
    "\n",
    "\n",
    "# percentage of population\n",
    "pct_1 = 50.                       \n",
    "pct_2 = 30.   \n",
    "\n",
    "# numbers of species 1 and 2\n",
    "n_sp1 =  nx*ny*pct_1/100    # <== fill the blank\n",
    "n_sp2 =  nx*ny*pct_2/100    # <== fill the blank\n",
    "\n",
    "# linear list of grids, using permutation to randomize the list\n",
    "#grid_list = np.random.permutation(np.reshape(grid,-1))     # <== fill the blank\n",
    "for i in range(nx):\n",
    "    for j in range(ny):\n",
    "        grid[i,j]=Ind2Lab(nx,ny,i,j)\n",
    "grid_list = np.random.permutation(np.reshape(grid,-1))\n",
    "# linear label of the grids occupied by species 1\n",
    "g_List_sp1 = grid_list[0:int(n_sp1)]    # <== fill the blank\n",
    "\n",
    "# linear label of the grids occupied by species 2\n",
    "g_List_sp2 = grid_list[int(n_sp1):int(n_sp1+n_sp2)]    # <== fill the blank\n",
    "\n",
    "\n",
    "# visualization\n",
    "# get the indices of row and col for the grid \n",
    "\n",
    "for n in range(len(g_List_sp1)):\n",
    "    \n",
    "    # find the indices of row and col of the agents sp1\n",
    "    r1, c1 = Lab2Ind(nx, ny, g_List_sp1[n]) # <== fill the blank\n",
    "    \n",
    "    plt.scatter(r1, c1, color='r')\n",
    "\n",
    "\n",
    "for m in range(len(g_List_sp2)):\n",
    "    \n",
    "    # find the indices of row and col of the agents sp2\n",
    "    r2, c2 = Lab2Ind(nx, ny, g_List_sp2[m]) # <== fill the blank\n",
    "    \n",
    "    plt.scatter(r2, c2, color='b')    \n",
    "    \n",
    "plt.show()"
   ]
  },
  {
   "cell_type": "markdown",
   "metadata": {},
   "source": [
    "### Assignment wrap-up\n",
    "\n",
    "**What questions do you have, if any, about any of the topics discussed in this assignment.**"
   ]
  },
  {
   "cell_type": "markdown",
   "metadata": {},
   "source": [
    "**Put your answer here!**"
   ]
  },
  {
   "cell_type": "markdown",
   "metadata": {},
   "source": [
    "**Do you have any further questions or comments about this material?**"
   ]
  },
  {
   "cell_type": "markdown",
   "metadata": {},
   "source": [
    "**Put your answer here!**"
   ]
  },
  {
   "cell_type": "markdown",
   "metadata": {},
   "source": [
    "### Congratulations, you're done with your first pre-class assignment!\n",
    "\n",
    "Now, you just need to submit this assignment by uploading it to the course Desire2Learn web page.  Go to Assessments > Dropbox, find the link for Pre-class assignment 20170925, and upload it there.\n",
    "\n",
    "**Please keep a copy the code. We will reuse the code in the class.**\n",
    "\n",
    "See you in class!"
   ]
  },
  {
   "cell_type": "code",
   "execution_count": null,
   "metadata": {
    "collapsed": true
   },
   "outputs": [],
   "source": []
  }
 ],
 "metadata": {
  "kernelspec": {
   "display_name": "Python 3",
   "language": "python",
   "name": "python3"
  },
  "language_info": {
   "codemirror_mode": {
    "name": "ipython",
    "version": 3
   },
   "file_extension": ".py",
   "mimetype": "text/x-python",
   "name": "python",
   "nbconvert_exporter": "python",
   "pygments_lexer": "ipython3",
   "version": "3.6.5"
  }
 },
 "nbformat": 4,
 "nbformat_minor": 2
}
