{
 "cells": [
  {
   "cell_type": "markdown",
   "metadata": {},
   "source": [
    "# CMSE 802 Pre-class assignment: Convection Effect on PDEs\n",
    "## Date: 09/18/2018\n",
    "## Due: 09/19/2018; 10:30 PM\n",
    "### The goal of this assignment is to learn how to include the convection in simulations. We will test backward and forward differencing schemes, and know about upwind and downwind schemes. We will also know about the criterion for numerical stability. "
   ]
  },
  {
   "cell_type": "markdown",
   "metadata": {},
   "source": [
    "---\n",
    "### Your name: Boyao Zhu"
   ]
  },
  {
   "cell_type": "markdown",
   "metadata": {},
   "source": [
    "---\n",
    "### In this assignment, we will learn abount some basic ideas about the convection term in differential equations. \n",
    "\n",
    "**Convection** is a transport combined diffusion and advection, and **advenction** is the part of transport carried by flow. However, these two terminologies are commonly used interchangeably in the research community.\n",
    "\n",
    "The three movies below, from left to right, illustrate the cases of diffusion, advection, and convection, respectively.\n",
    "\n",
    "<img src=\"Diffusn_1.gif\" alt =\"drawing\" width=300 align=\"left\" hspace=\"10\"/>\n",
    "<img src=\"Advctn_1.gif\" alt =\"drawing\" width=300 align=\"left\" hspace=\"10\"/>\n",
    "<img src=\"Cnvctn_1.gif\" alt =\"drawing\" width=300, height=200, align=\"left\" hspace=\"10\"/>\n",
    "\n"
   ]
  },
  {
   "cell_type": "markdown",
   "metadata": {},
   "source": [
    "---\n",
    "### Part 1: Watch the youtube video for convection and diffusion."
   ]
  },
  {
   "cell_type": "code",
   "execution_count": 1,
   "metadata": {},
   "outputs": [
    {
     "data": {
      "image/jpeg": "[encoded data removed]",
      "text/html": [
       "\n",
       "        <iframe\n",
       "            width=\"640\"\n",
       "            height=\"480\"\n",
       "            src=\"https://www.youtube.com/embed/iuLAc3G9tvc\"\n",
       "            frameborder=\"0\"\n",
       "            allowfullscreen\n",
       "        ></iframe>\n",
       "        "
      ],
      "text/plain": [
       "<IPython.lib.display.YouTubeVideo at 0x106a5d828>"
      ]
     },
     "execution_count": 1,
     "metadata": {},
     "output_type": "execute_result"
    }
   ],
   "source": [
    "from IPython.display import YouTubeVideo\n",
    "YouTubeVideo('iuLAc3G9tvc',width=640,height=480)\n",
    "## This video describes the convection and diffusion."
   ]
  },
  {
   "cell_type": "markdown",
   "metadata": {},
   "source": [
    "### Convection-diffusion equation:\n",
    "\n",
    "Let's use a 2D case for the development of convection-diffusion equation. For a control volume shown below, \n",
    "\n",
    "<img src=\"ContrVlm-2.jpg\" alt=\"drawing\" width=400 />\n",
    "\n",
    "similar to the derivation of diffusion equation in the previous assignments, the mass conservation is described by \n",
    "\n",
    "$$J_{x-} \\Delta z \\Delta x - J_{x+} \\Delta y \\Delta z  + J_{y-} \\Delta x \\Delta z - J_{x+} \\Delta x \\Delta z =   \\Delta x \\Delta y \\Delta z \\dot{C} ~~~~\\Longrightarrow~~~~ \\frac{J_{x-} - J_{x+}}{\\Delta x} + \\frac{J_{y-} - J_{y+}}{\\Delta y} = \\dot{C},$$\n",
    "\n",
    "where $J_{x-}$ and $J_{x+}$ are the incoming and outgoing fluxes along the $x$-direction, same notation applies to the fluxes along the $y$-direction, and $\\dot{C}$ is the concentration change rate.\n",
    "\n",
    "In the case of convection, the flux contains two parts. The first part is the diffusional flux that results from concentration gradeint. The second part is the advective flux that is carried by a flow. The velocity of the flow at the center point of the control volume is $\\vec{v} = (u, v)$, where $u$ and $v$ are the components along the $x$ and $y$ directions, respectively. Thus, we have the fluxes along the $x$ and $y$ directions as \n",
    "\n",
    "$$J_x = -D \\frac{\\partial C}{\\partial x} + u C~~~\\text{and}~~~ J_y = -D \\frac{\\partial C}{\\partial y} + v C,$$\n",
    "\n",
    "respectively. Subtituting the fluxes into the mass conservation equation, we obtain \n",
    "\n",
    "$$\\frac{J_{x-} - J_{x+}}{\\Delta x} + \\frac{J_{y-} - J_{y+}}{\\Delta y} = \\dot{C} ~~~~\\Longrightarrow~~~~ - \\frac{\\partial J_x}{\\partial x} - \\frac{\\partial J_y}{\\partial y}  = \\frac{\\partial C}{\\partial t} ~~~~\\Longrightarrow~~~~ D\\frac{\\partial^2 C}{\\partial x^2} - C \\frac{\\partial u}{\\partial x} - u \\frac{\\partial C}{\\partial x} + D \\frac{\\partial^2 C}{\\partial y^2} - C \\frac{\\partial v}{\\partial y} - v \\frac{\\partial C}{\\partial y} = \\frac{\\partial C}{\\partial t}. $$\n",
    "\n",
    "For incompressible fluid, due to volume conservation,\n",
    "\n",
    "$$\\frac{\\partial u}{\\partial x} + \\frac{\\partial v}{\\partial y} = 0; ~~~~\\text{i.e.,}~~~~ \\nabla \\cdot \\mathbf{v}=0. $$\n",
    "\n",
    "As a result, the 2D convection-diffusion equation becomes\n",
    "\n",
    "$$ \\frac{\\partial C}{\\partial t} = D \\bigg( \\frac{\\partial^2 C}{\\partial x^2} + \\frac{\\partial^2 C}{\\partial y^2} \\bigg) - \\bigg( u \\frac{\\partial C}{\\partial x} + v \\frac{\\partial C}{\\partial y} \\bigg). $$"
   ]
  },
  {
   "cell_type": "markdown",
   "metadata": {},
   "source": [
    "---\n",
    "### Part 2: 1D convection-dffusion equation.\n",
    "\n",
    "In our first programming practice, we will use a 1D case to gain knowledge of solving convection-diffusion eqaution.\n",
    "\n",
    "**Let's first ignore the diffusion part and focus only on studying the advection part. Assume $D$ is negligibly small, the eqaution becomes**\n",
    "\n",
    "$$\\frac{\\partial C}{\\partial t} = - u \\frac{\\partial C}{\\partial x}.$$\n",
    "\n",
    "For the first-order derivative appearing on the right hand side, we have three options: (1) backward, (2) forward, and (3) central differencing schemes. Because the issues involving central differencing scheme for convection are complicated, we will only test backward and forward differencing shcemes in this assignment. \n",
    "\n",
    "**(1) Backward difference:** The derivative is taken between point $i$ and the one before it. **Here, we only use backward difference for spatial derivative, not time derivative.**\n",
    "\n",
    "$$\\frac{C_{i}^{(n+1)} - C_{i}^{(n)}}{\\Delta t}  = - u \\frac{ C_{i}^{(n)} - C_{i-1}^{(n)} }{\\Delta x}.$$\n"
   ]
  },
  {
   "cell_type": "markdown",
   "metadata": {},
   "source": [
    "### <font color=red> Task 1:</font> We use a 1D domain for the simulation of convection. The domain is discretized with 301 grid points. The advection velocity along the x direction is +1.  "
   ]
  },
  {
   "cell_type": "markdown",
   "metadata": {
    "collapsed": true
   },
   "source": [
    "**Watch the video clip attached to this assignment.** \n",
    "\n",
    "<video controls src=\"Bckwrd_Dffnc.mp4\" width = 720/>"
   ]
  },
  {
   "cell_type": "markdown",
   "metadata": {},
   "source": [
    "### Fill the blank and make the code work."
   ]
  },
  {
   "cell_type": "code",
   "execution_count": 18,
   "metadata": {},
   "outputs": [
    {
     "data": {
      "image/png": "[encoded data removed]",
      "text/plain": [
       "<Figure size 432x288 with 1 Axes>"
      ]
     },
     "metadata": {},
     "output_type": "display_data"
    }
   ],
   "source": [
    " ############################################################\n",
    "# Code 1: backward difference for advection\n",
    "############################################################\n",
    "\n",
    "import math\n",
    "import numpy as np\n",
    "import time\n",
    "import matplotlib.pyplot as plt\n",
    "from IPython.display import display, clear_output\n",
    "\n",
    "\n",
    "# parameters\n",
    "tm = 0.0\n",
    "dfs = 1.0e-5\n",
    "X_0 = 0.8\n",
    "\n",
    "# spatial discretization\n",
    "nx = 301\n",
    "\n",
    "Xg = np.linspace(0,3,nx)\n",
    "dx = Xg[2]-Xg[1]\n",
    "\n",
    "dt = 0.4*1e-2\n",
    "\n",
    "print(dx,dt)\n",
    "\n",
    "# lists for storing results\n",
    "Con_o = np.zeros(nx)\n",
    "Con_n = np.zeros(nx)\n",
    "\n",
    "Cnvc = np.zeros(nx)\n",
    "\n",
    "# ##################\n",
    "# advection velocity\n",
    "u_x = 1.0\n",
    "# ##################\n",
    "\n",
    "# initial concentration profile \n",
    "Con_o[0:nx] = np.exp(-(Xg[0:nx]-X_0)**2/(4*500*dfs))\n",
    "\n",
    "\n",
    "# time iteration\n",
    "for iter in range(400):\n",
    "    \n",
    "    # convection part using backward differencing\n",
    "    Cnvc[1:nx-1] = (Con_o[1:nx-1]-Con_o[0:nx-2])/dx    # <== fill the blank\n",
    "    \n",
    "    # update concentration\n",
    "    Con_n[1:nx-1] = Con_o[1:nx-1] - u_x*Cnvc[1:nx-1]*dt      # <== fill the blank\n",
    "    \n",
    "    # boundary condition\n",
    "    Con_n[0] = Con_n[1]\n",
    "    Con_n[nx-1] = Con_n[nx-2]\n",
    "    \n",
    "    tm = tm + dt\n",
    "    \n",
    "    Con_o[:] = Con_n[:]\n",
    "    \n",
    "    \n",
    "    # visualization\n",
    "    if iter%10 == 0:        \n",
    "        clear_output(wait=True) # Clear output for dynamic display\n",
    "        \n",
    "        plt.plot(Xg,Con_o,'-')\n",
    "        plt.axis([0.0, 3.0, -0.2, 1.2])\n",
    "        plt.show()\n",
    "     \n",
    "        time.sleep(0.05)         # Sleep for half a second to slow down the animation\n",
    "        \n",
    "  \n",
    "  "
   ]
  },
  {
   "cell_type": "markdown",
   "metadata": {},
   "source": [
    "**(2) Forward difference:** The derivative is taken between point $i$ and the one after it.\n",
    "\n",
    "$$\\frac{C_{i}^{(n+1)} - C_{i}^{(n)}}{\\Delta t}  = - u \\frac{ C_{i+1}^{(n)} - C_{i}^{(n)} }{\\Delta x}.$$\n",
    "\n",
    "### <font color=red>Task 2:</font> Copy your code that works using backward difference to the cell below and change the advection term to the forward differencing scheme. Test the code to see whether the iteration is stable."
   ]
  },
  {
   "cell_type": "code",
   "execution_count": 21,
   "metadata": {},
   "outputs": [
    {
     "data": {
      "image/png": "[encoded data removed]",
      "text/plain": [
       "<Figure size 432x288 with 1 Axes>"
      ]
     },
     "metadata": {},
     "output_type": "display_data"
    }
   ],
   "source": [
    "############################################################\n",
    "# Code 2: forward difference for advection\n",
    "############################################################\n",
    "\n",
    "import math\n",
    "import numpy as np\n",
    "import time\n",
    "import matplotlib.pyplot as plt\n",
    "from IPython.display import display, clear_output\n",
    "\n",
    "\n",
    "# parameters\n",
    "tm = 0.0\n",
    "dfs = 1.0e-5\n",
    "X_0 = 0.8\n",
    "\n",
    "# spatial discretization\n",
    "nx = 301\n",
    "\n",
    "Xg = np.linspace(0,3,nx)\n",
    "dx = Xg[2]-Xg[1]\n",
    "\n",
    "dt = 0.4*1e-2\n",
    "\n",
    "print(dx,dt)\n",
    "\n",
    "# lists for storing results\n",
    "Con_o = np.zeros(nx)\n",
    "Con_n = np.zeros(nx)\n",
    "\n",
    "Cnvc = np.zeros(nx)\n",
    "\n",
    "# ##################\n",
    "# advection velocity\n",
    "u_x = 1.0\n",
    "# ##################\n",
    "\n",
    "# initial concentration profile \n",
    "Con_o[0:nx] = np.exp(-(Xg[0:nx]-X_0)**2/(4*500*dfs))\n",
    "\n",
    "\n",
    "# time iteration\n",
    "for iter in range(400):\n",
    "    \n",
    "    # convection part using backward differencing\n",
    "    Cnvc[1:nx-1] = (Con_o[1:nx-1] - Con_o[0:nx-2])/dx   # <== fill the blank\n",
    "    \n",
    "    # update concentration\n",
    "    Con_n[1:nx-1] = Con_o[1:nx-1] + u_x * Cnvc[1:nx-1] * dt     # <== fill the blank\n",
    "    \n",
    "    # boundary condition\n",
    "    Con_n[0] = Con_n[1]\n",
    "    Con_n[nx-1] = Con_n[nx-2]\n",
    "    \n",
    "    tm = tm + dt\n",
    "    \n",
    "    Con_o[:] = Con_n[:]\n",
    "    \n",
    "    \n",
    "    # visualization\n",
    "    if iter%10 == 0:        \n",
    "        clear_output(wait=True) # Clear output for dynamic display\n",
    "        \n",
    "        plt.plot(Xg,Con_o,'-')\n",
    "        plt.axis([0.0, 3.0, -0.2, 1.2])\n",
    "        plt.show()\n",
    "     \n",
    "        time.sleep(0.05)     \n",
    "        # Sleep for half a second to slow down the animation\n",
    "        \n",
    "  \n",
    "  "
   ]
  },
  {
   "cell_type": "markdown",
   "metadata": {},
   "source": [
    "### Question: Which scheme leads to a stable simulation?"
   ]
  },
  {
   "cell_type": "markdown",
   "metadata": {},
   "source": [
    "**Your answer:** Backward scheme would be stable.  But it is wiered for me.  Because the formula you gave is forward instead of backward when I found some forward and backward schemes in other references."
   ]
  },
  {
   "cell_type": "markdown",
   "metadata": {},
   "source": [
    "### <font color=red>Task 3:</font> Let's test another case, in which the velocity is changed to -1. Using the two codes above, change the velocity to -1, test which scheme leads to a stable simulation in this new case. Backward or Forward?"
   ]
  },
  {
   "cell_type": "markdown",
   "metadata": {},
   "source": [
    "**Your answer:** Forward scheme would be stable"
   ]
  },
  {
   "cell_type": "markdown",
   "metadata": {},
   "source": [
    "### Question: When u_x = +1, which scheme is stable?  When u_x = -1, which scheme is stable?"
   ]
  },
  {
   "cell_type": "markdown",
   "metadata": {},
   "source": [
    "**Your answer:** When u_x = +1, backward is stable. and when u_x = -1, forward is stable."
   ]
  },
  {
   "cell_type": "markdown",
   "metadata": {},
   "source": [
    "### <font color=red>Task 4:</font> Let's think about the terminology. Upwind scheme means that the derivative is taken on the side where wind (advection) blows from. Downwind scheme means that the derivative is taken on the side following wind flows. So, for u_x = +1, the wind flows from left to right, and for u_x = -1, the wind flows from right to left. \n",
    "\n",
    "### Question: In your test simulations, which scheme is stable? Upwind or downwind?"
   ]
  },
  {
   "cell_type": "markdown",
   "metadata": {},
   "source": [
    "**Your answer:** downwind"
   ]
  },
  {
   "cell_type": "markdown",
   "metadata": {},
   "source": [
    "### <font color=red>Task 5:</font> Now, let's try another case in which the wind changes direction during simulation. Initially, the wind blows from the left (u_x = +1), after t > 1.2, the wind blows from the right (u_x = -1). Complete the code below and do the simulation."
   ]
  },
  {
   "cell_type": "code",
   "execution_count": 23,
   "metadata": {},
   "outputs": [
    {
     "data": {
      "image/png": "[encoded data removed]",
      "text/plain": [
       "<Figure size 432x288 with 1 Axes>"
      ]
     },
     "metadata": {},
     "output_type": "display_data"
    }
   ],
   "source": [
    "############################################################\n",
    "# Code 3: wind changes direction\n",
    "############################################################\n",
    "\n",
    "import math\n",
    "import numpy as np\n",
    "import time\n",
    "import matplotlib.pyplot as plt\n",
    "from IPython.display import display, clear_output\n",
    "\n",
    "\n",
    "# parameters\n",
    "tm = 0.0\n",
    "dfs = 1.0e-5\n",
    "X_0 = 0.8\n",
    "\n",
    "# spatial discretization\n",
    "nx = 301\n",
    "\n",
    "Xg = np.linspace(0,3,nx)\n",
    "dx = Xg[2]-Xg[1]\n",
    "\n",
    "dt = 0.4*1e-2\n",
    "\n",
    "print(dx,dt)\n",
    "\n",
    "# lists for storing results\n",
    "Con_o = np.zeros(nx)\n",
    "Con_n = np.zeros(nx)\n",
    "\n",
    "Cnvc = np.zeros(nx)\n",
    "\n",
    "\n",
    "# initial concentration profile \n",
    "Con_o[0:nx] = np.exp(-(Xg[0:nx]-X_0)**2/(4*500*dfs))\n",
    "\n",
    "\n",
    "# time iteration\n",
    "for iter in range(800):\n",
    "    \n",
    "    if tm < 1.5:\n",
    "        # advection velocity\n",
    "        u_x = +1.0 \n",
    "        # convection part \n",
    "        Cnvc[1:nx-1] = (Con_o[1:nx-1]-Con_o[0:nx-2])/dx     # <== fill the blank\n",
    "    else:\n",
    "        # advection velocity\n",
    "        u_x = -1            # <== fill the blank\n",
    "        # convection part \n",
    "        Cnvc[1:nx-1] = (Con_o[2:nx]-Con_o[1:nx-1])/dx    # <== fill the blank\n",
    "    \n",
    "    # update concentration\n",
    "    Con_n[1:nx-1] = Con_o[1:nx-1] - Cnvc[1:nx-1]*dt*u_x      # convection part \n",
    "    \n",
    "    # boundary condition\n",
    "    Con_n[0] = Con_n[1]\n",
    "    Con_n[nx-1] = Con_n[nx-2]\n",
    "    \n",
    "    tm = tm + dt\n",
    "    \n",
    "    Con_o[:] = Con_n[:]\n",
    "    \n",
    "    \n",
    "    # visualization\n",
    "    if iter%10 == 0:        \n",
    "        clear_output(wait=True) # Clear output for dynamic display\n",
    "        \n",
    "        plt.plot(Xg,Con_o,'-')\n",
    "        plt.axis([0.0, 3.0, -0.2, 1.2])\n",
    "        plt.show()\n",
    "     \n",
    "        time.sleep(0.04)         # Sleep for half a second to slow down the animation\n",
    "           "
   ]
  },
  {
   "cell_type": "markdown",
   "metadata": {},
   "source": [
    "### Question: In your result, does the shape of concentration profile change during convection even without any diffusion term involved in the model? What happened? \n",
    "**Hint: Go to wikipedia and search for upwind scheme.**"
   ]
  },
  {
   "cell_type": "markdown",
   "metadata": {},
   "source": [
    "**Your answer:** No, the shape of concentration doesn't change.  The shape is just moving back and forth."
   ]
  },
  {
   "cell_type": "markdown",
   "metadata": {},
   "source": [
    "---\n",
    "### Part 2: Stability criteria in convection\n",
    "\n",
    "### Task 6: I hope you read the wikipedia page through the Courant–Friedrichs–Lewy (CFL) condition. For numerical stability, the time step size is constrained by CFL condition. Type CFL condition in the cell below."
   ]
  },
  {
   "cell_type": "markdown",
   "metadata": {},
   "source": [
    "**Your answer:** CFL = $ \\frac{\\mid u \\mid \\Delta t}{\\Delta x} \\leq 1 $"
   ]
  },
  {
   "cell_type": "markdown",
   "metadata": {},
   "source": [
    "### Now we want to do a convenction simulation in a higher resolution (decrease dx size) with a stronger wind. Copy your code 1 to the cell below. (1) Change number of grids to 601, (2) change wind speed to +6, (3) find a time step size that satisfies the CFL condition, and (4) run the simulation."
   ]
  },
  {
   "cell_type": "code",
   "execution_count": 29,
   "metadata": {},
   "outputs": [
    {
     "data": {
      "image/png": "[encoded data removed]",
      "text/plain": [
       "<Figure size 432x288 with 1 Axes>"
      ]
     },
     "metadata": {},
     "output_type": "display_data"
    }
   ],
   "source": [
    "############################################################\n",
    "# Code 4: High resolution simulation \n",
    "############################################################\n",
    "\n",
    "import math\n",
    "import numpy as np\n",
    "import time\n",
    "import matplotlib.pyplot as plt\n",
    "from IPython.display import display, clear_output\n",
    "\n",
    "\n",
    "# parameters\n",
    "tm = 0.0\n",
    "dfs = 1.0e-5\n",
    "X_0 = 0.8\n",
    "\n",
    "# spatial discretization\n",
    "nx = 601\n",
    "\n",
    "Xg = np.linspace(0,3,nx)\n",
    "dx = Xg[2]-Xg[1]\n",
    "\n",
    "dt = dx/6\n",
    "\n",
    "print(dx,dt)\n",
    "\n",
    "# lists for storing results\n",
    "Con_o = np.zeros(nx)\n",
    "Con_n = np.zeros(nx)\n",
    "\n",
    "Cnvc = np.zeros(nx)\n",
    "\n",
    "# ##################\n",
    "# advection velocity\n",
    "u_x = 6.0\n",
    "# ##################\n",
    "\n",
    "# initial concentration profile \n",
    "Con_o[0:nx] = np.exp(-(Xg[0:nx]-X_0)**2/(4*500*dfs))\n",
    "\n",
    "\n",
    "# time iteration\n",
    "for iter in range(400):\n",
    "    \n",
    "    # convection part using backward differencing\n",
    "    Cnvc[1:nx-1] = (Con_o[1:nx-1]-Con_o[0:nx-2])/dx    # <== fill the blank\n",
    "    \n",
    "    # update concentration\n",
    "    Con_n[1:nx-1] = Con_o[1:nx-1] - u_x*Cnvc[1:nx-1]*dt      # <== fill the blank\n",
    "    \n",
    "    # boundary condition\n",
    "    Con_n[0] = Con_n[1]\n",
    "    Con_n[nx-1] = Con_n[nx-2]\n",
    "    \n",
    "    tm = tm + dt\n",
    "    \n",
    "    Con_o[:] = Con_n[:]\n",
    "    \n",
    "    \n",
    "    # visualization\n",
    "    if iter%10 == 0:        \n",
    "        clear_output(wait=True) # Clear output for dynamic display\n",
    "        \n",
    "        plt.plot(Xg,Con_o,'-')\n",
    "        plt.axis([0.0, 3.0, -0.2, 1.2])\n",
    "        plt.show()\n",
    "     \n",
    "        time.sleep(0.05)         # Sleep for half a second to slow down the animation\n",
    "        \n",
    "  \n"
   ]
  },
  {
   "cell_type": "markdown",
   "metadata": {},
   "source": [
    "### Our last task for today's pre-class assginment is to watch a video clip for entertainment. Those simulations are from the work by Ron Fedkiw from Stanford University. Have fun watching it. "
   ]
  },
  {
   "cell_type": "code",
   "execution_count": null,
   "metadata": {},
   "outputs": [],
   "source": [
    "from IPython.display import YouTubeVideo\n",
    "YouTubeVideo('nJWz0PaMlkI',width=640,height=480) "
   ]
  },
  {
   "cell_type": "markdown",
   "metadata": {},
   "source": [
    "### Assignment wrap-up\n",
    "\n",
    "**What questions do you have, if any, about any of the topics discussed in this assignment.**"
   ]
  },
  {
   "cell_type": "markdown",
   "metadata": {},
   "source": [
    "**Put your answer here!**"
   ]
  },
  {
   "cell_type": "markdown",
   "metadata": {},
   "source": [
    "**Do you have any further questions or comments about this material?**"
   ]
  },
  {
   "cell_type": "markdown",
   "metadata": {},
   "source": [
    "**Put your answer here!**"
   ]
  },
  {
   "cell_type": "markdown",
   "metadata": {},
   "source": [
    "### Congratulations, you're done with your first pre-class assignment!\n",
    "\n",
    "Now, you just need to submit this assignment by uploading it to the course Desire2Learn web page.  Go to Assessments > Assignments, find the link for Pre-class assignment 20180920, and upload it there.\n",
    "\n",
    "**Please keep a copy the code. We will reuse the code in the class.**\n",
    "\n",
    "See you in class!"
   ]
  },
  {
   "cell_type": "code",
   "execution_count": null,
   "metadata": {},
   "outputs": [],
   "source": []
  }
 ],
 "metadata": {
  "kernelspec": {
   "display_name": "Python 3",
   "language": "python",
   "name": "python3"
  },
  "language_info": {
   "codemirror_mode": {
    "name": "ipython",
    "version": 3
   },
   "file_extension": ".py",
   "mimetype": "text/x-python",
   "name": "python",
   "nbconvert_exporter": "python",
   "pygments_lexer": "ipython3",
   "version": "3.6.5"
  }
 },
 "nbformat": 4,
 "nbformat_minor": 2
}
