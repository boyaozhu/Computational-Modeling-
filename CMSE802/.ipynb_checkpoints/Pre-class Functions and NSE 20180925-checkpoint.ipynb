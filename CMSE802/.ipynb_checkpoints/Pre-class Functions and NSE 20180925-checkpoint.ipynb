{
 "cells": [
  {
   "cell_type": "markdown",
   "metadata": {},
   "source": [
    "# CMSE 802 Pre-class assignment: Python functions and Navier-Stokes equation \n",
    "## Date: 09/20/2018\n",
    "## Due: 09/24/2018, 10:30 PM\n",
    "### The goal of this assignment is to learn how to make our own Python functions and obtain some backgrounds of the Navier-Stokes equation."
   ]
  },
  {
   "cell_type": "markdown",
   "metadata": {},
   "source": [
    "---\n",
    "### Your name: Boyao Zhu\n",
    "---"
   ]
  },
  {
   "cell_type": "markdown",
   "metadata": {},
   "source": [
    "### Part 1: Python functions\n",
    "**Watch the youtube video in the cell below. It demonstrates how to make a Python function on Jupyter notebook.  **"
   ]
  },
  {
   "cell_type": "code",
   "execution_count": 1,
   "metadata": {
    "scrolled": true
   },
   "outputs": [
    {
     "data": {
      "image/jpeg": "[encoded data removed]",
      "text/html": [
       "\n",
       "        <iframe\n",
       "            width=\"720\"\n",
       "            height=\"540\"\n",
       "            src=\"https://www.youtube.com/embed/Pc2TTKVxt1o\"\n",
       "            frameborder=\"0\"\n",
       "            allowfullscreen\n",
       "        ></iframe>\n",
       "        "
      ],
      "text/plain": [
       "<IPython.lib.display.YouTubeVideo at 0x1112dc860>"
      ]
     },
     "execution_count": 1,
     "metadata": {},
     "output_type": "execute_result"
    }
   ],
   "source": [
    "from IPython.display import YouTubeVideo\n",
    "YouTubeVideo('Pc2TTKVxt1o',width=720,height=540)\n",
    "## This video provides a tutorial for making functions in Python."
   ]
  },
  {
   "cell_type": "markdown",
   "metadata": {},
   "source": [
    "### Now, let's write a Python function for solving the Laplace equation using piont-wise relaxation method (e.g., Task 3, In-class assignment 2D FDM and PDE 20180918).\n",
    "\n",
    "### Problem set up.\n",
    "\n",
    "<img src=\"LapDm-1.png\" alt = \"drawing\" width=400 />\n",
    "\n",
    "The 2D domain spans from x = 0 to 1, and from y = 0 to 1, as shown in the figure above.  We want to solve\n",
    "\n",
    "$$\\nabla^2 \\phi = 0~~~~\\text{for}~~~~ \\phi~~~~\\text{in the 2D domain}.$$\n",
    "\n",
    "The boundary conditions are \n",
    "\n",
    "$$\\phi = 10 y~~~~\\text{at}~~~~x=0$$ \n",
    "\n",
    "$$\\phi = -10x +10~~~~\\text{at}~~~~y=1,$$\n",
    "\n",
    "and no-flux boundary conditions for the remaining two sides. The domain is discretized into 81$\\times$81 grid points.\n"
   ]
  },
  {
   "cell_type": "code",
   "execution_count": 1,
   "metadata": {},
   "outputs": [],
   "source": [
    "# load libraries\n",
    "import numpy as np\n",
    "import time as tm\n",
    "\n",
    "import matplotlib.pyplot as plt\n",
    "from matplotlib import cm\n",
    "from mpl_toolkits.mplot3d import Axes3D"
   ]
  },
  {
   "cell_type": "markdown",
   "metadata": {},
   "source": [
    "**Write your Python function in the cell below for solving the 2D Laplace equation below.**\n",
    "\n",
    "The inputs (arguements) are \n",
    "(1) $\\phi$: the initial guess;\n",
    "(2) nx and Lx: the number of grids and domain size in the x direction; \n",
    "(3) ny and Ly: the number of grids and domain size in the y direction;\n",
    "(4) norm_target: the criterion to terminate the iterations.\n",
    "\n",
    "The outputs (returns) are \n",
    "(1) $\\phi$: the solved field;\n",
    "(2) xmsh and ymsh: the mesh grids for plotting;\n",
    "(3) cnt: number of iterations."
   ]
  },
  {
   "cell_type": "code",
   "execution_count": 5,
   "metadata": {},
   "outputs": [],
   "source": [
    "# #######################################\n",
    "# function 1 for solving Laplace equation\n",
    "# #######################################    \n",
    "    \n",
    "def laplace_2D_pw(phi,nx,Lx,ny,Ly,norm_target):\n",
    "\n",
    "    # spatial discretization\n",
    "    Xg = np.linspace(0, Lx, nx)\n",
    "    Yg = np.linspace(0, Ly, ny)\n",
    "    \n",
    "    dx = Xg[2] - Xg[1]\n",
    "    dy = Yg[2] - Yg[1]\n",
    "\n",
    "    # meshgrid generate the x and y coordinates of the 2D grid system\n",
    "    xmsh, ymsh = np.meshgrid(Yg, Xg)\n",
    "\n",
    "    # iteration using while loop\n",
    "    cnt = 0\n",
    "    nrm = 1.0\n",
    "    resd = np.zeros((nx,ny))\n",
    "    while nrm > norm_target:\n",
    "\n",
    "        # iterative solver using vectorized calculation\n",
    "        phi[1:nx-1,1:ny-1] = (dy**2*(phi[0:nx-2,1:ny-1] + phi[2:nx,1:ny-1]) + \\\n",
    "                              dx**2*(phi[1:nx-1,0:ny-2] + phi[1:nx-1,2:ny]))/(2*(dx**2+dy**2))                  # <== fill the blank\n",
    "\n",
    "        # boundary conditions\n",
    "        phi[0,0:ny-1] = 10*Yg[0:ny-1]      # at x = 0     # <== fill the blank\n",
    "        phi[nx-1,0:ny-1] = phi[nx-2,0:ny-1]                 # at x = 1     # <== fill the blank\n",
    "\n",
    "        phi[0:nx-1,0] = phi[0:nx-1,1]                  # at y = 0     # <== fill the blank\n",
    "        phi[0:nx-1,ny-1] = -10*Xg[0:nx-1]+10 # at y = 1     # <== fill the blank\n",
    "\n",
    "\n",
    "        # calculating residual for the Laplace equation, using vectorized calculation\n",
    "        resd[1:nx-1,1:ny-1] = (phi[0:nx-2,1:ny-1]-2*phi[1:nx-1,1:ny-1]+phi[2:nx,1:ny-1])/dx**2+ \\\n",
    "                              (phi[1:nx-1,0:ny-2]-2*phi[1:nx-1,1:ny-1]+phi[1:nx-1,2:ny])/dy**2                # <== fill the blank\n",
    "        \n",
    "        cnt = cnt + 1\n",
    "\n",
    "        # calculate Forbenius norm of the residual\n",
    "        nrm = np.linalg.norm(resd[1:nx-1,1:ny-1])\n",
    "\n",
    "    #print(cnt,nrm,norm_target)\n",
    "    \n",
    "    return phi, xmsh, ymsh, cnt"
   ]
  },
  {
   "cell_type": "markdown",
   "metadata": {},
   "source": [
    "**Use your Python functin in the code below. Let's use 1.0e-3 for norm_target. In the code below, you will test two functions. First, you will use laplace_2D_pw. After you finish testing Function 1, you will need to complete Function 2, laplace_2D_pw_numba (in the cell below Code 1), come back to run Function 2 in Code 1, and compare the speed between the two functions. **"
   ]
  },
  {
   "cell_type": "code",
   "execution_count": null,
   "metadata": {},
   "outputs": [],
   "source": [
    "# #######################################\n",
    "# Code 1 \n",
    "# #######################################\n",
    "\n",
    "# spatial discretization\n",
    "nx = 81    # number of grids in the x direction\n",
    "Lx = 1.0    # dimension in the x direction\n",
    "\n",
    "ny = 81\n",
    "Ly = 1.0\n",
    "\n",
    "\n",
    "# field\n",
    "phi = np.zeros((nx,ny))\n",
    "\n",
    "\n",
    "# walltime before iterative matrix solving\n",
    "WT_bgn = tm.time()\n",
    "\n",
    "\n",
    "norm_target = 1.0e-3\n",
    "# call your function of solving the Lapalce equation.\n",
    "# Case 1\n",
    "phi, xmsh, ymsh, cnt = laplace_2D_pw(phi,nx,Lx,ny,Ly,norm_target)    # <== fill the blank\n",
    "\n",
    "\n",
    "# Case 2    \n",
    "#phi, xmsh, ymsh, cnt = laplace_2D_pw_numba(phi,nx,Lx,ny,Ly,norm_target)    # <== fill the blank\n",
    "print (cnt)\n",
    "\n",
    "\n",
    "# walltime after iterative matrix solving        \n",
    "WT_end = tm.time() \n",
    "\n",
    "print(WT_end - WT_bgn)\n",
    "\n",
    "# visualization\n",
    "fig = plt.figure(figsize=(11, 7), dpi=100)\n",
    "ax = fig.gca(projection='3d')\n",
    "ax.plot_surface(xmsh[1:nx-1,1:ny-1],ymsh[1:nx-1,1:ny-1], phi[1:nx-1,1:ny-1], cmap=cm.jet)\n",
    "ax.plot_surface(xmsh, ymsh, phi, cmap=cm.jet)\n",
    "ax.view_init(20, -40)\n",
    "#ax.set_zlim3d(0,1)\n",
    "ax.set_xlabel('x')\n",
    "ax.set_ylabel('y')\n",
    "\n",
    "plt.show()\n"
   ]
  },
  {
   "cell_type": "markdown",
   "metadata": {},
   "source": [
    "**How many iterations (occuring within function 1) does you code take to solve the Laplace equation?**"
   ]
  },
  {
   "cell_type": "markdown",
   "metadata": {},
   "source": [
    "**Your answer:** 71634"
   ]
  },
  {
   "cell_type": "markdown",
   "metadata": {},
   "source": [
    "---\n",
    "### Part 2. Optimizing Loops with Numba\n",
    "\n",
    "In this pre-class assignment, we are going to learn Numba, which will make your code faster. Let's load the numba library and use autojit in the function."
   ]
  },
  {
   "cell_type": "code",
   "execution_count": 43,
   "metadata": {},
   "outputs": [],
   "source": [
    "# load numba library\n",
    "from numba import autojit"
   ]
  },
  {
   "cell_type": "code",
   "execution_count": 44,
   "metadata": {},
   "outputs": [],
   "source": [
    "# #######################################\n",
    "# function 2 for solving Laplace equation\n",
    "# #######################################\n",
    "\n",
    "@autojit\n",
    "def laplace_2D_pw_numba(phi,nx,Lx,ny,Ly,norm_target):\n",
    "    \n",
    "    # Copy your function 1 to here\n",
    "\n",
    "    # spatial discretization\n",
    "    Xg = np.linspace(0, Lx, nx)\n",
    "    Yg = np.linspace(0, Ly, ny)\n",
    "    \n",
    "    dx = Xg[2] - Xg[1]\n",
    "    dy = Yg[2] - Yg[1]\n",
    "\n",
    "    # meshgrid generate the x and y coordinates of the 2D grid system\n",
    "    xmsh, ymsh = np.meshgrid(Yg, Xg)\n",
    "\n",
    "    # iteration using while loop\n",
    "    cnt = 0\n",
    "    nrm = 1.0\n",
    "    resd = np.zeros((nx,ny))\n",
    "    while nrm > norm_target:\n",
    "\n",
    "        # iterative solver using vectorized calculation\n",
    "        phi[1:nx-1,1:ny-1] = (dy**2*(phi[0:nx-2,1:ny-1] + phi[2:nx,1:ny-1]) + \\\n",
    "                              dx**2*(phi[1:nx-1,0:ny-2] + phi[1:nx-1,2:ny]))/(2*(dx**2+dy**2))                  # <== fill the blank\n",
    "\n",
    "        # boundary conditions\n",
    "        phi[0,0:ny-1] = 10*Yg[0:ny-1]      # at x = 0     # <== fill the blank\n",
    "        phi[nx-1,0:ny-1] = phi[nx-2,0:ny-1]                 # at x = 1     # <== fill the blank\n",
    "\n",
    "        phi[0:nx-1,0] = phi[0:nx-1,1]                  # at y = 0     # <== fill the blank\n",
    "        phi[0:nx-1,ny-1] = -10*Xg[0:nx-1]+10 # at y = 1     # <== fill the blank\n",
    "\n",
    "\n",
    "        # calculating residual for the Laplace equation, using vectorized calculation\n",
    "        resd[1:nx-1,1:ny-1] = (phi[0:nx-2,1:ny-1]-2*phi[1:nx-1,1:ny-1]+phi[2:nx,1:ny-1])/dx**2+ \\\n",
    "                              (phi[1:nx-1,0:ny-2]-2*phi[1:nx-1,1:ny-1]+phi[1:nx-1,2:ny])/dy**2                # <== fill the blank\n",
    "        \n",
    "        cnt = cnt + 1\n",
    "\n",
    "        # calculate Forbenius norm of the residual\n",
    "        nrm = np.linalg.norm(resd[1:nx-1,1:ny-1])\n",
    "\n",
    "\n",
    "    #print(cnt,nrm,norm_target)\n",
    "    \n",
    "    return phi, xmsh, ymsh, cnt"
   ]
  },
  {
   "cell_type": "markdown",
   "metadata": {},
   "source": [
    "**Now you have Function 2, named laplace_2D_pw_numba. Go back to Code 1 and change it to use this new function. Check whether your code runs faster. What are the computer times for the two cases (Functions 1 and 2)?** "
   ]
  },
  {
   "cell_type": "markdown",
   "metadata": {},
   "source": [
    "**Your answer:** Functions 1: 12.361363172531128\n",
    "                 Functions 2: 8.380482912063599"
   ]
  },
  {
   "cell_type": "markdown",
   "metadata": {},
   "source": [
    "**Another command \"timeit\" can be used to check the computer time per loop. Try the command given in the cell below.**"
   ]
  },
  {
   "cell_type": "code",
   "execution_count": 47,
   "metadata": {},
   "outputs": [
    {
     "name": "stdout",
     "output_type": "stream",
     "text": [
      "269 µs ± 13.6 µs per loop (mean ± std. dev. of 7 runs, 1000 loops each)\n"
     ]
    }
   ],
   "source": [
    "%%timeit\n",
    "laplace_2D_pw(phi,nx,Lx,ny,Ly,norm_target)"
   ]
  },
  {
   "cell_type": "code",
   "execution_count": 48,
   "metadata": {},
   "outputs": [
    {
     "name": "stdout",
     "output_type": "stream",
     "text": [
      "168 µs ± 3.53 µs per loop (mean ± std. dev. of 7 runs, 10000 loops each)\n"
     ]
    }
   ],
   "source": [
    "%%timeit\n",
    "laplace_2D_pw_numba(phi,nx,Lx,ny,Ly,norm_target)"
   ]
  },
  {
   "cell_type": "markdown",
   "metadata": {},
   "source": [
    "---\n",
    "### Part 3: Introduction to the Navier-Stokes equation\n",
    "\n",
    "### Let's watch two videos to learn some basic ideas of the Navier-Stokes equation. If you are interested in knowing more about the Navier-Stokes equation, go to wikipedia for further reading.\n",
    "\n",
    "https://en.wikipedia.org/wiki/Navier–Stokes_equations"
   ]
  },
  {
   "cell_type": "code",
   "execution_count": 49,
   "metadata": {},
   "outputs": [
    {
     "data": {
      "image/jpeg": "[encoded data removed]",
      "text/html": [
       "\n",
       "        <iframe\n",
       "            width=\"720\"\n",
       "            height=\"540\"\n",
       "            src=\"https://www.youtube.com/embed/EsWvCBqx1Xc\"\n",
       "            frameborder=\"0\"\n",
       "            allowfullscreen\n",
       "        ></iframe>\n",
       "        "
      ],
      "text/plain": [
       "<IPython.lib.display.YouTubeVideo at 0x11c056eb8>"
      ]
     },
     "execution_count": 49,
     "metadata": {},
     "output_type": "execute_result"
    }
   ],
   "source": [
    "from IPython.display import YouTubeVideo\n",
    "YouTubeVideo('EsWvCBqx1Xc',width=720,height=540)"
   ]
  },
  {
   "cell_type": "code",
   "execution_count": 50,
   "metadata": {},
   "outputs": [
    {
     "data": {
      "image/jpeg": "[encoded data removed]",
      "text/html": [
       "\n",
       "        <iframe\n",
       "            width=\"720\"\n",
       "            height=\"540\"\n",
       "            src=\"https://www.youtube.com/embed/ZjfxA3qq2Lg\"\n",
       "            frameborder=\"0\"\n",
       "            allowfullscreen\n",
       "        ></iframe>\n",
       "        "
      ],
      "text/plain": [
       "<IPython.lib.display.YouTubeVideo at 0x11d8c2e80>"
      ]
     },
     "execution_count": 50,
     "metadata": {},
     "output_type": "execute_result"
    }
   ],
   "source": [
    "## The following video will explain how to discretize the Navier-Stokes equations. \n",
    "## You can skip go over it fast.\n",
    "YouTubeVideo('ZjfxA3qq2Lg',width=720,height=540)"
   ]
  },
  {
   "cell_type": "markdown",
   "metadata": {},
   "source": [
    "### Assignment wrap-up\n",
    "\n",
    "**What questions do you have, if any, about any of the topics discussed in this assignment.**"
   ]
  },
  {
   "cell_type": "markdown",
   "metadata": {},
   "source": [
    "**Put your answer here!**"
   ]
  },
  {
   "cell_type": "markdown",
   "metadata": {},
   "source": [
    "**Do you have any further questions or comments about this material?**"
   ]
  },
  {
   "cell_type": "markdown",
   "metadata": {},
   "source": [
    "**Put your answer here!**"
   ]
  },
  {
   "cell_type": "markdown",
   "metadata": {
    "collapsed": true
   },
   "source": [
    "### Congratulations, you're done with your first pre-class assignment!\n",
    "\n",
    "Now, you just need to submit this assignment by uploading it to the course Desire2Learn web page.  Go to Assessments > Assignments, find the link for Pre-class assignment 20180925, and upload it there.\n",
    "\n",
    "**Please keep a copy the code. We will reuse the code in the class.**\n",
    "\n",
    "See you in class!"
   ]
  },
  {
   "cell_type": "code",
   "execution_count": null,
   "metadata": {
    "collapsed": true
   },
   "outputs": [],
   "source": []
  }
 ],
 "metadata": {
  "kernelspec": {
   "display_name": "Python 3",
   "language": "python",
   "name": "python3"
  },
  "language_info": {
   "codemirror_mode": {
    "name": "ipython",
    "version": 3
   },
   "file_extension": ".py",
   "mimetype": "text/x-python",
   "name": "python",
   "nbconvert_exporter": "python",
   "pygments_lexer": "ipython3",
   "version": "3.6.5"
  }
 },
 "nbformat": 4,
 "nbformat_minor": 2
}
