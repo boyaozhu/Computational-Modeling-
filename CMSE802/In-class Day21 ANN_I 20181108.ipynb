{
 "cells": [
  {
   "cell_type": "markdown",
   "metadata": {},
   "source": [
    "# CMSE 802 In-class assignment: Artificial Neutral Networks\n",
    "## Date: 11/08/2018\n",
    "## Due: 11/08/2018; 10:30 PM\n",
    "\n",
    "### The goal of this assignment is to learn about general gradient descent."
   ]
  },
  {
   "cell_type": "markdown",
   "metadata": {},
   "source": [
    "---\n",
    "### Your name: Boyao Zhu"
   ]
  },
  {
   "cell_type": "markdown",
   "metadata": {
    "collapsed": true
   },
   "source": [
    "---\n",
    "### 1. The Universal Approximation Theorem\n",
    "\n",
    "As a group, please discuss how (if at all) the theorem below relates to the topic at hand.\n",
    "\n",
    "\n",
    "> In the mathematical theory of artificial neural networks, the universal approximation theorem states that a feed-forward network with a single hidden layer containing a finite number of neurons (i.e., a multilayer perceptron), can approximate continuous functions on compact subsets of $R^n$, under mild assumptions on the activation function. The theorem thus states that simple neural networks can represent a wide variety of interesting functions when given appropriate parameters; however, it does not touch upon the algorithmic learnability of those parameters.\n",
    "\n",
    ">One of the first versions of the theorem was proved by George Cybenko in 1989 for sigmoid activation functions.\n",
    "\n",
    ">Kurt Hornik showed in 1991 that it is not the specific choice of the activation function, but rather the multilayer feedforward architecture itself which gives neural networks the potential of being universal approximators.\n",
    "<p style=\"text-align: right;\">From: Wikipidia - https://en.wikipedia.org/wiki/Universal_approximation_theorem</p>\n",
    "\n",
    "### Some Math\n",
    "Let $\\varphi(\\cdot)$ be a nonconstant, bounded, and monotonically-increasing continuous function. Let $I_m$ denote the $m$-dimensional unit hypercube $[0,1]^m$. The space of continuous functions on $I_m$ is denoted by $C(I_m)$. Then, given any function $f\\in C(I_m)$ and $\\epsilon>0$, there exists an integer $N$, real constants $v_i, b_i \\in \\mathbb{R}$ and real vectors $\\mathbf{w}_i \\in \\mathbb{R}^m$, where $i = 1, \\ldots, N$ such that if we define: \n",
    "$$F(\\mathbf{x}) = \\sum_{i=1}^N v_i \\cdot\\varphi \\big(\\langle\\mathbf{w}_i , \\mathbf{x}\\rangle + b_i\\big) $$\n",
    "then \n",
    "$$|F(\\mathbf{x}) - f(\\mathbf{x})| < \\epsilon $$\n",
    "\n",
    "for all $x\\in I_m$. In other words, functions of the form $F(\\mathbf{x})$ are dense in $C(I_m)$."
   ]
  },
  {
   "cell_type": "markdown",
   "metadata": {},
   "source": [
    "**Question 1**: In simplest terms, why do we care about the Universal Approximation Theorem?"
   ]
  },
  {
   "cell_type": "markdown",
   "metadata": {},
   "source": [
    "**Your Answer: ** In the mathematical theory of artificial neural networks, the universal approximation theorem states[1] that a feed-forward network with a single hidden layer containing a finite number of neurons can approximate continuous functions on compact subsets of Rn, under mild assumptions on the activation function. The theorem thus states that simple neural networks can represent a wide variety of interesting functions when given appropriate parameters; however, it does not touch upon the algorithmic learnability of those parameters."
   ]
  },
  {
   "cell_type": "markdown",
   "metadata": {},
   "source": [
    "----\n",
    "### 2. Guessing a functions parameters\n",
    "Imagine we want to train a deep neural network with several hidden layers. So, we have a big array of weights $W$ (for all the synapses and all the layers), several biases $b$ and training data $\\big\\{(x_l , y_l) :  l=1,\\ldots, L \\big\\}$. For each choice of weights and biases,  forward propagation produces an estimate $\\hat{y}(x_l)$ of $y_l$ for each training data point $x_l$. (This is what we did in the pre-class assignment)."
   ]
  },
  {
   "cell_type": "markdown",
   "metadata": {},
   "source": [
    "Before we solve the ANN problem let's use a simpler model:\n",
    "\n",
    "Suppose we have the experimental data (```x_data``` and ```y_data```) given below, and that we want to fit a linear model $y =  w\\cdot x + b$ to this data.  How to we find $w$ and $b$? "
   ]
  },
  {
   "cell_type": "markdown",
   "metadata": {},
   "source": [
    "First, let's just try to guess different values for $w$ and $b$ that best fit the data."
   ]
  },
  {
   "cell_type": "code",
   "execution_count": 1,
   "metadata": {},
   "outputs": [],
   "source": [
    "## experimental data\n",
    "import numpy as np\n",
    "x_data = np.array([1, 2, 2.5, 3, 3.5, 4.5, 4.7, 5.2, 6.1, 6.1, 6.8])\n",
    "y_data = np.array([1.5, 1, 2, 2, 3.7, 3, 5, 4, 5.8, 5, 5.7])"
   ]
  },
  {
   "cell_type": "code",
   "execution_count": 31,
   "metadata": {},
   "outputs": [
    {
     "data": {
      "image/png": "[encoded data removed]",
      "text/plain": [
       "<Figure size 432x288 with 1 Axes>"
      ]
     },
     "metadata": {},
     "output_type": "display_data"
    }
   ],
   "source": [
    "import matplotlib.pylab as plt\n",
    "\n",
    "w = 1\n",
    "b = -0.5\n",
    "\n",
    "plt.scatter(x_data,y_data)\n",
    "x_range = np.array([i for i in range(0, 8)])\n",
    "y_range = w*x_range + b\n",
    "plt.plot(x_range,y_range)\n",
    "plt.axis('equal')\n",
    "plt.show()\n",
    "\n"
   ]
  },
  {
   "cell_type": "markdown",
   "metadata": {},
   "source": [
    "**Question 2**: What values did you find for $w$ and $b$ and how do you know your selection of $b$ and $w$ are the best?"
   ]
  },
  {
   "cell_type": "code",
   "execution_count": 32,
   "metadata": {},
   "outputs": [],
   "source": [
    "w = 1\n",
    "b = -0.5"
   ]
  },
  {
   "cell_type": "markdown",
   "metadata": {},
   "source": [
    "**Your answer: ** I got this values by guessing and check the plot above"
   ]
  },
  {
   "cell_type": "markdown",
   "metadata": {},
   "source": [
    "----\n",
    "### 3. Mean Squared Error\n",
    "\n",
    "We can use the Mean Squared Error (MSE) to measure how good our choice is for $b$ and $w$. The general $MSE$ equation is as follows: \n",
    "\n",
    "$$MSE(W,b)  = \\frac{1}{L} \\sum_{i=1}^L (y_i - \\hat{y}(x_l))^2$$\n",
    "\n",
    "If we plug in our linear funciton $\\hat{y} = w\\cdot x + b$ we get:\n",
    "\n",
    "$$MSE(W,b)  = \\frac{1}{L} \\sum_{i=1}^L ( y_i - (w\\cdot x_i + b))^2$$\n",
    "\n",
    "One strategy is to find values of $w$ and $b$ which minimize this expression. Keep in mind that $MSE$ is a function of more than one variable, with a sum over potentially many training data points. "
   ]
  },
  {
   "cell_type": "markdown",
   "metadata": {},
   "source": [
    "** Write a function (called MSE) that takes the guesses for $b$, $w$ and the experimental data ```x_data``` and ```y_data``` as inputs and returns the $MSE$ for the function $y = w\\cdot x + b$. **"
   ]
  },
  {
   "cell_type": "code",
   "execution_count": 33,
   "metadata": {},
   "outputs": [],
   "source": [
    "# Your code:\n",
    "\n",
    "def MSE(b,w,x_data, y_data):\n",
    "    \n",
    "    Mean_sq_error = 0\n",
    "    L = len(x_data)\n",
    "    for i in range(L):\n",
    "        Mean_sq_error += (y_data[i]-(w*x_data[i]+b))**2\n",
    "\n",
    "    Mean_sq_error = Mean_sq_error/L\n",
    "    \n",
    "    return Mean_sq_error\n"
   ]
  },
  {
   "cell_type": "markdown",
   "metadata": {},
   "source": [
    "Test to make sure your funciton works."
   ]
  },
  {
   "cell_type": "code",
   "execution_count": 34,
   "metadata": {},
   "outputs": [
    {
     "name": "stdout",
     "output_type": "stream",
     "text": [
      "0.44363636363636355\n"
     ]
    }
   ],
   "source": [
    "error = MSE(b, w, x_data, y_data)\n",
    "print(error)"
   ]
  },
  {
   "cell_type": "markdown",
   "metadata": {},
   "source": [
    "----\n",
    "### 4. Example of Gradient Descent\n",
    ">Gradient descent is an algorithm that minimizes functions. Given a function defined by a set of parameters, gradient descent starts with an initial set of parameter values and iteratively moves toward a set of parameter values that minimize the function. This iterative minimization is achieved using calculus, taking steps in the negative direction of the function gradient.\n",
    "<p style=\"text-align: right;\">from: https://spin.atomicobject.com/2014/06/24/gradient-descent-linear-regression/</p>\n",
    "\n",
    "<img src = https://goo.gl/4pPlEP>"
   ]
  },
  {
   "cell_type": "markdown",
   "metadata": {},
   "source": [
    "** Review the gradient decent code below and answer the questions that follow: **"
   ]
  },
  {
   "cell_type": "code",
   "execution_count": 35,
   "metadata": {},
   "outputs": [],
   "source": [
    "# function for plotting\n",
    "\n",
    "import matplotlib.pylab as plt\n",
    "\n",
    "from IPython.display import display, clear_output\n",
    "import time\n",
    "\n",
    "def show_animation(delay=0.01):\n",
    "    fig = plt.gcf()\n",
    "    time.sleep(delay)       # Sleep for a short period to slow down the animation\n",
    "    clear_output(wait=True) # Clear output for dynamic display\n",
    "    display(fig)            # Reset display\n",
    "    fig.clear()             # Prevent overlapping and layered plots"
   ]
  },
  {
   "cell_type": "code",
   "execution_count": 36,
   "metadata": {},
   "outputs": [
    {
     "data": {
      "image/png": "[encoded data removed]",
      "text/plain": [
       "<Figure size 432x288 with 1 Axes>"
      ]
     },
     "metadata": {},
     "output_type": "display_data"
    }
   ],
   "source": [
    "# Define the function (parabola)\n",
    "def f1(x):\n",
    "    return 3*x**2 - 10*x + 4\n",
    "\n",
    "# Derivative of F1 (also called the gradient)\n",
    "def grad_f1(x):\n",
    "    return 6*x - 10\n",
    "\n",
    "# Choose the x points\n",
    "x = np.array([i for i in range(-1000, 1000)])\n",
    "\n",
    "#Plot the funciton\n",
    "plt.plot(x, f1(x))\n",
    "plt.ylim(-10,100)\n",
    "plt.xlim(-10,10)\n",
    "plt.show()"
   ]
  },
  {
   "cell_type": "code",
   "execution_count": 37,
   "metadata": {},
   "outputs": [
    {
     "data": {
      "image/png": "[encoded data removed]",
      "text/plain": [
       "<Figure size 432x288 with 1 Axes>"
      ]
     },
     "metadata": {},
     "output_type": "display_data"
    },
    {
     "name": "stdout",
     "output_type": "stream",
     "text": [
      "Local min of function is 1.666471\n",
      "Number of iterations: 30\n"
     ]
    },
    {
     "data": {
      "text/plain": [
       "<Figure size 432x288 with 0 Axes>"
      ]
     },
     "metadata": {},
     "output_type": "display_data"
    }
   ],
   "source": [
    "# Gradient Descent\n",
    "\n",
    "x0 = -7                                  # starting point for gradient descent\n",
    "eta = 0.05                             # step size (a.k.a learning rate)\n",
    "p = .0001                              # chosen precision\n",
    "maxIter = 50                             # maximum number of iterations\n",
    "\n",
    "former_min = x0\n",
    "iterative_mins = [former_min]\n",
    "iterCounter = 1\n",
    "\n",
    "while True:\n",
    "    new_min = former_min - eta * grad_f1(former_min)\n",
    "    \n",
    "    iterative_mins.append(new_min)\n",
    "    if abs(former_min - new_min) <= p:\n",
    "        print('Local min of function is %f' %new_min)\n",
    "        print('Number of iterations: %d' %iterCounter)\n",
    "        break\n",
    "    else:\n",
    "        former_min = new_min\n",
    "        \n",
    "    if iterCounter == maxIter:\n",
    "        print('Local min not reached')\n",
    "        break\n",
    "    else:\n",
    "        iterCounter += 1       \n",
    "\n",
    "    plt.figure(0)\n",
    "    plt.plot(x, f1(x), lw=3)\n",
    "    plt.ylim(-10,100)\n",
    "    plt.xlim(-10,10)\n",
    "    plt.title('Iterative descent to x for f1(x) minimum:'+str(new_min))\n",
    "    \n",
    "    plt.plot(iterative_mins, f1(np.array(iterative_mins)), marker='o')\n",
    "    show_animation(0.5)"
   ]
  },
  {
   "cell_type": "code",
   "execution_count": 38,
   "metadata": {},
   "outputs": [
    {
     "data": {
      "image/png": "[encoded data removed]",
      "text/plain": [
       "<Figure size 432x288 with 1 Axes>"
      ]
     },
     "metadata": {},
     "output_type": "display_data"
    }
   ],
   "source": [
    "plt.plot(iterative_mins)\n",
    "plt.title(\"Iterative change in x for f1(x) minimum\")\n",
    "plt.show()"
   ]
  },
  {
   "cell_type": "markdown",
   "metadata": {},
   "source": [
    "**Question 3**: This code uses an infinite ```while``` loop.  Two different conditions break this loop and ensures that the loop will not run forever. What are those conditions?"
   ]
  },
  {
   "cell_type": "markdown",
   "metadata": {},
   "source": [
    "**Your answer: ** iteration and precision"
   ]
  },
  {
   "cell_type": "markdown",
   "metadata": {},
   "source": [
    "**Question 4**: Please describe how the process depends on the learning rate (```eta``` or $η$) parameter (i.e. what happens if too small or too large). "
   ]
  },
  {
   "cell_type": "markdown",
   "metadata": {},
   "source": [
    "**Your answer: ** if eta is small, the learning process is small. if eta is large, the learning process will not converge, probably oscillate back and forth I guess"
   ]
  },
  {
   "cell_type": "markdown",
   "metadata": {},
   "source": [
    "**Question 5**: After the minimum is computed, why is the word \"**local**\" used?"
   ]
  },
  {
   "cell_type": "markdown",
   "metadata": {},
   "source": [
    "**Your answer: ** Even though we got the minimum as shown, it does not guarantte it is a global minimum."
   ]
  },
  {
   "cell_type": "markdown",
   "metadata": {},
   "source": [
    "**Question 6**: Explain the logic behind the minimization algorithm above. "
   ]
  },
  {
   "cell_type": "markdown",
   "metadata": {},
   "source": [
    "**Your answer: **\n",
    "Gradient descent is a first-order iterative optimization algorithm for finding the minimum of a function. To find a local minimum of a function using gradient descent, one takes steps proportional to the negative of the gradient (or approximate gradient) of the function at the current point.\n"
   ]
  },
  {
   "cell_type": "markdown",
   "metadata": {},
   "source": [
    "----\n",
    "### 5. Multi-variable Linear Regression\n",
    "\n",
    "### More Math\n",
    "\n",
    "** Math fact:** If $J : \\mathbb{R}^m \\longrightarrow \\mathbb{R}$ is a real-valued function of $m$ variables $\\theta_1 ,\\ldots, \\theta_m$, then **minus** its gradient \n",
    "\n",
    "$$-\\nabla J = -\\left[\\begin{matrix} \\frac{\\partial }{\\partial \\theta_1} \\\\ \\vdots \\\\ \\frac{\\partial}{\\partial \\theta_m}\\end{matrix}\\right] $$\n",
    "\n",
    "indicates the direction of **steepest descent** at $\\theta$. That is, starting at $\\theta$, the direction along which the function $J$ decreases the fastest. The gradient descent method attemps to find a local minimum of $J$ by first fixing a learning rate $\\eta > 0$, an initial point $\\theta^0 \\in \\mathbb{R}^m$, and producing a sequence of points\n",
    "\n",
    "$$\\theta^{n+1} = \\theta^n - \\eta \\cdot \\nabla J(\\theta^n) \\;\\;\\; , \\;\\;\\;\\; n=0,1,\\ldots $$\n",
    "\n",
    "which, under favorable conditions, converge to a **local** minimizer for $J$.\n"
   ]
  },
  {
   "cell_type": "markdown",
   "metadata": {},
   "source": [
    "### Gradient Calculation for the above linear fit problem:\n",
    "$$MSE(W,b)=\\frac{1}{L} \\sum_{i=1}^L (y_i - (w \\cdot x_i + b))^2$$"
   ]
  },
  {
   "cell_type": "markdown",
   "metadata": {},
   "source": [
    "** The partial derivatives of MSE with respect to $w$ and $b$ are: **\n",
    "\n",
    "\n",
    "$$\\frac{\\partial}{\\partial w} MSE =  \\frac{2}{L} \\sum_{i=1}^{L}-x_i(y_i-(wx_i+b))  $$\n",
    "\n",
    "$$\\frac{\\partial}{\\partial b} MSE =  \\frac{2}{L} \\sum_{i=1}^{L}-(y_i-(wx_i+b))  $$\n",
    "\n",
    "The negative Gradient is:\n",
    "\n",
    "$$-\\nabla MSE = -\\left[\\begin{matrix} \\frac{\\partial}{\\partial w} \\\\ \\frac{\\partial}{\\partial b}\\end{matrix}\\right] MSE ,$$\n",
    "\n",
    "\n",
    "** thus, estimating the next value based on the current can be calculated by: **\n",
    "\n",
    "$$w^{n+1} = w^n - \\eta \\cdot \\frac{2}{L} \\sum_{i=1}^{L}-x_i(y_i-(wx_i+b)) $$ \n",
    "\n",
    "$$b^{n+1} = b^n - \\eta \\cdot \\frac{2}{L} \\sum_{i=1}^{L}-(y_i-(wx_i+b)) $$\n",
    "\n",
    "** Complete the code in the cell below for calculating gradietns. **"
   ]
  },
  {
   "cell_type": "code",
   "execution_count": 61,
   "metadata": {},
   "outputs": [],
   "source": [
    "def gradient(b_current, w_current, x, y):\n",
    "    # Your code:\n",
    "    L = len(x)\n",
    "    b_gradient = 0\n",
    "    w_gradient = 0\n",
    "    for i in range(L):\n",
    "        w_gradient = w_gradient - x[i]*(y[i]-(w_current*x[i]+b_current))\n",
    "        b_gradient = b_gradient - (y[i]-(w_current*x[i]+b_current))\n",
    "    w_gradient = w_gradient *2 / L\n",
    "    b_gradient = b_gradient *2 / L\n",
    "    \n",
    "    return [b_gradient, w_gradient]"
   ]
  },
  {
   "cell_type": "markdown",
   "metadata": {},
   "source": [
    "Calculate the gradient components using the ```Gradiant``` function:"
   ]
  },
  {
   "cell_type": "code",
   "execution_count": 62,
   "metadata": {},
   "outputs": [
    {
     "name": "stdout",
     "output_type": "stream",
     "text": [
      "-7.163636363636363\n",
      "-38.24727272727272\n"
     ]
    }
   ],
   "source": [
    "[b_gradient, w_gradient] = gradient(b, w, x_data, y_data) \n",
    "\n",
    "print(b_gradient)\n",
    "print(w_gradient)"
   ]
  },
  {
   "cell_type": "markdown",
   "metadata": {},
   "source": [
    "The following uses the $\\eta = 0.001$, ```b_gradient``` and ```w_gradient``` to  cacluate a new estimation for the best $b$ and $w$:"
   ]
  },
  {
   "cell_type": "code",
   "execution_count": 63,
   "metadata": {},
   "outputs": [
    {
     "name": "stdout",
     "output_type": "stream",
     "text": [
      "2 -0.5\n",
      "-7.163636363636363 -38.24727272727272\n",
      "2.0071636363636363 -0.46175272727272726\n"
     ]
    }
   ],
   "source": [
    "eta = 0.001                             # step size (a.k.a learning rate)\n",
    "new_b = b - (eta * b_gradient)\n",
    "new_w = w - (eta * w_gradient)\n",
    "\n",
    "print(b, w)\n",
    "print(b_gradient, w_gradient)\n",
    "print(new_b, new_w)"
   ]
  },
  {
   "cell_type": "markdown",
   "metadata": {},
   "source": [
    "** (1) Base on the 1D gradient descent code given earlier, implement a two-variable gradient descent code to find the b and w for minimal MSE. **\n",
    "\n",
    "** (2) Record the evolution of values of MSE, b, and w during iteration. **"
   ]
  },
  {
   "cell_type": "code",
   "execution_count": 65,
   "metadata": {},
   "outputs": [
    {
     "data": {
      "image/png": "[encoded data removed]",
      "text/plain": [
       "<Figure size 432x288 with 1 Axes>"
      ]
     },
     "metadata": {},
     "output_type": "display_data"
    },
    {
     "name": "stdout",
     "output_type": "stream",
     "text": [
      "Local min of function for b is -0.020881\n",
      "Local min of function for w is 0.857542\n",
      "Number of iterations: 1185\n"
     ]
    },
    {
     "data": {
      "text/plain": [
       "<Figure size 432x288 with 0 Axes>"
      ]
     },
     "metadata": {},
     "output_type": "display_data"
    }
   ],
   "source": [
    "# parameters\n",
    "\n",
    "w = -0.5\n",
    "b = 2\n",
    "\n",
    "p = 0.00001                                \n",
    "maxIter = 3000                            \n",
    "eta = 0.02\n",
    "\n",
    "MSE_evl = []\n",
    "b_evl = []\n",
    "w_evl = []\n",
    "\n",
    "\n",
    "former_b = b\n",
    "former_w = w\n",
    "iterative_mins_b = [former_b]\n",
    "iterative_mins_w = [former_w]\n",
    "\n",
    "iterCounter = 1\n",
    "#[b_gradient, w_gradient] = gradient(former_b,former_w,x_data,y_data)\n",
    "while True:\n",
    "    # Your code:\n",
    "    [b_gradient, w_gradient] = gradient(former_b,former_w,x_data,y_data)\n",
    "    new_b = former_b - (eta * b_gradient)\n",
    "    new_w = former_w - (eta * w_gradient)\n",
    "    \n",
    "    iterative_mins_b.append(new_b)\n",
    "    iterative_mins_w.append(new_w)\n",
    "    \n",
    "    if abs(former_b - new_b) <= p and abs(former_w - new_w) <= p:\n",
    "        print('Local min of function for b is %f' %new_b)\n",
    "        print('Local min of function for w is %f' %new_w)\n",
    "        print('Number of iterations: %d' %iterCounter)\n",
    "        break\n",
    "    else:\n",
    "        former_b = new_b\n",
    "        former_w = new_w\n",
    "        \n",
    "    if iterCounter == maxIter:\n",
    "        print('Local min not reached')\n",
    "        break\n",
    "    else:\n",
    "        iterCounter += 1    \n",
    "    \n",
    "    b_evl.append(new_b)\n",
    "    w_evl.append(new_w)\n",
    "    error = MSE(new_b,new_w,x_data, y_data)\n",
    "    MSE_evl.append(error)\n",
    "    \n",
    "    # plotting    \n",
    "    if iterCounter%50 == 0:\n",
    "        plt.scatter(x_data,y_data)\n",
    "        x_range = np.array([i for i in range(0, 8)])\n",
    "        y_range = new_w*x_range + new_b\n",
    "        plt.plot(x_range,y_range)\n",
    "        plt.title('Iteration:'+str(iterCounter))\n",
    "        show_animation()"
   ]
  },
  {
   "cell_type": "markdown",
   "metadata": {},
   "source": [
    "**Plot the evolution of MSE, b, and w. **"
   ]
  },
  {
   "cell_type": "code",
   "execution_count": 67,
   "metadata": {},
   "outputs": [
    {
     "data": {
      "image/png": "[encoded data removed]",
      "text/plain": [
       "<Figure size 720x360 with 3 Axes>"
      ]
     },
     "metadata": {},
     "output_type": "display_data"
    }
   ],
   "source": [
    "plt.figure(figsize = (10,5))\n",
    "plt.subplot(1,3,1)\n",
    "plt.plot(MSE_evl)\n",
    "plt.title('MSE')\n",
    "\n",
    "plt.subplot(1,3,2)\n",
    "plt.plot(b_evl)\n",
    "plt.title('b')\n",
    "\n",
    "plt.subplot(1,3,3)\n",
    "plt.plot(w_evl)\n",
    "plt.title('w')\n",
    "\n",
    "plt.show()"
   ]
  },
  {
   "cell_type": "markdown",
   "metadata": {},
   "source": [
    "**Question 7:** Did you see the evolution of MSE, b and w slowing down over time? Can you think of a reason why the descending becomes sluggish?"
   ]
  },
  {
   "cell_type": "markdown",
   "metadata": {},
   "source": [
    "**Your answer: **\n",
    "Yes, \n",
    "\n",
    "because when the step approaches to local minimum, gradient will be very small, which makes the move slowly.  that is why it is sluggish"
   ]
  },
  {
   "cell_type": "markdown",
   "metadata": {},
   "source": [
    "### Congratulations, we're done!\n",
    "\n",
    "** Don't forget to add your names to the top!!**\n",
    "\n",
    "Log into the course D2L website (d2l.msu.edu) and go to \"Assessments > Assignments > In-class Assignment 20181108\"."
   ]
  },
  {
   "cell_type": "code",
   "execution_count": null,
   "metadata": {
    "collapsed": true
   },
   "outputs": [],
   "source": []
  }
 ],
 "metadata": {
  "kernelspec": {
   "display_name": "Python 3",
   "language": "python",
   "name": "python3"
  },
  "language_info": {
   "codemirror_mode": {
    "name": "ipython",
    "version": 3
   },
   "file_extension": ".py",
   "mimetype": "text/x-python",
   "name": "python",
   "nbconvert_exporter": "python",
   "pygments_lexer": "ipython3",
   "version": "3.6.5"
  }
 },
 "nbformat": 4,
 "nbformat_minor": 2
}
