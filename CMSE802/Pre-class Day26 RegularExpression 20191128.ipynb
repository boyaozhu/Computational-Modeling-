{
 "cells": [
  {
   "cell_type": "markdown",
   "metadata": {},
   "source": [
    "# CMSE 802 Pre-class assignment: Regular Expression\n",
    "## Date: 11/27/2018\n",
    "## Due: 11/28/2018; 10:30 PM\n",
    "\n",
    "### The goal of this assignment is to introduce regular expression."
   ]
  },
  {
   "cell_type": "markdown",
   "metadata": {},
   "source": [
    "---\n",
    "### Your name: Boyao Zhu"
   ]
  },
  {
   "cell_type": "markdown",
   "metadata": {},
   "source": [
    "---\n",
    "\n",
    "### Regular Expressions and the **re** library\n",
    "\n",
    "Regular expressions (also referred to as **regex** or **regexp**) can be thought of as a powerful  language for pattern matching in text. The python module **re** provides support for regular expressions. A typical regular expression search in python looks like\n",
    "\n",
    "$$\\mathsf{match = re.search(pattern, text) } $$\n",
    "where\n",
    "</p>\n",
    "1. pattern: is a string with the instructions of what to look for and how to look for it\n",
    "1. text: is a string on which the pattern matching will be performed \n",
    "\n",
    "In particular, the $\\mathsf{re.search(pattern, text)}$ method returns a match object if the search pattern was found within the text, and None otherwise.\n",
    "\n",
    "---\n",
    "\n",
    "Try it for yourself:"
   ]
  },
  {
   "cell_type": "code",
   "execution_count": 1,
   "metadata": {},
   "outputs": [
    {
     "name": "stdout",
     "output_type": "stream",
     "text": [
      "None\n",
      "<_sre.SRE_Match object; span=(3, 8), match='green'>\n"
     ]
    }
   ],
   "source": [
    "import re\n",
    "\n",
    "text = 'Go green, go white!'\n",
    "\n",
    "match1 = re.search('MSU', text )\n",
    "\n",
    "match2 = re.search('green', text )\n",
    "\n",
    "print(match1)\n",
    "print(match2)"
   ]
  },
  {
   "cell_type": "markdown",
   "metadata": {},
   "source": [
    "The power of regular expressions comes from the fact that the pattern can contain not only **regular characters** such as 'g' and 'M', but also **metacharacters** such as \\d (any digit), \\s (white space), \\w (alphanumeric), \\W (non-alphanumeric); and **quantifiers** such as * (zero or more occurrences), + (one or more occurences) and ? (at most one occurence). Here is an example that finds the word cat followed by a dash and any alphanumeric set:"
   ]
  },
  {
   "cell_type": "code",
   "execution_count": 2,
   "metadata": {},
   "outputs": [
    {
     "name": "stdout",
     "output_type": "stream",
     "text": [
      "found word-cat\n"
     ]
    }
   ],
   "source": [
    "text = 'an example word-cat!!'\n",
    "\n",
    "match = re.search('word-\\w*', text)\n",
    "\n",
    "# If-statement after search() tests if it succeeded\n",
    "if match:                      \n",
    "    print('found', match.group()) ## 'found word:cat'\n",
    "else:\n",
    "    print('did not find')"
   ]
  },
  {
   "cell_type": "markdown",
   "metadata": {},
   "source": [
    "** In the code above, replace the quantifier * by another quantifier so that the result includes any single alphanumeric character after the dash (ex: word-c). **"
   ]
  },
  {
   "cell_type": "code",
   "execution_count": 9,
   "metadata": {},
   "outputs": [
    {
     "name": "stdout",
     "output_type": "stream",
     "text": [
      "found word-c\n"
     ]
    }
   ],
   "source": [
    "### Your code here\n",
    "text = 'an example word-cat!!'\n",
    "\n",
    "match = re.search('word-\\w?', text)\n",
    "\n",
    "# If-statement after search() tests if it succeeded\n",
    "if match:                      \n",
    "    print('found', match.group()) ## 'found word:cat'\n",
    "else:\n",
    "    print('did not find')"
   ]
  },
  {
   "cell_type": "markdown",
   "metadata": {},
   "source": [
    "---\n",
    "\n",
    "A good list of regex characters and other expressions can be found here:\n",
    "\n",
    "https://www.shortcutfoo.com/app/dojos/python-regex/cheatsheet\n",
    "\n",
    "---\n",
    "\n",
    "Here is another example: Say you want to find the domain for all email addresses in a text string. Here is a solution:\n",
    "\n"
   ]
  },
  {
   "cell_type": "code",
   "execution_count": 10,
   "metadata": {},
   "outputs": [
    {
     "data": {
      "text/plain": [
       "['@google', '@msu']"
      ]
     },
     "execution_count": 10,
     "metadata": {},
     "output_type": "execute_result"
    }
   ],
   "source": [
    "text = 'purple alice-b@google.com monkey dishwasher sparty@msu.edu'\n",
    "\n",
    "match = re.findall('@\\w+', text)\n",
    "\n",
    "match"
   ]
  },
  {
   "cell_type": "markdown",
   "metadata": {},
   "source": [
    "The method $\\mathsf{findall}$ returns a list of strings with all the matches found. If not matches are found, then it returns the empty list [] .\n",
    "\n",
    "---\n",
    "\n",
    "The final point I would like to make is the following: Since the search pattern in a regular expression is essentially a set of instructions (i.e., a program) then one can compile it, which is advantageous if the same search pattern is going to be used several times. The methods from the library **re** can then be applied to the compiled pattern:"
   ]
  },
  {
   "cell_type": "code",
   "execution_count": 11,
   "metadata": {},
   "outputs": [
    {
     "data": {
      "text/plain": [
       "[('example.', 'com'), ('gmail.', 'com'), ('mail.example.', 'com')]"
      ]
     },
     "execution_count": 11,
     "metadata": {},
     "output_type": "execute_result"
    }
   ],
   "source": [
    "pattern = re.compile('@([\\w\\d.]+\\.)+(com|org|edu)')\n",
    "\n",
    "text = 'This is a list of email addresses: first.last@example.com, first.last+category@gmail.com,  valid-address@mail.example.com,  not-valid@example.foo'\n",
    "\n",
    "pattern.findall(text)"
   ]
  },
  {
   "cell_type": "markdown",
   "metadata": {},
   "source": [
    "**Question:** Why is 'not-valid@example.foo' discarded?"
   ]
  },
  {
   "cell_type": "markdown",
   "metadata": {},
   "source": [
    "**Your answer: ** because it does not come with com\n"
   ]
  },
  {
   "cell_type": "markdown",
   "metadata": {},
   "source": [
    "---\n",
    "### Video: Mechanics of regular expressions\n",
    "Please Watch the video below"
   ]
  },
  {
   "cell_type": "code",
   "execution_count": 12,
   "metadata": {
    "scrolled": true
   },
   "outputs": [
    {
     "data": {
      "image/jpeg": "[encoded data removed]",
      "text/html": [
       "\n",
       "        <iframe\n",
       "            width=\"640\"\n",
       "            height=\"360\"\n",
       "            src=\"https://www.youtube.com/embed/UR6a_wZ8ido\"\n",
       "            frameborder=\"0\"\n",
       "            allowfullscreen\n",
       "        ></iframe>\n",
       "        "
      ],
      "text/plain": [
       "<IPython.lib.display.YouTubeVideo at 0x10557b630>"
      ]
     },
     "execution_count": 12,
     "metadata": {},
     "output_type": "execute_result"
    }
   ],
   "source": [
    "from IPython.display import YouTubeVideo\n",
    "YouTubeVideo(\"UR6a_wZ8ido\",width=640,height=360)"
   ]
  },
  {
   "cell_type": "markdown",
   "metadata": {},
   "source": [
    "---\n",
    "\n",
    "**Question:** What questions do you have about regular expressions?"
   ]
  },
  {
   "cell_type": "markdown",
   "metadata": {},
   "source": [
    "**Your answer: **"
   ]
  },
  {
   "cell_type": "markdown",
   "metadata": {},
   "source": [
    "---\n",
    "\n",
    "###  Other Useful resources\n",
    "\n",
    "https://docs.python.org/3/howto/regex.html\n",
    "\n",
    "http://www.pyregex.com/\n",
    "\n",
    "http://www.bogotobogo.com/python/python_regularExpressions.php\n",
    "\n",
    "http://howardabrams.com/regexp/"
   ]
  },
  {
   "cell_type": "markdown",
   "metadata": {},
   "source": [
    "---\n",
    "### Congratulations, you're done with the pre-class assignment!\n",
    "\n",
    "Now, you just need to submit this assignment by uploading it to the course Desire2Learn web page.  Go to Assessments > Assignments, find the link for Pre-class assignment 20181128, and upload it there.\n",
    "\n",
    "See you in class!"
   ]
  },
  {
   "cell_type": "code",
   "execution_count": null,
   "metadata": {},
   "outputs": [],
   "source": []
  }
 ],
 "metadata": {
  "kernelspec": {
   "display_name": "Python 3",
   "language": "python",
   "name": "python3"
  },
  "language_info": {
   "codemirror_mode": {
    "name": "ipython",
    "version": 3
   },
   "file_extension": ".py",
   "mimetype": "text/x-python",
   "name": "python",
   "nbconvert_exporter": "python",
   "pygments_lexer": "ipython3",
   "version": "3.6.5"
  }
 },
 "nbformat": 4,
 "nbformat_minor": 2
}
