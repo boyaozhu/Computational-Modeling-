{
 "cells": [
  {
   "cell_type": "markdown",
   "metadata": {},
   "source": [
    "# CMSE 802 Pre-class assignment: Introduction to Git\n",
    "## Date: 09/25/2018\n",
    "## Due: 09/26/2018; 10:30 PM\n",
    "\n",
    "### The goal of this assignment is to learn basics of Git."
   ]
  },
  {
   "cell_type": "markdown",
   "metadata": {},
   "source": [
    "---\n",
    "### Your name:  Boyao Zhu"
   ]
  },
  {
   "cell_type": "markdown",
   "metadata": {},
   "source": [
    "----\n",
    "\n",
    "### Introdcution to  Git\n",
    "\n",
    "**Git is probably the standard of version control in software industry and academia. The most popular Git site is Github.**\n",
    "\n",
    "We are going to use GitLab (MSU's version of GitHub) as a platform for learning Git. GitLab is a place for storing code repositories and doing version control using Git. These resources are \"on the cloud\" meaning that anyone with an internet connection and the right access credentials can see the websites.\n",
    "\n",
    "Of course, in order to use GitLab, you need to understand how to use Git.  Watch the video below for an Introduction to Git, and more broadly, to version control."
   ]
  },
  {
   "cell_type": "code",
   "execution_count": 1,
   "metadata": {},
   "outputs": [
    {
     "data": {
      "image/jpeg": "[encoded data removed]",
      "text/html": [
       "\n",
       "        <iframe\n",
       "            width=\"640\"\n",
       "            height=\"360\"\n",
       "            src=\"https://www.youtube.com/embed/mJvgR_crW8w\"\n",
       "            frameborder=\"0\"\n",
       "            allowfullscreen\n",
       "        ></iframe>\n",
       "        "
      ],
      "text/plain": [
       "<IPython.lib.display.YouTubeVideo at 0x104dc1898>"
      ]
     },
     "execution_count": 1,
     "metadata": {},
     "output_type": "execute_result"
    }
   ],
   "source": [
    "from IPython.display import YouTubeVideo\n",
    "YouTubeVideo(\"mJvgR_crW8w\",width=640,height=360)"
   ]
  },
  {
   "cell_type": "markdown",
   "metadata": {},
   "source": [
    "---\n",
    "### Step 1: Create your GitLab account. \n",
    "Go to the gitlab website (https://gitlab.msu.edu) and log in using your MSU NetID and password. Once you log in, a GitLab account will be automatically created for you. When you log in, it may ask you to created a password for accessing repositories via HTTPS, you should do this for the purposes of being able to push and pull repositories."
   ]
  },
  {
   "cell_type": "markdown",
   "metadata": {},
   "source": [
    "---\n",
    "### Step 2: Set ssh-key for your GitLab account.\n",
    "Now, watch the following video and use the ssh-keygen command to set-up your own public/privet keys to access MSU's Gitlab. (A similar procedure can be used to set up private access to github.) ** Note that the current webpage of GitLab may look different from the one shown in the viedo, but you should be able to find relevant menu and tab for setting the ssh-keys. **"
   ]
  },
  {
   "cell_type": "code",
   "execution_count": 1,
   "metadata": {},
   "outputs": [
    {
     "data": {
      "image/jpeg": "[encoded data removed]",
      "text/html": [
       "\n",
       "        <iframe\n",
       "            width=\"640\"\n",
       "            height=\"360\"\n",
       "            src=\"https://www.youtube.com/embed/mAZjoF5JYJQ\"\n",
       "            frameborder=\"0\"\n",
       "            allowfullscreen\n",
       "        ></iframe>\n",
       "        "
      ],
      "text/plain": [
       "<IPython.lib.display.YouTubeVideo at 0x10c4e27f0>"
      ]
     },
     "execution_count": 1,
     "metadata": {},
     "output_type": "execute_result"
    }
   ],
   "source": [
    "from IPython.display import YouTubeVideo\n",
    "YouTubeVideo(\"mAZjoF5JYJQ\",width=640,height=360)"
   ]
  },
  {
   "cell_type": "markdown",
   "metadata": {},
   "source": [
    "If you are curious about what RSA key is and internet security, please see the videos linked below. \n",
    "\n",
    "https://www.youtube.com/watch?v=3QnD2c4Xovk\n",
    "\n",
    "https://www.youtube.com/watch?v=vgTtHV04xRI"
   ]
  },
  {
   "cell_type": "markdown",
   "metadata": {},
   "source": [
    "---\n",
    "### Step 3: Create a Git repository.\n",
    "On MSU GitLab website, create a Git repository. Call this repository USERNAME_git_test, where USERNAME is your MSU NetID. You can click the tab \"New project\" to create the Git repository.\n",
    "\n",
    "**Screen capture the webpage showing that you have created the Git repository. Try to insert the image into this notebook file. You can use syntax like**\n",
    "<pre><code>&lt;img src=\"XXX.jpg\" alt = \"drawing\" width=400 align=\"center\"/></code></pre> \n",
    "\n",
    "**or**\n",
    "\n",
    "<pre><code>![caption](XXX.jpg)</code></pre> \n",
    "\n",
    "**to insert image to the notebook file, where XXX.jpg is the file name of your captured image. If you are unable to insert images in the notebook file, upload them separately. The file name should reflect what it is related to.**\n",
    "\n",
    "\n"
   ]
  },
  {
   "cell_type": "markdown",
   "metadata": {},
   "source": [
    "**Your results:**\n",
    "<img src=\"abc.png\" alt = \"drawing\" width=400 align=\"center\"/>"
   ]
  },
  {
   "cell_type": "markdown",
   "metadata": {},
   "source": [
    "---\n",
    "### Step 4: Create a text file. \n",
    "Now, create a text file \"user-details.txt\" on GitLab repository.\n",
    "\n",
    "Write your name, your email address, and your favorite color and then save the file. GitLab webpage should allow you to do it. \n",
    "\n",
    "** Screen capture the webpage to show that you have created the file on GitLab. **"
   ]
  },
  {
   "cell_type": "markdown",
   "metadata": {},
   "source": [
    "**Your results:**\n",
    "<img src=\"cde.png\" alt = \"drawing\" width=400 align=\"center\"/>"
   ]
  },
  {
   "cell_type": "markdown",
   "metadata": {},
   "source": [
    "---\n",
    "### Step 5: Install Git on your computer.\n",
    "If you are using a Mac, you are lucky. You don't need to install Git because it comes by default. If you are using a PC, there may or may not be Git commands installed in your PC. You can type git help on command line window to see whether your PC respond to the command. If you don't have Git on your PC. You will need to download and install it. You may need to do some google search for how to do it. The link below leads to the website for downloading Git.\n",
    "\n",
    "https://git-scm.com/downloads"
   ]
  },
  {
   "cell_type": "markdown",
   "metadata": {},
   "source": [
    "---\n",
    "### Step 6: Create a local repository on your computer. \n",
    "Create a repository (folder) on your computer. Call this reposity USERNAME_CMSE802_repo.  Use command line (terminal on Mac. For PC, please find equivalent thing) to navigate to that repositoty.\n",
    "\n",
    "1. Clone your GitLab repo (from Step 3) to your computer. You can find the URL of your GitLab repo by selecting the tab between SSH and HTTPS. Screen capture it. \n",
    "1. Initiate your local repo. Use git status to see the status. Copy the text for the status on your terminal or screen capture it.  \n",
    "1. Add new information, such as your address, your phone number, and your department, to the file \"user-details.txt\" in the local repo on your computer. Use git status to see the status. Copy the text for the status on your terminal or screen capture it. \n",
    "1. Use git add user-details.txt to add the change to the repo. Use git status to see the status. Copy the text for the status on your terminal or screen capture it.   \n",
    "1. Add message for the change you include in the file. Use git commit -m \"Add three pieces of new info by USENAME\", where USERNAME is your MSU NetID. Use git status to see the status. Copy the text for the status on your terminal or screen capture it. \n",
    "1. Now, go to your GitLab repo and check the file on server to see whether it has been changed.\n",
    "1. Use git push to push the change to the file on GitLab. Open the file on the webpage. The changes should show up on the file on the cloud. Screen capture it. \n",
    "\n",
    "** If you are unable to include images in the notebook file, organize the results from the 7 tasks above into one file. Put the corresponding result after each step. Choose whatever file format (Jupyter, word, power point etc) is convenient for you (but I should be able to open that file). **"
   ]
  },
  {
   "cell_type": "markdown",
   "metadata": {},
   "source": [
    "**Your results:**\n",
    "<img src=\"edx.png\" alt = \"drawing\" width=400 align=\"center\"/>\n",
    "<img src=\"eee.png\" alt = \"drawing\" width=400 align=\"center\"/>"
   ]
  },
  {
   "cell_type": "markdown",
   "metadata": {},
   "source": [
    "--- \n",
    "### Step 7: Push file to GitLab.\n",
    "1. Create a ReadMe.txt file in you local repo.\n",
    "1. Write your name, department, and what year you are in school in the file.\n",
    "1. Write the name and email of your group partner in the previous in-class assignment.\n",
    "1. Add, commit, and push the file to GitLab repo.\n",
    "\n",
    "** Screen capture the webpage to show that you have accomplished this task on GitLab. **"
   ]
  },
  {
   "cell_type": "markdown",
   "metadata": {},
   "source": [
    "**Your results:**\n",
    "<img src=\"ert.png\" alt = \"drawing\" width=400 align=\"center\"/>"
   ]
  },
  {
   "cell_type": "markdown",
   "metadata": {},
   "source": [
    "---\n",
    "### Step 8: What have you learned?\n",
    "Based on what have you learned about Git, create a question for the class. Consider this is a challege to yourself. Make your question sophisticated, not a trivial one.  We will see how other students score in answering your question.   "
   ]
  },
  {
   "cell_type": "markdown",
   "metadata": {},
   "source": [
    "**Your answer: ** How to operate Git on terminal\n"
   ]
  },
  {
   "cell_type": "markdown",
   "metadata": {},
   "source": [
    "---\n",
    "### Congratulations, you're done with your pre-class assignment!\n",
    "\n",
    "Now, you just need to submit this assignment by uploading it to the course Desire2Learn web page.  Go to Assessments > Assignments, find the link for Pre-class assignment 20180927, and upload it there.\n",
    "\n",
    "**Do not forget to provide your captured images with this notebook file.**\n",
    "**Please keep a copy the code. We will reuse the code in the class.**\n",
    "\n",
    "See you in class!"
   ]
  },
  {
   "cell_type": "code",
   "execution_count": null,
   "metadata": {},
   "outputs": [],
   "source": []
  }
 ],
 "metadata": {
  "kernelspec": {
   "display_name": "Python 3",
   "language": "python",
   "name": "python3"
  },
  "language_info": {
   "codemirror_mode": {
    "name": "ipython",
    "version": 3
   },
   "file_extension": ".py",
   "mimetype": "text/x-python",
   "name": "python",
   "nbconvert_exporter": "python",
   "pygments_lexer": "ipython3",
   "version": "3.6.5"
  }
 },
 "nbformat": 4,
 "nbformat_minor": 2
}
