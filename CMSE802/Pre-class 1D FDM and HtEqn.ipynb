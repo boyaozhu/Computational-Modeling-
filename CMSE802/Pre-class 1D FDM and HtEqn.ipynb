{
 "cells": [
  {
   "cell_type": "markdown",
   "metadata": {},
   "source": [
    "# CMSE 802 Pre-class assignment: Finite Difference Method \n",
    "## Date: 09/04/2018\n",
    "## Due: 09/05/2018; 10:30 PM\n",
    "### The goal of this assignment is to get you familar with the concept of the finite difference method and the heat equation. Upon finishing this assignment, you should have some ideas of the finite difference method that will be used in our incoming in-class assignment on Thursday (09/06/2018)."
   ]
  },
  {
   "cell_type": "markdown",
   "metadata": {},
   "source": [
    "---\n",
    "### First, let us recall what a derivative is from our high school calculus class. \n",
    "\n",
    "Please watch the Youtube video."
   ]
  },
  {
   "cell_type": "code",
   "execution_count": 1,
   "metadata": {},
   "outputs": [
    {
     "data": {
      "image/jpeg": "[encoded data removed]",
      "text/html": [
       "\n",
       "        <iframe\n",
       "            width=\"640\"\n",
       "            height=\"360\"\n",
       "            src=\"https://www.youtube.com/embed/rAof9Ld5sOg\"\n",
       "            frameborder=\"0\"\n",
       "            allowfullscreen\n",
       "        ></iframe>\n",
       "        "
      ],
      "text/plain": [
       "<IPython.lib.display.YouTubeVideo at 0x106541810>"
      ]
     },
     "execution_count": 1,
     "metadata": {},
     "output_type": "execute_result"
    }
   ],
   "source": [
    "from IPython.display import YouTubeVideo\n",
    "YouTubeVideo(\"rAof9Ld5sOg\",width=640,height=360)"
   ]
  },
  {
   "cell_type": "markdown",
   "metadata": {},
   "source": [
    "So, if the change in x becomes zero (h is infinitesimally small), the slope is the derivative calculated analytically. When the size of h is finite, the derivative is no longer analytical. The way to calculate the derivative is called **the finite difference method**. It is probably the least complicated method in numerically solving partial differential equations."
   ]
  },
  {
   "cell_type": "markdown",
   "metadata": {},
   "source": [
    "---\n",
    "### Finite Difference Method\n",
    "\n",
    "As in the video, the **Forward differencing** at $x_0$ is\n",
    "\n",
    "$$ f'(x_0) =  \\frac{f(x_0 + h) - f(x_0)}{h}, $$\n",
    "\n",
    "where the 1st derviative is taken between points $x_0$ and $x_0 + h$. See the figure below for illustration.\n",
    " \n",
    "<img src=\"DFM_Fig1.jpg\",width=400, height=400 />\n",
    "\n",
    "Similarly, we can take a point at $x_0 - h$ to calculate the **backward differecing**:\n",
    "\n",
    "$$ f'(x_0) =  \\frac{f(x_0) - f(x_0 - h) }{h} .$$\n",
    "\n",
    "\n",
    "### Task 1\n",
    "**For funcion $f(x) = x^2$, calculate the value of analytical derivative at $x = 3$, and the values of forward and backward differences at the same point with $h = 0.1$ in the cell below.**"
   ]
  },
  {
   "cell_type": "code",
   "execution_count": 5,
   "metadata": {},
   "outputs": [
    {
     "name": "stdout",
     "output_type": "stream",
     "text": [
      "analytical derivative of x_^2 is 6\n",
      "forward difference is 6.1\n",
      "backward difference is 5.9\n"
     ]
    }
   ],
   "source": [
    "# your code here\n",
    "\n",
    "# forward method\n",
    "def f(x):\n",
    "    return x**2\n",
    "\n",
    "def f_prime(x):\n",
    "    return 2*x\n",
    "\n",
    "\n",
    "print \"analytical derivative of x_^2 is\", f_prime(3)\n",
    "\n",
    "x = 3\n",
    "h = 0.1\n",
    "\n",
    "f_prime_forward = (f(x+h) - f(x))/h\n",
    "print \"forward difference is\", f_prime_forward\n",
    "\n",
    "# backwawrd method\n",
    "f_prime_backward = (f(x) - f(x-h))/h\n",
    "print \"backward difference is\", f_prime_backward\n"
   ]
  },
  {
   "cell_type": "markdown",
   "metadata": {},
   "source": [
    "--- \n",
    "You should notice that the numerically calculated derivative is different from the analytical one. There is an error between them. How to quantify the error? Let's start with **Taylor series**.  \n",
    "\n",
    "A Taylor series is an series expansion of a function about a point. For example, for a function $f(x)$ about a point $x_0$, the Taylor series is \n",
    "\n",
    "$$f(x) = f(x_0) + \\frac{f'(x_0)}{1!} (x-x_0) + \\frac{f''(x_0)}{2!} (x-x_0)^2 + \\frac{f'''(x_0)}{3!} (x-x_0)^3 + ......... + \\frac{f^{(n)}(x_0)}{n!} (x-x_0)^n +  .........,$$\n",
    "\n",
    "meaning $f(x)$ is rewritten as its Taylor series in the proximity of $x_0$. Using Taylor series, the value of the function at $x_0 + h$ can be obtained as \n",
    "\n",
    "$$f(x_0 + h) = f(x_0) + \\frac{f'(x_0)}{1!} h + \\frac{f''(x_0)}{2!} h^2 + \\frac{f'''(x_0)}{3!} h^3 + ......... + \\frac{f^{(n)}(x_0)}{n!} h^n  + .........,$$\n",
    "\n",
    "where $h$ is a small value.\n",
    "\n",
    "### First derivative \n",
    "\n",
    "We can rearrange the equation such that\n",
    "\n",
    "$$f(x_0 + h) - f(x_0) = \\frac{f'(x_0)}{1!} h + \\frac{f''(x_0)}{2!} h^2 + ..... $$\n",
    "\n",
    "and divide both sides by $h$:\n",
    "\n",
    "$$ \\frac{ f(x_0 + h) - f(x_0)}{h} = \\frac{f'(x_0)}{1!} + \\frac{f''(x_0)}{2!} h + ..... \n",
    "~~~\\Longrightarrow~~~ f'(x_0) =  \\frac{f(x_0 + h) - f(x_0)}{h} - \\mathcal{O}(h)$$\n",
    "\n",
    "where $\\mathcal{O}(h)$ is **the truncation error** in the finite difference method. Because $h$ is a small value, the leading term in the truncation err is \n",
    "\n",
    "$$\\mathcal{O}(h) = \\frac{f''(x_0)}{2!} h + .........$$\n",
    "\n",
    "Thus, the truncation error is proportional to $h$. Similarly, the truncation error for the backward differencing can be estimated using the following equation:\n",
    "\n",
    "$$ \\frac{ f(x_0) - f(x_0-h)}{h} = \\frac{f'(x_0)}{1!} - \\frac{f''(x_0)}{2!} h + ..... \n",
    "~~~\\Longrightarrow~~~ f'(x_0) =  \\frac{f(x_0) - f(x_0-h)}{h} + \\mathcal{O}(h),$$\n",
    "which is also proportional to $h$.\n",
    "\n",
    "\n",
    "\n",
    "The **central differencing** is calculated between $x_0-h$ and $x_0 + h$: \n",
    "\n",
    "$$ f'(x_0) =  \\frac{f(x_0 + h) - f(x_0-h)}{2h}. $$\n",
    "\n",
    "See the illustion below.\n",
    "\n",
    "<img src=\"DFM_Fig2.jpg\",width=400, height=400 />\n",
    "\n",
    "We can subtract the two Taylor series at $x_0+h$ and $x_0 - h$:\n",
    "\n",
    "$$f(x_0 + h) = f(x_0) + \\frac{f'(x_0)}{1!} h + \\frac{f''(x_0)}{2!} h^2 + \\frac{f'''(x_0)}{3!} h^3 + ......... + \\frac{f^{(n)}(x_0)}{n!} h^n + .........,$$\n",
    "\n",
    "$$f(x_0 - h) = f(x_0) - \\frac{f'(x_0)}{1!} h + \\frac{f''(x_0)}{2!} h^2 - \\frac{f'''(x_0)}{3!} h^3 + ......... + \\frac{f^{(n)}(x_0)}{n!} h^n + .........,$$\n",
    "\n",
    "to obtain\n",
    "\n",
    "$$ f(x_0 + h) - f(x_0 - h)  = 2 f'(x_0) h + 2 \\frac{f'''(x_0)}{3!} h^3 + ........$$\n",
    "\n",
    "$$ \\Longrightarrow~~~ f'(x_0) = \\frac{f(x_0 - h) - f(x_0 + h) }{2h} + \\mathcal{O}(h^2).$$\n",
    "\n",
    "The truncation error is proportional to $h^2$ for the central differencing scheme.\n",
    "\n",
    "### Task 2\n",
    "**Calculate the first derivative using the central difference for $f(x)= x^2$ at $x=3$ with $h=0.1$ in the cell below.**"
   ]
  },
  {
   "cell_type": "code",
   "execution_count": 7,
   "metadata": {},
   "outputs": [
    {
     "name": "stdout",
     "output_type": "stream",
     "text": [
      "central difference of the first derivative is 6.0\n"
     ]
    }
   ],
   "source": [
    "# your code here\n",
    "f_prime_central = (f(x+h) - f(x-h))/(2*h)\n",
    "print \"central difference of the first derivative is\", f_prime_central\n"
   ]
  },
  {
   "cell_type": "markdown",
   "metadata": {},
   "source": [
    "---\n",
    "\n",
    "### Second derivative\n",
    "\n",
    "For the second derivative in the finite difference method, we sum the two equations below\n",
    "\n",
    "$$f(x_0 + h) = f(x_0) + \\frac{f'(x_0)}{1!} h + \\frac{f''(x_0)}{2!} h^2 + \\frac{f'''(x_0)}{3!} h^3 + ......... + \\frac{f^{(n)}(x_0)}{n!} h^n + .........,$$\n",
    "\n",
    "$$f(x_0 - h) = f(x_0) - \\frac{f'(x_0)}{1!} h + \\frac{f''(x_0)}{2!} h^2 - \\frac{f'''(x_0)}{3!} h^3 + ......... + \\frac{f^{(n)}(x_0)}{n!} h^n + .........,$$\n",
    "\n",
    "to obtain\n",
    "\n",
    "$$ f(x_0 + h) - f(x_0) + f(x_0 - h) -  f(x_0) = f''(x_0) h^2 + .........$$\n",
    "\n",
    "\n",
    "$$ \\Longrightarrow~~~ f''(x_0) = \\frac{f(x_0 - h) - 2 f(x_0) + f(x_0 + h)}{h^2} + \\mathcal{O}(h^?).$$"
   ]
  },
  {
   "cell_type": "markdown",
   "metadata": {},
   "source": [
    "### Task 3\n",
    "**What is value of $?$ (the order of the leading term) above in the truncation error of the second derivative in the finite difference method?**"
   ]
  },
  {
   "cell_type": "markdown",
   "metadata": {},
   "source": [
    "**Your answer:**  2"
   ]
  },
  {
   "cell_type": "markdown",
   "metadata": {
    "collapsed": true
   },
   "source": [
    "### Task 4\n",
    "**Let's calculate the 1st derivative of $f(x) = 3 x^3$ at $x=1.4$ for $h = 0.01, 0.02, 0.04, 0.08, 0.16$, and $0.32$, using the forward, backward and central differencing.  Write your code in the cell below. **\n",
    "\n",
    "Compare the results to the analytical one: $f'(x) = 9 x^2$. **Plot the error (absolute value) between the finite difference and analytical values for different $h$. Verify whether the error of forward and backward differencing is proportional to $h$, and that of central differencing is proportional to $h^2$.**"
   ]
  },
  {
   "cell_type": "code",
   "execution_count": 19,
   "metadata": {},
   "outputs": [
    {
     "name": "stdout",
     "output_type": "stream",
     "text": [
      "forward difference at x = 1.4 for various h are  [ 17.7663  17.8932  18.1488  18.6672  19.7328  21.9792]\n",
      "backward difference at x = 1.4 for various h are  [ 17.5143  17.3892  17.1408  16.6512  15.7008  13.9152]\n",
      "central difference at x = 1.4 for various h are  [ 17.6403  17.6412  17.6448  17.6592  17.7168  17.9472]\n",
      "analytical value is  17.64\n"
     ]
    },
    {
     "data": {
      "text/plain": [
       "Text(0.5,0,u'error')"
      ]
     },
     "execution_count": 19,
     "metadata": {},
     "output_type": "execute_result"
    },
    {
     "data": {
      "image/png": "[encoded data removed]",
      "text/plain": [
       "<matplotlib.figure.Figure at 0x10e196c10>"
      ]
     },
     "metadata": {},
     "output_type": "display_data"
    }
   ],
   "source": [
    "import matplotlib.pyplot as plt\n",
    "%matplotlib inline\n",
    "import numpy as np\n",
    "\n",
    "# your code here\n",
    "x = 1.4\n",
    "h = np.array([0.01, 0.02, 0.04, 0.08, 0.16, 0.32])\n",
    "\n",
    "def f(x):\n",
    "    return 3*x**3\n",
    "def f_prime(x):\n",
    "    return 9*x**2\n",
    "\n",
    "# forward method\n",
    "f_prime_forward = (f(x+h) - f(x))/h\n",
    "print \"forward difference at x = 1.4 for various h are \",f_prime_forward\n",
    "\n",
    "# backward method\n",
    "f_prime_backward = (f(x) - f(x-h))/h\n",
    "print \"backward difference at x = 1.4 for various h are \",f_prime_backward\n",
    "\n",
    "# central method\n",
    "f_prime_central = (f(x+h) - f(x-h))/(2*h)\n",
    "print \"central difference at x = 1.4 for various h are \", f_prime_central\n",
    "\n",
    "# analytical derivative\n",
    "print \"analytical value is \",f_prime(x)\n",
    "\n",
    "\n",
    "# error analysis\n",
    "error_forward = abs(f_prime_forward - f_prime(x))\n",
    "error_backward = abs(f_prime_backward - f_prime(x))\n",
    "error_central = abs(f_prime_central - f_prime(x))\n",
    "\n",
    "plt.plot(h,error_forward,\"r\",label=\"forward difference\")\n",
    "plt.plot(h,error_backward,\"b\",label=\"backward difference\")\n",
    "plt.plot(h,error_central,\"g\",label=\"central difference\")\n",
    "plt.legend()\n",
    "\n",
    "plt.xlabel(\"h\")\n",
    "plt.xlabel(\"error\")"
   ]
  },
  {
   "cell_type": "markdown",
   "metadata": {},
   "source": [
    "### Task 5\n",
    "We seed 21 equal-spaced points (**grid point for the finite difference method**) between $0$ and $2$: Point 0 at $x=0$, and Point 20 at $x=2$. For the function $f(x) = 3x^3$, let's calculate the 1st derivatives using central differencing scheme, and the second derivatives at points 1 through 19.  \n",
    "\n",
    "We can use the function \"linspace\" to set the series of $x$ values (positions of grid points). "
   ]
  },
  {
   "cell_type": "code",
   "execution_count": 23,
   "metadata": {},
   "outputs": [
    {
     "data": {
      "text/plain": [
       "Text(0,0.5,u'f')"
      ]
     },
     "execution_count": 23,
     "metadata": {},
     "output_type": "execute_result"
    },
    {
     "data": {
      "image/png": "[encoded data removed]",
      "text/plain": [
       "<matplotlib.figure.Figure at 0x10e48a690>"
      ]
     },
     "metadata": {},
     "output_type": "display_data"
    }
   ],
   "source": [
    "import numpy as np\n",
    "import matplotlib.pyplot as plt\n",
    "%matplotlib inline\n",
    "\n",
    "# seed 21 points in the range between 0 and 2\n",
    "x = np.linspace(0,2,21)\n",
    "\n",
    "# the space between grid points\n",
    "h = x[2]-x[1]\n",
    "\n",
    "# write your code below\n",
    "# use loop to calculate the \n",
    "def f(x):\n",
    "    return 3*x**3\n",
    "def f_prime(x):\n",
    "    return 9*x**2\n",
    "def f_doubleprime(x):\n",
    "    return 9*x\n",
    "\n",
    "f_prime_central = (f(x+h) - f(x-h))/(2*h)\n",
    "\n",
    "f_prime_prime   = (f(x-h) - 2*f(x) + f(x+h))/(h**2)\n",
    "\n",
    "f_prime = f_prime(x)\n",
    "\n",
    "f_doubleprime = f_doubleprime(x)\n",
    "\n",
    "# plot the calculated values\n",
    "plt.plot(x,f_prime,\"b\",label=\"analytical 1st order derivative\")\n",
    "plt.plot(x,f_prime_central,\"r:\",label=\"central 1st order derivative\")\n",
    "plt.plot(x,f_doubleprime,\"b\",label=\"analytical 2st order derivative\")\n",
    "plt.plot(x,f_prime_prime,\"r:\",label=\"numerical 2st order derivative\")\n",
    "plt.legend()\n",
    "\n",
    "plt.xlabel(\"x\")\n",
    "plt.ylabel(\"f\")\n",
    "\n"
   ]
  },
  {
   "cell_type": "markdown",
   "metadata": {},
   "source": [
    "---\n",
    "## Heat equation\n",
    "Joseph Fourier was a French mathematician, and served as Napoleon's science advisor. He was asked to investigate the overheat problems of gun barrels. Over years of research, he developed the Fourier's law of heat conduction. The Fourier's law states that the heat flux is proportional to the negative of the gradient of temperature.\n",
    "\n",
    "$$q = -\\kappa \\nabla T,$$\n",
    "\n",
    "where $q$ is the heat flux (thermal energy across an area per time), $\\kappa$ is the thermal conductivity, and $T$ is temperature. In 2D or 3D, $q$ is a vector. For 1D case, in the $x$ direction\n",
    "\n",
    "$$q = -\\kappa \\frac{\\partial T}{\\partial x} .$$\n",
    "\n",
    "Without heat generation, the difference between incoming and outgoing heat fluxes is the thermal energy trapped in a given volume per unit time (thermal energy change rate).  \n",
    "\n",
    "See the figure below for illustration. \n",
    "<img src=\"ControlVolume.jpg\",width=400, height=400 />\n",
    "\n",
    "The arrows, $q_l$ and $q_r$, are the incoming and outgoing heat fluxes, respectively, and they cross the area $\\Delta y \\Delta z$. The fluxes multiply with the cross-section area are the thermal energy flow in and out per time.\n",
    "\n",
    "The temparature of the volume will change proportionally to thermal energy change rate.\n",
    "\n",
    "$$q_l \\Delta y \\Delta z - q_r \\Delta y \\Delta z  = \\rho C_p \\Delta x \\Delta y \\Delta z \\dot{T},$$\n",
    "\n",
    "where $\\rho$ is the density, and $C_p$ is the heat capacity. The multiplication of $\\rho$, $C_p$, and volume is the coefficient that relates the thermal energy change rate and temperature change rate. \n",
    "\n",
    "\n",
    "\n",
    "For a small $\\Delta x$, $$q_r - q_l = \\frac{\\partial q}{\\partial x} \\Delta x.$$ Thus,\n",
    "$$-\\frac{\\partial q}{\\partial x}  = \\rho C_p \\frac{\\partial T}{\\partial t}.$$ \n",
    "\n",
    "Recall that $$q = -\\kappa \\frac{\\partial T}{\\partial x} ,$$\n",
    "\n",
    "we obtain the Heat equation in 1D:\n",
    "\n",
    "$$\\rho C_p \\frac{\\partial T}{\\partial t} = \\kappa \\frac{\\partial^2 T}{\\partial x^2}.$$"
   ]
  },
  {
   "cell_type": "markdown",
   "metadata": {},
   "source": [
    "### Task 6\n",
    "Let's think about a layer of 0.5 mm in thickness. The influx thermal flux is 195 W/(m$^2$) on one side. The outflux is 180 W/(m$^2$) on the other side. The material's denisty and heat capacity are 4.9 g/cm$^3$ and 200 J/(kg$\\cdot$K), respectively. \n",
    "\n",
    "Initially, the temperature of the thin layer is 340 K. What is the temperature after 30 minutes? Do a simple calculation to estimate it in the cell below. Make sure you have the units consistent. "
   ]
  },
  {
   "cell_type": "code",
   "execution_count": 1,
   "metadata": {},
   "outputs": [
    {
     "name": "stdout",
     "output_type": "stream",
     "text": [
      "395.102040816\n"
     ]
    }
   ],
   "source": [
    "# do your calculation here\n",
    "\n",
    "q_l     = 195\n",
    "q_r     = 180\n",
    "delta_x = 0.0005\n",
    "rho     = 4.9e3\n",
    "C_p     = 200\n",
    "T_0     = 340\n",
    "delta_t = 1800\n",
    "\n",
    "# q_r - q_l = dq/dx * delta_x\n",
    "dq_dx = (q_r - q_l)/delta_x\n",
    "\n",
    "# -dq/dx = rho*C_p* dT/dt\n",
    "dT_dt = -dq_dx/(rho*C_p)\n",
    "\n",
    "T = T_0 + dT_dt * delta_t\n",
    "\n",
    "# print the value\n",
    "print (T)"
   ]
  },
  {
   "cell_type": "markdown",
   "metadata": {},
   "source": [
    "### Assignment wrap-up\n",
    "\n",
    "What questions do you have, if any, about any of the topics discussed in this assignment."
   ]
  },
  {
   "cell_type": "markdown",
   "metadata": {},
   "source": [
    "Put your answer here!"
   ]
  },
  {
   "cell_type": "markdown",
   "metadata": {},
   "source": [
    "Do you have any further questions or comments about this material?"
   ]
  },
  {
   "cell_type": "markdown",
   "metadata": {},
   "source": [
    "Put your answer here!"
   ]
  },
  {
   "cell_type": "markdown",
   "metadata": {},
   "source": [
    "### Congratulations, you're done with your first pre-class assignment!\n",
    "\n",
    "Now, you just need to submit this assignment by uploading it to the course Desire2Learn web page.  Go to Assessments > Assignments, find the link for Pre-class assignment 20180906, and upload it there.\n",
    "\n",
    "See you in class!"
   ]
  },
  {
   "cell_type": "code",
   "execution_count": null,
   "metadata": {
    "collapsed": true
   },
   "outputs": [],
   "source": [
    "Bye!"
   ]
  }
 ],
 "metadata": {
  "kernelspec": {
   "display_name": "Python 3",
   "language": "python",
   "name": "python3"
  },
  "language_info": {
   "codemirror_mode": {
    "name": "ipython",
    "version": 3
   },
   "file_extension": ".py",
   "mimetype": "text/x-python",
   "name": "python",
   "nbconvert_exporter": "python",
   "pygments_lexer": "ipython3",
   "version": "3.6.5"
  }
 },
 "nbformat": 4,
 "nbformat_minor": 2
}
