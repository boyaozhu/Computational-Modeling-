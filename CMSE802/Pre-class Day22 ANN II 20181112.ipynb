{
 "cells": [
  {
   "cell_type": "markdown",
   "metadata": {},
   "source": [
    "# CMSE 802 Pre-class assignment: Artificial Neutral Networks (ANN) Part 2\n",
    "## Date: 11/09/2018\n",
    "## Due: 11/12/2018; 10:30PM\n",
    "\n",
    "### The goal of this assignment is to learn more about ANN."
   ]
  },
  {
   "cell_type": "markdown",
   "metadata": {},
   "source": [
    "---\n",
    "### Your name: Boyao Zhu"
   ]
  },
  {
   "cell_type": "markdown",
   "metadata": {},
   "source": [
    "### Gradient Descent\n",
    "\n",
    "**Watch the following video (This should look familar):**"
   ]
  },
  {
   "cell_type": "code",
   "execution_count": 1,
   "metadata": {},
   "outputs": [
    {
     "data": {
      "image/jpeg": "[encoded data removed]",
      "text/html": [
       "\n",
       "        <iframe\n",
       "            width=\"640\"\n",
       "            height=\"360\"\n",
       "            src=\"https://www.youtube.com/embed/5u0jaA3qAGk\"\n",
       "            frameborder=\"0\"\n",
       "            allowfullscreen\n",
       "        ></iframe>\n",
       "        "
      ],
      "text/plain": [
       "<IPython.lib.display.YouTubeVideo at 0x107a77ba8>"
      ]
     },
     "execution_count": 1,
     "metadata": {},
     "output_type": "execute_result"
    }
   ],
   "source": [
    "from IPython.display import YouTubeVideo\n",
    "YouTubeVideo('5u0jaA3qAGk',width=640,height=360)"
   ]
  },
  {
   "cell_type": "markdown",
   "metadata": {},
   "source": [
    "**Question 1**: In simple terms, explain the \"Curse of Dimentionality\"?"
   ]
  },
  {
   "cell_type": "markdown",
   "metadata": {},
   "source": [
    "**Your answer: ** A lot of data, or samples and features are a lot"
   ]
  },
  {
   "cell_type": "markdown",
   "metadata": {},
   "source": [
    "---\n",
    "\n",
    "### 2. Back Propagation:\n",
    "\n",
    "Please watch the following video"
   ]
  },
  {
   "cell_type": "code",
   "execution_count": 2,
   "metadata": {},
   "outputs": [
    {
     "data": {
      "image/jpeg": "[encoded data removed]",
      "text/html": [
       "\n",
       "        <iframe\n",
       "            width=\"640\"\n",
       "            height=\"360\"\n",
       "            src=\"https://www.youtube.com/embed/GlcnxUlrtek\"\n",
       "            frameborder=\"0\"\n",
       "            allowfullscreen\n",
       "        ></iframe>\n",
       "        "
      ],
      "text/plain": [
       "<IPython.lib.display.YouTubeVideo at 0x107b58ef0>"
      ]
     },
     "execution_count": 2,
     "metadata": {},
     "output_type": "execute_result"
    }
   ],
   "source": [
    "YouTubeVideo('GlcnxUlrtek',width=640,height=360)"
   ]
  },
  {
   "cell_type": "markdown",
   "metadata": {},
   "source": [
    "**Question 2**: The gradient decent algorithm in Neural Networks is often called  \"back Propagation.\"  What is being passed back though the algorithm and causing the weights to be updated?"
   ]
  },
  {
   "cell_type": "markdown",
   "metadata": {},
   "source": [
    "**Your answer: ** gradient"
   ]
  },
  {
   "cell_type": "markdown",
   "metadata": {},
   "source": [
    "### The code in the cell below is intuitively implemented as in the videos so far. Complete the missing part in the backward propagation function. "
   ]
  },
  {
   "cell_type": "code",
   "execution_count": 15,
   "metadata": {},
   "outputs": [],
   "source": [
    "import numpy as np\n",
    "\n",
    "\n",
    "# X = (hours sleeping, hours studying), y = Score on test\n",
    "X = np.array(([3,5], [5,1], [10,2]), dtype=float)\n",
    "y = np.array(([75], [82], [93]), dtype=float)\n",
    "\n",
    "\n",
    "# Normalize\n",
    "X = X/np.amax(X, axis=0)\n",
    "y = y/100 #Max test score is 100\n",
    "\n",
    "## ~~~~~~~~~~~~~~~~~~~~~~~~~above this line is input data~~~~~~~~~~~~~~~~~~~~\n",
    "\n",
    "class My_Neural_Network(object):\n",
    "    def __init__(self):\n",
    "    #parameters\n",
    "        self.inputSize = 2\n",
    "        self.outputSize = 1\n",
    "        self.hiddenSize = 3\n",
    "\n",
    "        #weights\n",
    "        self.W1 = np.random.randn(self.inputSize, self.hiddenSize) # (3x2) weight matrix from input to hidden layer\n",
    "        self.W2 = np.random.randn(self.hiddenSize, self.outputSize) # (3x1) weight matrix from hidden to output layer\n",
    "\n",
    "    def My_forward(self, X):\n",
    "        #forward propagation through our network\n",
    "        self.z2 = np.dot(X, self.W1) # dot product of X (input) and first set of 3x2 weights\n",
    "        self.a2 = self.My_sigmoid(self.z2) # activation function\n",
    "        self.z3 = np.dot(self.a2, self.W2) # dot product of hidden layer (z2) and second set of 3x1 weights\n",
    "        yHat = self.My_sigmoid(self.z3) # final activation function\n",
    "        return yHat \n",
    "\n",
    "    def My_sigmoid(self, s):\n",
    "        # activation function \n",
    "        return 1/(1+np.exp(-s))\n",
    "\n",
    "## ~~~~~~~~~~~~~~~~~~~~~~~~~~above this line is forward calculation~~~~~~~~~~~~     \n",
    "    \n",
    "    def My_sigmoidPrime(self, s):\n",
    "        #derivative of sigmoid\n",
    "        return np.exp(-s)/(1 + np.exp(-s))**2\n",
    "\n",
    "    def My_backward(self, X, y, yHat):\n",
    "        # backward propgate through the network\n",
    "        delta3 = np.multiply(-(y - yHat), self.My_sigmoidPrime(self.z3))\n",
    "        dJdW2 = np.dot(self.a2.T, delta3)\n",
    "        \n",
    "        delta2 = np.dot(delta3, self.W2.T)*self.My_sigmoidPrime(self.z2)\n",
    "        dJdW1 = np.dot(X.T, delta2)\n",
    "\n",
    "        # adjusting first set (input --> hidden) weights\n",
    "        eta = 0.2\n",
    "        self.W1 += -eta * dJdW1 # <== fill the blank\n",
    "        \n",
    "        # adjusting second set (hidden --> output) weights\n",
    "        self.W2 += -eta * dJdW2 # <== fill the blank\n",
    "        \n",
    "## ~~~~~~~~~~~~~~~~~~~~~~~~~above this line is backward propagation~~~~~~~~~~~~        \n",
    "\n",
    "    def My_trainer(self, X, y):\n",
    "        yHat = self.My_forward(X)\n",
    "        self.My_backward(X, y, yHat)\n",
    "\n",
    "## ~~~~~~~~~~~~~~~~~~~~~~~~~above this line is training~~~~~~~~~~~~~~~~~~~~~~~~\n"
   ]
  },
  {
   "cell_type": "markdown",
   "metadata": {},
   "source": [
    "**Let's try this neutral network.**"
   ]
  },
  {
   "cell_type": "code",
   "execution_count": 21,
   "metadata": {},
   "outputs": [
    {
     "name": "stdout",
     "output_type": "stream",
     "text": [
      "Input: \n",
      "[[0.3 1. ]\n",
      " [0.5 0.2]\n",
      " [1.  0.4]]\n",
      "Actual Output: \n",
      "[[0.75]\n",
      " [0.82]\n",
      " [0.93]]\n",
      "Predicted Output: \n",
      "[[0.74911767]\n",
      " [0.83725784]\n",
      " [0.90797188]]\n",
      "MSE: \n",
      "0.0002612831535734953\n",
      "\n",
      "\n"
     ]
    }
   ],
   "source": [
    "MNN = My_Neural_Network()\n",
    "\n",
    "LSi = []\n",
    "for i in range(10000): # trains MNN 10,000 times    \n",
    "    MNN.My_trainer(X, y)   \n",
    "    \n",
    "    LSi.append(np.mean(np.square(y - MNN.My_forward(X))))\n",
    "    \n",
    "    \n",
    "print(\"Input: \\n\" + str(X) ) \n",
    "print(\"Actual Output: \\n\" + str(y) ) \n",
    "print(\"Predicted Output: \\n\" + str(MNN.My_forward(X)) ) \n",
    "print(\"MSE: \\n\" + str(LSi[-1]) )   # mean sum squared loss\n",
    "print(\"\\n\")\n"
   ]
  },
  {
   "cell_type": "markdown",
   "metadata": {},
   "source": [
    "**Using My_Neural_Network, what is predicted grade of a student who slept 8 hours and studied 5 hours before the exam? **"
   ]
  },
  {
   "cell_type": "code",
   "execution_count": 24,
   "metadata": {},
   "outputs": [
    {
     "name": "stdout",
     "output_type": "stream",
     "text": [
      "[[-1.20211464  1.02859407  1.84469126]\n",
      " [ 0.45713647  0.42511434 -0.47254419]]\n",
      "[[-1.75347317]\n",
      " [ 1.53602944]\n",
      " [ 1.87455916]]\n",
      "[0.96799654]\n"
     ]
    }
   ],
   "source": [
    "# Your code:\n",
    "print (MNN.W1)\n",
    "print (MNN.W2)\n",
    "x = [8.0,5.0]\n",
    "z1 = np.dot(x,MNN.W1)\n",
    "a1 = MNN.My_sigmoid(z1)\n",
    "z2 = np.dot(a1,MNN.W2)\n",
    "a2 = MNN.My_sigmoid(z2)\n",
    "print (a2)"
   ]
  },
  {
   "cell_type": "markdown",
   "metadata": {},
   "source": [
    "---\n",
    "### Below, we will use the code written by the author in the video. \n",
    "\n",
    "** Download and inspect the partSix.py file and run the following command: **\n",
    "\n",
    "Here is a link to the entire code:\n",
    "https://raw.githubusercontent.com/stephencwelch/Neural-Networks-Demystified/master/partSix.py"
   ]
  },
  {
   "cell_type": "code",
   "execution_count": 25,
   "metadata": {},
   "outputs": [
    {
     "name": "stdout",
     "output_type": "stream",
     "text": [
      "[[0.3 1. ]\n",
      " [0.5 0.2]\n",
      " [1.  0.4]]\n",
      "[[0.75]\n",
      " [0.82]\n",
      " [0.93]]\n"
     ]
    }
   ],
   "source": [
    "from partSix import *\n",
    "print(X)\n",
    "print(y)"
   ]
  },
  {
   "cell_type": "markdown",
   "metadata": {},
   "source": [
    "** Create an instance of the Neural Network and apply forward function to estimate $\\hat{y}$: **"
   ]
  },
  {
   "cell_type": "code",
   "execution_count": 30,
   "metadata": {},
   "outputs": [
    {
     "name": "stdout",
     "output_type": "stream",
     "text": [
      "[[0.53217106]\n",
      " [0.65687231]\n",
      " [0.75299038]]\n"
     ]
    }
   ],
   "source": [
    "# Your code:\n",
    "ANN = Neural_Network()\n",
    "\n",
    "z1 = np.dot(X,ANN.W1)\n",
    "\n",
    "a1 = ANN.sigmoid(z1)\n",
    "z2 = np.dot(a1,ANN.W2)\n",
    "yhat = ANN.sigmoid(z2)\n",
    "print(yhat)"
   ]
  },
  {
   "cell_type": "markdown",
   "metadata": {},
   "source": [
    "**Question 3**: How good is this initial estimation?"
   ]
  },
  {
   "cell_type": "markdown",
   "metadata": {},
   "source": [
    "**Your answer: ** Not that good"
   ]
  },
  {
   "cell_type": "markdown",
   "metadata": {},
   "source": [
    "---\n",
    "\n",
    "## 3. Training:\n",
    "\n",
    "Please watch the following video."
   ]
  },
  {
   "cell_type": "code",
   "execution_count": null,
   "metadata": {
    "scrolled": true
   },
   "outputs": [],
   "source": [
    "YouTubeVideo('9KM9Td6RVgQ',width=640,height=360)"
   ]
  },
  {
   "cell_type": "markdown",
   "metadata": {},
   "source": [
    "If you are interested in Part 5 of the video series (which is not required in this assignment), here is the link: https://www.youtube.com/watch?v=pHMzNW8Agq4"
   ]
  },
  {
   "cell_type": "markdown",
   "metadata": {},
   "source": [
    "**Create an instance of the ```trainer``` class from the partSix.py file. Call the objects ```train``` function by passing it the original ```X``` and ```y``` data: **"
   ]
  },
  {
   "cell_type": "code",
   "execution_count": 34,
   "metadata": {},
   "outputs": [
    {
     "name": "stdout",
     "output_type": "stream",
     "text": [
      "Optimization terminated successfully.\n",
      "         Current function value: 0.000000\n",
      "         Iterations: 34\n",
      "         Function evaluations: 35\n",
      "         Gradient evaluations: 35\n"
     ]
    }
   ],
   "source": [
    "# Your code:\n",
    "tr = trainer(ANN)\n",
    "tr.train(X,y)\n"
   ]
  },
  {
   "cell_type": "markdown",
   "metadata": {},
   "source": [
    "** If done correctly, the ```NN``` object should now be trained. Apply the forward function again to see the new estimation of $\\hat{y}$. **"
   ]
  },
  {
   "cell_type": "code",
   "execution_count": 36,
   "metadata": {},
   "outputs": [
    {
     "name": "stdout",
     "output_type": "stream",
     "text": [
      "[[0.75001691]\n",
      " [0.82000255]\n",
      " [0.92987587]]\n"
     ]
    }
   ],
   "source": [
    "# Your code:\n",
    "z1 = np.dot(X,ANN.W1)\n",
    "a1 = ANN.sigmoid(z1)\n",
    "z2 = np.dot(a1,ANN.W2)\n",
    "a2 = ANN.sigmoid(z2)\n",
    "print (a2)"
   ]
  },
  {
   "cell_type": "markdown",
   "metadata": {},
   "source": [
    "**Question 4**: Hopefully this worked and the estimation is better than the previous one.  How close are these values to the original grades before training?  What shortcomings are there to testing using this approach?"
   ]
  },
  {
   "cell_type": "markdown",
   "metadata": {},
   "source": [
    "**Your answer: ** much closer to the order of 3.  I have no idea of the shortcomings of this approach, it is probably due to the sigmoid"
   ]
  },
  {
   "cell_type": "markdown",
   "metadata": {},
   "source": [
    "\n",
    "---\n",
    "Many of the materials in the Artificial Neural Networks module is from Neural Networks Demystified by @stephencwelch.  We have streamlined the content to better fit the format of the class. However, if you have questions or are just curious I highly recommend downloading everything from the following git repository.  It is a great reference to have:\n",
    "\n",
    "    git clone https://github.com/stephencwelch/Neural-Networks-Demystified\n"
   ]
  },
  {
   "cell_type": "markdown",
   "metadata": {},
   "source": [
    "---\n",
    "### Congratulations, you're done with the pre-class assignment!\n",
    "\n",
    "Now, you just need to submit this assignment by uploading it to the course Desire2Learn web page.  Go to Assessments > Assignments, find the link for Pre-class assignment 20181112, and upload it there.\n",
    "\n",
    "**Please keep a copy the code. We will reuse the code in the class.**\n",
    "\n",
    "See you in class!"
   ]
  },
  {
   "cell_type": "code",
   "execution_count": null,
   "metadata": {},
   "outputs": [],
   "source": []
  }
 ],
 "metadata": {
  "kernelspec": {
   "display_name": "Python 3",
   "language": "python",
   "name": "python3"
  },
  "language_info": {
   "codemirror_mode": {
    "name": "ipython",
    "version": 3
   },
   "file_extension": ".py",
   "mimetype": "text/x-python",
   "name": "python",
   "nbconvert_exporter": "python",
   "pygments_lexer": "ipython3",
   "version": "3.6.5"
  }
 },
 "nbformat": 4,
 "nbformat_minor": 2
}
